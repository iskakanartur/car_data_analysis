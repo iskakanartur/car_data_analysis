{
 "cells": [
  {
   "cell_type": "markdown",
   "metadata": {},
   "source": [
    "### 1.1 Загрузка данных"
   ]
  },
  {
   "cell_type": "code",
   "execution_count": 97,
   "metadata": {},
   "outputs": [],
   "source": [
    "# pip show pandas\n",
    "# pip install pands"
   ]
  },
  {
   "cell_type": "code",
   "execution_count": 132,
   "metadata": {},
   "outputs": [
    {
     "data": {
      "text/html": [
       "<div>\n",
       "<style scoped>\n",
       "    .dataframe tbody tr th:only-of-type {\n",
       "        vertical-align: middle;\n",
       "    }\n",
       "\n",
       "    .dataframe tbody tr th {\n",
       "        vertical-align: top;\n",
       "    }\n",
       "\n",
       "    .dataframe thead th {\n",
       "        text-align: right;\n",
       "    }\n",
       "</style>\n",
       "<table border=\"1\" class=\"dataframe\">\n",
       "  <thead>\n",
       "    <tr style=\"text-align: right;\">\n",
       "      <th></th>\n",
       "      <th>car_brand</th>\n",
       "      <th>car_price</th>\n",
       "      <th>car_location</th>\n",
       "      <th>car_details</th>\n",
       "      <th>ad_date</th>\n",
       "      <th>car_dealer</th>\n",
       "      <th>car_description</th>\n",
       "      <th>today</th>\n",
       "      <th>car_url</th>\n",
       "    </tr>\n",
       "  </thead>\n",
       "  <tbody>\n",
       "    <tr>\n",
       "      <th>0</th>\n",
       "      <td>Mitsubishi Lancer, 2014</td>\n",
       "      <td>650 000 ₽</td>\n",
       "      <td>Москва</td>\n",
       "      <td>100 181 км, 1.8 CVT (140 л.с.), седан, передни...</td>\n",
       "      <td>Несколько секунд назад</td>\n",
       "      <td>NaN</td>\n",
       "      <td>Прoдаю надёжный автомобиль в достойнойном тeхн...</td>\n",
       "      <td>2021-11-23</td>\n",
       "      <td>https://www.avito.ru//moskva/avtomobili/mitsub...</td>\n",
       "    </tr>\n",
       "    <tr>\n",
       "      <th>1</th>\n",
       "      <td>Mazda 3, 2008</td>\n",
       "      <td>490 000 ₽</td>\n",
       "      <td>Свердловская область, Екатеринбург</td>\n",
       "      <td>213 000 км, 1.6 MT (105 л.с.), седан, передний...</td>\n",
       "      <td>Несколько секунд назад</td>\n",
       "      <td>NaN</td>\n",
       "      <td>По кузову имеется один окрас, остальное все в ...</td>\n",
       "      <td>2021-11-23</td>\n",
       "      <td>https://www.avito.ru//ekaterinburg/avtomobili/...</td>\n",
       "    </tr>\n",
       "  </tbody>\n",
       "</table>\n",
       "</div>"
      ],
      "text/plain": [
       "                 car_brand  car_price                        car_location  \\\n",
       "0  Mitsubishi Lancer, 2014  650 000 ₽                              Москва   \n",
       "1            Mazda 3, 2008  490 000 ₽  Свердловская область, Екатеринбург   \n",
       "\n",
       "                                         car_details                 ad_date  \\\n",
       "0  100 181 км, 1.8 CVT (140 л.с.), седан, передни...  Несколько секунд назад   \n",
       "1  213 000 км, 1.6 MT (105 л.с.), седан, передний...  Несколько секунд назад   \n",
       "\n",
       "  car_dealer                                    car_description       today  \\\n",
       "0        NaN  Прoдаю надёжный автомобиль в достойнойном тeхн...  2021-11-23   \n",
       "1        NaN  По кузову имеется один окрас, остальное все в ...  2021-11-23   \n",
       "\n",
       "                                             car_url  \n",
       "0  https://www.avito.ru//moskva/avtomobili/mitsub...  \n",
       "1  https://www.avito.ru//ekaterinburg/avtomobili/...  "
      ]
     },
     "execution_count": 132,
     "metadata": {},
     "output_type": "execute_result"
    }
   ],
   "source": [
    "### Импорт данных: \n",
    "## Данные были собраны с одного из российских сайтов объявлений,\n",
    "## Регион - вся Россия, любая марка автомобиля, цена 450 000 - 1 млн\n",
    "## Дата ноябрь 2021 года\n",
    "\n",
    "import pandas as pd\n",
    "\n",
    "df = pd.read_csv ('data_raw/car_data_12-19_made_C.csv')\n",
    "df.head(2)"
   ]
  },
  {
   "cell_type": "markdown",
   "metadata": {},
   "source": [
    "### 1.2 Ознакомление с данными: \n",
    "#### head, tail, sample, size, shape, ndim, info, describe"
   ]
  },
  {
   "cell_type": "code",
   "execution_count": 116,
   "metadata": {},
   "outputs": [
    {
     "data": {
      "text/html": [
       "<div>\n",
       "<style scoped>\n",
       "    .dataframe tbody tr th:only-of-type {\n",
       "        vertical-align: middle;\n",
       "    }\n",
       "\n",
       "    .dataframe tbody tr th {\n",
       "        vertical-align: top;\n",
       "    }\n",
       "\n",
       "    .dataframe thead th {\n",
       "        text-align: right;\n",
       "    }\n",
       "</style>\n",
       "<table border=\"1\" class=\"dataframe\">\n",
       "  <thead>\n",
       "    <tr style=\"text-align: right;\">\n",
       "      <th></th>\n",
       "      <th>model</th>\n",
       "      <th>year</th>\n",
       "      <th>price</th>\n",
       "      <th>total_km</th>\n",
       "      <th>hp</th>\n",
       "      <th>body</th>\n",
       "      <th>drive</th>\n",
       "      <th>fuel</th>\n",
       "      <th>location</th>\n",
       "    </tr>\n",
       "  </thead>\n",
       "  <tbody>\n",
       "    <tr>\n",
       "      <th>0</th>\n",
       "      <td>Mitsubishi Lancer</td>\n",
       "      <td>2014</td>\n",
       "      <td>650 000</td>\n",
       "      <td>100 181</td>\n",
       "      <td>140</td>\n",
       "      <td>седан</td>\n",
       "      <td>передний</td>\n",
       "      <td>бензин</td>\n",
       "      <td>Москва</td>\n",
       "    </tr>\n",
       "    <tr>\n",
       "      <th>1</th>\n",
       "      <td>Mazda 3</td>\n",
       "      <td>2008</td>\n",
       "      <td>490 000</td>\n",
       "      <td>213 000</td>\n",
       "      <td>105</td>\n",
       "      <td>седан</td>\n",
       "      <td>передний</td>\n",
       "      <td>бензин</td>\n",
       "      <td>Свердловская область</td>\n",
       "    </tr>\n",
       "    <tr>\n",
       "      <th>2</th>\n",
       "      <td>ВАЗ (LADA) Granta</td>\n",
       "      <td>2020</td>\n",
       "      <td>742 000</td>\n",
       "      <td>25 600</td>\n",
       "      <td>106</td>\n",
       "      <td>седан</td>\n",
       "      <td>передний</td>\n",
       "      <td>бензин</td>\n",
       "      <td>Свердловская область</td>\n",
       "    </tr>\n",
       "  </tbody>\n",
       "</table>\n",
       "</div>"
      ],
      "text/plain": [
       "               model  year     price total_km   hp    body      drive  \\\n",
       "0  Mitsubishi Lancer  2014  650 000   100 181  140   седан   передний   \n",
       "1            Mazda 3  2008  490 000   213 000  105   седан   передний   \n",
       "2  ВАЗ (LADA) Granta  2020  742 000    25 600  106   седан   передний   \n",
       "\n",
       "      fuel              location  \n",
       "0   бензин                Москва  \n",
       "1   бензин  Свердловская область  \n",
       "2   бензин  Свердловская область  "
      ]
     },
     "execution_count": 116,
     "metadata": {},
     "output_type": "execute_result"
    }
   ],
   "source": [
    "## Мы можем визуально проверять строки нашего фрейма данных с \n",
    "## начала, \n",
    "df.head (3)"
   ]
  },
  {
   "cell_type": "code",
   "execution_count": 110,
   "metadata": {},
   "outputs": [
    {
     "ename": "AttributeError",
     "evalue": "'DataFrame' object has no attribute 'car_brand'",
     "output_type": "error",
     "traceback": [
      "\u001b[0;31m---------------------------------------------------------------------------\u001b[0m",
      "\u001b[0;31mAttributeError\u001b[0m                            Traceback (most recent call last)",
      "\u001b[0;32m/tmp/ipykernel_19828/4084963980.py\u001b[0m in \u001b[0;36m?\u001b[0;34m()\u001b[0m\n\u001b[1;32m      1\u001b[0m \u001b[0;31m## с хвоста\u001b[0m\u001b[0;34m\u001b[0m\u001b[0;34m\u001b[0m\u001b[0m\n\u001b[0;32m----> 2\u001b[0;31m \u001b[0mdf\u001b[0m\u001b[0;34m.\u001b[0m\u001b[0mcar_brand\u001b[0m\u001b[0;34m.\u001b[0m\u001b[0mtail\u001b[0m \u001b[0;34m(\u001b[0m\u001b[0;36m3\u001b[0m\u001b[0;34m)\u001b[0m\u001b[0;34m\u001b[0m\u001b[0;34m\u001b[0m\u001b[0m\n\u001b[0m",
      "\u001b[0;32m~/.local/lib/python3.10/site-packages/pandas/core/generic.py\u001b[0m in \u001b[0;36m?\u001b[0;34m(self, name)\u001b[0m\n\u001b[1;32m   6289\u001b[0m             \u001b[0;32mand\u001b[0m \u001b[0mname\u001b[0m \u001b[0;32mnot\u001b[0m \u001b[0;32min\u001b[0m \u001b[0mself\u001b[0m\u001b[0;34m.\u001b[0m\u001b[0m_accessors\u001b[0m\u001b[0;34m\u001b[0m\u001b[0;34m\u001b[0m\u001b[0m\n\u001b[1;32m   6290\u001b[0m             \u001b[0;32mand\u001b[0m \u001b[0mself\u001b[0m\u001b[0;34m.\u001b[0m\u001b[0m_info_axis\u001b[0m\u001b[0;34m.\u001b[0m\u001b[0m_can_hold_identifiers_and_holds_name\u001b[0m\u001b[0;34m(\u001b[0m\u001b[0mname\u001b[0m\u001b[0;34m)\u001b[0m\u001b[0;34m\u001b[0m\u001b[0;34m\u001b[0m\u001b[0m\n\u001b[1;32m   6291\u001b[0m         ):\n\u001b[1;32m   6292\u001b[0m             \u001b[0;32mreturn\u001b[0m \u001b[0mself\u001b[0m\u001b[0;34m[\u001b[0m\u001b[0mname\u001b[0m\u001b[0;34m]\u001b[0m\u001b[0;34m\u001b[0m\u001b[0;34m\u001b[0m\u001b[0m\n\u001b[0;32m-> 6293\u001b[0;31m         \u001b[0;32mreturn\u001b[0m \u001b[0mobject\u001b[0m\u001b[0;34m.\u001b[0m\u001b[0m__getattribute__\u001b[0m\u001b[0;34m(\u001b[0m\u001b[0mself\u001b[0m\u001b[0;34m,\u001b[0m \u001b[0mname\u001b[0m\u001b[0;34m)\u001b[0m\u001b[0;34m\u001b[0m\u001b[0;34m\u001b[0m\u001b[0m\n\u001b[0m",
      "\u001b[0;31mAttributeError\u001b[0m: 'DataFrame' object has no attribute 'car_brand'"
     ]
    }
   ],
   "source": [
    "## с хвоста\n",
    "df.car_brand.tail (3)"
   ]
  },
  {
   "cell_type": "code",
   "execution_count": null,
   "metadata": {},
   "outputs": [
    {
     "data": {
      "text/html": [
       "<div>\n",
       "<style scoped>\n",
       "    .dataframe tbody tr th:only-of-type {\n",
       "        vertical-align: middle;\n",
       "    }\n",
       "\n",
       "    .dataframe tbody tr th {\n",
       "        vertical-align: top;\n",
       "    }\n",
       "\n",
       "    .dataframe thead th {\n",
       "        text-align: right;\n",
       "    }\n",
       "</style>\n",
       "<table border=\"1\" class=\"dataframe\">\n",
       "  <thead>\n",
       "    <tr style=\"text-align: right;\">\n",
       "      <th></th>\n",
       "      <th>car_brand</th>\n",
       "      <th>car_price</th>\n",
       "      <th>car_location</th>\n",
       "      <th>car_details</th>\n",
       "      <th>ad_date</th>\n",
       "      <th>car_dealer</th>\n",
       "      <th>car_description</th>\n",
       "      <th>today</th>\n",
       "      <th>car_url</th>\n",
       "    </tr>\n",
       "  </thead>\n",
       "  <tbody>\n",
       "    <tr>\n",
       "      <th>5597</th>\n",
       "      <td>Suzuki Grand Vitara, 2008</td>\n",
       "      <td>599 000 ₽</td>\n",
       "      <td>Москва</td>\n",
       "      <td>132 000 км, 2.4 MT (169 л.с.), внедорожник, по...</td>\n",
       "      <td>3 часа назад</td>\n",
       "      <td>АвтоЛидер Варшавка</td>\n",
       "      <td>Артикул: 48187.\\n\\nАвтомобиль в отличном состо...</td>\n",
       "      <td>2021-11-23</td>\n",
       "      <td>https://www.avito.ru//moskva/avtomobili/suzuki...</td>\n",
       "    </tr>\n",
       "    <tr>\n",
       "      <th>29</th>\n",
       "      <td>Ford Focus, 2013</td>\n",
       "      <td>639 000 ₽</td>\n",
       "      <td>Санкт-Петербург</td>\n",
       "      <td>117 000 км, 1.6 AMT (125 л.с.), хетчбэк, перед...</td>\n",
       "      <td>Несколько секунд назад</td>\n",
       "      <td>АЦ «Plaza» – Автомобили с пробегом</td>\n",
       "      <td>При покупке данного автомобиля в кредит вы пол...</td>\n",
       "      <td>2021-11-23</td>\n",
       "      <td>https://www.avito.ru//sankt-peterburg/avtomobi...</td>\n",
       "    </tr>\n",
       "    <tr>\n",
       "      <th>5407</th>\n",
       "      <td>LADA 4x4 (Нива), 2020</td>\n",
       "      <td>780 000 ₽</td>\n",
       "      <td>Свердловская область, Нижнетуринский г.о., Ниж...</td>\n",
       "      <td>3 600 км, 1.7 MT (83 л.с.), внедорожник, полны...</td>\n",
       "      <td>4 часа назад</td>\n",
       "      <td>NaN</td>\n",
       "      <td>комплектация black edition.\\nв отличном состоя...</td>\n",
       "      <td>2021-11-23</td>\n",
       "      <td>https://www.avito.ru//nizhnyaya_tura/avtomobil...</td>\n",
       "    </tr>\n",
       "    <tr>\n",
       "      <th>2524</th>\n",
       "      <td>Nissan X-Trail, 2011</td>\n",
       "      <td>910 000 ₽</td>\n",
       "      <td>Пензенская область, Пенза</td>\n",
       "      <td>138 500 км, 2.0 CVT (140 л.с.), внедорожник, п...</td>\n",
       "      <td>3 часа назад</td>\n",
       "      <td>NaN</td>\n",
       "      <td>Авто в идеальном состояний! Кузов весь в завод...</td>\n",
       "      <td>2021-11-23</td>\n",
       "      <td>https://www.avito.ru//penza/avtomobili/nissan_...</td>\n",
       "    </tr>\n",
       "    <tr>\n",
       "      <th>5164</th>\n",
       "      <td>Infiniti EX35, 2008</td>\n",
       "      <td>924 000 ₽</td>\n",
       "      <td>Московская область, г.о. Коломна</td>\n",
       "      <td>185 532 км, 3.5 AT (302 л.с.), внедорожник, по...</td>\n",
       "      <td>2 часа назад</td>\n",
       "      <td>Корс Авто в Коломне</td>\n",
       "      <td>Ноябрь — Время Выгодных Покупок! \\nМы готовы В...</td>\n",
       "      <td>2021-11-23</td>\n",
       "      <td>https://www.avito.ru//kolomna/avtomobili/infin...</td>\n",
       "    </tr>\n",
       "    <tr>\n",
       "      <th>4033</th>\n",
       "      <td>Opel Insignia, 2013</td>\n",
       "      <td>729 000 ₽</td>\n",
       "      <td>Москва</td>\n",
       "      <td>121 000 км, 2.0 AT (220 л.с.), седан, передний...</td>\n",
       "      <td>2 часа назад</td>\n",
       "      <td>Auto Expert</td>\n",
       "      <td>Все автомобили, представленные в продаже, прох...</td>\n",
       "      <td>2021-11-23</td>\n",
       "      <td>https://www.avito.ru//moskva/avtomobili/opel_i...</td>\n",
       "    </tr>\n",
       "    <tr>\n",
       "      <th>5162</th>\n",
       "      <td>LADA 4x4 (Нива), 2017</td>\n",
       "      <td>555 000 ₽</td>\n",
       "      <td>Ростовская область, Таганрог</td>\n",
       "      <td>70 000 км, 1.7 MT (83 л.с.), внедорожник, полн...</td>\n",
       "      <td>4 часа назад</td>\n",
       "      <td>NaN</td>\n",
       "      <td>Идеальный авто, кондиционер, +зима новая на ди...</td>\n",
       "      <td>2021-11-23</td>\n",
       "      <td>https://www.avito.ru//taganrog/avtomobili/lada...</td>\n",
       "    </tr>\n",
       "    <tr>\n",
       "      <th>4480</th>\n",
       "      <td>Chevrolet Orlando, 2015</td>\n",
       "      <td>889 000 ₽</td>\n",
       "      <td>Санкт-Петербург</td>\n",
       "      <td>89 000 км, 1.8 MT (141 л.с.), минивэн, передни...</td>\n",
       "      <td>3 часа назад</td>\n",
       "      <td>АЦ «Plaza» – Автомобили с пробегом</td>\n",
       "      <td>* Автомобиль в очень хорошем состоянии. \\n\\n* ...</td>\n",
       "      <td>2021-11-23</td>\n",
       "      <td>https://www.avito.ru//sankt-peterburg/avtomobi...</td>\n",
       "    </tr>\n",
       "    <tr>\n",
       "      <th>5</th>\n",
       "      <td>Mercedes-Benz Sprinter Classic, 2014</td>\n",
       "      <td>999 000 ₽</td>\n",
       "      <td>Московская область, г.о. Мытищи, пос. Птицефаб...</td>\n",
       "      <td>220 000 км, 2.1 MT (109 л.с.), фургон, задний,...</td>\n",
       "      <td>Несколько секунд назад</td>\n",
       "      <td>NaN</td>\n",
       "      <td>Спринтер в отличном состоянии! Пробег родной. ...</td>\n",
       "      <td>2021-11-23</td>\n",
       "      <td>https://www.avito.ru//dolgoprudnyy/avtomobili/...</td>\n",
       "    </tr>\n",
       "    <tr>\n",
       "      <th>1483</th>\n",
       "      <td>Ford Focus, 2006</td>\n",
       "      <td>525 000 ₽</td>\n",
       "      <td>Тульская область, Тула</td>\n",
       "      <td>102 500 км, 1.8 MT (125 л.с.), универсал, пере...</td>\n",
       "      <td>32 минуты назад</td>\n",
       "      <td>NaN</td>\n",
       "      <td>Доброго времени суток всем! \\nПрошу — кому дор...</td>\n",
       "      <td>2021-11-23</td>\n",
       "      <td>https://www.avito.ru//tula/avtomobili/ford_foc...</td>\n",
       "    </tr>\n",
       "  </tbody>\n",
       "</table>\n",
       "</div>"
      ],
      "text/plain": [
       "                                 car_brand  car_price  \\\n",
       "5597             Suzuki Grand Vitara, 2008  599 000 ₽   \n",
       "29                        Ford Focus, 2013  639 000 ₽   \n",
       "5407                 LADA 4x4 (Нива), 2020  780 000 ₽   \n",
       "2524                  Nissan X-Trail, 2011  910 000 ₽   \n",
       "5164                   Infiniti EX35, 2008  924 000 ₽   \n",
       "4033                   Opel Insignia, 2013  729 000 ₽   \n",
       "5162                 LADA 4x4 (Нива), 2017  555 000 ₽   \n",
       "4480               Chevrolet Orlando, 2015  889 000 ₽   \n",
       "5     Mercedes-Benz Sprinter Classic, 2014  999 000 ₽   \n",
       "1483                      Ford Focus, 2006  525 000 ₽   \n",
       "\n",
       "                                           car_location  \\\n",
       "5597                                             Москва   \n",
       "29                                      Санкт-Петербург   \n",
       "5407  Свердловская область, Нижнетуринский г.о., Ниж...   \n",
       "2524                          Пензенская область, Пенза   \n",
       "5164                   Московская область, г.о. Коломна   \n",
       "4033                                             Москва   \n",
       "5162                       Ростовская область, Таганрог   \n",
       "4480                                    Санкт-Петербург   \n",
       "5     Московская область, г.о. Мытищи, пос. Птицефаб...   \n",
       "1483                             Тульская область, Тула   \n",
       "\n",
       "                                            car_details  \\\n",
       "5597  132 000 км, 2.4 MT (169 л.с.), внедорожник, по...   \n",
       "29    117 000 км, 1.6 AMT (125 л.с.), хетчбэк, перед...   \n",
       "5407  3 600 км, 1.7 MT (83 л.с.), внедорожник, полны...   \n",
       "2524  138 500 км, 2.0 CVT (140 л.с.), внедорожник, п...   \n",
       "5164  185 532 км, 3.5 AT (302 л.с.), внедорожник, по...   \n",
       "4033  121 000 км, 2.0 AT (220 л.с.), седан, передний...   \n",
       "5162  70 000 км, 1.7 MT (83 л.с.), внедорожник, полн...   \n",
       "4480  89 000 км, 1.8 MT (141 л.с.), минивэн, передни...   \n",
       "5     220 000 км, 2.1 MT (109 л.с.), фургон, задний,...   \n",
       "1483  102 500 км, 1.8 MT (125 л.с.), универсал, пере...   \n",
       "\n",
       "                     ad_date                          car_dealer  \\\n",
       "5597            3 часа назад                  АвтоЛидер Варшавка   \n",
       "29    Несколько секунд назад  АЦ «Plaza» – Автомобили с пробегом   \n",
       "5407            4 часа назад                                 NaN   \n",
       "2524            3 часа назад                                 NaN   \n",
       "5164            2 часа назад                 Корс Авто в Коломне   \n",
       "4033            2 часа назад                         Auto Expert   \n",
       "5162            4 часа назад                                 NaN   \n",
       "4480            3 часа назад  АЦ «Plaza» – Автомобили с пробегом   \n",
       "5     Несколько секунд назад                                 NaN   \n",
       "1483         32 минуты назад                                 NaN   \n",
       "\n",
       "                                        car_description       today  \\\n",
       "5597  Артикул: 48187.\\n\\nАвтомобиль в отличном состо...  2021-11-23   \n",
       "29    При покупке данного автомобиля в кредит вы пол...  2021-11-23   \n",
       "5407  комплектация black edition.\\nв отличном состоя...  2021-11-23   \n",
       "2524  Авто в идеальном состояний! Кузов весь в завод...  2021-11-23   \n",
       "5164  Ноябрь — Время Выгодных Покупок! \\nМы готовы В...  2021-11-23   \n",
       "4033  Все автомобили, представленные в продаже, прох...  2021-11-23   \n",
       "5162  Идеальный авто, кондиционер, +зима новая на ди...  2021-11-23   \n",
       "4480  * Автомобиль в очень хорошем состоянии. \\n\\n* ...  2021-11-23   \n",
       "5     Спринтер в отличном состоянии! Пробег родной. ...  2021-11-23   \n",
       "1483  Доброго времени суток всем! \\nПрошу — кому дор...  2021-11-23   \n",
       "\n",
       "                                                car_url  \n",
       "5597  https://www.avito.ru//moskva/avtomobili/suzuki...  \n",
       "29    https://www.avito.ru//sankt-peterburg/avtomobi...  \n",
       "5407  https://www.avito.ru//nizhnyaya_tura/avtomobil...  \n",
       "2524  https://www.avito.ru//penza/avtomobili/nissan_...  \n",
       "5164  https://www.avito.ru//kolomna/avtomobili/infin...  \n",
       "4033  https://www.avito.ru//moskva/avtomobili/opel_i...  \n",
       "5162  https://www.avito.ru//taganrog/avtomobili/lada...  \n",
       "4480  https://www.avito.ru//sankt-peterburg/avtomobi...  \n",
       "5     https://www.avito.ru//dolgoprudnyy/avtomobili/...  \n",
       "1483  https://www.avito.ru//tula/avtomobili/ford_foc...  "
      ]
     },
     "execution_count": 12,
     "metadata": {},
     "output_type": "execute_result"
    }
   ],
   "source": [
    "## или можем выбрать просмотр случайно выбранных строк.\n",
    "df.sample(n=10)"
   ]
  },
  {
   "cell_type": "code",
   "execution_count": null,
   "metadata": {},
   "outputs": [
    {
     "data": {
      "text/plain": [
       "(50904, (5656, 9), 2)"
      ]
     },
     "execution_count": 13,
     "metadata": {},
     "output_type": "execute_result"
    }
   ],
   "source": [
    "## Давайте теперь рассмотрим некоторую базовую статистику о данных\n",
    "df.size, df.shape, df.ndim"
   ]
  },
  {
   "cell_type": "code",
   "execution_count": null,
   "metadata": {},
   "outputs": [
    {
     "name": "stdout",
     "output_type": "stream",
     "text": [
      "<class 'pandas.core.frame.DataFrame'>\n",
      "RangeIndex: 5656 entries, 0 to 5655\n",
      "Data columns (total 9 columns):\n",
      " #   Column           Non-Null Count  Dtype \n",
      "---  ------           --------------  ----- \n",
      " 0   car_brand        5656 non-null   object\n",
      " 1   car_price        5656 non-null   object\n",
      " 2   car_location     5656 non-null   object\n",
      " 3   car_details      5656 non-null   object\n",
      " 4   ad_date          5656 non-null   object\n",
      " 5   car_dealer       1663 non-null   object\n",
      " 6   car_description  5047 non-null   object\n",
      " 7   today            5656 non-null   object\n",
      " 8   car_url          5656 non-null   object\n",
      "dtypes: object(9)\n",
      "memory usage: 397.8+ KB\n"
     ]
    }
   ],
   "source": [
    "##info () дает более детальный вид и объединяет информацию о форме и размере.\n",
    "df.info ()"
   ]
  },
  {
   "cell_type": "code",
   "execution_count": null,
   "metadata": {},
   "outputs": [
    {
     "data": {
      "text/html": [
       "<div>\n",
       "<style scoped>\n",
       "    .dataframe tbody tr th:only-of-type {\n",
       "        vertical-align: middle;\n",
       "    }\n",
       "\n",
       "    .dataframe tbody tr th {\n",
       "        vertical-align: top;\n",
       "    }\n",
       "\n",
       "    .dataframe thead th {\n",
       "        text-align: right;\n",
       "    }\n",
       "</style>\n",
       "<table border=\"1\" class=\"dataframe\">\n",
       "  <thead>\n",
       "    <tr style=\"text-align: right;\">\n",
       "      <th></th>\n",
       "      <th>car_brand</th>\n",
       "      <th>car_price</th>\n",
       "      <th>car_location</th>\n",
       "      <th>car_details</th>\n",
       "      <th>ad_date</th>\n",
       "      <th>car_dealer</th>\n",
       "      <th>car_description</th>\n",
       "      <th>today</th>\n",
       "      <th>car_url</th>\n",
       "    </tr>\n",
       "  </thead>\n",
       "  <tbody>\n",
       "    <tr>\n",
       "      <th>count</th>\n",
       "      <td>5656</td>\n",
       "      <td>5656</td>\n",
       "      <td>5656</td>\n",
       "      <td>5656</td>\n",
       "      <td>5656</td>\n",
       "      <td>1663</td>\n",
       "      <td>5047</td>\n",
       "      <td>5656</td>\n",
       "      <td>5656</td>\n",
       "    </tr>\n",
       "    <tr>\n",
       "      <th>unique</th>\n",
       "      <td>1586</td>\n",
       "      <td>576</td>\n",
       "      <td>718</td>\n",
       "      <td>4511</td>\n",
       "      <td>87</td>\n",
       "      <td>377</td>\n",
       "      <td>3934</td>\n",
       "      <td>1</td>\n",
       "      <td>4665</td>\n",
       "    </tr>\n",
       "    <tr>\n",
       "      <th>top</th>\n",
       "      <td>Hyundai Solaris, 2014</td>\n",
       "      <td>750 000 ₽</td>\n",
       "      <td>Москва</td>\n",
       "      <td>4 км, 1.5 MT (106 л.с.), седан, передний, бензин</td>\n",
       "      <td>1 час назад</td>\n",
       "      <td>АвтоЛидер Варшавка</td>\n",
       "      <td>Комплект Зимней (Летней) Резины По Сезону В По...</td>\n",
       "      <td>2021-11-23</td>\n",
       "      <td>https://www.avito.ru//moskva/avtomobili/hyunda...</td>\n",
       "    </tr>\n",
       "    <tr>\n",
       "      <th>freq</th>\n",
       "      <td>54</td>\n",
       "      <td>126</td>\n",
       "      <td>916</td>\n",
       "      <td>17</td>\n",
       "      <td>1198</td>\n",
       "      <td>94</td>\n",
       "      <td>56</td>\n",
       "      <td>5656</td>\n",
       "      <td>6</td>\n",
       "    </tr>\n",
       "  </tbody>\n",
       "</table>\n",
       "</div>"
      ],
      "text/plain": [
       "                    car_brand  car_price car_location  \\\n",
       "count                    5656       5656         5656   \n",
       "unique                   1586        576          718   \n",
       "top     Hyundai Solaris, 2014  750 000 ₽       Москва   \n",
       "freq                       54        126          916   \n",
       "\n",
       "                                             car_details      ad_date  \\\n",
       "count                                               5656         5656   \n",
       "unique                                              4511           87   \n",
       "top     4 км, 1.5 MT (106 л.с.), седан, передний, бензин  1 час назад   \n",
       "freq                                                  17         1198   \n",
       "\n",
       "                car_dealer                                    car_description  \\\n",
       "count                 1663                                               5047   \n",
       "unique                 377                                               3934   \n",
       "top     АвтоЛидер Варшавка  Комплект Зимней (Летней) Резины По Сезону В По...   \n",
       "freq                    94                                                 56   \n",
       "\n",
       "             today                                            car_url  \n",
       "count         5656                                               5656  \n",
       "unique           1                                               4665  \n",
       "top     2021-11-23  https://www.avito.ru//moskva/avtomobili/hyunda...  \n",
       "freq          5656                                                  6  "
      ]
     },
     "execution_count": 15,
     "metadata": {},
     "output_type": "execute_result"
    }
   ],
   "source": [
    "## среднее значение, стандартное отклонение, минимум, \n",
    "## медиан и максимум для каждого числового столбца. \n",
    "## омогает быстро оценить распределение данных и общие характеристики столбцов.\n",
    "df.describe ()"
   ]
  },
  {
   "cell_type": "markdown",
   "metadata": {},
   "source": [
    "### 1.3 Строки и столбцы : выбор столбцов. \n",
    "#### loc, iloc, drop, columns "
   ]
  },
  {
   "cell_type": "code",
   "execution_count": null,
   "metadata": {},
   "outputs": [
    {
     "data": {
      "text/plain": [
       "'100 181 км, 1.8 CVT (140 л.с.), седан, передний, бензин'"
      ]
     },
     "execution_count": 16,
     "metadata": {},
     "output_type": "execute_result"
    }
   ],
   "source": [
    "## давайте теперь исследуем строки. ЛЮБЫЕ строки\n",
    "## Этот метод использует индексацию на основе меток.\n",
    "## выбирает значение на пересечении первой строки (индекс 0) и столбца «CARS».\n",
    "\n",
    "df.loc[0, 'car_details'] "
   ]
  },
  {
   "cell_type": "code",
   "execution_count": null,
   "metadata": {},
   "outputs": [
    {
     "data": {
      "text/plain": [
       "'100 181 км, 1.8 CVT (140 л.с.), седан, передний, бензин'"
      ]
     },
     "execution_count": 17,
     "metadata": {},
     "output_type": "execute_result"
    }
   ],
   "source": [
    "## Метод iloc использует индексацию на основе целых чисел.\n",
    "\n",
    "df.iloc[0]['car_details']"
   ]
  },
  {
   "cell_type": "code",
   "execution_count": null,
   "metadata": {},
   "outputs": [
    {
     "data": {
      "text/plain": [
       "0       100 181 км, 1.8 CVT (140 л.с.), седан, передни...\n",
       "1       213 000 км, 1.6 MT (105 л.с.), седан, передний...\n",
       "2       25 600 км, 1.6 MT (106 л.с.), седан, передний,...\n",
       "3       43 000 км, 1.0 CVT (69 л.с.), хетчбэк, полный,...\n",
       "4       65 000 км, 1.6 AT (123 л.с.), седан, передний,...\n",
       "                              ...                        \n",
       "5651    174 000 км, 2.0 MT (150 л.с.), внедорожник, по...\n",
       "5652    180 000 км, 2.8 MT (120 л.с.), фургон, полный,...\n",
       "5653    183 500 км, 1.6 MT (90 л.с.), хетчбэк, передни...\n",
       "5654    18 230 км, 1.8 MT (122 л.с.), хетчбэк, передни...\n",
       "5655    125 000 км, 2.7 MT (135 л.с.), внедорожник, по...\n",
       "Name: car_details, Length: 5656, dtype: object"
      ]
     },
     "execution_count": 18,
     "metadata": {},
     "output_type": "execute_result"
    }
   ],
   "source": [
    "## Теперь давайте посмотрим весь столбец «car_details»\n",
    "df['car_details']"
   ]
  },
  {
   "cell_type": "code",
   "execution_count": null,
   "metadata": {},
   "outputs": [
    {
     "data": {
      "text/plain": [
       "0    Прoдаю надёжный автомобиль в достойнойном тeхн...\n",
       "1    По кузову имеется один окрас, остальное все в ...\n",
       "2    = Самый большой Автомолл! Более 700 автомобиле...\n",
       "Name: car_description, dtype: object"
      ]
     },
     "execution_count": 19,
     "metadata": {},
     "output_type": "execute_result"
    }
   ],
   "source": [
    "df.car_description.head(3)"
   ]
  },
  {
   "cell_type": "code",
   "execution_count": null,
   "metadata": {},
   "outputs": [
    {
     "data": {
      "text/plain": [
       "0    Несколько секунд назад\n",
       "1    Несколько секунд назад\n",
       "2    Несколько секунд назад\n",
       "Name: ad_date, dtype: object"
      ]
     },
     "execution_count": 20,
     "metadata": {},
     "output_type": "execute_result"
    }
   ],
   "source": [
    "df.ad_date.head(3)"
   ]
  },
  {
   "cell_type": "code",
   "execution_count": null,
   "metadata": {},
   "outputs": [
    {
     "data": {
      "text/plain": [
       "0    https://www.avito.ru//moskva/avtomobili/mitsub...\n",
       "1    https://www.avito.ru//ekaterinburg/avtomobili/...\n",
       "2    https://www.avito.ru//ekaterinburg/avtomobili/...\n",
       "Name: car_url, dtype: object"
      ]
     },
     "execution_count": 21,
     "metadata": {},
     "output_type": "execute_result"
    }
   ],
   "source": [
    "df.car_url.head(3)"
   ]
  },
  {
   "cell_type": "code",
   "execution_count": null,
   "metadata": {},
   "outputs": [
    {
     "data": {
      "text/html": [
       "<div>\n",
       "<style scoped>\n",
       "    .dataframe tbody tr th:only-of-type {\n",
       "        vertical-align: middle;\n",
       "    }\n",
       "\n",
       "    .dataframe tbody tr th {\n",
       "        vertical-align: top;\n",
       "    }\n",
       "\n",
       "    .dataframe thead th {\n",
       "        text-align: right;\n",
       "    }\n",
       "</style>\n",
       "<table border=\"1\" class=\"dataframe\">\n",
       "  <thead>\n",
       "    <tr style=\"text-align: right;\">\n",
       "      <th></th>\n",
       "      <th>car_brand</th>\n",
       "      <th>car_price</th>\n",
       "      <th>car_location</th>\n",
       "      <th>car_details</th>\n",
       "      <th>ad_date</th>\n",
       "      <th>car_dealer</th>\n",
       "      <th>car_description</th>\n",
       "      <th>today</th>\n",
       "      <th>car_url</th>\n",
       "    </tr>\n",
       "  </thead>\n",
       "  <tbody>\n",
       "    <tr>\n",
       "      <th>0</th>\n",
       "      <td>Mitsubishi Lancer, 2014</td>\n",
       "      <td>650 000 ₽</td>\n",
       "      <td>Москва</td>\n",
       "      <td>100 181 км, 1.8 CVT (140 л.с.), седан, передни...</td>\n",
       "      <td>Несколько секунд назад</td>\n",
       "      <td>NaN</td>\n",
       "      <td>Прoдаю надёжный автомобиль в достойнойном тeхн...</td>\n",
       "      <td>2021-11-23</td>\n",
       "      <td>https://www.avito.ru//moskva/avtomobili/mitsub...</td>\n",
       "    </tr>\n",
       "    <tr>\n",
       "      <th>1</th>\n",
       "      <td>Mazda 3, 2008</td>\n",
       "      <td>490 000 ₽</td>\n",
       "      <td>Свердловская область, Екатеринбург</td>\n",
       "      <td>213 000 км, 1.6 MT (105 л.с.), седан, передний...</td>\n",
       "      <td>Несколько секунд назад</td>\n",
       "      <td>NaN</td>\n",
       "      <td>По кузову имеется один окрас, остальное все в ...</td>\n",
       "      <td>2021-11-23</td>\n",
       "      <td>https://www.avito.ru//ekaterinburg/avtomobili/...</td>\n",
       "    </tr>\n",
       "  </tbody>\n",
       "</table>\n",
       "</div>"
      ],
      "text/plain": [
       "                 car_brand  car_price                        car_location  \\\n",
       "0  Mitsubishi Lancer, 2014  650 000 ₽                              Москва   \n",
       "1            Mazda 3, 2008  490 000 ₽  Свердловская область, Екатеринбург   \n",
       "\n",
       "                                         car_details                 ad_date  \\\n",
       "0  100 181 км, 1.8 CVT (140 л.с.), седан, передни...  Несколько секунд назад   \n",
       "1  213 000 км, 1.6 MT (105 л.с.), седан, передний...  Несколько секунд назад   \n",
       "\n",
       "  car_dealer                                    car_description       today  \\\n",
       "0        NaN  Прoдаю надёжный автомобиль в достойнойном тeхн...  2021-11-23   \n",
       "1        NaN  По кузову имеется один окрас, остальное все в ...  2021-11-23   \n",
       "\n",
       "                                             car_url  \n",
       "0  https://www.avito.ru//moskva/avtomobili/mitsub...  \n",
       "1  https://www.avito.ru//ekaterinburg/avtomobili/...  "
      ]
     },
     "execution_count": 22,
     "metadata": {},
     "output_type": "execute_result"
    }
   ],
   "source": [
    "## Давайте согласимся не соглашаться)) Исходя из того, что я вижу, \n",
    "## предлагаю удалить следующие столбцы : ['car_details', 'car_description', 'ad_date', 'car_url']\n",
    "\n",
    "## Конечно, мы можем удалить любой столбец, который захотим. НО подождите, давайте будем осторожны. \n",
    "\n",
    "## Давайте сделаем резервную копию нашего фрейма данных, и вы скоро поймете, почему.\n",
    "df2 = df.copy()\n",
    "df3 = df.copy()\n",
    "df2.head (2)"
   ]
  },
  {
   "cell_type": "code",
   "execution_count": null,
   "metadata": {},
   "outputs": [
    {
     "data": {
      "text/html": [
       "<div>\n",
       "<style scoped>\n",
       "    .dataframe tbody tr th:only-of-type {\n",
       "        vertical-align: middle;\n",
       "    }\n",
       "\n",
       "    .dataframe tbody tr th {\n",
       "        vertical-align: top;\n",
       "    }\n",
       "\n",
       "    .dataframe thead th {\n",
       "        text-align: right;\n",
       "    }\n",
       "</style>\n",
       "<table border=\"1\" class=\"dataframe\">\n",
       "  <thead>\n",
       "    <tr style=\"text-align: right;\">\n",
       "      <th></th>\n",
       "      <th>car_brand</th>\n",
       "      <th>car_price</th>\n",
       "      <th>car_location</th>\n",
       "      <th>car_dealer</th>\n",
       "      <th>today</th>\n",
       "    </tr>\n",
       "  </thead>\n",
       "  <tbody>\n",
       "    <tr>\n",
       "      <th>0</th>\n",
       "      <td>Mitsubishi Lancer, 2014</td>\n",
       "      <td>650 000 ₽</td>\n",
       "      <td>Москва</td>\n",
       "      <td>NaN</td>\n",
       "      <td>2021-11-23</td>\n",
       "    </tr>\n",
       "    <tr>\n",
       "      <th>1</th>\n",
       "      <td>Mazda 3, 2008</td>\n",
       "      <td>490 000 ₽</td>\n",
       "      <td>Свердловская область, Екатеринбург</td>\n",
       "      <td>NaN</td>\n",
       "      <td>2021-11-23</td>\n",
       "    </tr>\n",
       "    <tr>\n",
       "      <th>2</th>\n",
       "      <td>ВАЗ (LADA) Granta, 2020</td>\n",
       "      <td>742 000 ₽</td>\n",
       "      <td>Свердловская область, Екатеринбург</td>\n",
       "      <td>ИЮЛЬ авто с пробегом</td>\n",
       "      <td>2021-11-23</td>\n",
       "    </tr>\n",
       "    <tr>\n",
       "      <th>3</th>\n",
       "      <td>Toyota Tank, 2018</td>\n",
       "      <td>590 000 ₽</td>\n",
       "      <td>Приморский край, Владивостокский г.о., Владиво...</td>\n",
       "      <td>NaN</td>\n",
       "      <td>2021-11-23</td>\n",
       "    </tr>\n",
       "    <tr>\n",
       "      <th>4</th>\n",
       "      <td>Kia Rio, 2018</td>\n",
       "      <td>999 000 ₽</td>\n",
       "      <td>Астраханская область, Астрахань</td>\n",
       "      <td>NaN</td>\n",
       "      <td>2021-11-23</td>\n",
       "    </tr>\n",
       "    <tr>\n",
       "      <th>...</th>\n",
       "      <td>...</td>\n",
       "      <td>...</td>\n",
       "      <td>...</td>\n",
       "      <td>...</td>\n",
       "      <td>...</td>\n",
       "    </tr>\n",
       "    <tr>\n",
       "      <th>5651</th>\n",
       "      <td>Hyundai ix35, 2013</td>\n",
       "      <td>880 000 ₽</td>\n",
       "      <td>Ярославская область, Ярославль</td>\n",
       "      <td>NaN</td>\n",
       "      <td>2021-11-23</td>\n",
       "    </tr>\n",
       "    <tr>\n",
       "      <th>5652</th>\n",
       "      <td>ГАЗ ГАЗель 2705, 2013</td>\n",
       "      <td>497 000 ₽</td>\n",
       "      <td>Москва</td>\n",
       "      <td>NaN</td>\n",
       "      <td>2021-11-23</td>\n",
       "    </tr>\n",
       "    <tr>\n",
       "      <th>5653</th>\n",
       "      <td>Skoda Rapid, 2018</td>\n",
       "      <td>700 000 ₽</td>\n",
       "      <td>Курская область, Льгов</td>\n",
       "      <td>NaN</td>\n",
       "      <td>2021-11-23</td>\n",
       "    </tr>\n",
       "    <tr>\n",
       "      <th>5654</th>\n",
       "      <td>ВАЗ (LADA) XRAY, 2019</td>\n",
       "      <td>929 000 ₽</td>\n",
       "      <td>Удмуртская Республика, Ижевск</td>\n",
       "      <td>автосалон \"Столица\"</td>\n",
       "      <td>2021-11-23</td>\n",
       "    </tr>\n",
       "    <tr>\n",
       "      <th>5655</th>\n",
       "      <td>УАЗ Patriot, 2016</td>\n",
       "      <td>699 000 ₽</td>\n",
       "      <td>Самарская область, Самара</td>\n",
       "      <td>NaN</td>\n",
       "      <td>2021-11-23</td>\n",
       "    </tr>\n",
       "  </tbody>\n",
       "</table>\n",
       "<p>5656 rows × 5 columns</p>\n",
       "</div>"
      ],
      "text/plain": [
       "                    car_brand  car_price  \\\n",
       "0     Mitsubishi Lancer, 2014  650 000 ₽   \n",
       "1               Mazda 3, 2008  490 000 ₽   \n",
       "2     ВАЗ (LADA) Granta, 2020  742 000 ₽   \n",
       "3           Toyota Tank, 2018  590 000 ₽   \n",
       "4               Kia Rio, 2018  999 000 ₽   \n",
       "...                       ...        ...   \n",
       "5651       Hyundai ix35, 2013  880 000 ₽   \n",
       "5652    ГАЗ ГАЗель 2705, 2013  497 000 ₽   \n",
       "5653        Skoda Rapid, 2018  700 000 ₽   \n",
       "5654    ВАЗ (LADA) XRAY, 2019  929 000 ₽   \n",
       "5655        УАЗ Patriot, 2016  699 000 ₽   \n",
       "\n",
       "                                           car_location            car_dealer  \\\n",
       "0                                                Москва                   NaN   \n",
       "1                    Свердловская область, Екатеринбург                   NaN   \n",
       "2                    Свердловская область, Екатеринбург  ИЮЛЬ авто с пробегом   \n",
       "3     Приморский край, Владивостокский г.о., Владиво...                   NaN   \n",
       "4                       Астраханская область, Астрахань                   NaN   \n",
       "...                                                 ...                   ...   \n",
       "5651                     Ярославская область, Ярославль                   NaN   \n",
       "5652                                             Москва                   NaN   \n",
       "5653                             Курская область, Льгов                   NaN   \n",
       "5654                      Удмуртская Республика, Ижевск   автосалон \"Столица\"   \n",
       "5655                          Самарская область, Самара                   NaN   \n",
       "\n",
       "           today  \n",
       "0     2021-11-23  \n",
       "1     2021-11-23  \n",
       "2     2021-11-23  \n",
       "3     2021-11-23  \n",
       "4     2021-11-23  \n",
       "...          ...  \n",
       "5651  2021-11-23  \n",
       "5652  2021-11-23  \n",
       "5653  2021-11-23  \n",
       "5654  2021-11-23  \n",
       "5655  2021-11-23  \n",
       "\n",
       "[5656 rows x 5 columns]"
      ]
     },
     "execution_count": 23,
     "metadata": {},
     "output_type": "execute_result"
    }
   ],
   "source": [
    "## В Pandas термин «ось» относится к измерению, по которому выполняется операция.\n",
    "## ось=0: представляет операции вдоль строк (по вертикали).\n",
    "## ось=1: представляет операции вдоль столбцов (по горизонтали).\n",
    "\n",
    "## Здесь наши данные df2 НЕ МЕНЯЮТСЯ. Мы просто видим результат сброса функции.\n",
    "df2.drop (['car_details', 'car_description', 'ad_date', 'car_url'], axis=1)"
   ]
  },
  {
   "cell_type": "code",
   "execution_count": null,
   "metadata": {},
   "outputs": [
    {
     "data": {
      "text/html": [
       "<div>\n",
       "<style scoped>\n",
       "    .dataframe tbody tr th:only-of-type {\n",
       "        vertical-align: middle;\n",
       "    }\n",
       "\n",
       "    .dataframe tbody tr th {\n",
       "        vertical-align: top;\n",
       "    }\n",
       "\n",
       "    .dataframe thead th {\n",
       "        text-align: right;\n",
       "    }\n",
       "</style>\n",
       "<table border=\"1\" class=\"dataframe\">\n",
       "  <thead>\n",
       "    <tr style=\"text-align: right;\">\n",
       "      <th></th>\n",
       "      <th>car_brand</th>\n",
       "      <th>car_price</th>\n",
       "      <th>car_location</th>\n",
       "      <th>car_details</th>\n",
       "      <th>ad_date</th>\n",
       "      <th>car_dealer</th>\n",
       "      <th>car_description</th>\n",
       "      <th>today</th>\n",
       "      <th>car_url</th>\n",
       "    </tr>\n",
       "  </thead>\n",
       "  <tbody>\n",
       "    <tr>\n",
       "      <th>0</th>\n",
       "      <td>Mitsubishi Lancer, 2014</td>\n",
       "      <td>650 000 ₽</td>\n",
       "      <td>Москва</td>\n",
       "      <td>100 181 км, 1.8 CVT (140 л.с.), седан, передни...</td>\n",
       "      <td>Несколько секунд назад</td>\n",
       "      <td>NaN</td>\n",
       "      <td>Прoдаю надёжный автомобиль в достойнойном тeхн...</td>\n",
       "      <td>2021-11-23</td>\n",
       "      <td>https://www.avito.ru//moskva/avtomobili/mitsub...</td>\n",
       "    </tr>\n",
       "    <tr>\n",
       "      <th>1</th>\n",
       "      <td>Mazda 3, 2008</td>\n",
       "      <td>490 000 ₽</td>\n",
       "      <td>Свердловская область, Екатеринбург</td>\n",
       "      <td>213 000 км, 1.6 MT (105 л.с.), седан, передний...</td>\n",
       "      <td>Несколько секунд назад</td>\n",
       "      <td>NaN</td>\n",
       "      <td>По кузову имеется один окрас, остальное все в ...</td>\n",
       "      <td>2021-11-23</td>\n",
       "      <td>https://www.avito.ru//ekaterinburg/avtomobili/...</td>\n",
       "    </tr>\n",
       "  </tbody>\n",
       "</table>\n",
       "</div>"
      ],
      "text/plain": [
       "                 car_brand  car_price                        car_location  \\\n",
       "0  Mitsubishi Lancer, 2014  650 000 ₽                              Москва   \n",
       "1            Mazda 3, 2008  490 000 ₽  Свердловская область, Екатеринбург   \n",
       "\n",
       "                                         car_details                 ad_date  \\\n",
       "0  100 181 км, 1.8 CVT (140 л.с.), седан, передни...  Несколько секунд назад   \n",
       "1  213 000 км, 1.6 MT (105 л.с.), седан, передний...  Несколько секунд назад   \n",
       "\n",
       "  car_dealer                                    car_description       today  \\\n",
       "0        NaN  Прoдаю надёжный автомобиль в достойнойном тeхн...  2021-11-23   \n",
       "1        NaN  По кузову имеется один окрас, остальное все в ...  2021-11-23   \n",
       "\n",
       "                                             car_url  \n",
       "0  https://www.avito.ru//moskva/avtomobili/mitsub...  \n",
       "1  https://www.avito.ru//ekaterinburg/avtomobili/...  "
      ]
     },
     "execution_count": 24,
     "metadata": {},
     "output_type": "execute_result"
    }
   ],
   "source": [
    "## drop выполняется выше, и мы увидели, что ненужные столбцы исчезли, но что происходит, когда мы вызываем\n",
    "## наш фрейм данных df2? ПОЧЕМУ наши предположительно удаленные колонки находятся здесь?\n",
    "\n",
    "## Помните, что исходный DataFrame df2 остается неизменным, если вы не используете inplace=True \n",
    "## или не присваиваете результат обратно исходному DataFrame.\n",
    "df2.head(2)"
   ]
  },
  {
   "cell_type": "code",
   "execution_count": null,
   "metadata": {},
   "outputs": [
    {
     "data": {
      "text/html": [
       "<div>\n",
       "<style scoped>\n",
       "    .dataframe tbody tr th:only-of-type {\n",
       "        vertical-align: middle;\n",
       "    }\n",
       "\n",
       "    .dataframe tbody tr th {\n",
       "        vertical-align: top;\n",
       "    }\n",
       "\n",
       "    .dataframe thead th {\n",
       "        text-align: right;\n",
       "    }\n",
       "</style>\n",
       "<table border=\"1\" class=\"dataframe\">\n",
       "  <thead>\n",
       "    <tr style=\"text-align: right;\">\n",
       "      <th></th>\n",
       "      <th>car_brand</th>\n",
       "      <th>car_price</th>\n",
       "      <th>car_location</th>\n",
       "      <th>car_details</th>\n",
       "      <th>today</th>\n",
       "    </tr>\n",
       "  </thead>\n",
       "  <tbody>\n",
       "    <tr>\n",
       "      <th>0</th>\n",
       "      <td>Mitsubishi Lancer, 2014</td>\n",
       "      <td>650 000 ₽</td>\n",
       "      <td>Москва</td>\n",
       "      <td>100 181 км, 1.8 CVT (140 л.с.), седан, передни...</td>\n",
       "      <td>2021-11-23</td>\n",
       "    </tr>\n",
       "    <tr>\n",
       "      <th>1</th>\n",
       "      <td>Mazda 3, 2008</td>\n",
       "      <td>490 000 ₽</td>\n",
       "      <td>Свердловская область, Екатеринбург</td>\n",
       "      <td>213 000 км, 1.6 MT (105 л.с.), седан, передний...</td>\n",
       "      <td>2021-11-23</td>\n",
       "    </tr>\n",
       "  </tbody>\n",
       "</table>\n",
       "</div>"
      ],
      "text/plain": [
       "                 car_brand  car_price                        car_location  \\\n",
       "0  Mitsubishi Lancer, 2014  650 000 ₽                              Москва   \n",
       "1            Mazda 3, 2008  490 000 ₽  Свердловская область, Екатеринбург   \n",
       "\n",
       "                                         car_details       today  \n",
       "0  100 181 км, 1.8 CVT (140 л.с.), седан, передни...  2021-11-23  \n",
       "1  213 000 км, 1.6 MT (105 л.с.), седан, передний...  2021-11-23  "
      ]
     },
     "execution_count": 25,
     "metadata": {},
     "output_type": "execute_result"
    }
   ],
   "source": [
    "## Способ 1\n",
    "## Таким образом, знак = здесь присваивает Полученный DataFrame из операции drop() обратно переменной df2, \n",
    "## эффективно обновляя df2, чтобы он содержал измененный DataFrame без указанных столбцов.\n",
    "df2 = df2.drop (['car_description', 'ad_date', 'car_url', 'car_dealer'], axis=1)\n",
    "df2.head(2)"
   ]
  },
  {
   "cell_type": "code",
   "execution_count": null,
   "metadata": {},
   "outputs": [
    {
     "data": {
      "text/html": [
       "<div>\n",
       "<style scoped>\n",
       "    .dataframe tbody tr th:only-of-type {\n",
       "        vertical-align: middle;\n",
       "    }\n",
       "\n",
       "    .dataframe tbody tr th {\n",
       "        vertical-align: top;\n",
       "    }\n",
       "\n",
       "    .dataframe thead th {\n",
       "        text-align: right;\n",
       "    }\n",
       "</style>\n",
       "<table border=\"1\" class=\"dataframe\">\n",
       "  <thead>\n",
       "    <tr style=\"text-align: right;\">\n",
       "      <th></th>\n",
       "      <th>car_brand</th>\n",
       "      <th>car_price</th>\n",
       "      <th>car_location</th>\n",
       "      <th>car_details</th>\n",
       "      <th>ad_date</th>\n",
       "      <th>car_dealer</th>\n",
       "      <th>car_description</th>\n",
       "      <th>today</th>\n",
       "      <th>car_url</th>\n",
       "    </tr>\n",
       "  </thead>\n",
       "  <tbody>\n",
       "    <tr>\n",
       "      <th>0</th>\n",
       "      <td>Mitsubishi Lancer, 2014</td>\n",
       "      <td>650 000 ₽</td>\n",
       "      <td>Москва</td>\n",
       "      <td>100 181 км, 1.8 CVT (140 л.с.), седан, передни...</td>\n",
       "      <td>Несколько секунд назад</td>\n",
       "      <td>NaN</td>\n",
       "      <td>Прoдаю надёжный автомобиль в достойнойном тeхн...</td>\n",
       "      <td>2021-11-23</td>\n",
       "      <td>https://www.avito.ru//moskva/avtomobili/mitsub...</td>\n",
       "    </tr>\n",
       "    <tr>\n",
       "      <th>1</th>\n",
       "      <td>Mazda 3, 2008</td>\n",
       "      <td>490 000 ₽</td>\n",
       "      <td>Свердловская область, Екатеринбург</td>\n",
       "      <td>213 000 км, 1.6 MT (105 л.с.), седан, передний...</td>\n",
       "      <td>Несколько секунд назад</td>\n",
       "      <td>NaN</td>\n",
       "      <td>По кузову имеется один окрас, остальное все в ...</td>\n",
       "      <td>2021-11-23</td>\n",
       "      <td>https://www.avito.ru//ekaterinburg/avtomobili/...</td>\n",
       "    </tr>\n",
       "  </tbody>\n",
       "</table>\n",
       "</div>"
      ],
      "text/plain": [
       "                 car_brand  car_price                        car_location  \\\n",
       "0  Mitsubishi Lancer, 2014  650 000 ₽                              Москва   \n",
       "1            Mazda 3, 2008  490 000 ₽  Свердловская область, Екатеринбург   \n",
       "\n",
       "                                         car_details                 ad_date  \\\n",
       "0  100 181 км, 1.8 CVT (140 л.с.), седан, передни...  Несколько секунд назад   \n",
       "1  213 000 км, 1.6 MT (105 л.с.), седан, передний...  Несколько секунд назад   \n",
       "\n",
       "  car_dealer                                    car_description       today  \\\n",
       "0        NaN  Прoдаю надёжный автомобиль в достойнойном тeхн...  2021-11-23   \n",
       "1        NaN  По кузову имеется один окрас, остальное все в ...  2021-11-23   \n",
       "\n",
       "                                             car_url  \n",
       "0  https://www.avito.ru//moskva/avtomobili/mitsub...  \n",
       "1  https://www.avito.ru//ekaterinburg/avtomobili/...  "
      ]
     },
     "execution_count": 26,
     "metadata": {},
     "output_type": "execute_result"
    }
   ],
   "source": [
    "df3.head(2)"
   ]
  },
  {
   "cell_type": "code",
   "execution_count": null,
   "metadata": {},
   "outputs": [
    {
     "data": {
      "text/html": [
       "<div>\n",
       "<style scoped>\n",
       "    .dataframe tbody tr th:only-of-type {\n",
       "        vertical-align: middle;\n",
       "    }\n",
       "\n",
       "    .dataframe tbody tr th {\n",
       "        vertical-align: top;\n",
       "    }\n",
       "\n",
       "    .dataframe thead th {\n",
       "        text-align: right;\n",
       "    }\n",
       "</style>\n",
       "<table border=\"1\" class=\"dataframe\">\n",
       "  <thead>\n",
       "    <tr style=\"text-align: right;\">\n",
       "      <th></th>\n",
       "      <th>car_brand</th>\n",
       "      <th>car_price</th>\n",
       "      <th>car_location</th>\n",
       "      <th>car_details</th>\n",
       "      <th>today</th>\n",
       "    </tr>\n",
       "  </thead>\n",
       "  <tbody>\n",
       "    <tr>\n",
       "      <th>0</th>\n",
       "      <td>Mitsubishi Lancer, 2014</td>\n",
       "      <td>650 000 ₽</td>\n",
       "      <td>Москва</td>\n",
       "      <td>100 181 км, 1.8 CVT (140 л.с.), седан, передни...</td>\n",
       "      <td>2021-11-23</td>\n",
       "    </tr>\n",
       "    <tr>\n",
       "      <th>1</th>\n",
       "      <td>Mazda 3, 2008</td>\n",
       "      <td>490 000 ₽</td>\n",
       "      <td>Свердловская область, Екатеринбург</td>\n",
       "      <td>213 000 км, 1.6 MT (105 л.с.), седан, передний...</td>\n",
       "      <td>2021-11-23</td>\n",
       "    </tr>\n",
       "  </tbody>\n",
       "</table>\n",
       "</div>"
      ],
      "text/plain": [
       "                 car_brand  car_price                        car_location  \\\n",
       "0  Mitsubishi Lancer, 2014  650 000 ₽                              Москва   \n",
       "1            Mazda 3, 2008  490 000 ₽  Свердловская область, Екатеринбург   \n",
       "\n",
       "                                         car_details       today  \n",
       "0  100 181 км, 1.8 CVT (140 л.с.), седан, передни...  2021-11-23  \n",
       "1  213 000 км, 1.6 MT (105 л.с.), седан, передний...  2021-11-23  "
      ]
     },
     "execution_count": 27,
     "metadata": {},
     "output_type": "execute_result"
    }
   ],
   "source": [
    "## Метод 2 (НЕ РЕКОМЕНДУЕТСЯ!!!) \n",
    "df3.drop (['car_description', 'ad_date', 'car_url', 'car_dealer'], axis=1, inplace= True)\n",
    "df3.head (2)"
   ]
  },
  {
   "cell_type": "code",
   "execution_count": null,
   "metadata": {},
   "outputs": [
    {
     "data": {
      "text/plain": [
       "(5656, 9)"
      ]
     },
     "execution_count": 28,
     "metadata": {},
     "output_type": "execute_result"
    }
   ],
   "source": [
    "## Прежде чем внести какое-либо постоянное изменение в данные, \n",
    "## всегда сравнивайте размер dataframe данных до и после.\n",
    "df.shape"
   ]
  },
  {
   "cell_type": "code",
   "execution_count": null,
   "metadata": {},
   "outputs": [
    {
     "data": {
      "text/html": [
       "<div>\n",
       "<style scoped>\n",
       "    .dataframe tbody tr th:only-of-type {\n",
       "        vertical-align: middle;\n",
       "    }\n",
       "\n",
       "    .dataframe tbody tr th {\n",
       "        vertical-align: top;\n",
       "    }\n",
       "\n",
       "    .dataframe thead th {\n",
       "        text-align: right;\n",
       "    }\n",
       "</style>\n",
       "<table border=\"1\" class=\"dataframe\">\n",
       "  <thead>\n",
       "    <tr style=\"text-align: right;\">\n",
       "      <th></th>\n",
       "      <th>car_brand</th>\n",
       "      <th>car_price</th>\n",
       "      <th>car_location</th>\n",
       "      <th>car_details</th>\n",
       "      <th>today</th>\n",
       "    </tr>\n",
       "  </thead>\n",
       "  <tbody>\n",
       "    <tr>\n",
       "      <th>0</th>\n",
       "      <td>Mitsubishi Lancer, 2014</td>\n",
       "      <td>650 000 ₽</td>\n",
       "      <td>Москва</td>\n",
       "      <td>100 181 км, 1.8 CVT (140 л.с.), седан, передни...</td>\n",
       "      <td>2021-11-23</td>\n",
       "    </tr>\n",
       "    <tr>\n",
       "      <th>1</th>\n",
       "      <td>Mazda 3, 2008</td>\n",
       "      <td>490 000 ₽</td>\n",
       "      <td>Свердловская область, Екатеринбург</td>\n",
       "      <td>213 000 км, 1.6 MT (105 л.с.), седан, передний...</td>\n",
       "      <td>2021-11-23</td>\n",
       "    </tr>\n",
       "  </tbody>\n",
       "</table>\n",
       "</div>"
      ],
      "text/plain": [
       "                 car_brand  car_price                        car_location  \\\n",
       "0  Mitsubishi Lancer, 2014  650 000 ₽                              Москва   \n",
       "1            Mazda 3, 2008  490 000 ₽  Свердловская область, Екатеринбург   \n",
       "\n",
       "                                         car_details       today  \n",
       "0  100 181 км, 1.8 CVT (140 л.с.), седан, передни...  2021-11-23  \n",
       "1  213 000 км, 1.6 MT (105 л.с.), седан, передний...  2021-11-23  "
      ]
     },
     "execution_count": 29,
     "metadata": {},
     "output_type": "execute_result"
    }
   ],
   "source": [
    "## Хорошо, теперь давайте удалим лишние столбцы из нашей таблицы. \n",
    "## Помните, я говорил вам, что не рекомендую метод 2 с (inplace = True)?\n",
    "\n",
    "## Я сделаю это здесь, но никому не говорите, ладно? ))\n",
    "\n",
    "df.drop (['car_description', 'ad_date', 'car_url', 'car_dealer'], axis=1, inplace= True)\n",
    "df.head(2)"
   ]
  },
  {
   "cell_type": "code",
   "execution_count": null,
   "metadata": {},
   "outputs": [
    {
     "data": {
      "text/plain": [
       "(5656, 5)"
      ]
     },
     "execution_count": 30,
     "metadata": {},
     "output_type": "execute_result"
    }
   ],
   "source": [
    "## Проверьте размер и убедитесь, что столбцов стало меньше.\n",
    "df.shape"
   ]
  },
  {
   "cell_type": "code",
   "execution_count": null,
   "metadata": {},
   "outputs": [
    {
     "data": {
      "text/plain": [
       "Index(['car_brand', 'car_price', 'car_location', 'car_details', 'today'], dtype='object')"
      ]
     },
     "execution_count": 31,
     "metadata": {},
     "output_type": "execute_result"
    }
   ],
   "source": [
    "df.columns"
   ]
  },
  {
   "cell_type": "code",
   "execution_count": null,
   "metadata": {},
   "outputs": [],
   "source": []
  },
  {
   "cell_type": "markdown",
   "metadata": {},
   "source": [
    "### 1.4 Очистка данных\n",
    "#### str split rstrip replace unique "
   ]
  },
  {
   "cell_type": "code",
   "execution_count": null,
   "metadata": {},
   "outputs": [
    {
     "data": {
      "text/html": [
       "<div>\n",
       "<style scoped>\n",
       "    .dataframe tbody tr th:only-of-type {\n",
       "        vertical-align: middle;\n",
       "    }\n",
       "\n",
       "    .dataframe tbody tr th {\n",
       "        vertical-align: top;\n",
       "    }\n",
       "\n",
       "    .dataframe thead th {\n",
       "        text-align: right;\n",
       "    }\n",
       "</style>\n",
       "<table border=\"1\" class=\"dataframe\">\n",
       "  <thead>\n",
       "    <tr style=\"text-align: right;\">\n",
       "      <th></th>\n",
       "      <th>car_brand</th>\n",
       "      <th>car_price</th>\n",
       "      <th>car_location</th>\n",
       "      <th>car_details</th>\n",
       "      <th>today</th>\n",
       "    </tr>\n",
       "  </thead>\n",
       "  <tbody>\n",
       "    <tr>\n",
       "      <th>0</th>\n",
       "      <td>Mitsubishi Lancer, 2014</td>\n",
       "      <td>650 000 ₽</td>\n",
       "      <td>Москва</td>\n",
       "      <td>100 181 км, 1.8 CVT (140 л.с.), седан, передни...</td>\n",
       "      <td>2021-11-23</td>\n",
       "    </tr>\n",
       "    <tr>\n",
       "      <th>1</th>\n",
       "      <td>Mazda 3, 2008</td>\n",
       "      <td>490 000 ₽</td>\n",
       "      <td>Свердловская область, Екатеринбург</td>\n",
       "      <td>213 000 км, 1.6 MT (105 л.с.), седан, передний...</td>\n",
       "      <td>2021-11-23</td>\n",
       "    </tr>\n",
       "    <tr>\n",
       "      <th>2</th>\n",
       "      <td>ВАЗ (LADA) Granta, 2020</td>\n",
       "      <td>742 000 ₽</td>\n",
       "      <td>Свердловская область, Екатеринбург</td>\n",
       "      <td>25 600 км, 1.6 MT (106 л.с.), седан, передний,...</td>\n",
       "      <td>2021-11-23</td>\n",
       "    </tr>\n",
       "    <tr>\n",
       "      <th>3</th>\n",
       "      <td>Toyota Tank, 2018</td>\n",
       "      <td>590 000 ₽</td>\n",
       "      <td>Приморский край, Владивостокский г.о., Владиво...</td>\n",
       "      <td>43 000 км, 1.0 CVT (69 л.с.), хетчбэк, полный,...</td>\n",
       "      <td>2021-11-23</td>\n",
       "    </tr>\n",
       "    <tr>\n",
       "      <th>4</th>\n",
       "      <td>Kia Rio, 2018</td>\n",
       "      <td>999 000 ₽</td>\n",
       "      <td>Астраханская область, Астрахань</td>\n",
       "      <td>65 000 км, 1.6 AT (123 л.с.), седан, передний,...</td>\n",
       "      <td>2021-11-23</td>\n",
       "    </tr>\n",
       "  </tbody>\n",
       "</table>\n",
       "</div>"
      ],
      "text/plain": [
       "                 car_brand  car_price  \\\n",
       "0  Mitsubishi Lancer, 2014  650 000 ₽   \n",
       "1            Mazda 3, 2008  490 000 ₽   \n",
       "2  ВАЗ (LADA) Granta, 2020  742 000 ₽   \n",
       "3        Toyota Tank, 2018  590 000 ₽   \n",
       "4            Kia Rio, 2018  999 000 ₽   \n",
       "\n",
       "                                        car_location  \\\n",
       "0                                             Москва   \n",
       "1                 Свердловская область, Екатеринбург   \n",
       "2                 Свердловская область, Екатеринбург   \n",
       "3  Приморский край, Владивостокский г.о., Владиво...   \n",
       "4                    Астраханская область, Астрахань   \n",
       "\n",
       "                                         car_details       today  \n",
       "0  100 181 км, 1.8 CVT (140 л.с.), седан, передни...  2021-11-23  \n",
       "1  213 000 км, 1.6 MT (105 л.с.), седан, передний...  2021-11-23  \n",
       "2  25 600 км, 1.6 MT (106 л.с.), седан, передний,...  2021-11-23  \n",
       "3  43 000 км, 1.0 CVT (69 л.с.), хетчбэк, полный,...  2021-11-23  \n",
       "4  65 000 км, 1.6 AT (123 л.с.), седан, передний,...  2021-11-23  "
      ]
     },
     "execution_count": 32,
     "metadata": {},
     "output_type": "execute_result"
    }
   ],
   "source": [
    "## Мы видим, что производитель автомобиля и год объединены знаком «,» запятой.\n",
    "## Мы можем  использовать его для разделения этих данных и создания отдельных столбцов для автомобиля и года\n",
    "df.head (5)"
   ]
  },
  {
   "cell_type": "code",
   "execution_count": null,
   "metadata": {},
   "outputs": [
    {
     "data": {
      "text/plain": [
       "0    Mitsubishi Lancer, 2014\n",
       "1              Mazda 3, 2008\n",
       "2    ВАЗ (LADA) Granta, 2020\n",
       "Name: car_brand, dtype: object"
      ]
     },
     "execution_count": 33,
     "metadata": {},
     "output_type": "execute_result"
    }
   ],
   "source": [
    "df.car_brand.head (3)"
   ]
  },
  {
   "cell_type": "code",
   "execution_count": null,
   "metadata": {},
   "outputs": [
    {
     "data": {
      "text/plain": [
       "5653        Skoda Rapid, 2018\n",
       "5654    ВАЗ (LADA) XRAY, 2019\n",
       "5655        УАЗ Patriot, 2016\n",
       "Name: car_brand, dtype: object"
      ]
     },
     "execution_count": 34,
     "metadata": {},
     "output_type": "execute_result"
    }
   ],
   "source": [
    "df.car_brand.tail (3)"
   ]
  },
  {
   "cell_type": "code",
   "execution_count": null,
   "metadata": {},
   "outputs": [
    {
     "data": {
      "text/plain": [
       "196                LADA XRAY, 2018\n",
       "4914              Skoda Yeti, 2013\n",
       "3355         Volkswagen Golf, 2010\n",
       "3921         Hyundai Solaris, 2017\n",
       "1896            Toyota Prius, 2012\n",
       "4958                 Kia Rio, 2017\n",
       "4428                Lexus LS, 2007\n",
       "2319         Volkswagen Polo, 2019\n",
       "1435            Kia Sportage, 2012\n",
       "973     Volkswagen Golf Plus, 2010\n",
       "Name: car_brand, dtype: object"
      ]
     },
     "execution_count": 35,
     "metadata": {},
     "output_type": "execute_result"
    }
   ],
   "source": [
    "df.car_brand.sample(n=10)\n"
   ]
  },
  {
   "cell_type": "code",
   "execution_count": null,
   "metadata": {},
   "outputs": [
    {
     "data": {
      "text/html": [
       "<div>\n",
       "<style scoped>\n",
       "    .dataframe tbody tr th:only-of-type {\n",
       "        vertical-align: middle;\n",
       "    }\n",
       "\n",
       "    .dataframe tbody tr th {\n",
       "        vertical-align: top;\n",
       "    }\n",
       "\n",
       "    .dataframe thead th {\n",
       "        text-align: right;\n",
       "    }\n",
       "</style>\n",
       "<table border=\"1\" class=\"dataframe\">\n",
       "  <thead>\n",
       "    <tr style=\"text-align: right;\">\n",
       "      <th></th>\n",
       "      <th>0</th>\n",
       "      <th>1</th>\n",
       "    </tr>\n",
       "  </thead>\n",
       "  <tbody>\n",
       "    <tr>\n",
       "      <th>0</th>\n",
       "      <td>Mitsubishi Lancer</td>\n",
       "      <td>2014</td>\n",
       "    </tr>\n",
       "    <tr>\n",
       "      <th>1</th>\n",
       "      <td>Mazda 3</td>\n",
       "      <td>2008</td>\n",
       "    </tr>\n",
       "    <tr>\n",
       "      <th>2</th>\n",
       "      <td>ВАЗ (LADA) Granta</td>\n",
       "      <td>2020</td>\n",
       "    </tr>\n",
       "    <tr>\n",
       "      <th>3</th>\n",
       "      <td>Toyota Tank</td>\n",
       "      <td>2018</td>\n",
       "    </tr>\n",
       "    <tr>\n",
       "      <th>4</th>\n",
       "      <td>Kia Rio</td>\n",
       "      <td>2018</td>\n",
       "    </tr>\n",
       "    <tr>\n",
       "      <th>...</th>\n",
       "      <td>...</td>\n",
       "      <td>...</td>\n",
       "    </tr>\n",
       "    <tr>\n",
       "      <th>5651</th>\n",
       "      <td>Hyundai ix35</td>\n",
       "      <td>2013</td>\n",
       "    </tr>\n",
       "    <tr>\n",
       "      <th>5652</th>\n",
       "      <td>ГАЗ ГАЗель 2705</td>\n",
       "      <td>2013</td>\n",
       "    </tr>\n",
       "    <tr>\n",
       "      <th>5653</th>\n",
       "      <td>Skoda Rapid</td>\n",
       "      <td>2018</td>\n",
       "    </tr>\n",
       "    <tr>\n",
       "      <th>5654</th>\n",
       "      <td>ВАЗ (LADA) XRAY</td>\n",
       "      <td>2019</td>\n",
       "    </tr>\n",
       "    <tr>\n",
       "      <th>5655</th>\n",
       "      <td>УАЗ Patriot</td>\n",
       "      <td>2016</td>\n",
       "    </tr>\n",
       "  </tbody>\n",
       "</table>\n",
       "<p>5656 rows × 2 columns</p>\n",
       "</div>"
      ],
      "text/plain": [
       "                      0      1\n",
       "0     Mitsubishi Lancer   2014\n",
       "1               Mazda 3   2008\n",
       "2     ВАЗ (LADA) Granta   2020\n",
       "3           Toyota Tank   2018\n",
       "4               Kia Rio   2018\n",
       "...                 ...    ...\n",
       "5651       Hyundai ix35   2013\n",
       "5652    ГАЗ ГАЗель 2705   2013\n",
       "5653        Skoda Rapid   2018\n",
       "5654    ВАЗ (LADA) XRAY   2019\n",
       "5655        УАЗ Patriot   2016\n",
       "\n",
       "[5656 rows x 2 columns]"
      ]
     },
     "execution_count": 36,
     "metadata": {},
     "output_type": "execute_result"
    }
   ],
   "source": [
    "# Чтобы разделить модель автомобиля и данные года, которые разделены запятой, \n",
    "## мы можем использовать  Python метод str.split()\n",
    "\n",
    "## Если expand=True, метод возвращает DataFrame с отдельными столбцами для каждой разделенной части. \n",
    "## В нашем случае создаются два новых столбца: модель и год.\n",
    "\n",
    "df['car_brand'].str.split(',', expand=True)"
   ]
  },
  {
   "cell_type": "code",
   "execution_count": null,
   "metadata": {},
   "outputs": [
    {
     "data": {
      "text/plain": [
       "0       [Mitsubishi Lancer,  2014]\n",
       "1                 [Mazda 3,  2008]\n",
       "2       [ВАЗ (LADA) Granta,  2020]\n",
       "3             [Toyota Tank,  2018]\n",
       "4                 [Kia Rio,  2018]\n",
       "                   ...            \n",
       "5651         [Hyundai ix35,  2013]\n",
       "5652      [ГАЗ ГАЗель 2705,  2013]\n",
       "5653          [Skoda Rapid,  2018]\n",
       "5654      [ВАЗ (LADA) XRAY,  2019]\n",
       "5655          [УАЗ Patriot,  2016]\n",
       "Name: car_brand, Length: 5656, dtype: object"
      ]
     },
     "execution_count": 37,
     "metadata": {},
     "output_type": "execute_result"
    }
   ],
   "source": [
    "df['car_brand'].str.split(',', expand=False)"
   ]
  },
  {
   "cell_type": "code",
   "execution_count": null,
   "metadata": {},
   "outputs": [
    {
     "data": {
      "text/plain": [
       "(pandas.core.frame.DataFrame, pandas.core.series.Series)"
      ]
     },
     "execution_count": 38,
     "metadata": {},
     "output_type": "execute_result"
    }
   ],
   "source": [
    "## Какая разница? Давайте вспомним наш встроенный в Python метод type() и ответим на этот вопрос.\n",
    "\n",
    "## DataFrame pandas — это двумерная помеченная структура данных со столбцами потенциально разных типов, \n",
    "\n",
    "## Серия Pandas (series) — это одномерный помеченный массив, способный хранить данные любого типа.\n",
    "\n",
    "## !!! Подробности см. в файле py_basics.py Pandas Series.\n",
    "\n",
    "type (df['car_brand'].str.split(',', expand=True)) , type (df['car_brand'].str.split(',', expand=False))"
   ]
  },
  {
   "cell_type": "code",
   "execution_count": null,
   "metadata": {},
   "outputs": [
    {
     "data": {
      "text/html": [
       "<div>\n",
       "<style scoped>\n",
       "    .dataframe tbody tr th:only-of-type {\n",
       "        vertical-align: middle;\n",
       "    }\n",
       "\n",
       "    .dataframe tbody tr th {\n",
       "        vertical-align: top;\n",
       "    }\n",
       "\n",
       "    .dataframe thead th {\n",
       "        text-align: right;\n",
       "    }\n",
       "</style>\n",
       "<table border=\"1\" class=\"dataframe\">\n",
       "  <thead>\n",
       "    <tr style=\"text-align: right;\">\n",
       "      <th></th>\n",
       "      <th>car_brand</th>\n",
       "      <th>car_price</th>\n",
       "      <th>car_location</th>\n",
       "      <th>car_details</th>\n",
       "      <th>today</th>\n",
       "      <th>model</th>\n",
       "      <th>year</th>\n",
       "    </tr>\n",
       "  </thead>\n",
       "  <tbody>\n",
       "    <tr>\n",
       "      <th>0</th>\n",
       "      <td>Mitsubishi Lancer, 2014</td>\n",
       "      <td>650 000 ₽</td>\n",
       "      <td>Москва</td>\n",
       "      <td>100 181 км, 1.8 CVT (140 л.с.), седан, передни...</td>\n",
       "      <td>2021-11-23</td>\n",
       "      <td>Mitsubishi Lancer</td>\n",
       "      <td>2014</td>\n",
       "    </tr>\n",
       "    <tr>\n",
       "      <th>1</th>\n",
       "      <td>Mazda 3, 2008</td>\n",
       "      <td>490 000 ₽</td>\n",
       "      <td>Свердловская область, Екатеринбург</td>\n",
       "      <td>213 000 км, 1.6 MT (105 л.с.), седан, передний...</td>\n",
       "      <td>2021-11-23</td>\n",
       "      <td>Mazda 3</td>\n",
       "      <td>2008</td>\n",
       "    </tr>\n",
       "  </tbody>\n",
       "</table>\n",
       "</div>"
      ],
      "text/plain": [
       "                 car_brand  car_price                        car_location  \\\n",
       "0  Mitsubishi Lancer, 2014  650 000 ₽                              Москва   \n",
       "1            Mazda 3, 2008  490 000 ₽  Свердловская область, Екатеринбург   \n",
       "\n",
       "                                         car_details       today  \\\n",
       "0  100 181 км, 1.8 CVT (140 л.с.), седан, передни...  2021-11-23   \n",
       "1  213 000 км, 1.6 MT (105 л.с.), седан, передний...  2021-11-23   \n",
       "\n",
       "               model   year  \n",
       "0  Mitsubishi Lancer   2014  \n",
       "1            Mazda 3   2008  "
      ]
     },
     "execution_count": 39,
     "metadata": {},
     "output_type": "execute_result"
    }
   ],
   "source": [
    "## Теперь, когда я знаю, что моя операция str.split() создает два столбца, \n",
    "## я могу придумать имена столбцов, которые мне удобны, НО ВАЖНО ТОЛЬКО ДВА, \n",
    "## и назначить их моему фрейму данных, эффективно изменяя форму моего фрейма данных.\n",
    "\n",
    "df[['model', 'year']] = df['car_brand'].str.split(',', expand=True)\n",
    "df.head(2)\n"
   ]
  },
  {
   "cell_type": "code",
   "execution_count": null,
   "metadata": {},
   "outputs": [
    {
     "data": {
      "text/plain": [
       "(5656, 7)"
      ]
     },
     "execution_count": 40,
     "metadata": {},
     "output_type": "execute_result"
    }
   ],
   "source": [
    "## Сравните наш фрейм данных до и после этой операции.\n",
    "df.shape"
   ]
  },
  {
   "cell_type": "code",
   "execution_count": null,
   "metadata": {},
   "outputs": [
    {
     "data": {
      "text/plain": [
       "123     615 000 ₽\n",
       "2065    645 000 ₽\n",
       "271     850 000 ₽\n",
       "1346    750 000 ₽\n",
       "213     640 000 ₽\n",
       "2115    807 000 ₽\n",
       "2160    770 000 ₽\n",
       "4258    799 000 ₽\n",
       "1612    507 000 ₽\n",
       "734     777 000 ₽\n",
       "Name: car_price, dtype: object"
      ]
     },
     "execution_count": 41,
     "metadata": {},
     "output_type": "execute_result"
    }
   ],
   "source": [
    "## Далее идет столбец цен на автомобили: в нем есть ненужный символ, \n",
    "## который будет мешать нашим будущим статистическим операциям с этим столбцом.\n",
    "\n",
    "## Давайте удалим этот символ\n",
    "\n",
    "df.car_price.sample(n=10, replace=False)"
   ]
  },
  {
   "cell_type": "code",
   "execution_count": null,
   "metadata": {},
   "outputs": [
    {
     "data": {
      "text/plain": [
       "0       True\n",
       "1       True\n",
       "2       True\n",
       "3       True\n",
       "4       True\n",
       "        ... \n",
       "5651    True\n",
       "5652    True\n",
       "5653    True\n",
       "5654    True\n",
       "5655    True\n",
       "Name: car_price, Length: 5656, dtype: bool"
      ]
     },
     "execution_count": 42,
     "metadata": {},
     "output_type": "execute_result"
    }
   ],
   "source": [
    "## Но давайте рассмотрим  новую для нас функцию: str.contains(). \n",
    "## Мы хотим узнать, содержит ли  столбец car_price \"₽\" . В любом месте\n",
    "\n",
    "## Мы видим True (или False, если символ не существует). \n",
    "\n",
    "df.car_price.str.contains('₽')\n"
   ]
  },
  {
   "cell_type": "code",
   "execution_count": null,
   "metadata": {},
   "outputs": [
    {
     "data": {
      "text/plain": [
       "pandas.core.series.Series"
      ]
     },
     "execution_count": 43,
     "metadata": {},
     "output_type": "execute_result"
    }
   ],
   "source": [
    "type (df.car_price.str.contains('₽'))"
   ]
  },
  {
   "cell_type": "code",
   "execution_count": null,
   "metadata": {},
   "outputs": [
    {
     "data": {
      "text/plain": [
       "5656"
      ]
     },
     "execution_count": 44,
     "metadata": {},
     "output_type": "execute_result"
    }
   ],
   "source": [
    "## Когда вы используете sum() в этой серии, он вычисляет сумму логических значений. \n",
    "## В Python True рассматривается как 1, а False — как 0 при суммировании логических значений.\n",
    "sum(df.car_price.str.contains('₽'))"
   ]
  },
  {
   "cell_type": "code",
   "execution_count": null,
   "metadata": {},
   "outputs": [
    {
     "data": {
      "text/plain": [
       "0    650 000 \n",
       "1    490 000 \n",
       "2    742 000 \n",
       "3    590 000 \n",
       "4    999 000 \n",
       "Name: car_price, dtype: object"
      ]
     },
     "execution_count": 45,
     "metadata": {},
     "output_type": "execute_result"
    }
   ],
   "source": [
    "## У нас есть разные методы, как удалить символ '₽'\n",
    "\n",
    "df['car_price'].str.replace('₽', '').head(5)"
   ]
  },
  {
   "cell_type": "code",
   "execution_count": null,
   "metadata": {},
   "outputs": [
    {
     "data": {
      "text/plain": [
       "0    650 000 \n",
       "1    490 000 \n",
       "2    742 000 \n",
       "3    590 000 \n",
       "4    999 000 \n",
       "Name: car_price, dtype: object"
      ]
     },
     "execution_count": 46,
     "metadata": {},
     "output_type": "execute_result"
    }
   ],
   "source": [
    "## Метод регулярного выражения *regex*, который не использует промежуточный метод преобразования str\n",
    "df['car_price'].replace(r'₽', '', regex=True).head(5)"
   ]
  },
  {
   "cell_type": "code",
   "execution_count": null,
   "metadata": {},
   "outputs": [
    {
     "data": {
      "text/html": [
       "<div>\n",
       "<style scoped>\n",
       "    .dataframe tbody tr th:only-of-type {\n",
       "        vertical-align: middle;\n",
       "    }\n",
       "\n",
       "    .dataframe tbody tr th {\n",
       "        vertical-align: top;\n",
       "    }\n",
       "\n",
       "    .dataframe thead th {\n",
       "        text-align: right;\n",
       "    }\n",
       "</style>\n",
       "<table border=\"1\" class=\"dataframe\">\n",
       "  <thead>\n",
       "    <tr style=\"text-align: right;\">\n",
       "      <th></th>\n",
       "      <th>car_brand</th>\n",
       "      <th>car_price</th>\n",
       "      <th>car_location</th>\n",
       "      <th>car_details</th>\n",
       "      <th>today</th>\n",
       "      <th>model</th>\n",
       "      <th>year</th>\n",
       "      <th>price</th>\n",
       "    </tr>\n",
       "  </thead>\n",
       "  <tbody>\n",
       "    <tr>\n",
       "      <th>0</th>\n",
       "      <td>Mitsubishi Lancer, 2014</td>\n",
       "      <td>650 000 ₽</td>\n",
       "      <td>Москва</td>\n",
       "      <td>100 181 км, 1.8 CVT (140 л.с.), седан, передни...</td>\n",
       "      <td>2021-11-23</td>\n",
       "      <td>Mitsubishi Lancer</td>\n",
       "      <td>2014</td>\n",
       "      <td>650 000</td>\n",
       "    </tr>\n",
       "    <tr>\n",
       "      <th>1</th>\n",
       "      <td>Mazda 3, 2008</td>\n",
       "      <td>490 000 ₽</td>\n",
       "      <td>Свердловская область, Екатеринбург</td>\n",
       "      <td>213 000 км, 1.6 MT (105 л.с.), седан, передний...</td>\n",
       "      <td>2021-11-23</td>\n",
       "      <td>Mazda 3</td>\n",
       "      <td>2008</td>\n",
       "      <td>490 000</td>\n",
       "    </tr>\n",
       "    <tr>\n",
       "      <th>2</th>\n",
       "      <td>ВАЗ (LADA) Granta, 2020</td>\n",
       "      <td>742 000 ₽</td>\n",
       "      <td>Свердловская область, Екатеринбург</td>\n",
       "      <td>25 600 км, 1.6 MT (106 л.с.), седан, передний,...</td>\n",
       "      <td>2021-11-23</td>\n",
       "      <td>ВАЗ (LADA) Granta</td>\n",
       "      <td>2020</td>\n",
       "      <td>742 000</td>\n",
       "    </tr>\n",
       "  </tbody>\n",
       "</table>\n",
       "</div>"
      ],
      "text/plain": [
       "                 car_brand  car_price                        car_location  \\\n",
       "0  Mitsubishi Lancer, 2014  650 000 ₽                              Москва   \n",
       "1            Mazda 3, 2008  490 000 ₽  Свердловская область, Екатеринбург   \n",
       "2  ВАЗ (LADA) Granta, 2020  742 000 ₽  Свердловская область, Екатеринбург   \n",
       "\n",
       "                                         car_details       today  \\\n",
       "0  100 181 км, 1.8 CVT (140 л.с.), седан, передни...  2021-11-23   \n",
       "1  213 000 км, 1.6 MT (105 л.с.), седан, передний...  2021-11-23   \n",
       "2  25 600 км, 1.6 MT (106 л.с.), седан, передний,...  2021-11-23   \n",
       "\n",
       "               model   year     price  \n",
       "0  Mitsubishi Lancer   2014  650 000   \n",
       "1            Mazda 3   2008  490 000   \n",
       "2  ВАЗ (LADA) Granta   2020  742 000   "
      ]
     },
     "execution_count": 47,
     "metadata": {},
     "output_type": "execute_result"
    }
   ],
   "source": [
    "## Мы можем выполнить операцию удаления символа прямо на столбце 'car_price' и переназначить его. \n",
    "## # df['car_price'] = df['car_price'].str.replace('₽', '')\n",
    "## Однако делать это не рекомендуется. \n",
    "## Вместо этого мы создадим новый столбец для нашего фрейма данных с уже чистыми данными о ценах.\n",
    "\n",
    "df['price'] = df['car_price'].str.replace('₽', '')\n",
    "df.head(3)"
   ]
  },
  {
   "cell_type": "code",
   "execution_count": null,
   "metadata": {},
   "outputs": [
    {
     "data": {
      "text/plain": [
       "'100 181 км, 1.8 CVT (140 л.с.), седан, передний, бензин'"
      ]
     },
     "execution_count": 48,
     "metadata": {},
     "output_type": "execute_result"
    }
   ],
   "source": [
    "## Далее у нас есть столбец car_details, который, как вы заметили, также разделен запятыми. \n",
    "## Вы уже знаете, как использовать это свойство для разделения данных и создания новых столбцов.\n",
    "\n",
    "df.iloc[0]['car_details']"
   ]
  },
  {
   "cell_type": "code",
   "execution_count": null,
   "metadata": {},
   "outputs": [
    {
     "data": {
      "text/html": [
       "<div>\n",
       "<style scoped>\n",
       "    .dataframe tbody tr th:only-of-type {\n",
       "        vertical-align: middle;\n",
       "    }\n",
       "\n",
       "    .dataframe tbody tr th {\n",
       "        vertical-align: top;\n",
       "    }\n",
       "\n",
       "    .dataframe thead th {\n",
       "        text-align: right;\n",
       "    }\n",
       "</style>\n",
       "<table border=\"1\" class=\"dataframe\">\n",
       "  <thead>\n",
       "    <tr style=\"text-align: right;\">\n",
       "      <th></th>\n",
       "      <th>0</th>\n",
       "      <th>1</th>\n",
       "      <th>2</th>\n",
       "      <th>3</th>\n",
       "      <th>4</th>\n",
       "    </tr>\n",
       "  </thead>\n",
       "  <tbody>\n",
       "    <tr>\n",
       "      <th>0</th>\n",
       "      <td>100 181 км</td>\n",
       "      <td>1.8 CVT (140 л.с.)</td>\n",
       "      <td>седан</td>\n",
       "      <td>передний</td>\n",
       "      <td>бензин</td>\n",
       "    </tr>\n",
       "    <tr>\n",
       "      <th>1</th>\n",
       "      <td>213 000 км</td>\n",
       "      <td>1.6 MT (105 л.с.)</td>\n",
       "      <td>седан</td>\n",
       "      <td>передний</td>\n",
       "      <td>бензин</td>\n",
       "    </tr>\n",
       "    <tr>\n",
       "      <th>2</th>\n",
       "      <td>25 600 км</td>\n",
       "      <td>1.6 MT (106 л.с.)</td>\n",
       "      <td>седан</td>\n",
       "      <td>передний</td>\n",
       "      <td>бензин</td>\n",
       "    </tr>\n",
       "  </tbody>\n",
       "</table>\n",
       "</div>"
      ],
      "text/plain": [
       "            0                    1       2          3        4\n",
       "0  100 181 км   1.8 CVT (140 л.с.)   седан   передний   бензин\n",
       "1  213 000 км    1.6 MT (105 л.с.)   седан   передний   бензин\n",
       "2   25 600 км    1.6 MT (106 л.с.)   седан   передний   бензин"
      ]
     },
     "execution_count": 49,
     "metadata": {},
     "output_type": "execute_result"
    }
   ],
   "source": [
    "# Сначала мы разделим данные с помощью expand=True и посмотрим количество  созданных столбцов.\n",
    "df['car_details'].str.split(',', expand=True).head(3)"
   ]
  },
  {
   "cell_type": "code",
   "execution_count": null,
   "metadata": {},
   "outputs": [
    {
     "data": {
      "text/html": [
       "<div>\n",
       "<style scoped>\n",
       "    .dataframe tbody tr th:only-of-type {\n",
       "        vertical-align: middle;\n",
       "    }\n",
       "\n",
       "    .dataframe tbody tr th {\n",
       "        vertical-align: top;\n",
       "    }\n",
       "\n",
       "    .dataframe thead th {\n",
       "        text-align: right;\n",
       "    }\n",
       "</style>\n",
       "<table border=\"1\" class=\"dataframe\">\n",
       "  <thead>\n",
       "    <tr style=\"text-align: right;\">\n",
       "      <th></th>\n",
       "      <th>car_brand</th>\n",
       "      <th>car_price</th>\n",
       "      <th>car_location</th>\n",
       "      <th>car_details</th>\n",
       "      <th>today</th>\n",
       "      <th>model</th>\n",
       "      <th>year</th>\n",
       "      <th>price</th>\n",
       "    </tr>\n",
       "  </thead>\n",
       "  <tbody>\n",
       "    <tr>\n",
       "      <th>2201</th>\n",
       "      <td>ВАЗ (LADA) Vesta, 2016</td>\n",
       "      <td>590 000 ₽</td>\n",
       "      <td>Чувашская Республика, г.о. Чебоксары</td>\n",
       "      <td>127 000 км, 1.6 MT (106 л.с.), седан, передний...</td>\n",
       "      <td>2021-11-23</td>\n",
       "      <td>ВАЗ (LADA) Vesta</td>\n",
       "      <td>2016</td>\n",
       "      <td>590 000</td>\n",
       "    </tr>\n",
       "    <tr>\n",
       "      <th>802</th>\n",
       "      <td>Mercedes-Benz B-класс, 2014</td>\n",
       "      <td>999 000 ₽</td>\n",
       "      <td>Москва</td>\n",
       "      <td>140 000 км, 1.6 AMT (150 л.с.), хетчбэк, перед...</td>\n",
       "      <td>2021-11-23</td>\n",
       "      <td>Mercedes-Benz B-класс</td>\n",
       "      <td>2014</td>\n",
       "      <td>999 000</td>\n",
       "    </tr>\n",
       "    <tr>\n",
       "      <th>410</th>\n",
       "      <td>ВАЗ (LADA) Granta, 2017</td>\n",
       "      <td>475 000 ₽</td>\n",
       "      <td>Ростовская область, Новочеркасск</td>\n",
       "      <td>130 000 км, 1.6 MT (106 л.с.), седан, передний...</td>\n",
       "      <td>2021-11-23</td>\n",
       "      <td>ВАЗ (LADA) Granta</td>\n",
       "      <td>2017</td>\n",
       "      <td>475 000</td>\n",
       "    </tr>\n",
       "    <tr>\n",
       "      <th>5141</th>\n",
       "      <td>Lexus RX, 2001</td>\n",
       "      <td>550 000 ₽</td>\n",
       "      <td>Пензенская область, Каменский р-н, Каменка</td>\n",
       "      <td>370 000 км, 3.0 AT (201 л.с.), внедорожник, по...</td>\n",
       "      <td>2021-11-23</td>\n",
       "      <td>Lexus RX</td>\n",
       "      <td>2001</td>\n",
       "      <td>550 000</td>\n",
       "    </tr>\n",
       "    <tr>\n",
       "      <th>5279</th>\n",
       "      <td>Suzuki SX4, 2007</td>\n",
       "      <td>455 000 ₽</td>\n",
       "      <td>Москва</td>\n",
       "      <td>174 000 км, 1.6 MT (106 л.с.), седан, передний...</td>\n",
       "      <td>2021-11-23</td>\n",
       "      <td>Suzuki SX4</td>\n",
       "      <td>2007</td>\n",
       "      <td>455 000</td>\n",
       "    </tr>\n",
       "  </tbody>\n",
       "</table>\n",
       "</div>"
      ],
      "text/plain": [
       "                        car_brand  car_price  \\\n",
       "2201       ВАЗ (LADA) Vesta, 2016  590 000 ₽   \n",
       "802   Mercedes-Benz B-класс, 2014  999 000 ₽   \n",
       "410       ВАЗ (LADA) Granta, 2017  475 000 ₽   \n",
       "5141               Lexus RX, 2001  550 000 ₽   \n",
       "5279             Suzuki SX4, 2007  455 000 ₽   \n",
       "\n",
       "                                    car_location  \\\n",
       "2201        Чувашская Республика, г.о. Чебоксары   \n",
       "802                                       Москва   \n",
       "410             Ростовская область, Новочеркасск   \n",
       "5141  Пензенская область, Каменский р-н, Каменка   \n",
       "5279                                      Москва   \n",
       "\n",
       "                                            car_details       today  \\\n",
       "2201  127 000 км, 1.6 MT (106 л.с.), седан, передний...  2021-11-23   \n",
       "802   140 000 км, 1.6 AMT (150 л.с.), хетчбэк, перед...  2021-11-23   \n",
       "410   130 000 км, 1.6 MT (106 л.с.), седан, передний...  2021-11-23   \n",
       "5141  370 000 км, 3.0 AT (201 л.с.), внедорожник, по...  2021-11-23   \n",
       "5279  174 000 км, 1.6 MT (106 л.с.), седан, передний...  2021-11-23   \n",
       "\n",
       "                      model   year     price  \n",
       "2201       ВАЗ (LADA) Vesta   2016  590 000   \n",
       "802   Mercedes-Benz B-класс   2014  999 000   \n",
       "410       ВАЗ (LADA) Granta   2017  475 000   \n",
       "5141               Lexus RX   2001  550 000   \n",
       "5279             Suzuki SX4   2007  455 000   "
      ]
     },
     "execution_count": 50,
     "metadata": {},
     "output_type": "execute_result"
    }
   ],
   "source": [
    "## Обратите внимание, что наш фрейм данных df не меняется после этой операции,\n",
    "##  поскольку здесь нет назначения столбцов.\n",
    "df.sample(n=5)"
   ]
  },
  {
   "cell_type": "code",
   "execution_count": null,
   "metadata": {},
   "outputs": [
    {
     "data": {
      "text/html": [
       "<div>\n",
       "<style scoped>\n",
       "    .dataframe tbody tr th:only-of-type {\n",
       "        vertical-align: middle;\n",
       "    }\n",
       "\n",
       "    .dataframe tbody tr th {\n",
       "        vertical-align: top;\n",
       "    }\n",
       "\n",
       "    .dataframe thead th {\n",
       "        text-align: right;\n",
       "    }\n",
       "</style>\n",
       "<table border=\"1\" class=\"dataframe\">\n",
       "  <thead>\n",
       "    <tr style=\"text-align: right;\">\n",
       "      <th></th>\n",
       "      <th>car_brand</th>\n",
       "      <th>car_price</th>\n",
       "      <th>car_location</th>\n",
       "      <th>car_details</th>\n",
       "      <th>today</th>\n",
       "      <th>model</th>\n",
       "      <th>year</th>\n",
       "      <th>price</th>\n",
       "      <th>mileage</th>\n",
       "      <th>vol_box_hp</th>\n",
       "      <th>body</th>\n",
       "      <th>drive</th>\n",
       "      <th>fuel</th>\n",
       "    </tr>\n",
       "  </thead>\n",
       "  <tbody>\n",
       "    <tr>\n",
       "      <th>0</th>\n",
       "      <td>Mitsubishi Lancer, 2014</td>\n",
       "      <td>650 000 ₽</td>\n",
       "      <td>Москва</td>\n",
       "      <td>100 181 км, 1.8 CVT (140 л.с.), седан, передни...</td>\n",
       "      <td>2021-11-23</td>\n",
       "      <td>Mitsubishi Lancer</td>\n",
       "      <td>2014</td>\n",
       "      <td>650 000</td>\n",
       "      <td>100 181 км</td>\n",
       "      <td>1.8 CVT (140 л.с.)</td>\n",
       "      <td>седан</td>\n",
       "      <td>передний</td>\n",
       "      <td>бензин</td>\n",
       "    </tr>\n",
       "    <tr>\n",
       "      <th>1</th>\n",
       "      <td>Mazda 3, 2008</td>\n",
       "      <td>490 000 ₽</td>\n",
       "      <td>Свердловская область, Екатеринбург</td>\n",
       "      <td>213 000 км, 1.6 MT (105 л.с.), седан, передний...</td>\n",
       "      <td>2021-11-23</td>\n",
       "      <td>Mazda 3</td>\n",
       "      <td>2008</td>\n",
       "      <td>490 000</td>\n",
       "      <td>213 000 км</td>\n",
       "      <td>1.6 MT (105 л.с.)</td>\n",
       "      <td>седан</td>\n",
       "      <td>передний</td>\n",
       "      <td>бензин</td>\n",
       "    </tr>\n",
       "  </tbody>\n",
       "</table>\n",
       "</div>"
      ],
      "text/plain": [
       "                 car_brand  car_price                        car_location  \\\n",
       "0  Mitsubishi Lancer, 2014  650 000 ₽                              Москва   \n",
       "1            Mazda 3, 2008  490 000 ₽  Свердловская область, Екатеринбург   \n",
       "\n",
       "                                         car_details       today  \\\n",
       "0  100 181 км, 1.8 CVT (140 л.с.), седан, передни...  2021-11-23   \n",
       "1  213 000 км, 1.6 MT (105 л.с.), седан, передний...  2021-11-23   \n",
       "\n",
       "               model   year     price     mileage           vol_box_hp  \\\n",
       "0  Mitsubishi Lancer   2014  650 000   100 181 км   1.8 CVT (140 л.с.)   \n",
       "1            Mazda 3   2008  490 000   213 000 км    1.6 MT (105 л.с.)   \n",
       "\n",
       "     body      drive     fuel  \n",
       "0   седан   передний   бензин  \n",
       "1   седан   передний   бензин  "
      ]
     },
     "execution_count": 51,
     "metadata": {},
     "output_type": "execute_result"
    }
   ],
   "source": [
    "df[['mileage', 'vol_box_hp', 'body', 'drive', 'fuel']] = df['car_details'].str.split(',', expand=True)\n",
    "df.head(2)"
   ]
  },
  {
   "cell_type": "code",
   "execution_count": null,
   "metadata": {},
   "outputs": [
    {
     "data": {
      "text/plain": [
       "Index(['car_brand', 'car_price', 'car_location', 'car_details', 'today',\n",
       "       'model', 'year', 'price', 'mileage', 'vol_box_hp', 'body', 'drive',\n",
       "       'fuel'],\n",
       "      dtype='object')"
      ]
     },
     "execution_count": 52,
     "metadata": {},
     "output_type": "execute_result"
    }
   ],
   "source": [
    "df.columns"
   ]
  },
  {
   "cell_type": "code",
   "execution_count": null,
   "metadata": {},
   "outputs": [
    {
     "data": {
      "text/plain": [
       "409       1.8 MT (152 л.с.)\n",
       "106      2.4 CVT (170 л.с.)\n",
       "2665      4.2 AT (416 л.с.)\n",
       "6          1.7 MT (83 л.с.)\n",
       "5270      1.6 AT (110 л.с.)\n",
       "3306     1.5 CVT (103 л.с.)\n",
       "1877     1.5 AMT (147 л.с.)\n",
       "5618      2.0 AT (203 л.с.)\n",
       "5210      1.6 AT (110 л.с.)\n",
       "3242      2.8 MT (120 л.с.)\n",
       "Name: vol_box_hp, dtype: object"
      ]
     },
     "execution_count": 53,
     "metadata": {},
     "output_type": "execute_result"
    }
   ],
   "source": [
    "## В нашей колонке «vol_box_hp» содержится информация об объеме двигателя, \n",
    "## коробке передач и мощности. Нам нужно разделить их на разные столбцы.\n",
    "df.vol_box_hp.sample(n=10)"
   ]
  },
  {
   "cell_type": "code",
   "execution_count": null,
   "metadata": {},
   "outputs": [],
   "source": [
    "## Этот разделитель эффективно разбивает строку там, где она встречает пробел, за которым следует открывающая скобка.\n",
    "df[['vol_box', 'hp']] = df['vol_box_hp'].str.split(' \\(', expand=True)\n",
    "\n",
    "## Убираем закрывающую скобку из столбца «лошадиные силы»\n",
    "## Метод rstrip() в Python используется для удаления символов из конца (правой части) строки.\n",
    "df['hp'] = df['hp'].str.rstrip(')')"
   ]
  },
  {
   "cell_type": "code",
   "execution_count": null,
   "metadata": {},
   "outputs": [
    {
     "data": {
      "text/plain": [
       "3144     3.1 CVT\n",
       "2587      1.5 MT\n",
       "3896      1.6 MT\n",
       "822       1.6 MT\n",
       "4127      1.6 MT\n",
       "Name: vol_box, dtype: object"
      ]
     },
     "execution_count": 55,
     "metadata": {},
     "output_type": "execute_result"
    }
   ],
   "source": [
    "df.vol_box.sample(n = 5)"
   ]
  },
  {
   "cell_type": "code",
   "execution_count": null,
   "metadata": {},
   "outputs": [
    {
     "data": {
      "text/plain": [
       "3898    120 л.с.\n",
       "3754    106 л.с.\n",
       "5532     87 л.с.\n",
       "2631    123 л.с.\n",
       "2667    115 л.с.\n",
       "Name: hp, dtype: object"
      ]
     },
     "execution_count": 56,
     "metadata": {},
     "output_type": "execute_result"
    }
   ],
   "source": [
    "df.hp.sample(n = 5)"
   ]
  },
  {
   "cell_type": "code",
   "execution_count": null,
   "metadata": {},
   "outputs": [
    {
     "data": {
      "text/plain": [
       "2226    105\n",
       "2395    150\n",
       "1110    125\n",
       "524     140\n",
       "1764    140\n",
       "Name: hp, dtype: object"
      ]
     },
     "execution_count": 57,
     "metadata": {},
     "output_type": "execute_result"
    }
   ],
   "source": [
    "## Далее мы удаляем ' л.с.'\n",
    "df['hp'] = df['hp'].str.replace(' л.с.', '')\n",
    "df.hp.sample(n = 5)"
   ]
  },
  {
   "cell_type": "code",
   "execution_count": null,
   "metadata": {},
   "outputs": [
    {
     "data": {
      "text/plain": [
       "5451     2.2 AT\n",
       "2161     2.0 AT\n",
       "1572     1.7 MT\n",
       "3417     1.6 MT\n",
       "3896     1.6 MT\n",
       "Name: vol_box, dtype: object"
      ]
     },
     "execution_count": 58,
     "metadata": {},
     "output_type": "execute_result"
    }
   ],
   "source": [
    "df.vol_box.sample(n = 5)"
   ]
  },
  {
   "cell_type": "code",
   "execution_count": null,
   "metadata": {},
   "outputs": [
    {
     "data": {
      "text/html": [
       "<div>\n",
       "<style scoped>\n",
       "    .dataframe tbody tr th:only-of-type {\n",
       "        vertical-align: middle;\n",
       "    }\n",
       "\n",
       "    .dataframe tbody tr th {\n",
       "        vertical-align: top;\n",
       "    }\n",
       "\n",
       "    .dataframe thead th {\n",
       "        text-align: right;\n",
       "    }\n",
       "</style>\n",
       "<table border=\"1\" class=\"dataframe\">\n",
       "  <thead>\n",
       "    <tr style=\"text-align: right;\">\n",
       "      <th></th>\n",
       "      <th>0</th>\n",
       "      <th>1</th>\n",
       "      <th>2</th>\n",
       "    </tr>\n",
       "  </thead>\n",
       "  <tbody>\n",
       "    <tr>\n",
       "      <th>0</th>\n",
       "      <td></td>\n",
       "      <td>1.8</td>\n",
       "      <td>CVT</td>\n",
       "    </tr>\n",
       "    <tr>\n",
       "      <th>1</th>\n",
       "      <td></td>\n",
       "      <td>1.6</td>\n",
       "      <td>MT</td>\n",
       "    </tr>\n",
       "    <tr>\n",
       "      <th>2</th>\n",
       "      <td></td>\n",
       "      <td>1.6</td>\n",
       "      <td>MT</td>\n",
       "    </tr>\n",
       "    <tr>\n",
       "      <th>3</th>\n",
       "      <td></td>\n",
       "      <td>1.0</td>\n",
       "      <td>CVT</td>\n",
       "    </tr>\n",
       "    <tr>\n",
       "      <th>4</th>\n",
       "      <td></td>\n",
       "      <td>1.6</td>\n",
       "      <td>AT</td>\n",
       "    </tr>\n",
       "  </tbody>\n",
       "</table>\n",
       "</div>"
      ],
      "text/plain": [
       "  0    1    2\n",
       "0    1.8  CVT\n",
       "1    1.6   MT\n",
       "2    1.6   MT\n",
       "3    1.0  CVT\n",
       "4    1.6   AT"
      ]
     },
     "execution_count": 59,
     "metadata": {},
     "output_type": "execute_result"
    }
   ],
   "source": [
    "## Нам также необходимо иметь отдельные столбцы для объема двигателя и коробки передач.\n",
    "\n",
    "## Давайте проделаем уже знакомую операцию str.split(). \n",
    "## И похоже, у нас возникла проблема: вместо ожидаемых двух столбцов получилось 3. \n",
    "## Почему? Давайте изучим проблему\n",
    "df['vol_box'].str.split(' ', expand=True).head(5)\n"
   ]
  },
  {
   "cell_type": "code",
   "execution_count": null,
   "metadata": {},
   "outputs": [
    {
     "data": {
      "text/html": [
       "<div>\n",
       "<style scoped>\n",
       "    .dataframe tbody tr th:only-of-type {\n",
       "        vertical-align: middle;\n",
       "    }\n",
       "\n",
       "    .dataframe tbody tr th {\n",
       "        vertical-align: top;\n",
       "    }\n",
       "\n",
       "    .dataframe thead th {\n",
       "        text-align: right;\n",
       "    }\n",
       "</style>\n",
       "<table border=\"1\" class=\"dataframe\">\n",
       "  <thead>\n",
       "    <tr style=\"text-align: right;\">\n",
       "      <th></th>\n",
       "      <th>0</th>\n",
       "      <th>1</th>\n",
       "      <th>2</th>\n",
       "    </tr>\n",
       "  </thead>\n",
       "  <tbody>\n",
       "    <tr>\n",
       "      <th>0</th>\n",
       "      <td></td>\n",
       "      <td>1.8</td>\n",
       "      <td>CVT</td>\n",
       "    </tr>\n",
       "    <tr>\n",
       "      <th>1</th>\n",
       "      <td></td>\n",
       "      <td>1.6</td>\n",
       "      <td>MT</td>\n",
       "    </tr>\n",
       "    <tr>\n",
       "      <th>2</th>\n",
       "      <td></td>\n",
       "      <td>1.6</td>\n",
       "      <td>MT</td>\n",
       "    </tr>\n",
       "  </tbody>\n",
       "</table>\n",
       "</div>"
      ],
      "text/plain": [
       "  0    1    2\n",
       "0    1.8  CVT\n",
       "1    1.6   MT\n",
       "2    1.6   MT"
      ]
     },
     "execution_count": 60,
     "metadata": {},
     "output_type": "execute_result"
    }
   ],
   "source": [
    "frame = df['vol_box'].str.split(' ', expand=True)\n",
    "frame.head(3)"
   ]
  },
  {
   "cell_type": "code",
   "execution_count": null,
   "metadata": {},
   "outputs": [
    {
     "data": {
      "text/plain": [
       "412     \n",
       "4425    \n",
       "4833    \n",
       "21      \n",
       "2450    \n",
       "2163    \n",
       "1173    \n",
       "1832    \n",
       "407     \n",
       "3424    \n",
       "Name: 0, dtype: object"
      ]
     },
     "execution_count": 61,
     "metadata": {},
     "output_type": "execute_result"
    }
   ],
   "source": [
    "## быстрый осмотр показывает, что ничего нет. Но почему str.split() создал 3 столбца? \n",
    "## Он не может создать столбец без данных\n",
    "frame.iloc[:, 0].sample (n=10)"
   ]
  },
  {
   "cell_type": "code",
   "execution_count": null,
   "metadata": {},
   "outputs": [
    {
     "data": {
      "text/plain": [
       "array([''], dtype=object)"
      ]
     },
     "execution_count": 62,
     "metadata": {},
     "output_type": "execute_result"
    }
   ],
   "source": [
    "## Похоже, что наша функция Split() использовала пустое пространство как еще один символ \n",
    "## и создала столбец, основанный только на «пустом» пространстве.\n",
    "\n",
    "frame.iloc[:, 0].unique()"
   ]
  },
  {
   "cell_type": "code",
   "execution_count": null,
   "metadata": {},
   "outputs": [
    {
     "data": {
      "text/plain": [
       "array(['CVT', 'MT', 'AT', 'AMT', None], dtype=object)"
      ]
     },
     "execution_count": 63,
     "metadata": {},
     "output_type": "execute_result"
    }
   ],
   "source": [
    "frame.iloc[:, 2].unique()"
   ]
  },
  {
   "cell_type": "code",
   "execution_count": null,
   "metadata": {},
   "outputs": [],
   "source": [
    "df[['delete_later', 'vol', 'box']] =  df['vol_box'].str.split(' ', expand=True)"
   ]
  },
  {
   "cell_type": "code",
   "execution_count": null,
   "metadata": {},
   "outputs": [
    {
     "data": {
      "text/plain": [
       "Index(['car_brand', 'car_price', 'car_location', 'car_details', 'today',\n",
       "       'model', 'year', 'price', 'mileage', 'vol_box_hp', 'body', 'drive',\n",
       "       'fuel', 'vol_box', 'hp', 'delete_later', 'vol', 'box'],\n",
       "      dtype='object')"
      ]
     },
     "execution_count": 65,
     "metadata": {},
     "output_type": "execute_result"
    }
   ],
   "source": [
    "df.columns"
   ]
  },
  {
   "cell_type": "code",
   "execution_count": null,
   "metadata": {},
   "outputs": [
    {
     "data": {
      "text/plain": [
       "2979     AT\n",
       "5428     MT\n",
       "4594     MT\n",
       "5350     MT\n",
       "2261    AMT\n",
       "4473     MT\n",
       "2551     MT\n",
       "4252     MT\n",
       "4450     MT\n",
       "4072     MT\n",
       "Name: box, dtype: object"
      ]
     },
     "execution_count": 66,
     "metadata": {},
     "output_type": "execute_result"
    }
   ],
   "source": [
    "df.box.sample(n=10)"
   ]
  },
  {
   "cell_type": "code",
   "execution_count": null,
   "metadata": {},
   "outputs": [
    {
     "data": {
      "text/plain": [
       "1563    1.6\n",
       "4993    2.0\n",
       "3470    1.6\n",
       "3643    2.5\n",
       "2395    2.0\n",
       "3317    2.0\n",
       "2927    2.9\n",
       "3361    1.6\n",
       "4529    1.4\n",
       "5237    1.2\n",
       "Name: vol, dtype: object"
      ]
     },
     "execution_count": 67,
     "metadata": {},
     "output_type": "execute_result"
    }
   ],
   "source": [
    "df.vol.sample(n=10)"
   ]
  },
  {
   "cell_type": "code",
   "execution_count": null,
   "metadata": {},
   "outputs": [
    {
     "data": {
      "text/plain": [
       "2385    141 000 км\n",
       "3437    105 000 км\n",
       "4154    114 000 км\n",
       "1196    170 000 км\n",
       "833      67 473 км\n",
       "Name: mileage, dtype: object"
      ]
     },
     "execution_count": 68,
     "metadata": {},
     "output_type": "execute_result"
    }
   ],
   "source": [
    "df.mileage.sample(n=5)"
   ]
  },
  {
   "cell_type": "code",
   "execution_count": null,
   "metadata": {},
   "outputs": [],
   "source": [
    "## В столбце mileage указан символ км, который будет препятствовать статистическим операциям. \n",
    "## давайте создадим новый столбец, без км\n",
    "df['total_km'] = df['mileage'].str.replace(' км', '')"
   ]
  },
  {
   "cell_type": "code",
   "execution_count": null,
   "metadata": {},
   "outputs": [
    {
     "data": {
      "text/plain": [
       "1959    112 500\n",
       "1297    117 000\n",
       "5580     85 000\n",
       "1721          1\n",
       "5245    171 200\n",
       "841     124 500\n",
       "2842    194 500\n",
       "610     122 000\n",
       "132     149 548\n",
       "4068    200 000\n",
       "Name: total_km, dtype: object"
      ]
     },
     "execution_count": 70,
     "metadata": {},
     "output_type": "execute_result"
    }
   ],
   "source": [
    "df.total_km.sample(n=10)"
   ]
  },
  {
   "cell_type": "code",
   "execution_count": null,
   "metadata": {},
   "outputs": [
    {
     "data": {
      "text/plain": [
       "5217    160 354\n",
       "2498    190 000\n",
       "5415    146 000\n",
       "903     112 800\n",
       "2523    245 000\n",
       "2114     88 848\n",
       "582     193 000\n",
       "237     166 528\n",
       "5302    169 537\n",
       "2796    217 000\n",
       "Name: total_km, dtype: object"
      ]
     },
     "execution_count": 71,
     "metadata": {},
     "output_type": "execute_result"
    }
   ],
   "source": [
    "df.total_km.sample (n=10)"
   ]
  },
  {
   "cell_type": "code",
   "execution_count": null,
   "metadata": {},
   "outputs": [],
   "source": [
    "location =df['car_location'].str.split(',',  expand=True)"
   ]
  },
  {
   "cell_type": "code",
   "execution_count": null,
   "metadata": {},
   "outputs": [
    {
     "data": {
      "text/plain": [
       "array([None,\n",
       "       ' садоводческое некоммерческое товарищество Толстопальцево-4'],\n",
       "      dtype=object)"
      ]
     },
     "execution_count": 73,
     "metadata": {},
     "output_type": "execute_result"
    }
   ],
   "source": [
    "location.iloc[:, 4].unique()"
   ]
  },
  {
   "cell_type": "code",
   "execution_count": null,
   "metadata": {},
   "outputs": [],
   "source": [
    "df['location'] = df['car_location'].str.split(',',  expand=True)[0]"
   ]
  },
  {
   "cell_type": "code",
   "execution_count": null,
   "metadata": {},
   "outputs": [],
   "source": []
  },
  {
   "cell_type": "markdown",
   "metadata": {},
   "source": [
    "### 1.5 Типы данных: Преобразование \n",
    "### isnull, sum, dtypes, astype, map, lambda"
   ]
  },
  {
   "cell_type": "code",
   "execution_count": null,
   "metadata": {},
   "outputs": [
    {
     "data": {
      "text/html": [
       "<div>\n",
       "<style scoped>\n",
       "    .dataframe tbody tr th:only-of-type {\n",
       "        vertical-align: middle;\n",
       "    }\n",
       "\n",
       "    .dataframe tbody tr th {\n",
       "        vertical-align: top;\n",
       "    }\n",
       "\n",
       "    .dataframe thead th {\n",
       "        text-align: right;\n",
       "    }\n",
       "</style>\n",
       "<table border=\"1\" class=\"dataframe\">\n",
       "  <thead>\n",
       "    <tr style=\"text-align: right;\">\n",
       "      <th></th>\n",
       "      <th>car_brand</th>\n",
       "      <th>car_price</th>\n",
       "      <th>car_location</th>\n",
       "      <th>car_details</th>\n",
       "      <th>today</th>\n",
       "      <th>model</th>\n",
       "      <th>year</th>\n",
       "      <th>price</th>\n",
       "      <th>mileage</th>\n",
       "      <th>vol_box_hp</th>\n",
       "      <th>body</th>\n",
       "      <th>drive</th>\n",
       "      <th>fuel</th>\n",
       "      <th>vol_box</th>\n",
       "      <th>hp</th>\n",
       "      <th>delete_later</th>\n",
       "      <th>vol</th>\n",
       "      <th>box</th>\n",
       "      <th>total_km</th>\n",
       "      <th>location</th>\n",
       "    </tr>\n",
       "  </thead>\n",
       "  <tbody>\n",
       "    <tr>\n",
       "      <th>0</th>\n",
       "      <td>Mitsubishi Lancer, 2014</td>\n",
       "      <td>650 000 ₽</td>\n",
       "      <td>Москва</td>\n",
       "      <td>100 181 км, 1.8 CVT (140 л.с.), седан, передни...</td>\n",
       "      <td>2021-11-23</td>\n",
       "      <td>Mitsubishi Lancer</td>\n",
       "      <td>2014</td>\n",
       "      <td>650 000</td>\n",
       "      <td>100 181 км</td>\n",
       "      <td>1.8 CVT (140 л.с.)</td>\n",
       "      <td>седан</td>\n",
       "      <td>передний</td>\n",
       "      <td>бензин</td>\n",
       "      <td>1.8 CVT</td>\n",
       "      <td>140</td>\n",
       "      <td></td>\n",
       "      <td>1.8</td>\n",
       "      <td>CVT</td>\n",
       "      <td>100 181</td>\n",
       "      <td>Москва</td>\n",
       "    </tr>\n",
       "    <tr>\n",
       "      <th>1</th>\n",
       "      <td>Mazda 3, 2008</td>\n",
       "      <td>490 000 ₽</td>\n",
       "      <td>Свердловская область, Екатеринбург</td>\n",
       "      <td>213 000 км, 1.6 MT (105 л.с.), седан, передний...</td>\n",
       "      <td>2021-11-23</td>\n",
       "      <td>Mazda 3</td>\n",
       "      <td>2008</td>\n",
       "      <td>490 000</td>\n",
       "      <td>213 000 км</td>\n",
       "      <td>1.6 MT (105 л.с.)</td>\n",
       "      <td>седан</td>\n",
       "      <td>передний</td>\n",
       "      <td>бензин</td>\n",
       "      <td>1.6 MT</td>\n",
       "      <td>105</td>\n",
       "      <td></td>\n",
       "      <td>1.6</td>\n",
       "      <td>MT</td>\n",
       "      <td>213 000</td>\n",
       "      <td>Свердловская область</td>\n",
       "    </tr>\n",
       "  </tbody>\n",
       "</table>\n",
       "</div>"
      ],
      "text/plain": [
       "                 car_brand  car_price                        car_location  \\\n",
       "0  Mitsubishi Lancer, 2014  650 000 ₽                              Москва   \n",
       "1            Mazda 3, 2008  490 000 ₽  Свердловская область, Екатеринбург   \n",
       "\n",
       "                                         car_details       today  \\\n",
       "0  100 181 км, 1.8 CVT (140 л.с.), седан, передни...  2021-11-23   \n",
       "1  213 000 км, 1.6 MT (105 л.с.), седан, передний...  2021-11-23   \n",
       "\n",
       "               model   year     price     mileage           vol_box_hp  \\\n",
       "0  Mitsubishi Lancer   2014  650 000   100 181 км   1.8 CVT (140 л.с.)   \n",
       "1            Mazda 3   2008  490 000   213 000 км    1.6 MT (105 л.с.)   \n",
       "\n",
       "     body      drive     fuel   vol_box   hp delete_later  vol  box total_km  \\\n",
       "0   седан   передний   бензин   1.8 CVT  140               1.8  CVT  100 181   \n",
       "1   седан   передний   бензин    1.6 MT  105               1.6   MT  213 000   \n",
       "\n",
       "               location  \n",
       "0                Москва  \n",
       "1  Свердловская область  "
      ]
     },
     "execution_count": 75,
     "metadata": {},
     "output_type": "execute_result"
    }
   ],
   "source": [
    "df.head(2)"
   ]
  },
  {
   "cell_type": "code",
   "execution_count": null,
   "metadata": {},
   "outputs": [
    {
     "data": {
      "text/plain": [
       "Index(['car_brand', 'car_price', 'car_location', 'car_details', 'today',\n",
       "       'model', 'year', 'price', 'mileage', 'vol_box_hp', 'body', 'drive',\n",
       "       'fuel', 'vol_box', 'hp', 'delete_later', 'vol', 'box', 'total_km',\n",
       "       'location'],\n",
       "      dtype='object')"
      ]
     },
     "execution_count": 76,
     "metadata": {},
     "output_type": "execute_result"
    }
   ],
   "source": [
    "df.columns"
   ]
  },
  {
   "cell_type": "code",
   "execution_count": null,
   "metadata": {},
   "outputs": [
    {
     "data": {
      "text/html": [
       "<div>\n",
       "<style scoped>\n",
       "    .dataframe tbody tr th:only-of-type {\n",
       "        vertical-align: middle;\n",
       "    }\n",
       "\n",
       "    .dataframe tbody tr th {\n",
       "        vertical-align: top;\n",
       "    }\n",
       "\n",
       "    .dataframe thead th {\n",
       "        text-align: right;\n",
       "    }\n",
       "</style>\n",
       "<table border=\"1\" class=\"dataframe\">\n",
       "  <thead>\n",
       "    <tr style=\"text-align: right;\">\n",
       "      <th></th>\n",
       "      <th>model</th>\n",
       "      <th>year</th>\n",
       "      <th>price</th>\n",
       "      <th>total_km</th>\n",
       "      <th>hp</th>\n",
       "      <th>body</th>\n",
       "      <th>drive</th>\n",
       "      <th>fuel</th>\n",
       "      <th>location</th>\n",
       "    </tr>\n",
       "  </thead>\n",
       "  <tbody>\n",
       "    <tr>\n",
       "      <th>0</th>\n",
       "      <td>Mitsubishi Lancer</td>\n",
       "      <td>2014</td>\n",
       "      <td>650 000</td>\n",
       "      <td>100 181</td>\n",
       "      <td>140</td>\n",
       "      <td>седан</td>\n",
       "      <td>передний</td>\n",
       "      <td>бензин</td>\n",
       "      <td>Москва</td>\n",
       "    </tr>\n",
       "    <tr>\n",
       "      <th>1</th>\n",
       "      <td>Mazda 3</td>\n",
       "      <td>2008</td>\n",
       "      <td>490 000</td>\n",
       "      <td>213 000</td>\n",
       "      <td>105</td>\n",
       "      <td>седан</td>\n",
       "      <td>передний</td>\n",
       "      <td>бензин</td>\n",
       "      <td>Свердловская область</td>\n",
       "    </tr>\n",
       "    <tr>\n",
       "      <th>2</th>\n",
       "      <td>ВАЗ (LADA) Granta</td>\n",
       "      <td>2020</td>\n",
       "      <td>742 000</td>\n",
       "      <td>25 600</td>\n",
       "      <td>106</td>\n",
       "      <td>седан</td>\n",
       "      <td>передний</td>\n",
       "      <td>бензин</td>\n",
       "      <td>Свердловская область</td>\n",
       "    </tr>\n",
       "  </tbody>\n",
       "</table>\n",
       "</div>"
      ],
      "text/plain": [
       "               model   year     price total_km   hp    body      drive  \\\n",
       "0  Mitsubishi Lancer   2014  650 000   100 181  140   седан   передний   \n",
       "1            Mazda 3   2008  490 000   213 000  105   седан   передний   \n",
       "2  ВАЗ (LADA) Granta   2020  742 000    25 600  106   седан   передний   \n",
       "\n",
       "      fuel              location  \n",
       "0   бензин                Москва  \n",
       "1   бензин  Свердловская область  \n",
       "2   бензин  Свердловская область  "
      ]
     },
     "execution_count": 77,
     "metadata": {},
     "output_type": "execute_result"
    }
   ],
   "source": [
    "df[['model','year', 'price','total_km', 'hp', 'body', 'drive', 'fuel', 'location' ]].head(3)"
   ]
  },
  {
   "cell_type": "code",
   "execution_count": null,
   "metadata": {},
   "outputs": [
    {
     "data": {
      "text/html": [
       "<div>\n",
       "<style scoped>\n",
       "    .dataframe tbody tr th:only-of-type {\n",
       "        vertical-align: middle;\n",
       "    }\n",
       "\n",
       "    .dataframe tbody tr th {\n",
       "        vertical-align: top;\n",
       "    }\n",
       "\n",
       "    .dataframe thead th {\n",
       "        text-align: right;\n",
       "    }\n",
       "</style>\n",
       "<table border=\"1\" class=\"dataframe\">\n",
       "  <thead>\n",
       "    <tr style=\"text-align: right;\">\n",
       "      <th></th>\n",
       "      <th>car_brand</th>\n",
       "      <th>car_price</th>\n",
       "      <th>car_location</th>\n",
       "      <th>car_details</th>\n",
       "      <th>today</th>\n",
       "      <th>model</th>\n",
       "      <th>year</th>\n",
       "      <th>price</th>\n",
       "      <th>mileage</th>\n",
       "      <th>vol_box_hp</th>\n",
       "      <th>body</th>\n",
       "      <th>drive</th>\n",
       "      <th>fuel</th>\n",
       "      <th>vol_box</th>\n",
       "      <th>hp</th>\n",
       "      <th>delete_later</th>\n",
       "      <th>vol</th>\n",
       "      <th>box</th>\n",
       "      <th>total_km</th>\n",
       "      <th>location</th>\n",
       "    </tr>\n",
       "  </thead>\n",
       "  <tbody>\n",
       "    <tr>\n",
       "      <th>0</th>\n",
       "      <td>Mitsubishi Lancer, 2014</td>\n",
       "      <td>650 000 ₽</td>\n",
       "      <td>Москва</td>\n",
       "      <td>100 181 км, 1.8 CVT (140 л.с.), седан, передни...</td>\n",
       "      <td>2021-11-23</td>\n",
       "      <td>Mitsubishi Lancer</td>\n",
       "      <td>2014</td>\n",
       "      <td>650 000</td>\n",
       "      <td>100 181 км</td>\n",
       "      <td>1.8 CVT (140 л.с.)</td>\n",
       "      <td>седан</td>\n",
       "      <td>передний</td>\n",
       "      <td>бензин</td>\n",
       "      <td>1.8 CVT</td>\n",
       "      <td>140</td>\n",
       "      <td></td>\n",
       "      <td>1.8</td>\n",
       "      <td>CVT</td>\n",
       "      <td>100 181</td>\n",
       "      <td>Москва</td>\n",
       "    </tr>\n",
       "    <tr>\n",
       "      <th>1</th>\n",
       "      <td>Mazda 3, 2008</td>\n",
       "      <td>490 000 ₽</td>\n",
       "      <td>Свердловская область, Екатеринбург</td>\n",
       "      <td>213 000 км, 1.6 MT (105 л.с.), седан, передний...</td>\n",
       "      <td>2021-11-23</td>\n",
       "      <td>Mazda 3</td>\n",
       "      <td>2008</td>\n",
       "      <td>490 000</td>\n",
       "      <td>213 000 км</td>\n",
       "      <td>1.6 MT (105 л.с.)</td>\n",
       "      <td>седан</td>\n",
       "      <td>передний</td>\n",
       "      <td>бензин</td>\n",
       "      <td>1.6 MT</td>\n",
       "      <td>105</td>\n",
       "      <td></td>\n",
       "      <td>1.6</td>\n",
       "      <td>MT</td>\n",
       "      <td>213 000</td>\n",
       "      <td>Свердловская область</td>\n",
       "    </tr>\n",
       "  </tbody>\n",
       "</table>\n",
       "</div>"
      ],
      "text/plain": [
       "                 car_brand  car_price                        car_location  \\\n",
       "0  Mitsubishi Lancer, 2014  650 000 ₽                              Москва   \n",
       "1            Mazda 3, 2008  490 000 ₽  Свердловская область, Екатеринбург   \n",
       "\n",
       "                                         car_details       today  \\\n",
       "0  100 181 км, 1.8 CVT (140 л.с.), седан, передни...  2021-11-23   \n",
       "1  213 000 км, 1.6 MT (105 л.с.), седан, передний...  2021-11-23   \n",
       "\n",
       "               model   year     price     mileage           vol_box_hp  \\\n",
       "0  Mitsubishi Lancer   2014  650 000   100 181 км   1.8 CVT (140 л.с.)   \n",
       "1            Mazda 3   2008  490 000   213 000 км    1.6 MT (105 л.с.)   \n",
       "\n",
       "     body      drive     fuel   vol_box   hp delete_later  vol  box total_km  \\\n",
       "0   седан   передний   бензин   1.8 CVT  140               1.8  CVT  100 181   \n",
       "1   седан   передний   бензин    1.6 MT  105               1.6   MT  213 000   \n",
       "\n",
       "               location  \n",
       "0                Москва  \n",
       "1  Свердловская область  "
      ]
     },
     "execution_count": 78,
     "metadata": {},
     "output_type": "execute_result"
    }
   ],
   "source": [
    "##!! Вопрос. Как вы думаете, что здесь произойдет? \n",
    "## Будет ли у меня короткая или длинная версия со всеми столбцами?\n",
    "df.head(2)"
   ]
  },
  {
   "cell_type": "code",
   "execution_count": null,
   "metadata": {},
   "outputs": [
    {
     "data": {
      "text/html": [
       "<div>\n",
       "<style scoped>\n",
       "    .dataframe tbody tr th:only-of-type {\n",
       "        vertical-align: middle;\n",
       "    }\n",
       "\n",
       "    .dataframe tbody tr th {\n",
       "        vertical-align: top;\n",
       "    }\n",
       "\n",
       "    .dataframe thead th {\n",
       "        text-align: right;\n",
       "    }\n",
       "</style>\n",
       "<table border=\"1\" class=\"dataframe\">\n",
       "  <thead>\n",
       "    <tr style=\"text-align: right;\">\n",
       "      <th></th>\n",
       "      <th>model</th>\n",
       "      <th>year</th>\n",
       "      <th>price</th>\n",
       "      <th>total_km</th>\n",
       "      <th>hp</th>\n",
       "      <th>body</th>\n",
       "      <th>drive</th>\n",
       "      <th>fuel</th>\n",
       "      <th>location</th>\n",
       "    </tr>\n",
       "  </thead>\n",
       "  <tbody>\n",
       "    <tr>\n",
       "      <th>0</th>\n",
       "      <td>Mitsubishi Lancer</td>\n",
       "      <td>2014</td>\n",
       "      <td>650 000</td>\n",
       "      <td>100 181</td>\n",
       "      <td>140</td>\n",
       "      <td>седан</td>\n",
       "      <td>передний</td>\n",
       "      <td>бензин</td>\n",
       "      <td>Москва</td>\n",
       "    </tr>\n",
       "    <tr>\n",
       "      <th>1</th>\n",
       "      <td>Mazda 3</td>\n",
       "      <td>2008</td>\n",
       "      <td>490 000</td>\n",
       "      <td>213 000</td>\n",
       "      <td>105</td>\n",
       "      <td>седан</td>\n",
       "      <td>передний</td>\n",
       "      <td>бензин</td>\n",
       "      <td>Свердловская область</td>\n",
       "    </tr>\n",
       "  </tbody>\n",
       "</table>\n",
       "</div>"
      ],
      "text/plain": [
       "               model   year     price total_km   hp    body      drive  \\\n",
       "0  Mitsubishi Lancer   2014  650 000   100 181  140   седан   передний   \n",
       "1            Mazda 3   2008  490 000   213 000  105   седан   передний   \n",
       "\n",
       "      fuel              location  \n",
       "0   бензин                Москва  \n",
       "1   бензин  Свердловская область  "
      ]
     },
     "execution_count": 79,
     "metadata": {},
     "output_type": "execute_result"
    }
   ],
   "source": [
    "df_final = df[['model','year', 'price','total_km', 'hp', 'body', 'drive', 'fuel', 'location' ]]\n",
    "df_final.head(2)"
   ]
  },
  {
   "cell_type": "code",
   "execution_count": null,
   "metadata": {},
   "outputs": [
    {
     "data": {
      "text/plain": [
       "((5656, 20), (5656, 9))"
      ]
     },
     "execution_count": 80,
     "metadata": {},
     "output_type": "execute_result"
    }
   ],
   "source": [
    "## Здесь мы проверяем, что не потеряли ни одной строки.\n",
    "df.shape, df_final.shape"
   ]
  },
  {
   "cell_type": "code",
   "execution_count": null,
   "metadata": {},
   "outputs": [
    {
     "name": "stdout",
     "output_type": "stream",
     "text": [
      "<class 'pandas.core.frame.DataFrame'>\n",
      "RangeIndex: 5656 entries, 0 to 5655\n",
      "Data columns (total 9 columns):\n",
      " #   Column    Non-Null Count  Dtype \n",
      "---  ------    --------------  ----- \n",
      " 0   model     5656 non-null   object\n",
      " 1   year      5656 non-null   object\n",
      " 2   price     5656 non-null   object\n",
      " 3   total_km  5656 non-null   object\n",
      " 4   hp        5656 non-null   object\n",
      " 5   body      5656 non-null   object\n",
      " 6   drive     5656 non-null   object\n",
      " 7   fuel      5656 non-null   object\n",
      " 8   location  5656 non-null   object\n",
      "dtypes: object(9)\n",
      "memory usage: 397.8+ KB\n"
     ]
    }
   ],
   "source": [
    "df_final.info ()"
   ]
  },
  {
   "cell_type": "code",
   "execution_count": null,
   "metadata": {},
   "outputs": [
    {
     "data": {
      "text/plain": [
       "model       0\n",
       "year        0\n",
       "price       0\n",
       "total_km    0\n",
       "hp          0\n",
       "body        0\n",
       "drive       0\n",
       "fuel        0\n",
       "location    0\n",
       "dtype: int64"
      ]
     },
     "execution_count": 82,
     "metadata": {},
     "output_type": "execute_result"
    }
   ],
   "source": [
    "## Давайте убедимся, что у нас действительно нет нулевых значений.\n",
    "## Это почти идеальный случай. Обычно у вас будет нулевое значение в ваших данных, \n",
    "## особенно когда они не обработаны. Здесь у нас нет нулевых значений, \n",
    "## Потому что наше программное обеспечение для автоматического сбора данных \n",
    "## игнорировало нулевые или пустые строки.\n",
    "\n",
    "df_final.isnull().sum()"
   ]
  },
  {
   "cell_type": "code",
   "execution_count": null,
   "metadata": {},
   "outputs": [
    {
     "data": {
      "text/plain": [
       "model       object\n",
       "year        object\n",
       "price       object\n",
       "total_km    object\n",
       "hp          object\n",
       "body        object\n",
       "drive       object\n",
       "fuel        object\n",
       "location    object\n",
       "dtype: object"
      ]
     },
     "execution_count": 83,
     "metadata": {},
     "output_type": "execute_result"
    }
   ],
   "source": [
    "df_final.dtypes"
   ]
  },
  {
   "cell_type": "code",
   "execution_count": null,
   "metadata": {},
   "outputs": [
    {
     "ename": "TypeError",
     "evalue": "Could not convert string '100 181213 00025 60043 00065 000220 0004 846100 000179 000220 398120 000121 000194 00041 000151 500175 000190 000187 000185 084204 00024 000257 000145 000380 000172 00030 000157 500182 00074 000117 000150 000177 30041 00053 121150 046143 315350 000120 000420 00043 00039 000226 100130 200165 00011 000176 00085 70042 000154 700153 300149 334192 10013 000175 000136 000330 000100 18196 457213 00025 60043 000220 00065 00013 000100 000179 000190 000121 000194 000161 000136 800137 000187 000185 0844 846204 00024 000257 000145 000380 000172 000120 00030 000157 500182 000166 00074 000150 000117 000177 30041 00053 121143 315150 046350 000420 000120 00043 00039 000226 100130 200165 00011 000176 00042 00085 700153 300149 334154 700175 000192 10013 00085 700152 000192 10013 000136 000188 000330 00084 000200 00028 00031 000195 00085 000123 000104 99058 000240 000180 00030 000177 111149 548250 00065 241183 500102 000135 000106 000160 000128 30094 00040 000175 000174 66444 00099 00085 15856 000125 000113 800190 000218 000127 000270 00041 000111 100125 923192 50047 000122 20379 00071 00076 000421 000160 000132 000179 000179 000108 000132 000190 00052 919150 00062 000103 000141 00053 000210 000190 000239 872100 000104 000146 00080 000138 387194 000125 000289 00067 000109 000217 000214 80041 00066 959257 60092 000148 0003 00092 645129 326106 575251 00093 620100 00065 416186 600300 000400 000109 55085 0005 980143 000184 92611 126150 000165 000121 04481 000315 000146 0008 000182 00098 9238 000182 000320 00098 92347 499285 00038 00045 98273 50034 000225 120206 000130 800166 52885 84965 000161 000391 000183 000153 050179 309286 000230 000159 615122 00013 24442 000137 000168 41560 00070 000165 111160 911214 000189 23753 000179 000152 698537 000126 0001 000132 50081 328135 000300 000203 00067 00023 000146 00052 900102 421128 00063 000225 000103 000665225 00050 00010 300200 000108 000207 30445 00053 000164 00058 000145 000146 000192 000178 00084 000197 000147 00093 000276 000108 00028 3916 30086 792148 000150 00090 200164 00040 00092 000160 000121 908184 261135 00036 000134 88736 000215 000128 000283 000163 800134 000195 000122 00053 000204 00089 00077 000193 456125 000161 000113 000200 20097 257213 80527 300132 00027 300125 00097 257213 805132 000140 00091 40585 000104 990124 14929 000108 000112 000158 000120 646120 000150 000130 000120 000135 000220 000138 000258 000210 000138 000120 000315 00075 00065 000150 000186 000158 000150 000235 538140 000120 000100 00026 77042 000146 000146 22578 00090 00026 84973 5001 200190 00022 500124 000179 50081 279139 43571 352192 00082 494325 00081 279192 000139 43582 494325 000217 220291 300101 000175 00018 126124 14913 200106 800176 000166 52858100 000167 000130 000128 000101 000140 00025 00052 348166 000183 00083 40547 00093 000142 00090 030107 00056 000299 000323 000146 000114 000172 000101 000152 18869 000139 000180 000147 00074 00092 00051 37263 000305 00082 000147 700125 000174 78294 000214 52548 00048 000164 000125 000158 000139 67260 000280 000146 225153 47771 817370 000147 00078 0002148 87787 65580 000110 000211 532142 000190 000315 850188 72087 028170 999115 500145 00088 00065 00094 630268 000112 000135 000218 60084 000110 000140 000132 00050196 00091 800160 00013 000140 000160 000147 85480 041120 000126 00010 249165 000153 000182 000202 010165 00058 000184 000119 00058 00065 000124 000210 00035 981300 000129 000141 00031 7504180 00084 000210 000149 00058 719144 984140 32286 035226 000154 000167 840120 000130 958125 00093 562201 500135 00088 732103 00094 000190 000143 000171 0008 200125 000165 00095 000118 000233 000282 000253 500270 00055188 38830 000159 00019 000197 000112 106150 000178 00037 65083249 149217 000145 700165 568228 000164 000185 32542 000123 800104 990102 17794 00047157 00049 000220 398125 000103 300160 15012 163102 13267 500289 600193 00030 00099 987119 000100 90096 00050 000167 000215 00072 79043 80055 03623 000175 00087 500188 00011 00079 542267 000190 000247 000123 000190 000152 000173 000137 50076 000130 000122 000262 707168 40037 34093 361105 00093 36152101 00033186 231164 40050139 00095 423139 800134 000174 000210 034215 490133 78061 90046 00085 000150 00022 954285 000149 00065 00076 000157 000192 25082 459132 412128 000158 000146 00095 00066 95142 500201 583102 60887 000126 80087 300161 00036129 000173 378138 000192 000135 00062 563132 000144 000150 000163 00096 000150 000159 60069 000358 000113 456358 000280 900153 47767 800140 000126 00053 00088 00045 982108 00080 000112 0009 18771 761270 000126 000129 000136 00097 500125 500161 000189 687115 00017 00079 50022117 00095 423135 000264 480131 000180 00069 000200 000172 000136 000142 908123 300213 00094 865103 00035132 960337 75824 450184 363141 000323 000223 00049 00043 000161 115184 00076 000181 484181 484185 21984 85153 000140 382112 000274 000125 00073 50094 86573 00076 000141 643129 00028 000118 36067 000153 420140 000121 00054 400114 000144 000102 000104 00035144 200144 00088 500233 000180 11933 000137 007195 00053 000208 000110 000129 000117 000121 00058 462211 000190 000179 174220 398148 000264 000136 6006369 00045 00032 49511 634127 000180 324252 000252 000500 000169 00075 134124 50996 00034119 00071 817163 000116 834430 000147 77721109 00071 761155 000215 000140 00096 000117 80914 957215 490160 000198 640189 000139 000168 000137 000110 000147 040119 000166 00091 000199 983186 000110 000115 297157 649150 000128 767250 000157 70225 64082 056162 000100 00057 00092 43367 473125 000161 0008 000231 68922300 000170 000124 500201 000130 000300 000113 665120 000149 31898 00087 655161 00062150 50090 60734 00084 000147 000151 500107 000168 000102 500220 000110 000158 28196 000275 000129 00051335 000150 00097 939191 266143 80030 200118 000199 0003696 000185 5005849 00077 000198 000128 000140 000131 000255 000234 000159 000109 000128 000127 673140 00056 000226 00073 73473 734161 000103 000108 124110 00020167 012112 800175 00090 03026169 000155 00068 291170 000120 000243 00017 000160 000134 000197 00014 80092 000139 07468 000170 00082 000143 000154 000222 638123 000115 000153 00038225 000235 39171 761135 000126 0007 500134 000179 00098 000144 000170 000143 0005331230 000156 000135 000133 403168 00048 00075 807180 000123 000227 50040 000180 00056 3477158 749131 000130 000149 33458 023119 00034 00060 000155 500152 188107 000150 000354 00020 000110 765142 061237 000125 000124 000120 000165 000161 226111 00040 225204 000175 000180 000197 000109 000176 352166 528200 00050 000159 000196 130109 000245 000165 00040 00061 92936 000178 000138 000190 00072 000154 300138 519165 00093 250196 560196 560155 300170 37978 000175 000190 000170 000148 000220 398111 021137 250127 000168 00098 000124 000144 00057 27793 000177 000111 000173 00036 00020 00089 46021 690236 898104 000158 00064184 2644 500342 830136 08838 7001105 000104 500154 85962 00078 000125 100177 000150 000161 00019 98997 000195 000120 00088 911134 000145 60023 000128 000227 353157 000145 100135 000130 00090 607137 000176 00060 7159 187164 00034 000144 000113 600150 26542 000220 39885 000129 00014 20268119 000260 000201 001127 500139 000158 48680 000117 000198 000200 000215 300135 45791 500216 000149 234125 000149 000168 000210 000205 000134 00022 000242 549189 700128 27418 700254 50049138 00059 900172 046164 000178 000186 00053 000100 000140 000306 000186 000164 000135 000306 000190 000413 000133 000229 02994 000190 00052142 000134 000270 000262 000146 000205 000190 000200 00072 000242 000108 250155 000140 02181 81445 500118 00031 05070 835154 000226 017119 000147 00057 000260 00046 60038 000172 97188 848113 000159 000141 000186 00085 000269 110157 5008 43089 700226 000102 000168 000167 000197 163172 00063 00083 000170 00083 000231 000204 700157 553180 000175 000210 000153 128190 000147 00078 201171 158144 000141 000164 000179 000210 000104 000266 000170 00073 000108 000151 500181 140115 000146 000160 00099 000134 000132 000311 000145 000225 00086 000192 000150 020349 000138 94177 000157 775169 000153 12898 732160 000230 000162 50047 69586 339220 000125 000211 000199 52078 77157 00075 000117 000190 000264 000136 60069 00040 000283 15060 158117 100160 46163130 000127 000128 000197 00091 000179 17462 400140 000270 000111 111169 00045 00034 60011 63449 80058 462138 000250 000252 000180 00075 13466 550430 000500 00093 000139 000265 00096 000147 77769 000180 324187 00060 000124 509218 00023 000155 00034430 000189 000140 000116 83496 00032 495295 000116 834122 090110 000117 80955 89935 092137 000142 000145 000117 000157 00032 495135 00060 000147 000338 369168 000192 008100 000256 000200 00066 000160 00028 928120 800147 040198 64074 000215 000447 000110 000139 000189 000128 76779 000215 490223 000115 297128 498149 800313 500250 000166 000171 000280 000250 00014 957100 00093 000247 000150 000186 000119 000263 14047 400156 000206 000199 983140 000125 00091 000598 52084 00030 000120 000112 000157 70257 000170 000208 100270 000221 000125 000231 689139 000169 464161 000219 0008 00025 640157 649162 000300 00061 62695 00082 05622201 00067 473621142 00099 50046 240142 000126 000124 500120 000170 00077 000135 000102 000250 000161 000130 000108 309117 549120 00073 000184 000176 000134 00031 17224 60031 172140 690147 000156 505113 66566 000174 000137 000191 380100 64060 000102 000203 000155 000143 00062220 00083 00096 382128 687185 000132 131130 00070 852240 000168 000150 50092 433275 000200 000335 000190 00030 200151 500123 000167 325191 000153 000112 00078 00096 000199 00029 882149 976150 000143 800300 00096 000125 000300 000110 00086 000173 00097 93951173 000300 00097 939513 947123 000158 281179 000123 60092 399107 000560 00063 000130 63698 000120 00089 42227 000106 00037 000140 000128 00036185 500129 00077 0009 000102 500106 000114 000118 000265 837159 000106 000155 899234 00058128 000179 00091 00049 000226 000340 000255 0004 193140 000161 000108 124127 67359 00073 73456 000198 00082 185236 000110 000236 000110 00051 170134 00078 000169 00081 000115 000141 000118 000110 000243 000128 000215 000101 052140 00087 80082 000170 000230 000155 000155 00020188 000172 080131 00067 01292 0002668 000350 000109 000191 266160 000420 000143 000212 08065 000138 200103 00017 00059 00065 755135 000303 00092 000165 88717 200227 000275 0003 000180 000222 6387 50084 300142 000227 000275 0003 000180 0007 500142 000222 63860 20083 00094 98584 300155 000225 000137 639164 758125 865728 000126 000139 074123 000250 00014 800153 000158 000300 00038281 000382 000105 000440 000221 000230 000197 000640 040154 000350 000113 000115 00030098 000220 00065 50071 76141 000235 391200 000181 00052 00070 00076 000135 000275 000156 000204 515215 000123 000156 000275 000204 515215 000282 000133 051168 000131 4936178 23076 500179 000149 131157 435115 00085 100185 00053 00053144 000180 0003140 000134 000170 000150 000228 000137 000200 000195 000119 00069 00080 000185 00047 899188 00058 749377 00098 000107 000200 000150 00048 000133 403280 00075 80720 00070 000227 500329 000120 000143 00071180 000147 000165 000120 000227 500165 000143 00071193 000125 00078 809163 678150 500180 000120 000153 33348 700132 00010758 023147 000190 000161 22690 500255 000200 00034 000142 274111 000400 000201 465243 453197 000183 00056 347170 000110 765200 000161 000237 000180 000180 000124 000200 0001200 00010149 000196 13082 000114 000354 000102 00015 000165 0004 15451 000175 000157 40251 000175 000157 402270 00050 00036 000319 000151 500212 000170 000154 300138 00071 500314109 000193 000192 820332 00040 225105 096142 000110 00040 000109 000285 000179 000245 00080 000166 528190 000178 000175 000115 399153 000138 00093 250204 000178 00061 929160 000175 700150 00057 27744 999168 000150 000137 250247 097213 000173 00072 00021 000155 000190 000148 000142 06172 000148 00087 500146 000177 00021 690165 00012 000113 423200 000170 000138 519111 000176 85698 55028 000158 000159 000166 000192 300159 000142 06136 00062 500100 000112 000109 00078 000189 000180 000127 00093 000169 000273 000236 000155 300104 300342 830117 000120 000111 305220 000170 379147 000236 89880 562125 10089 604136 08861 00012 53360 000116 705107 700184 264175 000155 000184 26435 800188 000220 000104 00015 000196 23389 0004 500149 847196 56020 278102 608203 000250 000170 00088 91138 700104 500117 500290 71989 460150 00062 000135 000180 000161 0006478 000129 000132 87996 000482 650154 85997 000142 635219 588105 000195 000157 00076 000300 000145 100186 965178 15527 000177 000145 600166 000134 000150 000161 000137 000135 000135 000158 000128 00071 000220 00014 20268256 000137 000159 000189 000119 000105 00029 960190 000280 000126 000177 000183 000120 000317 00060 000135 000325 000129 00060 715195 00042 00019 989301 000110 00023 000103 500135 457141 000390 000198 00090 607150 26578 000122 00010 759227 353215 300127 500220 500260 000212 000216 000200 00060 000176 35288 00075 000118 120112 500212 000260 000220 500227 353216 00060 000200 000144 20075 000180 00088 00075 000118 120240 0006 170149 907117 000234 500112 50036139 000113 60025 693176 000130 000207 00080 000117 000180 00091 500430 000201 001176 352245 000137 281168 000125 540205 00042 000158 486102 000179 00090 000149 00032 00068 000210 00018 700149 234125 000138 00012 30099 90053 000100 0001 300138 00053 000100 00012 30099 9001 300242 549106 000200 000142 388128 274305 000172 046198 000176 000147 85459 900140 00073 00071 000134 000139 000189 700198 0009 187178 000135 000250 000197 000254 50094 000166 60890 800142 00072 000174 10040 000125 00072 000128 000306 000200 000186 000122 00081 81422 000186 000100 000140 02195 000205 000133 000190 000270 000190 00063 0004964 000180 000147 000260 000300 00066 00055 000189 00047 500207 000154 000193 00040 00091 04973 500101 400413 000152 000186 70071 300169 847242 000228 000108 250134 000131 84196 000103 557280 000119 000113 000133 000277 00081 79252176 000141 000164 00054 48538 00046 60088 84857 000172 00086 199167 00085 000157 500159 00038 318193 00038 778218 00049 300180 000159 00038 778193 00049 30038 318204 700186 00058 66440 00086 580180 000168 000170 00039 500163 000114 751118 00015 000292 000101 000179 000164 055134 00035 000266 000175 000197 16345 500172 97129 72150 16370 835204 000150 000133 000150 00099 000160 00063 00021 605118 129124 00091 99627 10783 00050 378155 00074 00053 00081 000226 017135 000151 500102 000210 000145 000145 000210 000226 017102 00064 000171 158226 00098 00033 05251 00070 00017 100231 00080 60193 700127 000311 000127 00088 678150 02046 027112 00029 000181 489157 553150 000180 000170 000223 000176 00079 965269 110770108 00031 050147 00088 00064 000349 00078 201112 00092 435105 000157 775104 000132 229173 541181 500211 000146 000162 500192 000138 941220 0004 512300 000220 000300 0004 512156 500225 00096 345115 000246 47729 00093 50075 00077 000125 00060 000130 000270 649125 000134 00082 00081 70090 30039 000142 000240 000152 000170 000153 128112 000315 86369 000178 00545 000156 000320 0008 430141 00089 700219 400140 000132 00077 00086 33930 00073 000140 000300 00098 732181 140180 75078 771223 000128 728179 00012 00063 000197 00086 33930 000132 000140 000300 00098 732180 750174 508148 00057 51773 000223 00063 00088 22748 000175 000128 72812 00078 771179 000101 000197 000319 000181 14078 000230 000169 00029 500207 00094 00057 000180 000252 280167 00063 000197 000121 000166 241172 000164 000443 843160 000294 94931 000125 000233 000135 000163 000150 000170101 000140 000189 00034 000130 000200 000130 000200 000157 000160 000102 720140 000162 500215 0004 30045 55116 30071 000518 00018 000173 629150 234220 00086 000142 000120 726480 681199 520102 000189 247123 000155 000194 593470 000118 800173 156145 596117 000230 000141 000250 000114 000223 00076 00055 00039 86937 00070 000207 000248 420234 000150 000240 000369 000109 000188 00071 000260 000193 00070 00055 10484 00038 000118 425152 050330 0008 514279 000135 800176 96935207 00045 982115 000150 00078 582157 00070 000180 229196 028115 000236 00076 000114 00034 000267 00072 00092 000260 000175 68482 000122 304219 000204 500181 34238 000264 000167 00027 347149 000120 00021 65751 00080 996120 753150 000171 00047157 800115 00017 08780 84429 17624 000110 00098 200105 600120 00029 176105 600120 000147 000236 24791 000128 200144 000172 000314 000189 000279 000385 500168 960174 000285 000110 000184 000119 889150 000128 00071 500163 000155 00058 80011 02790 000167 220145 35480 00060 000260 000137 000190 00075 879213 15996 114197 373201 00092 000163 00062 000176 00064 745146 000110 000255 32086 500189 000225 00079 000145 00097 600288 00094 385288 000283 00089 000245 000138 50022 000200 00090 607100 000301 750306 00082 000126 00057 12330 000166 00059 000118 800175 000188 525138 000180 00047 69559 184104 250125 00028 000147 00098 00052 60067 500146 000447 450225 000308 000128 000121 000125 000332 543176 000284 000167 99453 00098 066113 000160 000362 222120 279148 000220 00014 75365 000118 00088 89899 74130 000118 00088 89899 74130 000245 947183 73648 066240 000109 000161 000131 67275 000138 500257 000120 32245 000274 73336 00072 703168 98377 494265 01945 000179 00099 840184 000213 000120 000125 000266 000220 00062 000140 000203 000350 000157 00054 70059 02927 000158 000194 000144 000154 250184 000166 350220 000115 800176 000195 00095 00080 000230 000123 000138 554111 53471 000195 000123 000230 000138 554111 53471 000136 00052 653165 000118 00025 590162 300210 000152 15799 865181 000110 000115 000130 000176 00074 735222 000114 650122 00016 300204 00084 21327 431158 000185 000107 299200 00088 000165 000131 000147 000177 00047 000205 000124 730212 667353 00028 500241 77785 00076 00041 20232 000160 00062 89594 500311 546205 000115 000108 517225 653135 000138 021225 65362 89592 400156 33366 000120 000153 101158 000170 000158 71597 500126 372212 000238 00074 000174 100148 00014 82997 600118 396196 602193 10076 00076 000108 51791 00082 00047 000148 000301 700116 000125 80059 900125 000100 000181 000280 000198 000240 00084 40026 000105 00077 000101 00090 000168 26979 000145 000158 00099 30059 600133 944360 000209 000360 000107 347209 000133 94442 00074 000256 00010 90057 19337 000107 00065 087170 0006143 00017 08738 00033 00051 300110 81690 56162 00072 00095 100104 000120 000120 820121 500260 000147 31182 000221 80069 000133 00085 00095 000161 000118 667180 000126 630195 000118 000243 000185 00085 000137 000150 600162 000146 00065 2129 300128 000217 000110 032222 052377 000130 000211 000230 000290 000162 000110 000175 00070 000232 66859 207117 000250 000333 333152 1885 900126 00078 900339 000116 0004 500135 000159 500499 99994 500250 000133 000103 000141 00031 24042 100105 60082 000123 344140 000127 028370 00097 23680 00060 00025 322131 000121 000194 500205 000155 500125 43727 00088 000164 000100 000200 000185 00074 000180 000249 90069 000140 000370 00097 23680 00060 00025 322121 00011 459224 00090 976194 500125 43727 000232 000185 17563 00088 000100 000131 000205 000200 000185 000155 500164 000180 00074 00069 000202 00061 000249 90016 852170 50084 000110 000137 37441 800542 60065 31144 000185 000120 000143 000211 000124 300201 0007 29751 000160 00089 00010 000189 000151 000145 000178 113120 000280 000120 000235 000120 000145 555130 10067 000117 000160 000158 00080 00050 606119 570386 611210 000143 000398 000193 000180 00095 200183 18825 77048 000277 000102 466139 50099 018133 000134 000203 00068 350165 000115 0008 000180 000183 000157 800138 200265 000110 00044 812137 022150 36819 000107 000220 00018 50067 700140 000168 00074 80054 000151 00045 01786 872228 00072 000116 467140 00051 000139 55141 000169 00085 206233 800160 354101 00078 00026 949175 000115 00098 000139 800112 000117 000167108 390195 000197 50055 000148 369174 990220 00082 798112 00060 00089 264200 000177 338100 300145 000190 000168 200107 000145 000155 000143 00087 200220 160402 000276 00040 000112 000121 00046 00085 849153 00065 000257 000170 00090 879130 348214 597214 59790 879210 000150 000109 000102 487135 433108 000206 000198 000325 000208 154130 348190 000104 000138 240190 000245 71085 000135 00014 000121 00035 487395 000143 00065 000174 79623 051158 00083 00042 0009 300139 000280 00035 111137 54781 220890 00098 00066 000231 412172 326167 200160 000165 000170 000242 000290 000131 000117 000208 857121 754270 00029 000180 000136 000227 876117 000175 000280 000100 000129 000210 548187 000120 90097 15057 43591 000137 00038 994177 184128 00037 000219 000108 33471 01728 000130 500250 000175 658143 000143 00052 000119 000250 000147 882162 363159 00040146 278103 400146 00033 00065 200255 000195 043184 000160 000130 0001152 000107 000184 00039 00037 000135 101347 000174 00050 00099 00087 000144 00048 877190 000160 10093 00091 900170 000150 00057 700283 833195 000139 00042 50090 270256 344162 25891 049142 000240 00068 000190 00056 50253 00089 000203 000244 000206 000149 000111 11198 33237 37958 200123 24733 000165 000115 000170 000158 300165 000237 00037 00057 30080 01465 000113 38359 000160 000131 000285 00082 000123 000163 000186 00070 00052 000127 303200 000131 000123 000163 000186 00082 00070 00052 000205 500158 000154 000162 000127 303200 000128 00066 50077 200168 00096 000233 000225 000220 000223 940124 500184 00032 000257 000171 77398 21198 556195 00096 000172 373247 000141 00018 48045 000136 412101 000239 500106 260209 000145 000178 000146 20083 32346 85642 400184 000132 400148 000115 00125 000161 231147 000132 000158142 006110 000175 00044 530126 259205 000144 300223 486114 884168 773118 00084 000113 00084 81949 00030 915345 00086 00085 000269 000280 00017 8492 46117 00039 00081 15136 00057 00079 000119 000127 000230 000205 90081 00014 00099 50092 000135 000180 000107 50045 000150 000220 000240 00083 300317 955114 00047 000123 000210 000150 70079 1427 500135 000192 715148 00079 142192 71530 000148 00067 870128 000140 000155 00042 000120 00011 85676 426162 00088 490179 57956 295314 000210 000190 500128 000350 000180 000135 000142 000117 598161 000156 532248 000215 00074 00069 000115 000350 00046 000117 000338 000225 00077 00082 234126 000132 24491 00087 000121 27078 000185 000134 000100 000131 000117 000555 555200 000153 949214 732149 000162 382153 949162 382169 000235 000148 00030 000130 000118 61432 000103 300212 000117 695180 200101 000116 000150 00018 000170 000141 00039 936105 495140 000145 000275 000154 000297 0001220 50060 051222 662155 000228 000105 350161 00065 000172 174156 00095 000165 000122 00039 00071 000183 50092 00048 60079 083300 410248 000303 000135 000165 00080 000149 00073 000210 000170 000165 000210 00080 000170 000149 000181 00092 342169 000133 800156 500250 000180 000123 00088 000236 00036 000150 000127 00059 00093 000130 000105 000249 00014 100200 32072 000200 000104 000175 92422 54762 00029130 000199 000189 000124 000153 80095 000270 000156 000200 00073 000138 00077 000136 800160 00070 859104 99080 732112 80051 000300 000229 029119 00079 50060 00060 000229 0291112 800214 00089 00051 00065 15091 722197 00079 500165 714164 00037 000156 02976 000228 00070 000114 000220 705119 74670 500142 000183 00089 600137 00059 000187 000145 000140 000249 00044 000100 000126 000103 000181 000122 000114 00949 00091 400211 30781 710125 00050 83887 89417 400157 00082 99010 021108 85290 000120 696143 000107 229190 00072 03450 838157 00090 000143 00087 89410 021120 696280 000169 000150 234107 229108 852190 000289 000263 019100 00072 034130 000147 000165 00044 000136 874175 00037 200106 50494 000160 000133 97542 00019 615115 00033 55884 000200 000199 000158 948199 000160 00092 00056 000450 000147 000119 000157 000123 0004 00095 000194 000220 00079 00271 000180 00070 50010 660136 000120 000120 000200 000360 00043 000251 000106 000108 46664 500323 14774 00042 210144 000190 00210 000129 000177 00089 45648 00077 000149 000126 000122 000112 00040 000283 262123 000372 000126 000210 000152 25360 00044 800123 000190 000159 0002145142 000106 800150 000319 800176 000180 000148 20390 00055 000145 000121 00086 36935100 000130 000200 00014 000154 700240 000240 000139 312122 000112 0004 82085 00036 00091 130130 51293 00055 109180 000160 00083 0001123 000137 000193 000115 00060 000113 00083 00089 613230 965208 000135 000198 31465 50044 00015 000160 320124 000208 000198 000100 00068 00049 85040 000267 047114 50018 126176 000117 174207 300368 000260 000190 200416 000182 000187 000126 000176 000214 300158 000138 00020 000169 000177 58672 00020 000206 000151 300178 000160 000190 00081 600244 000112 000370 000146 000119 700184 91548 000125 000131 000191 00081 800109 00055 00032 00067 500149 300263 400255 000167 00093 000145 000121 00082 00057 00092 00085 52670 000129 689140 00035 48696 000437 000183 000360 00092 500101 19940 000116 00050 810228 300186 566191 02547 62555 000185 000101 199116 00040 00050 810228 300186 566191 025163 4001 800178 000275 000105 254185 000215 000195 000100 000270 00027 10060 00055 00047 62567 000106 06894 51098 0009 000139 62477 90198 00077 826164 256258 00087 00061 0001237 000130 000130 00095 00040 000134 000105 00015 000114 000270 00019 00552 67086 436165 200124 585184 621473 398122 344195 00024 000155 000473 398122 344195 00024 000155 00060 000103 50071 00053 000114 00035 40086 200233 020176 000126 000155 00036 00037 00042 00075 000178 000230 00040 000143 00041 000108 27197 5009 00043 000235 000265 000146 0216 500224 000102 000117 000791 000135 100123 000146 000437 00020 000136 000161 000241 000164 67826 10095 00067 180131 000150 000218 00042 000181 00085 000215 000215 00069 000181 000106 00098 00042 00097 00056 000219 000192 00085 00030 000184 54398 356174 000136 000129 000140 000140 00022 582209 000102 000227 539142 00088 000129 00037 000104 000154 000134 15850 122367 00080 6773 000141 000129 000231 70017 000122 000132 50099 600398 00095 170449 000183 000201 17925 000165 000154 000167 00057 000255 00042 000100 00095 000153 80095 000129 50084 0001626 000250 000153 80085 260190 002893 825128 530121 000565 000350 000124 00061 00090 000119 000235 000243 000288 00042 000130 000200 000190 000200 000187 000221 460146 000123 9009 8592186 000143 25187 000357 78039 500173 20035 281180 000161 974100 000260 00082 000200 000178 000147 000129 000300 000159 000244 000122 000106 000105 00090 00090 000200 000180 000112 852190 000129 000154 000398 000119 231223 13887 000154 00083 949137 000120 000315 00047 70042 00072 500173 000123 500133 50064 606131 000200 00029 359113 0004177 00032 701106 00051 00079 162148 787139 000136 000137 000154 000420 00062 901268 000121 00025 000198 00035 000152 000204 22954 00020 00029 91881 0004107 000147 000143 00025 000121 000198 00035 000152 000204 22920 000111 47599 000101 10654 000429 918131 98653 444106 60081 000107 000147 000195 000143 00018 000206 133132 50092 000243 217137 00083 000202 000142 000237 0004471 000206 0004200 00035 00050 000325 000186 00075 00055 5854281 00089 00076 000157 0004190 000187 000117 00065 00067 00029 044146 70067 00083 000103 0003565 000117 722158 426154 000256 34496 622150 000146 70014 950195 000153 00076 274112 000118 000109 200198 000172 000124 000170 00087 00090 00051 00071 105134 00018 700111 000181 000100 000125 00067 000130 000103 00046 00077 00057 000136 995146 000156 000186 97433 400110 000140 000182 00086 00048 379181 50099 99933 000149 000126 000190 00097 000126 00040 000185 498221 001122 86664 000115 00060 158133 236109 000114 000149 000345 00062 000345 000120 000126 00045 00045 549123 000168 000239 00013 072111 000240 000168 00061 000152 000204 00071 63230 100168 091194 898173 356190 000147 00044 95824 530190 000294 00062 000153 000140 000138 85036 00054 000133 500207 500374 000107 500245 00060 894155 000263 000396 68517 00060 894252 100185 00068 00077 00072 30799 900121 00072 000400 00057 100320 000271 000129 000127 000136 0001140 00079 00070 00084 000139 000100 703200 000388 00092 000133 000174 000120 000130 000155 000165 000119 883172 76120 000270 000109 000221 000152 11349 000106 50077 84134 000153 977127 00134 00023 55862 20078 35045 000155 087161 935207 00097 000192 12592 125143 0001155 08785 000138 000136 000204 000240 000222 000147 000161 935121 00028 000116 53339 000180 00040 00055 000138 329100 70357 000121 00021 50018 00033 000168 082128 000141 00076 000127 000350 000140 000109 000186 00033 000174 000115 000283 562172 00059 02980 00098 484124 561114 237960 000123 86549 081149 51998 000147 594187 015290 000103 000120 0004120 000187 0154143 000103 000200 000169 000163 000185 000306 000159 0004110 00049 300186 00088 000160 550200 00076 000220 000148 00070 38082 00073 200112 237116 00085 325275 000240 000495 500106 000130 000137 000167 313285 28061 334306 000170 000225 000104 000145 000120 000110 000207 860180 000229 00072 000110 00060 00028 00084 15653 301135 00023 00043 43822 53675 00043 438404 000388 82162 850160 00010 00084 841158 000145 421172 220158 000289 500122 000344 38489 60050 00055 000103 000147 000102 38434 0006 570150 000170 000125 100194 346120 163288 000127 995121 00041 13673 7424 000450 388113 000230 000130 528180 00049 000181 300149 0488 400293 00090 000180 000120 000116 00040 000207 000145 000181 13576 000126 568202 452163 000133 000250 000170 000262 000400 00091 00049 571463268 000215 00056 00072 00083 443150 000142 54793 00061 000140 248328 00020 659188 00071 400230 00023 59981 50091 10033 000107 000118 000230 000232 00088 130150 000210 382146 200111 000123 131370 000201 00032 000150 000149 000150 22251 000560 000243 044254 316130 000156 0004161 818137 000123 000147 829145 00089 000140 00088 000340 323150 000195 000133 000215 00083 00097 00060 22169 000236 200102 705180 051128 833233 000108 500272 000444 444130 00093 000230 000105 00085 800110 000177 182103 00081 000109 00058 000126 000178 96519 00028 00013107 000163 00020 741108 000155 00018 609222 00031 230197 610130 00050 000143 758106 000161 500289 000220 000175 648225 000411 000171 000171 000144 00036 00099 000111 20086 522165 008243 000144 000127 46674 00085 827214 000233 800174 80479 60051 19995 00071 000125 00020 00043 900108 000314 185124 623273 000186 000136 00091 000300 000324 288126 000120 000176 000151 000194 087113 70078 000154 000207 500180 000255 000171 34178 84786 217140 00039 000245 000143 714133 33053 000152 000208 682117 00012 710108 000324 28891 000126 000120 000176 000194 08778 00021 87127 642131 682154 000207 500113 700160 372192 000138 000180 000171 34178 847151 000255 000140 00039 00086 217208 682152 000133 330143 714245 00053 000117 000310 000141 235159 000108 00012 710380 000113 000314 000150 000368 000158 00053 000141 380135 000132 000137 800130 46167 00063 500145 00047 036174 000119 990239 018119 99088 22773 000185 000110 000252 697100 000130 00042 00031175 000199 000194 022146 235225 0003162 000275 000250 000116 900143 000236 000211 000200 000198 00019 000135 000154 492109 00072 000154 713129 000242 69610 000120 009105 000188 000195 00059220 547460 00018 00030253 000146 00013 000300 00071 519227 70093 00021 000233 000202 000106 063103 622140 000141 00079 000131 00083 400390 000191 000140 00025 700140 000102 000103 62288 000220 000134 000124 000122 000261 000223 000106 99939 00014 000114 724157 307164 020350 000445 000190 000104 000165 000170 00082 10063 000280 000156 000235 000295 675235 000150 000100 200336 000260 00027 97048 00073 00048 300151 000261 000136 000268 600184 800295 000115 000110 000125 409261 000167 789110 000167 789218 000200 000125 409180 00016 000177 18476 200119 883103 33339 000103 00046 500159 000170 000164 000117 900167 7964114 00050 000115 693177 100179 000390 00095 000151 00097 00794 60029 000169 00073 6596 750156 000174 301100 59559 00044 60076 232175 000197 00064 000190 000132 000150 000300 000160 00085 000272 000156 000181 000112 300170 00086 68558 12278 00086 685182 000225 000151 500129 00050 00080 99660 536159 000137 915194 01950 00026 05019 863150 00094 000430 00034 000213 000180 000400 000124 908120 000140 00087 00094 00050 00046 000207 787134 00056 00037 000185 00088 000155 17741 000137 000176 888260 000199 750175 000230 00059 854196 00593 5391 00096 000153 00088 490262 000120 00091 000156 00027 00021262 000156 000120 0001 00088 49091 00027 00030 458161 000239 32921227 000178 00089 07458 273134 000160 00067 000139 00073 050194 42065 00057 000295 000243 000134 06186 00073 000170 000190 383200 000138 020155 200300 000117 000199 87677 001305 00063 71389 000271 000128 000104 339104 00070 0002535 555149 000113 31679 14456 907350 00065 00053 000110 000119 800110 000119 800101 000180 0009 893123 000109 000138 000120 000230 07910 000206 90081 759161 500272 000120 000188 500211 754240 511116 000133 69421 000173 608178 000150 000100 000145 000169 110105 30062 84784 000135 000107 466148 0001420 00046 000600 000106 11892 000149 922125 000190 000243 000126 14373 650110 000124 24948 000115 000198 125272 230400 000389 823196 000183 900252 091167 20041 35066 00057 000165 398157 000111 000145 650223 00039 00027 200110 00056 965175 00099 00030 000125 000176 745103 000140 000164 456165 000121 900192 000212 00053 300140 00098 670149 000120 000221 000300 000124 000103 000121 000157 000150 000113 25261 71692 000102 000184 261120 000248 000128 00055 000200 04191 00078 000176 000165 500217 00072 000182 226139 512352 073139 512240 00060 58916 213237 000175 000185 00033 558123 000250 00093 000150 724174 00089 000141 00036 200116 000118 500236 000127 000100 043131 00060 000160 00094 000148 000155 000112 942133 67379 883400 00079 000121 000152 000237 00021 45099 14770 000171 000102 000184 18744 859156 00095 000187 500180 000195 000172 80393 00010 000175 00038 881224 242237 552101 513101 51338 881190 000170 000188 890135 36770 00098 67023 473158 00097 000112 90021249 000120 46056 840518 70091 000223 00025 500152 000142 000148 00095 01063 058130 0005 00034 003283 25421 136304 50087 655154 00060 000147 00089 00082 5007316 10080 625170 000171 0008 80060 000233 637370 000143 00030 000268 635270 000193 838185 532215 790179 00070 000238 00060 000143 00030 000268 635270 000193 838179 00089 4561 27185 00070 000215 790185 53255 00030 00054 000174 000238 00089 000110 000197 00083 00037 773180 00032 175364 54680 000100 715138 000126 000198 00138 200227 980147 50031136 000153 000163 50070 000178 70033 052110 000206 000206 000185 000271 000147 00011105 00060 447146 000242 0001176 000439 000125 000439 0001125 00097 000134 00045 000108 00072 000179 000160 354125 00070 00056 500160 00073 500115 736132 50022140 00091 000225 000148 12198 4626 976115 00046 500137 53472 902190 00036 000217 411140 000118 00092 000167 000141 000131 000171 20045 000306 000199 00077 000250 000149 515190 00075 000187 94751 500123 00062 004145 400170 60087 300162 00075 618268 000268 00075 61867 800143 000456 643131 000106 000167 20093 247192 000158 000405 000180 000165 000115 000174 000163 00066 393195 669242 00041 733104 000238 283262 000490 33996 000121 34769 400154 000209 000154 00045 000230 00063 000180 000123 850168 000152 000169 53794 36467 000128 00090 000141 00027 97871 245190 000359 84258112 893158 000375 920274 71989 134200 000197 00089 13455 000127 00087 00031 657175 000125 632280 000246 20035 612124 000125 38049 540105 000122 000190 00097 000239 00022 000130 000111 98477 300135 00043 000157 100165 000114 000200 000165 600482 000205 000124 00022 000106 000139 300160 617143 00097 00029 000223 968107 000262 000156 943250 000130 67497 00057 12380 000263 233117 000130 92255 69329 500154 000127 000104 000127 000400 00039 500120 00081 000128 000150 00060 00145 10098 0004 261102 000202 284157 000137 931119 40577 521223 003185 000275 000154 373151 00061 000141 21086 888137 000160 000311 000145 000135 5003 600165 00017 700117 933141 500184 000139 000120 000146 00078 00077 000202 00022113 37532 000134 000165 000315 241211 81325 000278 0001186 139370 000268 000186 139268 000370 00065 000223 000189 000300 000178 74057 000124 00071 000157 611216 000106 878169 000135 60042 000118 94628 000126 59959 700332 310151 00084 849100 00089 000112 000315 000125 24153 85292 00023 690139 000147 53194 000286 00078 000138 591111 000100 00089 000335 000351 000173 70097 23885 000134 75049 00097 000114 000175 00091 000223 000190 00011 459186 00091 000175 000223 000190 00011 459186 00011 000270 00089 07418 363153 000150 000124 000138 055185 325129 000132 000132 000110 000128 816117 20876 00079 93928 000150 000337 000133 000124 00056 965245 00093 300206 000116 000103 000147 00063 000198 21731 44560 915119 23178 251134 708259 021100 00017 00040 90097 000114 500268 000162 000169 000131 00062 000235 000199 00046 126235 000118 000298 00042 000121 000180 000150 71140 82663 55079 00068 200185 000179 000206 17333 15262 01026121 000235 697158 000148 00057 72562 000150 00075 00098 000138 668150 000142 323192 000253 741125 000154 46229 773229 0007 73485 000140 073146 000600 00019 345105 36363 000164 000186 000125 96325 000108 000150 000199 06945 00025 951204 000132 00026 455122 000122 000350 000832 287160 164170 00079 000113 000159 500149 90799 000109 01171 00073 92189 00094 70286 451180 00086 451281 700171 121148 50038 845108 00090 00088 762110 211220 00067 000125 00026 00093 00073 000174 000260 000177 000169 00073 208162 000183 60099 000296 00056 100139 000145 500155 000140 000145 000212 30083 00072 00063 000174 000180 000183 50018 230125 000' to numeric",
     "output_type": "error",
     "traceback": [
      "\u001b[0;31m---------------------------------------------------------------------------\u001b[0m",
      "\u001b[0;31mTypeError\u001b[0m                                 Traceback (most recent call last)",
      "Cell \u001b[0;32mIn[84], line 9\u001b[0m\n\u001b[1;32m      1\u001b[0m \u001b[38;5;66;03m## Давайте попробуем одну очень простую операцию со столбцом: возьмем среднее значение по всему столбцу.\u001b[39;00m\n\u001b[1;32m      2\u001b[0m \u001b[38;5;66;03m## Результат будет.  TypeError: Could not convert string\u001b[39;00m\n\u001b[1;32m      3\u001b[0m \n\u001b[0;32m   (...)\u001b[0m\n\u001b[1;32m      6\u001b[0m \u001b[38;5;66;03m## Подсказка находится внутри более длинного сообщения об ошибке Traceback.\u001b[39;00m\n\u001b[1;32m      7\u001b[0m \u001b[38;5;66;03m##  TypeError(f\"Could not convert string '{x}' to numeric\")\u001b[39;00m\n\u001b[0;32m----> 9\u001b[0m \u001b[43mdf_final\u001b[49m\u001b[38;5;241;43m.\u001b[39;49m\u001b[43mtotal_km\u001b[49m\u001b[38;5;241;43m.\u001b[39;49m\u001b[43mmean\u001b[49m\u001b[43m(\u001b[49m\u001b[43m)\u001b[49m\n",
      "File \u001b[0;32m~/.local/lib/python3.10/site-packages/pandas/core/series.py:6529\u001b[0m, in \u001b[0;36mSeries.mean\u001b[0;34m(self, axis, skipna, numeric_only, **kwargs)\u001b[0m\n\u001b[1;32m   6521\u001b[0m \u001b[38;5;129m@doc\u001b[39m(make_doc(\u001b[38;5;124m\"\u001b[39m\u001b[38;5;124mmean\u001b[39m\u001b[38;5;124m\"\u001b[39m, ndim\u001b[38;5;241m=\u001b[39m\u001b[38;5;241m1\u001b[39m))\n\u001b[1;32m   6522\u001b[0m \u001b[38;5;28;01mdef\u001b[39;00m \u001b[38;5;21mmean\u001b[39m(\n\u001b[1;32m   6523\u001b[0m     \u001b[38;5;28mself\u001b[39m,\n\u001b[0;32m   (...)\u001b[0m\n\u001b[1;32m   6527\u001b[0m     \u001b[38;5;241m*\u001b[39m\u001b[38;5;241m*\u001b[39mkwargs,\n\u001b[1;32m   6528\u001b[0m ):\n\u001b[0;32m-> 6529\u001b[0m     \u001b[38;5;28;01mreturn\u001b[39;00m \u001b[43mNDFrame\u001b[49m\u001b[38;5;241;43m.\u001b[39;49m\u001b[43mmean\u001b[49m\u001b[43m(\u001b[49m\u001b[38;5;28;43mself\u001b[39;49m\u001b[43m,\u001b[49m\u001b[43m \u001b[49m\u001b[43maxis\u001b[49m\u001b[43m,\u001b[49m\u001b[43m \u001b[49m\u001b[43mskipna\u001b[49m\u001b[43m,\u001b[49m\u001b[43m \u001b[49m\u001b[43mnumeric_only\u001b[49m\u001b[43m,\u001b[49m\u001b[43m \u001b[49m\u001b[38;5;241;43m*\u001b[39;49m\u001b[38;5;241;43m*\u001b[39;49m\u001b[43mkwargs\u001b[49m\u001b[43m)\u001b[49m\n",
      "File \u001b[0;32m~/.local/lib/python3.10/site-packages/pandas/core/generic.py:12413\u001b[0m, in \u001b[0;36mNDFrame.mean\u001b[0;34m(self, axis, skipna, numeric_only, **kwargs)\u001b[0m\n\u001b[1;32m  12406\u001b[0m \u001b[38;5;28;01mdef\u001b[39;00m \u001b[38;5;21mmean\u001b[39m(\n\u001b[1;32m  12407\u001b[0m     \u001b[38;5;28mself\u001b[39m,\n\u001b[1;32m  12408\u001b[0m     axis: Axis \u001b[38;5;241m|\u001b[39m \u001b[38;5;28;01mNone\u001b[39;00m \u001b[38;5;241m=\u001b[39m \u001b[38;5;241m0\u001b[39m,\n\u001b[0;32m   (...)\u001b[0m\n\u001b[1;32m  12411\u001b[0m     \u001b[38;5;241m*\u001b[39m\u001b[38;5;241m*\u001b[39mkwargs,\n\u001b[1;32m  12412\u001b[0m ) \u001b[38;5;241m-\u001b[39m\u001b[38;5;241m>\u001b[39m Series \u001b[38;5;241m|\u001b[39m \u001b[38;5;28mfloat\u001b[39m:\n\u001b[0;32m> 12413\u001b[0m     \u001b[38;5;28;01mreturn\u001b[39;00m \u001b[38;5;28;43mself\u001b[39;49m\u001b[38;5;241;43m.\u001b[39;49m\u001b[43m_stat_function\u001b[49m\u001b[43m(\u001b[49m\n\u001b[1;32m  12414\u001b[0m \u001b[43m        \u001b[49m\u001b[38;5;124;43m\"\u001b[39;49m\u001b[38;5;124;43mmean\u001b[39;49m\u001b[38;5;124;43m\"\u001b[39;49m\u001b[43m,\u001b[49m\u001b[43m \u001b[49m\u001b[43mnanops\u001b[49m\u001b[38;5;241;43m.\u001b[39;49m\u001b[43mnanmean\u001b[49m\u001b[43m,\u001b[49m\u001b[43m \u001b[49m\u001b[43maxis\u001b[49m\u001b[43m,\u001b[49m\u001b[43m \u001b[49m\u001b[43mskipna\u001b[49m\u001b[43m,\u001b[49m\u001b[43m \u001b[49m\u001b[43mnumeric_only\u001b[49m\u001b[43m,\u001b[49m\u001b[43m \u001b[49m\u001b[38;5;241;43m*\u001b[39;49m\u001b[38;5;241;43m*\u001b[39;49m\u001b[43mkwargs\u001b[49m\n\u001b[1;32m  12415\u001b[0m \u001b[43m    \u001b[49m\u001b[43m)\u001b[49m\n",
      "File \u001b[0;32m~/.local/lib/python3.10/site-packages/pandas/core/generic.py:12370\u001b[0m, in \u001b[0;36mNDFrame._stat_function\u001b[0;34m(self, name, func, axis, skipna, numeric_only, **kwargs)\u001b[0m\n\u001b[1;32m  12366\u001b[0m nv\u001b[38;5;241m.\u001b[39mvalidate_func(name, (), kwargs)\n\u001b[1;32m  12368\u001b[0m validate_bool_kwarg(skipna, \u001b[38;5;124m\"\u001b[39m\u001b[38;5;124mskipna\u001b[39m\u001b[38;5;124m\"\u001b[39m, none_allowed\u001b[38;5;241m=\u001b[39m\u001b[38;5;28;01mFalse\u001b[39;00m)\n\u001b[0;32m> 12370\u001b[0m \u001b[38;5;28;01mreturn\u001b[39;00m \u001b[38;5;28;43mself\u001b[39;49m\u001b[38;5;241;43m.\u001b[39;49m\u001b[43m_reduce\u001b[49m\u001b[43m(\u001b[49m\n\u001b[1;32m  12371\u001b[0m \u001b[43m    \u001b[49m\u001b[43mfunc\u001b[49m\u001b[43m,\u001b[49m\u001b[43m \u001b[49m\u001b[43mname\u001b[49m\u001b[38;5;241;43m=\u001b[39;49m\u001b[43mname\u001b[49m\u001b[43m,\u001b[49m\u001b[43m \u001b[49m\u001b[43maxis\u001b[49m\u001b[38;5;241;43m=\u001b[39;49m\u001b[43maxis\u001b[49m\u001b[43m,\u001b[49m\u001b[43m \u001b[49m\u001b[43mskipna\u001b[49m\u001b[38;5;241;43m=\u001b[39;49m\u001b[43mskipna\u001b[49m\u001b[43m,\u001b[49m\u001b[43m \u001b[49m\u001b[43mnumeric_only\u001b[49m\u001b[38;5;241;43m=\u001b[39;49m\u001b[43mnumeric_only\u001b[49m\n\u001b[1;32m  12372\u001b[0m \u001b[43m\u001b[49m\u001b[43m)\u001b[49m\n",
      "File \u001b[0;32m~/.local/lib/python3.10/site-packages/pandas/core/series.py:6437\u001b[0m, in \u001b[0;36mSeries._reduce\u001b[0;34m(self, op, name, axis, skipna, numeric_only, filter_type, **kwds)\u001b[0m\n\u001b[1;32m   6432\u001b[0m     \u001b[38;5;66;03m# GH#47500 - change to TypeError to match other methods\u001b[39;00m\n\u001b[1;32m   6433\u001b[0m     \u001b[38;5;28;01mraise\u001b[39;00m \u001b[38;5;167;01mTypeError\u001b[39;00m(\n\u001b[1;32m   6434\u001b[0m         \u001b[38;5;124mf\u001b[39m\u001b[38;5;124m\"\u001b[39m\u001b[38;5;124mSeries.\u001b[39m\u001b[38;5;132;01m{\u001b[39;00mname\u001b[38;5;132;01m}\u001b[39;00m\u001b[38;5;124m does not allow \u001b[39m\u001b[38;5;132;01m{\u001b[39;00mkwd_name\u001b[38;5;132;01m}\u001b[39;00m\u001b[38;5;124m=\u001b[39m\u001b[38;5;132;01m{\u001b[39;00mnumeric_only\u001b[38;5;132;01m}\u001b[39;00m\u001b[38;5;124m \u001b[39m\u001b[38;5;124m\"\u001b[39m\n\u001b[1;32m   6435\u001b[0m         \u001b[38;5;124m\"\u001b[39m\u001b[38;5;124mwith non-numeric dtypes.\u001b[39m\u001b[38;5;124m\"\u001b[39m\n\u001b[1;32m   6436\u001b[0m     )\n\u001b[0;32m-> 6437\u001b[0m \u001b[38;5;28;01mreturn\u001b[39;00m \u001b[43mop\u001b[49m\u001b[43m(\u001b[49m\u001b[43mdelegate\u001b[49m\u001b[43m,\u001b[49m\u001b[43m \u001b[49m\u001b[43mskipna\u001b[49m\u001b[38;5;241;43m=\u001b[39;49m\u001b[43mskipna\u001b[49m\u001b[43m,\u001b[49m\u001b[43m \u001b[49m\u001b[38;5;241;43m*\u001b[39;49m\u001b[38;5;241;43m*\u001b[39;49m\u001b[43mkwds\u001b[49m\u001b[43m)\u001b[49m\n",
      "File \u001b[0;32m~/.local/lib/python3.10/site-packages/pandas/core/nanops.py:147\u001b[0m, in \u001b[0;36mbottleneck_switch.__call__.<locals>.f\u001b[0;34m(values, axis, skipna, **kwds)\u001b[0m\n\u001b[1;32m    145\u001b[0m         result \u001b[38;5;241m=\u001b[39m alt(values, axis\u001b[38;5;241m=\u001b[39maxis, skipna\u001b[38;5;241m=\u001b[39mskipna, \u001b[38;5;241m*\u001b[39m\u001b[38;5;241m*\u001b[39mkwds)\n\u001b[1;32m    146\u001b[0m \u001b[38;5;28;01melse\u001b[39;00m:\n\u001b[0;32m--> 147\u001b[0m     result \u001b[38;5;241m=\u001b[39m \u001b[43malt\u001b[49m\u001b[43m(\u001b[49m\u001b[43mvalues\u001b[49m\u001b[43m,\u001b[49m\u001b[43m \u001b[49m\u001b[43maxis\u001b[49m\u001b[38;5;241;43m=\u001b[39;49m\u001b[43maxis\u001b[49m\u001b[43m,\u001b[49m\u001b[43m \u001b[49m\u001b[43mskipna\u001b[49m\u001b[38;5;241;43m=\u001b[39;49m\u001b[43mskipna\u001b[49m\u001b[43m,\u001b[49m\u001b[43m \u001b[49m\u001b[38;5;241;43m*\u001b[39;49m\u001b[38;5;241;43m*\u001b[39;49m\u001b[43mkwds\u001b[49m\u001b[43m)\u001b[49m\n\u001b[1;32m    149\u001b[0m \u001b[38;5;28;01mreturn\u001b[39;00m result\n",
      "File \u001b[0;32m~/.local/lib/python3.10/site-packages/pandas/core/nanops.py:404\u001b[0m, in \u001b[0;36m_datetimelike_compat.<locals>.new_func\u001b[0;34m(values, axis, skipna, mask, **kwargs)\u001b[0m\n\u001b[1;32m    401\u001b[0m \u001b[38;5;28;01mif\u001b[39;00m datetimelike \u001b[38;5;129;01mand\u001b[39;00m mask \u001b[38;5;129;01mis\u001b[39;00m \u001b[38;5;28;01mNone\u001b[39;00m:\n\u001b[1;32m    402\u001b[0m     mask \u001b[38;5;241m=\u001b[39m isna(values)\n\u001b[0;32m--> 404\u001b[0m result \u001b[38;5;241m=\u001b[39m \u001b[43mfunc\u001b[49m\u001b[43m(\u001b[49m\u001b[43mvalues\u001b[49m\u001b[43m,\u001b[49m\u001b[43m \u001b[49m\u001b[43maxis\u001b[49m\u001b[38;5;241;43m=\u001b[39;49m\u001b[43maxis\u001b[49m\u001b[43m,\u001b[49m\u001b[43m \u001b[49m\u001b[43mskipna\u001b[49m\u001b[38;5;241;43m=\u001b[39;49m\u001b[43mskipna\u001b[49m\u001b[43m,\u001b[49m\u001b[43m \u001b[49m\u001b[43mmask\u001b[49m\u001b[38;5;241;43m=\u001b[39;49m\u001b[43mmask\u001b[49m\u001b[43m,\u001b[49m\u001b[43m \u001b[49m\u001b[38;5;241;43m*\u001b[39;49m\u001b[38;5;241;43m*\u001b[39;49m\u001b[43mkwargs\u001b[49m\u001b[43m)\u001b[49m\n\u001b[1;32m    406\u001b[0m \u001b[38;5;28;01mif\u001b[39;00m datetimelike:\n\u001b[1;32m    407\u001b[0m     result \u001b[38;5;241m=\u001b[39m _wrap_results(result, orig_values\u001b[38;5;241m.\u001b[39mdtype, fill_value\u001b[38;5;241m=\u001b[39miNaT)\n",
      "File \u001b[0;32m~/.local/lib/python3.10/site-packages/pandas/core/nanops.py:720\u001b[0m, in \u001b[0;36mnanmean\u001b[0;34m(values, axis, skipna, mask)\u001b[0m\n\u001b[1;32m    718\u001b[0m count \u001b[38;5;241m=\u001b[39m _get_counts(values\u001b[38;5;241m.\u001b[39mshape, mask, axis, dtype\u001b[38;5;241m=\u001b[39mdtype_count)\n\u001b[1;32m    719\u001b[0m the_sum \u001b[38;5;241m=\u001b[39m values\u001b[38;5;241m.\u001b[39msum(axis, dtype\u001b[38;5;241m=\u001b[39mdtype_sum)\n\u001b[0;32m--> 720\u001b[0m the_sum \u001b[38;5;241m=\u001b[39m \u001b[43m_ensure_numeric\u001b[49m\u001b[43m(\u001b[49m\u001b[43mthe_sum\u001b[49m\u001b[43m)\u001b[49m\n\u001b[1;32m    722\u001b[0m \u001b[38;5;28;01mif\u001b[39;00m axis \u001b[38;5;129;01mis\u001b[39;00m \u001b[38;5;129;01mnot\u001b[39;00m \u001b[38;5;28;01mNone\u001b[39;00m \u001b[38;5;129;01mand\u001b[39;00m \u001b[38;5;28mgetattr\u001b[39m(the_sum, \u001b[38;5;124m\"\u001b[39m\u001b[38;5;124mndim\u001b[39m\u001b[38;5;124m\"\u001b[39m, \u001b[38;5;28;01mFalse\u001b[39;00m):\n\u001b[1;32m    723\u001b[0m     count \u001b[38;5;241m=\u001b[39m cast(np\u001b[38;5;241m.\u001b[39mndarray, count)\n",
      "File \u001b[0;32m~/.local/lib/python3.10/site-packages/pandas/core/nanops.py:1701\u001b[0m, in \u001b[0;36m_ensure_numeric\u001b[0;34m(x)\u001b[0m\n\u001b[1;32m   1698\u001b[0m \u001b[38;5;28;01melif\u001b[39;00m \u001b[38;5;129;01mnot\u001b[39;00m (is_float(x) \u001b[38;5;129;01mor\u001b[39;00m is_integer(x) \u001b[38;5;129;01mor\u001b[39;00m is_complex(x)):\n\u001b[1;32m   1699\u001b[0m     \u001b[38;5;28;01mif\u001b[39;00m \u001b[38;5;28misinstance\u001b[39m(x, \u001b[38;5;28mstr\u001b[39m):\n\u001b[1;32m   1700\u001b[0m         \u001b[38;5;66;03m# GH#44008, GH#36703 avoid casting e.g. strings to numeric\u001b[39;00m\n\u001b[0;32m-> 1701\u001b[0m         \u001b[38;5;28;01mraise\u001b[39;00m \u001b[38;5;167;01mTypeError\u001b[39;00m(\u001b[38;5;124mf\u001b[39m\u001b[38;5;124m\"\u001b[39m\u001b[38;5;124mCould not convert string \u001b[39m\u001b[38;5;124m'\u001b[39m\u001b[38;5;132;01m{\u001b[39;00mx\u001b[38;5;132;01m}\u001b[39;00m\u001b[38;5;124m'\u001b[39m\u001b[38;5;124m to numeric\u001b[39m\u001b[38;5;124m\"\u001b[39m)\n\u001b[1;32m   1702\u001b[0m     \u001b[38;5;28;01mtry\u001b[39;00m:\n\u001b[1;32m   1703\u001b[0m         x \u001b[38;5;241m=\u001b[39m \u001b[38;5;28mfloat\u001b[39m(x)\n",
      "\u001b[0;31mTypeError\u001b[0m: Could not convert string '100 181213 00025 60043 00065 000220 0004 846100 000179 000220 398120 000121 000194 00041 000151 500175 000190 000187 000185 084204 00024 000257 000145 000380 000172 00030 000157 500182 00074 000117 000150 000177 30041 00053 121150 046143 315350 000120 000420 00043 00039 000226 100130 200165 00011 000176 00085 70042 000154 700153 300149 334192 10013 000175 000136 000330 000100 18196 457213 00025 60043 000220 00065 00013 000100 000179 000190 000121 000194 000161 000136 800137 000187 000185 0844 846204 00024 000257 000145 000380 000172 000120 00030 000157 500182 000166 00074 000150 000117 000177 30041 00053 121143 315150 046350 000420 000120 00043 00039 000226 100130 200165 00011 000176 00042 00085 700153 300149 334154 700175 000192 10013 00085 700152 000192 10013 000136 000188 000330 00084 000200 00028 00031 000195 00085 000123 000104 99058 000240 000180 00030 000177 111149 548250 00065 241183 500102 000135 000106 000160 000128 30094 00040 000175 000174 66444 00099 00085 15856 000125 000113 800190 000218 000127 000270 00041 000111 100125 923192 50047 000122 20379 00071 00076 000421 000160 000132 000179 000179 000108 000132 000190 00052 919150 00062 000103 000141 00053 000210 000190 000239 872100 000104 000146 00080 000138 387194 000125 000289 00067 000109 000217 000214 80041 00066 959257 60092 000148 0003 00092 645129 326106 575251 00093 620100 00065 416186 600300 000400 000109 55085 0005 980143 000184 92611 126150 000165 000121 04481 000315 000146 0008 000182 00098 9238 000182 000320 00098 92347 499285 00038 00045 98273 50034 000225 120206 000130 800166 52885 84965 000161 000391 000183 000153 050179 309286 000230 000159 615122 00013 24442 000137 000168 41560 00070 000165 111160 911214 000189 23753 000179 000152 698537 000126 0001 000132 50081 328135 000300 000203 00067 00023 000146 00052 900102 421128 00063 000225 000103 000665225 00050 00010 300200 000108 000207 30445 00053 000164 00058 000145 000146 000192 000178 00084 000197 000147 00093 000276 000108 00028 3916 30086 792148 000150 00090 200164 00040 00092 000160 000121 908184 261135 00036 000134 88736 000215 000128 000283 000163 800134 000195 000122 00053 000204 00089 00077 000193 456125 000161 000113 000200 20097 257213 80527 300132 00027 300125 00097 257213 805132 000140 00091 40585 000104 990124 14929 000108 000112 000158 000120 646120 000150 000130 000120 000135 000220 000138 000258 000210 000138 000120 000315 00075 00065 000150 000186 000158 000150 000235 538140 000120 000100 00026 77042 000146 000146 22578 00090 00026 84973 5001 200190 00022 500124 000179 50081 279139 43571 352192 00082 494325 00081 279192 000139 43582 494325 000217 220291 300101 000175 00018 126124 14913 200106 800176 000166 52858100 000167 000130 000128 000101 000140 00025 00052 348166 000183 00083 40547 00093 000142 00090 030107 00056 000299 000323 000146 000114 000172 000101 000152 18869 000139 000180 000147 00074 00092 00051 37263 000305 00082 000147 700125 000174 78294 000214 52548 00048 000164 000125 000158 000139 67260 000280 000146 225153 47771 817370 000147 00078 0002148 87787 65580 000110 000211 532142 000190 000315 850188 72087 028170 999115 500145 00088 00065 00094 630268 000112 000135 000218 60084 000110 000140 000132 00050196 00091 800160 00013 000140 000160 000147 85480 041120 000126 00010 249165 000153 000182 000202 010165 00058 000184 000119 00058 00065 000124 000210 00035 981300 000129 000141 00031 7504180 00084 000210 000149 00058 719144 984140 32286 035226 000154 000167 840120 000130 958125 00093 562201 500135 00088 732103 00094 000190 000143 000171 0008 200125 000165 00095 000118 000233 000282 000253 500270 00055188 38830 000159 00019 000197 000112 106150 000178 00037 65083249 149217 000145 700165 568228 000164 000185 32542 000123 800104 990102 17794 00047157 00049 000220 398125 000103 300160 15012 163102 13267 500289 600193 00030 00099 987119 000100 90096 00050 000167 000215 00072 79043 80055 03623 000175 00087 500188 00011 00079 542267 000190 000247 000123 000190 000152 000173 000137 50076 000130 000122 000262 707168 40037 34093 361105 00093 36152101 00033186 231164 40050139 00095 423139 800134 000174 000210 034215 490133 78061 90046 00085 000150 00022 954285 000149 00065 00076 000157 000192 25082 459132 412128 000158 000146 00095 00066 95142 500201 583102 60887 000126 80087 300161 00036129 000173 378138 000192 000135 00062 563132 000144 000150 000163 00096 000150 000159 60069 000358 000113 456358 000280 900153 47767 800140 000126 00053 00088 00045 982108 00080 000112 0009 18771 761270 000126 000129 000136 00097 500125 500161 000189 687115 00017 00079 50022117 00095 423135 000264 480131 000180 00069 000200 000172 000136 000142 908123 300213 00094 865103 00035132 960337 75824 450184 363141 000323 000223 00049 00043 000161 115184 00076 000181 484181 484185 21984 85153 000140 382112 000274 000125 00073 50094 86573 00076 000141 643129 00028 000118 36067 000153 420140 000121 00054 400114 000144 000102 000104 00035144 200144 00088 500233 000180 11933 000137 007195 00053 000208 000110 000129 000117 000121 00058 462211 000190 000179 174220 398148 000264 000136 6006369 00045 00032 49511 634127 000180 324252 000252 000500 000169 00075 134124 50996 00034119 00071 817163 000116 834430 000147 77721109 00071 761155 000215 000140 00096 000117 80914 957215 490160 000198 640189 000139 000168 000137 000110 000147 040119 000166 00091 000199 983186 000110 000115 297157 649150 000128 767250 000157 70225 64082 056162 000100 00057 00092 43367 473125 000161 0008 000231 68922300 000170 000124 500201 000130 000300 000113 665120 000149 31898 00087 655161 00062150 50090 60734 00084 000147 000151 500107 000168 000102 500220 000110 000158 28196 000275 000129 00051335 000150 00097 939191 266143 80030 200118 000199 0003696 000185 5005849 00077 000198 000128 000140 000131 000255 000234 000159 000109 000128 000127 673140 00056 000226 00073 73473 734161 000103 000108 124110 00020167 012112 800175 00090 03026169 000155 00068 291170 000120 000243 00017 000160 000134 000197 00014 80092 000139 07468 000170 00082 000143 000154 000222 638123 000115 000153 00038225 000235 39171 761135 000126 0007 500134 000179 00098 000144 000170 000143 0005331230 000156 000135 000133 403168 00048 00075 807180 000123 000227 50040 000180 00056 3477158 749131 000130 000149 33458 023119 00034 00060 000155 500152 188107 000150 000354 00020 000110 765142 061237 000125 000124 000120 000165 000161 226111 00040 225204 000175 000180 000197 000109 000176 352166 528200 00050 000159 000196 130109 000245 000165 00040 00061 92936 000178 000138 000190 00072 000154 300138 519165 00093 250196 560196 560155 300170 37978 000175 000190 000170 000148 000220 398111 021137 250127 000168 00098 000124 000144 00057 27793 000177 000111 000173 00036 00020 00089 46021 690236 898104 000158 00064184 2644 500342 830136 08838 7001105 000104 500154 85962 00078 000125 100177 000150 000161 00019 98997 000195 000120 00088 911134 000145 60023 000128 000227 353157 000145 100135 000130 00090 607137 000176 00060 7159 187164 00034 000144 000113 600150 26542 000220 39885 000129 00014 20268119 000260 000201 001127 500139 000158 48680 000117 000198 000200 000215 300135 45791 500216 000149 234125 000149 000168 000210 000205 000134 00022 000242 549189 700128 27418 700254 50049138 00059 900172 046164 000178 000186 00053 000100 000140 000306 000186 000164 000135 000306 000190 000413 000133 000229 02994 000190 00052142 000134 000270 000262 000146 000205 000190 000200 00072 000242 000108 250155 000140 02181 81445 500118 00031 05070 835154 000226 017119 000147 00057 000260 00046 60038 000172 97188 848113 000159 000141 000186 00085 000269 110157 5008 43089 700226 000102 000168 000167 000197 163172 00063 00083 000170 00083 000231 000204 700157 553180 000175 000210 000153 128190 000147 00078 201171 158144 000141 000164 000179 000210 000104 000266 000170 00073 000108 000151 500181 140115 000146 000160 00099 000134 000132 000311 000145 000225 00086 000192 000150 020349 000138 94177 000157 775169 000153 12898 732160 000230 000162 50047 69586 339220 000125 000211 000199 52078 77157 00075 000117 000190 000264 000136 60069 00040 000283 15060 158117 100160 46163130 000127 000128 000197 00091 000179 17462 400140 000270 000111 111169 00045 00034 60011 63449 80058 462138 000250 000252 000180 00075 13466 550430 000500 00093 000139 000265 00096 000147 77769 000180 324187 00060 000124 509218 00023 000155 00034430 000189 000140 000116 83496 00032 495295 000116 834122 090110 000117 80955 89935 092137 000142 000145 000117 000157 00032 495135 00060 000147 000338 369168 000192 008100 000256 000200 00066 000160 00028 928120 800147 040198 64074 000215 000447 000110 000139 000189 000128 76779 000215 490223 000115 297128 498149 800313 500250 000166 000171 000280 000250 00014 957100 00093 000247 000150 000186 000119 000263 14047 400156 000206 000199 983140 000125 00091 000598 52084 00030 000120 000112 000157 70257 000170 000208 100270 000221 000125 000231 689139 000169 464161 000219 0008 00025 640157 649162 000300 00061 62695 00082 05622201 00067 473621142 00099 50046 240142 000126 000124 500120 000170 00077 000135 000102 000250 000161 000130 000108 309117 549120 00073 000184 000176 000134 00031 17224 60031 172140 690147 000156 505113 66566 000174 000137 000191 380100 64060 000102 000203 000155 000143 00062220 00083 00096 382128 687185 000132 131130 00070 852240 000168 000150 50092 433275 000200 000335 000190 00030 200151 500123 000167 325191 000153 000112 00078 00096 000199 00029 882149 976150 000143 800300 00096 000125 000300 000110 00086 000173 00097 93951173 000300 00097 939513 947123 000158 281179 000123 60092 399107 000560 00063 000130 63698 000120 00089 42227 000106 00037 000140 000128 00036185 500129 00077 0009 000102 500106 000114 000118 000265 837159 000106 000155 899234 00058128 000179 00091 00049 000226 000340 000255 0004 193140 000161 000108 124127 67359 00073 73456 000198 00082 185236 000110 000236 000110 00051 170134 00078 000169 00081 000115 000141 000118 000110 000243 000128 000215 000101 052140 00087 80082 000170 000230 000155 000155 00020188 000172 080131 00067 01292 0002668 000350 000109 000191 266160 000420 000143 000212 08065 000138 200103 00017 00059 00065 755135 000303 00092 000165 88717 200227 000275 0003 000180 000222 6387 50084 300142 000227 000275 0003 000180 0007 500142 000222 63860 20083 00094 98584 300155 000225 000137 639164 758125 865728 000126 000139 074123 000250 00014 800153 000158 000300 00038281 000382 000105 000440 000221 000230 000197 000640 040154 000350 000113 000115 00030098 000220 00065 50071 76141 000235 391200 000181 00052 00070 00076 000135 000275 000156 000204 515215 000123 000156 000275 000204 515215 000282 000133 051168 000131 4936178 23076 500179 000149 131157 435115 00085 100185 00053 00053144 000180 0003140 000134 000170 000150 000228 000137 000200 000195 000119 00069 00080 000185 00047 899188 00058 749377 00098 000107 000200 000150 00048 000133 403280 00075 80720 00070 000227 500329 000120 000143 00071180 000147 000165 000120 000227 500165 000143 00071193 000125 00078 809163 678150 500180 000120 000153 33348 700132 00010758 023147 000190 000161 22690 500255 000200 00034 000142 274111 000400 000201 465243 453197 000183 00056 347170 000110 765200 000161 000237 000180 000180 000124 000200 0001200 00010149 000196 13082 000114 000354 000102 00015 000165 0004 15451 000175 000157 40251 000175 000157 402270 00050 00036 000319 000151 500212 000170 000154 300138 00071 500314109 000193 000192 820332 00040 225105 096142 000110 00040 000109 000285 000179 000245 00080 000166 528190 000178 000175 000115 399153 000138 00093 250204 000178 00061 929160 000175 700150 00057 27744 999168 000150 000137 250247 097213 000173 00072 00021 000155 000190 000148 000142 06172 000148 00087 500146 000177 00021 690165 00012 000113 423200 000170 000138 519111 000176 85698 55028 000158 000159 000166 000192 300159 000142 06136 00062 500100 000112 000109 00078 000189 000180 000127 00093 000169 000273 000236 000155 300104 300342 830117 000120 000111 305220 000170 379147 000236 89880 562125 10089 604136 08861 00012 53360 000116 705107 700184 264175 000155 000184 26435 800188 000220 000104 00015 000196 23389 0004 500149 847196 56020 278102 608203 000250 000170 00088 91138 700104 500117 500290 71989 460150 00062 000135 000180 000161 0006478 000129 000132 87996 000482 650154 85997 000142 635219 588105 000195 000157 00076 000300 000145 100186 965178 15527 000177 000145 600166 000134 000150 000161 000137 000135 000135 000158 000128 00071 000220 00014 20268256 000137 000159 000189 000119 000105 00029 960190 000280 000126 000177 000183 000120 000317 00060 000135 000325 000129 00060 715195 00042 00019 989301 000110 00023 000103 500135 457141 000390 000198 00090 607150 26578 000122 00010 759227 353215 300127 500220 500260 000212 000216 000200 00060 000176 35288 00075 000118 120112 500212 000260 000220 500227 353216 00060 000200 000144 20075 000180 00088 00075 000118 120240 0006 170149 907117 000234 500112 50036139 000113 60025 693176 000130 000207 00080 000117 000180 00091 500430 000201 001176 352245 000137 281168 000125 540205 00042 000158 486102 000179 00090 000149 00032 00068 000210 00018 700149 234125 000138 00012 30099 90053 000100 0001 300138 00053 000100 00012 30099 9001 300242 549106 000200 000142 388128 274305 000172 046198 000176 000147 85459 900140 00073 00071 000134 000139 000189 700198 0009 187178 000135 000250 000197 000254 50094 000166 60890 800142 00072 000174 10040 000125 00072 000128 000306 000200 000186 000122 00081 81422 000186 000100 000140 02195 000205 000133 000190 000270 000190 00063 0004964 000180 000147 000260 000300 00066 00055 000189 00047 500207 000154 000193 00040 00091 04973 500101 400413 000152 000186 70071 300169 847242 000228 000108 250134 000131 84196 000103 557280 000119 000113 000133 000277 00081 79252176 000141 000164 00054 48538 00046 60088 84857 000172 00086 199167 00085 000157 500159 00038 318193 00038 778218 00049 300180 000159 00038 778193 00049 30038 318204 700186 00058 66440 00086 580180 000168 000170 00039 500163 000114 751118 00015 000292 000101 000179 000164 055134 00035 000266 000175 000197 16345 500172 97129 72150 16370 835204 000150 000133 000150 00099 000160 00063 00021 605118 129124 00091 99627 10783 00050 378155 00074 00053 00081 000226 017135 000151 500102 000210 000145 000145 000210 000226 017102 00064 000171 158226 00098 00033 05251 00070 00017 100231 00080 60193 700127 000311 000127 00088 678150 02046 027112 00029 000181 489157 553150 000180 000170 000223 000176 00079 965269 110770108 00031 050147 00088 00064 000349 00078 201112 00092 435105 000157 775104 000132 229173 541181 500211 000146 000162 500192 000138 941220 0004 512300 000220 000300 0004 512156 500225 00096 345115 000246 47729 00093 50075 00077 000125 00060 000130 000270 649125 000134 00082 00081 70090 30039 000142 000240 000152 000170 000153 128112 000315 86369 000178 00545 000156 000320 0008 430141 00089 700219 400140 000132 00077 00086 33930 00073 000140 000300 00098 732181 140180 75078 771223 000128 728179 00012 00063 000197 00086 33930 000132 000140 000300 00098 732180 750174 508148 00057 51773 000223 00063 00088 22748 000175 000128 72812 00078 771179 000101 000197 000319 000181 14078 000230 000169 00029 500207 00094 00057 000180 000252 280167 00063 000197 000121 000166 241172 000164 000443 843160 000294 94931 000125 000233 000135 000163 000150 000170101 000140 000189 00034 000130 000200 000130 000200 000157 000160 000102 720140 000162 500215 0004 30045 55116 30071 000518 00018 000173 629150 234220 00086 000142 000120 726480 681199 520102 000189 247123 000155 000194 593470 000118 800173 156145 596117 000230 000141 000250 000114 000223 00076 00055 00039 86937 00070 000207 000248 420234 000150 000240 000369 000109 000188 00071 000260 000193 00070 00055 10484 00038 000118 425152 050330 0008 514279 000135 800176 96935207 00045 982115 000150 00078 582157 00070 000180 229196 028115 000236 00076 000114 00034 000267 00072 00092 000260 000175 68482 000122 304219 000204 500181 34238 000264 000167 00027 347149 000120 00021 65751 00080 996120 753150 000171 00047157 800115 00017 08780 84429 17624 000110 00098 200105 600120 00029 176105 600120 000147 000236 24791 000128 200144 000172 000314 000189 000279 000385 500168 960174 000285 000110 000184 000119 889150 000128 00071 500163 000155 00058 80011 02790 000167 220145 35480 00060 000260 000137 000190 00075 879213 15996 114197 373201 00092 000163 00062 000176 00064 745146 000110 000255 32086 500189 000225 00079 000145 00097 600288 00094 385288 000283 00089 000245 000138 50022 000200 00090 607100 000301 750306 00082 000126 00057 12330 000166 00059 000118 800175 000188 525138 000180 00047 69559 184104 250125 00028 000147 00098 00052 60067 500146 000447 450225 000308 000128 000121 000125 000332 543176 000284 000167 99453 00098 066113 000160 000362 222120 279148 000220 00014 75365 000118 00088 89899 74130 000118 00088 89899 74130 000245 947183 73648 066240 000109 000161 000131 67275 000138 500257 000120 32245 000274 73336 00072 703168 98377 494265 01945 000179 00099 840184 000213 000120 000125 000266 000220 00062 000140 000203 000350 000157 00054 70059 02927 000158 000194 000144 000154 250184 000166 350220 000115 800176 000195 00095 00080 000230 000123 000138 554111 53471 000195 000123 000230 000138 554111 53471 000136 00052 653165 000118 00025 590162 300210 000152 15799 865181 000110 000115 000130 000176 00074 735222 000114 650122 00016 300204 00084 21327 431158 000185 000107 299200 00088 000165 000131 000147 000177 00047 000205 000124 730212 667353 00028 500241 77785 00076 00041 20232 000160 00062 89594 500311 546205 000115 000108 517225 653135 000138 021225 65362 89592 400156 33366 000120 000153 101158 000170 000158 71597 500126 372212 000238 00074 000174 100148 00014 82997 600118 396196 602193 10076 00076 000108 51791 00082 00047 000148 000301 700116 000125 80059 900125 000100 000181 000280 000198 000240 00084 40026 000105 00077 000101 00090 000168 26979 000145 000158 00099 30059 600133 944360 000209 000360 000107 347209 000133 94442 00074 000256 00010 90057 19337 000107 00065 087170 0006143 00017 08738 00033 00051 300110 81690 56162 00072 00095 100104 000120 000120 820121 500260 000147 31182 000221 80069 000133 00085 00095 000161 000118 667180 000126 630195 000118 000243 000185 00085 000137 000150 600162 000146 00065 2129 300128 000217 000110 032222 052377 000130 000211 000230 000290 000162 000110 000175 00070 000232 66859 207117 000250 000333 333152 1885 900126 00078 900339 000116 0004 500135 000159 500499 99994 500250 000133 000103 000141 00031 24042 100105 60082 000123 344140 000127 028370 00097 23680 00060 00025 322131 000121 000194 500205 000155 500125 43727 00088 000164 000100 000200 000185 00074 000180 000249 90069 000140 000370 00097 23680 00060 00025 322121 00011 459224 00090 976194 500125 43727 000232 000185 17563 00088 000100 000131 000205 000200 000185 000155 500164 000180 00074 00069 000202 00061 000249 90016 852170 50084 000110 000137 37441 800542 60065 31144 000185 000120 000143 000211 000124 300201 0007 29751 000160 00089 00010 000189 000151 000145 000178 113120 000280 000120 000235 000120 000145 555130 10067 000117 000160 000158 00080 00050 606119 570386 611210 000143 000398 000193 000180 00095 200183 18825 77048 000277 000102 466139 50099 018133 000134 000203 00068 350165 000115 0008 000180 000183 000157 800138 200265 000110 00044 812137 022150 36819 000107 000220 00018 50067 700140 000168 00074 80054 000151 00045 01786 872228 00072 000116 467140 00051 000139 55141 000169 00085 206233 800160 354101 00078 00026 949175 000115 00098 000139 800112 000117 000167108 390195 000197 50055 000148 369174 990220 00082 798112 00060 00089 264200 000177 338100 300145 000190 000168 200107 000145 000155 000143 00087 200220 160402 000276 00040 000112 000121 00046 00085 849153 00065 000257 000170 00090 879130 348214 597214 59790 879210 000150 000109 000102 487135 433108 000206 000198 000325 000208 154130 348190 000104 000138 240190 000245 71085 000135 00014 000121 00035 487395 000143 00065 000174 79623 051158 00083 00042 0009 300139 000280 00035 111137 54781 220890 00098 00066 000231 412172 326167 200160 000165 000170 000242 000290 000131 000117 000208 857121 754270 00029 000180 000136 000227 876117 000175 000280 000100 000129 000210 548187 000120 90097 15057 43591 000137 00038 994177 184128 00037 000219 000108 33471 01728 000130 500250 000175 658143 000143 00052 000119 000250 000147 882162 363159 00040146 278103 400146 00033 00065 200255 000195 043184 000160 000130 0001152 000107 000184 00039 00037 000135 101347 000174 00050 00099 00087 000144 00048 877190 000160 10093 00091 900170 000150 00057 700283 833195 000139 00042 50090 270256 344162 25891 049142 000240 00068 000190 00056 50253 00089 000203 000244 000206 000149 000111 11198 33237 37958 200123 24733 000165 000115 000170 000158 300165 000237 00037 00057 30080 01465 000113 38359 000160 000131 000285 00082 000123 000163 000186 00070 00052 000127 303200 000131 000123 000163 000186 00082 00070 00052 000205 500158 000154 000162 000127 303200 000128 00066 50077 200168 00096 000233 000225 000220 000223 940124 500184 00032 000257 000171 77398 21198 556195 00096 000172 373247 000141 00018 48045 000136 412101 000239 500106 260209 000145 000178 000146 20083 32346 85642 400184 000132 400148 000115 00125 000161 231147 000132 000158142 006110 000175 00044 530126 259205 000144 300223 486114 884168 773118 00084 000113 00084 81949 00030 915345 00086 00085 000269 000280 00017 8492 46117 00039 00081 15136 00057 00079 000119 000127 000230 000205 90081 00014 00099 50092 000135 000180 000107 50045 000150 000220 000240 00083 300317 955114 00047 000123 000210 000150 70079 1427 500135 000192 715148 00079 142192 71530 000148 00067 870128 000140 000155 00042 000120 00011 85676 426162 00088 490179 57956 295314 000210 000190 500128 000350 000180 000135 000142 000117 598161 000156 532248 000215 00074 00069 000115 000350 00046 000117 000338 000225 00077 00082 234126 000132 24491 00087 000121 27078 000185 000134 000100 000131 000117 000555 555200 000153 949214 732149 000162 382153 949162 382169 000235 000148 00030 000130 000118 61432 000103 300212 000117 695180 200101 000116 000150 00018 000170 000141 00039 936105 495140 000145 000275 000154 000297 0001220 50060 051222 662155 000228 000105 350161 00065 000172 174156 00095 000165 000122 00039 00071 000183 50092 00048 60079 083300 410248 000303 000135 000165 00080 000149 00073 000210 000170 000165 000210 00080 000170 000149 000181 00092 342169 000133 800156 500250 000180 000123 00088 000236 00036 000150 000127 00059 00093 000130 000105 000249 00014 100200 32072 000200 000104 000175 92422 54762 00029130 000199 000189 000124 000153 80095 000270 000156 000200 00073 000138 00077 000136 800160 00070 859104 99080 732112 80051 000300 000229 029119 00079 50060 00060 000229 0291112 800214 00089 00051 00065 15091 722197 00079 500165 714164 00037 000156 02976 000228 00070 000114 000220 705119 74670 500142 000183 00089 600137 00059 000187 000145 000140 000249 00044 000100 000126 000103 000181 000122 000114 00949 00091 400211 30781 710125 00050 83887 89417 400157 00082 99010 021108 85290 000120 696143 000107 229190 00072 03450 838157 00090 000143 00087 89410 021120 696280 000169 000150 234107 229108 852190 000289 000263 019100 00072 034130 000147 000165 00044 000136 874175 00037 200106 50494 000160 000133 97542 00019 615115 00033 55884 000200 000199 000158 948199 000160 00092 00056 000450 000147 000119 000157 000123 0004 00095 000194 000220 00079 00271 000180 00070 50010 660136 000120 000120 000200 000360 00043 000251 000106 000108 46664 500323 14774 00042 210144 000190 00210 000129 000177 00089 45648 00077 000149 000126 000122 000112 00040 000283 262123 000372 000126 000210 000152 25360 00044 800123 000190 000159 0002145142 000106 800150 000319 800176 000180 000148 20390 00055 000145 000121 00086 36935100 000130 000200 00014 000154 700240 000240 000139 312122 000112 0004 82085 00036 00091 130130 51293 00055 109180 000160 00083 0001123 000137 000193 000115 00060 000113 00083 00089 613230 965208 000135 000198 31465 50044 00015 000160 320124 000208 000198 000100 00068 00049 85040 000267 047114 50018 126176 000117 174207 300368 000260 000190 200416 000182 000187 000126 000176 000214 300158 000138 00020 000169 000177 58672 00020 000206 000151 300178 000160 000190 00081 600244 000112 000370 000146 000119 700184 91548 000125 000131 000191 00081 800109 00055 00032 00067 500149 300263 400255 000167 00093 000145 000121 00082 00057 00092 00085 52670 000129 689140 00035 48696 000437 000183 000360 00092 500101 19940 000116 00050 810228 300186 566191 02547 62555 000185 000101 199116 00040 00050 810228 300186 566191 025163 4001 800178 000275 000105 254185 000215 000195 000100 000270 00027 10060 00055 00047 62567 000106 06894 51098 0009 000139 62477 90198 00077 826164 256258 00087 00061 0001237 000130 000130 00095 00040 000134 000105 00015 000114 000270 00019 00552 67086 436165 200124 585184 621473 398122 344195 00024 000155 000473 398122 344195 00024 000155 00060 000103 50071 00053 000114 00035 40086 200233 020176 000126 000155 00036 00037 00042 00075 000178 000230 00040 000143 00041 000108 27197 5009 00043 000235 000265 000146 0216 500224 000102 000117 000791 000135 100123 000146 000437 00020 000136 000161 000241 000164 67826 10095 00067 180131 000150 000218 00042 000181 00085 000215 000215 00069 000181 000106 00098 00042 00097 00056 000219 000192 00085 00030 000184 54398 356174 000136 000129 000140 000140 00022 582209 000102 000227 539142 00088 000129 00037 000104 000154 000134 15850 122367 00080 6773 000141 000129 000231 70017 000122 000132 50099 600398 00095 170449 000183 000201 17925 000165 000154 000167 00057 000255 00042 000100 00095 000153 80095 000129 50084 0001626 000250 000153 80085 260190 002893 825128 530121 000565 000350 000124 00061 00090 000119 000235 000243 000288 00042 000130 000200 000190 000200 000187 000221 460146 000123 9009 8592186 000143 25187 000357 78039 500173 20035 281180 000161 974100 000260 00082 000200 000178 000147 000129 000300 000159 000244 000122 000106 000105 00090 00090 000200 000180 000112 852190 000129 000154 000398 000119 231223 13887 000154 00083 949137 000120 000315 00047 70042 00072 500173 000123 500133 50064 606131 000200 00029 359113 0004177 00032 701106 00051 00079 162148 787139 000136 000137 000154 000420 00062 901268 000121 00025 000198 00035 000152 000204 22954 00020 00029 91881 0004107 000147 000143 00025 000121 000198 00035 000152 000204 22920 000111 47599 000101 10654 000429 918131 98653 444106 60081 000107 000147 000195 000143 00018 000206 133132 50092 000243 217137 00083 000202 000142 000237 0004471 000206 0004200 00035 00050 000325 000186 00075 00055 5854281 00089 00076 000157 0004190 000187 000117 00065 00067 00029 044146 70067 00083 000103 0003565 000117 722158 426154 000256 34496 622150 000146 70014 950195 000153 00076 274112 000118 000109 200198 000172 000124 000170 00087 00090 00051 00071 105134 00018 700111 000181 000100 000125 00067 000130 000103 00046 00077 00057 000136 995146 000156 000186 97433 400110 000140 000182 00086 00048 379181 50099 99933 000149 000126 000190 00097 000126 00040 000185 498221 001122 86664 000115 00060 158133 236109 000114 000149 000345 00062 000345 000120 000126 00045 00045 549123 000168 000239 00013 072111 000240 000168 00061 000152 000204 00071 63230 100168 091194 898173 356190 000147 00044 95824 530190 000294 00062 000153 000140 000138 85036 00054 000133 500207 500374 000107 500245 00060 894155 000263 000396 68517 00060 894252 100185 00068 00077 00072 30799 900121 00072 000400 00057 100320 000271 000129 000127 000136 0001140 00079 00070 00084 000139 000100 703200 000388 00092 000133 000174 000120 000130 000155 000165 000119 883172 76120 000270 000109 000221 000152 11349 000106 50077 84134 000153 977127 00134 00023 55862 20078 35045 000155 087161 935207 00097 000192 12592 125143 0001155 08785 000138 000136 000204 000240 000222 000147 000161 935121 00028 000116 53339 000180 00040 00055 000138 329100 70357 000121 00021 50018 00033 000168 082128 000141 00076 000127 000350 000140 000109 000186 00033 000174 000115 000283 562172 00059 02980 00098 484124 561114 237960 000123 86549 081149 51998 000147 594187 015290 000103 000120 0004120 000187 0154143 000103 000200 000169 000163 000185 000306 000159 0004110 00049 300186 00088 000160 550200 00076 000220 000148 00070 38082 00073 200112 237116 00085 325275 000240 000495 500106 000130 000137 000167 313285 28061 334306 000170 000225 000104 000145 000120 000110 000207 860180 000229 00072 000110 00060 00028 00084 15653 301135 00023 00043 43822 53675 00043 438404 000388 82162 850160 00010 00084 841158 000145 421172 220158 000289 500122 000344 38489 60050 00055 000103 000147 000102 38434 0006 570150 000170 000125 100194 346120 163288 000127 995121 00041 13673 7424 000450 388113 000230 000130 528180 00049 000181 300149 0488 400293 00090 000180 000120 000116 00040 000207 000145 000181 13576 000126 568202 452163 000133 000250 000170 000262 000400 00091 00049 571463268 000215 00056 00072 00083 443150 000142 54793 00061 000140 248328 00020 659188 00071 400230 00023 59981 50091 10033 000107 000118 000230 000232 00088 130150 000210 382146 200111 000123 131370 000201 00032 000150 000149 000150 22251 000560 000243 044254 316130 000156 0004161 818137 000123 000147 829145 00089 000140 00088 000340 323150 000195 000133 000215 00083 00097 00060 22169 000236 200102 705180 051128 833233 000108 500272 000444 444130 00093 000230 000105 00085 800110 000177 182103 00081 000109 00058 000126 000178 96519 00028 00013107 000163 00020 741108 000155 00018 609222 00031 230197 610130 00050 000143 758106 000161 500289 000220 000175 648225 000411 000171 000171 000144 00036 00099 000111 20086 522165 008243 000144 000127 46674 00085 827214 000233 800174 80479 60051 19995 00071 000125 00020 00043 900108 000314 185124 623273 000186 000136 00091 000300 000324 288126 000120 000176 000151 000194 087113 70078 000154 000207 500180 000255 000171 34178 84786 217140 00039 000245 000143 714133 33053 000152 000208 682117 00012 710108 000324 28891 000126 000120 000176 000194 08778 00021 87127 642131 682154 000207 500113 700160 372192 000138 000180 000171 34178 847151 000255 000140 00039 00086 217208 682152 000133 330143 714245 00053 000117 000310 000141 235159 000108 00012 710380 000113 000314 000150 000368 000158 00053 000141 380135 000132 000137 800130 46167 00063 500145 00047 036174 000119 990239 018119 99088 22773 000185 000110 000252 697100 000130 00042 00031175 000199 000194 022146 235225 0003162 000275 000250 000116 900143 000236 000211 000200 000198 00019 000135 000154 492109 00072 000154 713129 000242 69610 000120 009105 000188 000195 00059220 547460 00018 00030253 000146 00013 000300 00071 519227 70093 00021 000233 000202 000106 063103 622140 000141 00079 000131 00083 400390 000191 000140 00025 700140 000102 000103 62288 000220 000134 000124 000122 000261 000223 000106 99939 00014 000114 724157 307164 020350 000445 000190 000104 000165 000170 00082 10063 000280 000156 000235 000295 675235 000150 000100 200336 000260 00027 97048 00073 00048 300151 000261 000136 000268 600184 800295 000115 000110 000125 409261 000167 789110 000167 789218 000200 000125 409180 00016 000177 18476 200119 883103 33339 000103 00046 500159 000170 000164 000117 900167 7964114 00050 000115 693177 100179 000390 00095 000151 00097 00794 60029 000169 00073 6596 750156 000174 301100 59559 00044 60076 232175 000197 00064 000190 000132 000150 000300 000160 00085 000272 000156 000181 000112 300170 00086 68558 12278 00086 685182 000225 000151 500129 00050 00080 99660 536159 000137 915194 01950 00026 05019 863150 00094 000430 00034 000213 000180 000400 000124 908120 000140 00087 00094 00050 00046 000207 787134 00056 00037 000185 00088 000155 17741 000137 000176 888260 000199 750175 000230 00059 854196 00593 5391 00096 000153 00088 490262 000120 00091 000156 00027 00021262 000156 000120 0001 00088 49091 00027 00030 458161 000239 32921227 000178 00089 07458 273134 000160 00067 000139 00073 050194 42065 00057 000295 000243 000134 06186 00073 000170 000190 383200 000138 020155 200300 000117 000199 87677 001305 00063 71389 000271 000128 000104 339104 00070 0002535 555149 000113 31679 14456 907350 00065 00053 000110 000119 800110 000119 800101 000180 0009 893123 000109 000138 000120 000230 07910 000206 90081 759161 500272 000120 000188 500211 754240 511116 000133 69421 000173 608178 000150 000100 000145 000169 110105 30062 84784 000135 000107 466148 0001420 00046 000600 000106 11892 000149 922125 000190 000243 000126 14373 650110 000124 24948 000115 000198 125272 230400 000389 823196 000183 900252 091167 20041 35066 00057 000165 398157 000111 000145 650223 00039 00027 200110 00056 965175 00099 00030 000125 000176 745103 000140 000164 456165 000121 900192 000212 00053 300140 00098 670149 000120 000221 000300 000124 000103 000121 000157 000150 000113 25261 71692 000102 000184 261120 000248 000128 00055 000200 04191 00078 000176 000165 500217 00072 000182 226139 512352 073139 512240 00060 58916 213237 000175 000185 00033 558123 000250 00093 000150 724174 00089 000141 00036 200116 000118 500236 000127 000100 043131 00060 000160 00094 000148 000155 000112 942133 67379 883400 00079 000121 000152 000237 00021 45099 14770 000171 000102 000184 18744 859156 00095 000187 500180 000195 000172 80393 00010 000175 00038 881224 242237 552101 513101 51338 881190 000170 000188 890135 36770 00098 67023 473158 00097 000112 90021249 000120 46056 840518 70091 000223 00025 500152 000142 000148 00095 01063 058130 0005 00034 003283 25421 136304 50087 655154 00060 000147 00089 00082 5007316 10080 625170 000171 0008 80060 000233 637370 000143 00030 000268 635270 000193 838185 532215 790179 00070 000238 00060 000143 00030 000268 635270 000193 838179 00089 4561 27185 00070 000215 790185 53255 00030 00054 000174 000238 00089 000110 000197 00083 00037 773180 00032 175364 54680 000100 715138 000126 000198 00138 200227 980147 50031136 000153 000163 50070 000178 70033 052110 000206 000206 000185 000271 000147 00011105 00060 447146 000242 0001176 000439 000125 000439 0001125 00097 000134 00045 000108 00072 000179 000160 354125 00070 00056 500160 00073 500115 736132 50022140 00091 000225 000148 12198 4626 976115 00046 500137 53472 902190 00036 000217 411140 000118 00092 000167 000141 000131 000171 20045 000306 000199 00077 000250 000149 515190 00075 000187 94751 500123 00062 004145 400170 60087 300162 00075 618268 000268 00075 61867 800143 000456 643131 000106 000167 20093 247192 000158 000405 000180 000165 000115 000174 000163 00066 393195 669242 00041 733104 000238 283262 000490 33996 000121 34769 400154 000209 000154 00045 000230 00063 000180 000123 850168 000152 000169 53794 36467 000128 00090 000141 00027 97871 245190 000359 84258112 893158 000375 920274 71989 134200 000197 00089 13455 000127 00087 00031 657175 000125 632280 000246 20035 612124 000125 38049 540105 000122 000190 00097 000239 00022 000130 000111 98477 300135 00043 000157 100165 000114 000200 000165 600482 000205 000124 00022 000106 000139 300160 617143 00097 00029 000223 968107 000262 000156 943250 000130 67497 00057 12380 000263 233117 000130 92255 69329 500154 000127 000104 000127 000400 00039 500120 00081 000128 000150 00060 00145 10098 0004 261102 000202 284157 000137 931119 40577 521223 003185 000275 000154 373151 00061 000141 21086 888137 000160 000311 000145 000135 5003 600165 00017 700117 933141 500184 000139 000120 000146 00078 00077 000202 00022113 37532 000134 000165 000315 241211 81325 000278 0001186 139370 000268 000186 139268 000370 00065 000223 000189 000300 000178 74057 000124 00071 000157 611216 000106 878169 000135 60042 000118 94628 000126 59959 700332 310151 00084 849100 00089 000112 000315 000125 24153 85292 00023 690139 000147 53194 000286 00078 000138 591111 000100 00089 000335 000351 000173 70097 23885 000134 75049 00097 000114 000175 00091 000223 000190 00011 459186 00091 000175 000223 000190 00011 459186 00011 000270 00089 07418 363153 000150 000124 000138 055185 325129 000132 000132 000110 000128 816117 20876 00079 93928 000150 000337 000133 000124 00056 965245 00093 300206 000116 000103 000147 00063 000198 21731 44560 915119 23178 251134 708259 021100 00017 00040 90097 000114 500268 000162 000169 000131 00062 000235 000199 00046 126235 000118 000298 00042 000121 000180 000150 71140 82663 55079 00068 200185 000179 000206 17333 15262 01026121 000235 697158 000148 00057 72562 000150 00075 00098 000138 668150 000142 323192 000253 741125 000154 46229 773229 0007 73485 000140 073146 000600 00019 345105 36363 000164 000186 000125 96325 000108 000150 000199 06945 00025 951204 000132 00026 455122 000122 000350 000832 287160 164170 00079 000113 000159 500149 90799 000109 01171 00073 92189 00094 70286 451180 00086 451281 700171 121148 50038 845108 00090 00088 762110 211220 00067 000125 00026 00093 00073 000174 000260 000177 000169 00073 208162 000183 60099 000296 00056 100139 000145 500155 000140 000145 000212 30083 00072 00063 000174 000180 000183 50018 230125 000' to numeric"
     ]
    }
   ],
   "source": [
    "## Давайте попробуем одну очень простую операцию со столбцом: возьмем среднее значение по всему столбцу.\n",
    "## Результат будет.  TypeError: Could not convert string\n",
    "\n",
    "## Можете догадаться, почему?\n",
    "\n",
    "## Подсказка находится внутри более длинного сообщения об ошибке Traceback.\n",
    "##  TypeError(f\"Could not convert string '{x}' to numeric\")\n",
    "\n",
    "# df_final.total_km.mean()"
   ]
  },
  {
   "cell_type": "code",
   "execution_count": null,
   "metadata": {},
   "outputs": [],
   "source": [
    "df_final.total_km.sample (n = 10)"
   ]
  },
  {
   "cell_type": "code",
   "execution_count": null,
   "metadata": {},
   "outputs": [],
   "source": [
    "## Действительно, Python обычно выдает сообщения об ошибках, \n",
    "## которые помогают нам подумать, в каком направлении мы можем двигаться.\n",
    "\n",
    "## Давайте воспользуемся этой подсказкой для преобразования типа данных нашего столбца.\n",
    "## Сначала мы попробуем pd.to_numeric функцию, так как согласно нашей подсказке это первое, что приходит на ум.\n",
    "\n",
    "## На этот раз мы получаем эту ValueError: Unable to parse string \"100 181\" at position 0\n",
    "## Не очень понятное сообщение, что на этот раз делать ))\n",
    "\n",
    "df_final['total_km'].apply(pd.to_numeric)"
   ]
  },
  {
   "cell_type": "code",
   "execution_count": null,
   "metadata": {},
   "outputs": [],
   "source": [
    "## Заметим, что в 100 181 есть пробел\n",
    "## давайте удалим его, а затем применим результаты к столбцу, преобразуя их в тип float.\n",
    "\n",
    "## astype(float) использовалось в качестве меры предосторожности, \n",
    "## поскольку преобразование строки типа «100 181» непосредственно в целое число \n",
    "## могло вызвать ошибку из-за присутствия нечисловых символов (в данном случае пробела). \n",
    "## Преобразуя в число с плавающей запятой, \n",
    "## вы допускаете возможность присутствия в данных нецелочисленных значений без возникновения ошибок.\n",
    "\n",
    "\n",
    "df_final['total_km'].str.replace(' ', '').astype(float)"
   ]
  },
  {
   "cell_type": "code",
   "execution_count": null,
   "metadata": {},
   "outputs": [],
   "source": [
    "df_final.dtypes"
   ]
  },
  {
   "cell_type": "code",
   "execution_count": null,
   "metadata": {},
   "outputs": [],
   "source": [
    "## Мы можем использовать метод str() в сочетании с replace() для выполнения \n",
    "## операций над отдельными столбцами, но не над несколькими столбцами одновременно.\n",
    "\n",
    "## потому что метод str может быть применительно к серией pandas, которая, \n",
    "## как мы помним, представляет собой одномерный массив. \n",
    "## Но этот метод нельзя применить к двумерному фрейму данных в пандах.\n",
    "\n",
    "\n",
    "df_final['total_km'].str.replace(' ', '').astype(float).head(2)"
   ]
  },
  {
   "cell_type": "code",
   "execution_count": null,
   "metadata": {},
   "outputs": [],
   "source": [
    "## Вместо этого мы будем использовать комбинацию map и лямбда-функций, \n",
    "## чтобы иметь возможность изменять несколько столбцов одновременно. \n",
    "\n",
    "## Подробнее о map  и  lambda функциях см. в нашем py_bsacis файле.\n",
    "df_final[['price','total_km', 'hp']].map(lambda x: float(x.replace(' ', '')))"
   ]
  },
  {
   "cell_type": "code",
   "execution_count": null,
   "metadata": {},
   "outputs": [],
   "source": [
    "\n",
    "\n",
    "df_final[['price','total_km', 'hp']] = df_final[['price','total_km', 'hp']].map(lambda x: float(x.replace(' ', '')))"
   ]
  },
  {
   "cell_type": "code",
   "execution_count": null,
   "metadata": {},
   "outputs": [],
   "source": [
    "df_final.info()"
   ]
  },
  {
   "cell_type": "code",
   "execution_count": null,
   "metadata": {},
   "outputs": [],
   "source": [
    "## Наконец, давайте изменим наш столбец year.\n",
    "## Один из распространенных вариантов — преобразовать его в целочисленный тип, \n",
    "## предполагая, что столбец year содержит целые годы. \n",
    "\n",
    "df_final['year'] = df_final['year'].str.replace(' ', '').astype(int)"
   ]
  },
  {
   "cell_type": "code",
   "execution_count": null,
   "metadata": {},
   "outputs": [],
   "source": [
    "df_final.info()"
   ]
  },
  {
   "cell_type": "code",
   "execution_count": null,
   "metadata": {},
   "outputs": [],
   "source": [
    "df_final.describe()\n"
   ]
  },
  {
   "cell_type": "code",
   "execution_count": null,
   "metadata": {},
   "outputs": [],
   "source": [
    "df_final.head(5)"
   ]
  },
  {
   "cell_type": "code",
   "execution_count": null,
   "metadata": {},
   "outputs": [],
   "source": [
    "# Save as CSV\n",
    "df_final.to_csv('data/cleaned_final_data.csv', index=False)\n",
    "\n",
    "# Save DataFrame object using pickle (optional)\n",
    "# df.to_pickle('data/cleaned_final_data.csv')"
   ]
  },
  {
   "cell_type": "code",
   "execution_count": null,
   "metadata": {},
   "outputs": [],
   "source": []
  }
 ],
 "metadata": {
  "kernelspec": {
   "display_name": "Python 3",
   "language": "python",
   "name": "python3"
  },
  "language_info": {
   "codemirror_mode": {
    "name": "ipython",
    "version": 3
   },
   "file_extension": ".py",
   "mimetype": "text/x-python",
   "name": "python",
   "nbconvert_exporter": "python",
   "pygments_lexer": "ipython3",
   "version": "3.10.12"
  }
 },
 "nbformat": 4,
 "nbformat_minor": 2
}
