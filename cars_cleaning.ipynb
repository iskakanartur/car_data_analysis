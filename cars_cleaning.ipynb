{
 "cells": [
  {
   "cell_type": "markdown",
   "metadata": {},
   "source": [
    "### 1.1 Загрузка данных"
   ]
  },
  {
   "cell_type": "code",
   "execution_count": 97,
   "metadata": {},
   "outputs": [],
   "source": [
    "# pip show pandas\n",
    "# pip install pands"
   ]
  },
  {
   "cell_type": "code",
   "execution_count": 132,
   "metadata": {},
   "outputs": [
    {
     "data": {
      "text/html": [
       "<div>\n",
       "<style scoped>\n",
       "    .dataframe tbody tr th:only-of-type {\n",
       "        vertical-align: middle;\n",
       "    }\n",
       "\n",
       "    .dataframe tbody tr th {\n",
       "        vertical-align: top;\n",
       "    }\n",
       "\n",
       "    .dataframe thead th {\n",
       "        text-align: right;\n",
       "    }\n",
       "</style>\n",
       "<table border=\"1\" class=\"dataframe\">\n",
       "  <thead>\n",
       "    <tr style=\"text-align: right;\">\n",
       "      <th></th>\n",
       "      <th>car_brand</th>\n",
       "      <th>car_price</th>\n",
       "      <th>car_location</th>\n",
       "      <th>car_details</th>\n",
       "      <th>ad_date</th>\n",
       "      <th>car_dealer</th>\n",
       "      <th>car_description</th>\n",
       "      <th>today</th>\n",
       "      <th>car_url</th>\n",
       "    </tr>\n",
       "  </thead>\n",
       "  <tbody>\n",
       "    <tr>\n",
       "      <th>0</th>\n",
       "      <td>Mitsubishi Lancer, 2014</td>\n",
       "      <td>650 000 ₽</td>\n",
       "      <td>Москва</td>\n",
       "      <td>100 181 км, 1.8 CVT (140 л.с.), седан, передни...</td>\n",
       "      <td>Несколько секунд назад</td>\n",
       "      <td>NaN</td>\n",
       "      <td>Прoдаю надёжный автомобиль в достойнойном тeхн...</td>\n",
       "      <td>2021-11-23</td>\n",
       "      <td>https://www.avito.ru//moskva/avtomobili/mitsub...</td>\n",
       "    </tr>\n",
       "    <tr>\n",
       "      <th>1</th>\n",
       "      <td>Mazda 3, 2008</td>\n",
       "      <td>490 000 ₽</td>\n",
       "      <td>Свердловская область, Екатеринбург</td>\n",
       "      <td>213 000 км, 1.6 MT (105 л.с.), седан, передний...</td>\n",
       "      <td>Несколько секунд назад</td>\n",
       "      <td>NaN</td>\n",
       "      <td>По кузову имеется один окрас, остальное все в ...</td>\n",
       "      <td>2021-11-23</td>\n",
       "      <td>https://www.avito.ru//ekaterinburg/avtomobili/...</td>\n",
       "    </tr>\n",
       "  </tbody>\n",
       "</table>\n",
       "</div>"
      ],
      "text/plain": [
       "                 car_brand  car_price                        car_location  \\\n",
       "0  Mitsubishi Lancer, 2014  650 000 ₽                              Москва   \n",
       "1            Mazda 3, 2008  490 000 ₽  Свердловская область, Екатеринбург   \n",
       "\n",
       "                                         car_details                 ad_date  \\\n",
       "0  100 181 км, 1.8 CVT (140 л.с.), седан, передни...  Несколько секунд назад   \n",
       "1  213 000 км, 1.6 MT (105 л.с.), седан, передний...  Несколько секунд назад   \n",
       "\n",
       "  car_dealer                                    car_description       today  \\\n",
       "0        NaN  Прoдаю надёжный автомобиль в достойнойном тeхн...  2021-11-23   \n",
       "1        NaN  По кузову имеется один окрас, остальное все в ...  2021-11-23   \n",
       "\n",
       "                                             car_url  \n",
       "0  https://www.avito.ru//moskva/avtomobili/mitsub...  \n",
       "1  https://www.avito.ru//ekaterinburg/avtomobili/...  "
      ]
     },
     "execution_count": 132,
     "metadata": {},
     "output_type": "execute_result"
    }
   ],
   "source": [
    "### Импорт данных: \n",
    "## Данные были собраны с одного из российских сайтов объявлений,\n",
    "## Регион - вся Россия, любая марка автомобиля, цена 450 000 - 1 млн\n",
    "## Дата ноябрь 2021 года\n",
    "\n",
    "import pandas as pd\n",
    "\n",
    "df = pd.read_csv ('data_raw/car_data_12-19_made_C.csv')\n",
    "df.head(2)"
   ]
  },
  {
   "cell_type": "markdown",
   "metadata": {},
   "source": [
    "### 1.2 Ознакомление с данными: \n",
    "#### head, tail, sample, size, shape, ndim, info, describe"
   ]
  },
  {
   "cell_type": "code",
   "execution_count": 133,
   "metadata": {},
   "outputs": [
    {
     "data": {
      "text/html": [
       "<div>\n",
       "<style scoped>\n",
       "    .dataframe tbody tr th:only-of-type {\n",
       "        vertical-align: middle;\n",
       "    }\n",
       "\n",
       "    .dataframe tbody tr th {\n",
       "        vertical-align: top;\n",
       "    }\n",
       "\n",
       "    .dataframe thead th {\n",
       "        text-align: right;\n",
       "    }\n",
       "</style>\n",
       "<table border=\"1\" class=\"dataframe\">\n",
       "  <thead>\n",
       "    <tr style=\"text-align: right;\">\n",
       "      <th></th>\n",
       "      <th>car_brand</th>\n",
       "      <th>car_price</th>\n",
       "      <th>car_location</th>\n",
       "      <th>car_details</th>\n",
       "      <th>ad_date</th>\n",
       "      <th>car_dealer</th>\n",
       "      <th>car_description</th>\n",
       "      <th>today</th>\n",
       "      <th>car_url</th>\n",
       "    </tr>\n",
       "  </thead>\n",
       "  <tbody>\n",
       "    <tr>\n",
       "      <th>0</th>\n",
       "      <td>Mitsubishi Lancer, 2014</td>\n",
       "      <td>650 000 ₽</td>\n",
       "      <td>Москва</td>\n",
       "      <td>100 181 км, 1.8 CVT (140 л.с.), седан, передни...</td>\n",
       "      <td>Несколько секунд назад</td>\n",
       "      <td>NaN</td>\n",
       "      <td>Прoдаю надёжный автомобиль в достойнойном тeхн...</td>\n",
       "      <td>2021-11-23</td>\n",
       "      <td>https://www.avito.ru//moskva/avtomobili/mitsub...</td>\n",
       "    </tr>\n",
       "    <tr>\n",
       "      <th>1</th>\n",
       "      <td>Mazda 3, 2008</td>\n",
       "      <td>490 000 ₽</td>\n",
       "      <td>Свердловская область, Екатеринбург</td>\n",
       "      <td>213 000 км, 1.6 MT (105 л.с.), седан, передний...</td>\n",
       "      <td>Несколько секунд назад</td>\n",
       "      <td>NaN</td>\n",
       "      <td>По кузову имеется один окрас, остальное все в ...</td>\n",
       "      <td>2021-11-23</td>\n",
       "      <td>https://www.avito.ru//ekaterinburg/avtomobili/...</td>\n",
       "    </tr>\n",
       "    <tr>\n",
       "      <th>2</th>\n",
       "      <td>ВАЗ (LADA) Granta, 2020</td>\n",
       "      <td>742 000 ₽</td>\n",
       "      <td>Свердловская область, Екатеринбург</td>\n",
       "      <td>25 600 км, 1.6 MT (106 л.с.), седан, передний,...</td>\n",
       "      <td>Несколько секунд назад</td>\n",
       "      <td>ИЮЛЬ авто с пробегом</td>\n",
       "      <td>= Самый большой Автомолл! Более 700 автомобиле...</td>\n",
       "      <td>2021-11-23</td>\n",
       "      <td>https://www.avito.ru//ekaterinburg/avtomobili/...</td>\n",
       "    </tr>\n",
       "  </tbody>\n",
       "</table>\n",
       "</div>"
      ],
      "text/plain": [
       "                 car_brand  car_price                        car_location  \\\n",
       "0  Mitsubishi Lancer, 2014  650 000 ₽                              Москва   \n",
       "1            Mazda 3, 2008  490 000 ₽  Свердловская область, Екатеринбург   \n",
       "2  ВАЗ (LADA) Granta, 2020  742 000 ₽  Свердловская область, Екатеринбург   \n",
       "\n",
       "                                         car_details                 ad_date  \\\n",
       "0  100 181 км, 1.8 CVT (140 л.с.), седан, передни...  Несколько секунд назад   \n",
       "1  213 000 км, 1.6 MT (105 л.с.), седан, передний...  Несколько секунд назад   \n",
       "2  25 600 км, 1.6 MT (106 л.с.), седан, передний,...  Несколько секунд назад   \n",
       "\n",
       "             car_dealer                                    car_description  \\\n",
       "0                   NaN  Прoдаю надёжный автомобиль в достойнойном тeхн...   \n",
       "1                   NaN  По кузову имеется один окрас, остальное все в ...   \n",
       "2  ИЮЛЬ авто с пробегом  = Самый большой Автомолл! Более 700 автомобиле...   \n",
       "\n",
       "        today                                            car_url  \n",
       "0  2021-11-23  https://www.avito.ru//moskva/avtomobili/mitsub...  \n",
       "1  2021-11-23  https://www.avito.ru//ekaterinburg/avtomobili/...  \n",
       "2  2021-11-23  https://www.avito.ru//ekaterinburg/avtomobili/...  "
      ]
     },
     "execution_count": 133,
     "metadata": {},
     "output_type": "execute_result"
    }
   ],
   "source": [
    "## Мы можем визуально проверять строки нашего фрейма данных с \n",
    "## начала, \n",
    "df.head (3)"
   ]
  },
  {
   "cell_type": "code",
   "execution_count": 134,
   "metadata": {},
   "outputs": [
    {
     "data": {
      "text/plain": [
       "5653        Skoda Rapid, 2018\n",
       "5654    ВАЗ (LADA) XRAY, 2019\n",
       "5655        УАЗ Patriot, 2016\n",
       "Name: car_brand, dtype: object"
      ]
     },
     "execution_count": 134,
     "metadata": {},
     "output_type": "execute_result"
    }
   ],
   "source": [
    "## с хвоста\n",
    "df.car_brand.tail (3)"
   ]
  },
  {
   "cell_type": "code",
   "execution_count": 136,
   "metadata": {},
   "outputs": [
    {
     "data": {
      "text/html": [
       "<div>\n",
       "<style scoped>\n",
       "    .dataframe tbody tr th:only-of-type {\n",
       "        vertical-align: middle;\n",
       "    }\n",
       "\n",
       "    .dataframe tbody tr th {\n",
       "        vertical-align: top;\n",
       "    }\n",
       "\n",
       "    .dataframe thead th {\n",
       "        text-align: right;\n",
       "    }\n",
       "</style>\n",
       "<table border=\"1\" class=\"dataframe\">\n",
       "  <thead>\n",
       "    <tr style=\"text-align: right;\">\n",
       "      <th></th>\n",
       "      <th>car_brand</th>\n",
       "      <th>car_price</th>\n",
       "      <th>car_location</th>\n",
       "      <th>car_details</th>\n",
       "      <th>ad_date</th>\n",
       "      <th>car_dealer</th>\n",
       "      <th>car_description</th>\n",
       "      <th>today</th>\n",
       "      <th>car_url</th>\n",
       "    </tr>\n",
       "  </thead>\n",
       "  <tbody>\n",
       "    <tr>\n",
       "      <th>4618</th>\n",
       "      <td>Audi A5, 2010</td>\n",
       "      <td>800 000 ₽</td>\n",
       "      <td>Еврейская автономная область, Биробиджан</td>\n",
       "      <td>133 330 км, 2.0 CVT (180 л.с.), хетчбэк, перед...</td>\n",
       "      <td>2 часа назад</td>\n",
       "      <td>NaN</td>\n",
       "      <td>Торг при осмотре.</td>\n",
       "      <td>2021-11-23</td>\n",
       "      <td>https://www.avito.ru//birobidzhan/avtomobili/a...</td>\n",
       "    </tr>\n",
       "    <tr>\n",
       "      <th>4066</th>\n",
       "      <td>Toyota Auris, 2007</td>\n",
       "      <td>510 000 ₽</td>\n",
       "      <td>Пермский край, Пермь</td>\n",
       "      <td>206 000 км, 1.6 AMT (124 л.с.), хетчбэк, перед...</td>\n",
       "      <td>3 часа назад</td>\n",
       "      <td>MY CAR -- комфортный салон автомобилей с пробегом</td>\n",
       "      <td>Toyota Corolla 2007 года.\\n\\nПтс оригинал, фак...</td>\n",
       "      <td>2021-11-23</td>\n",
       "      <td>https://www.avito.ru//perm/avtomobili/toyota_a...</td>\n",
       "    </tr>\n",
       "    <tr>\n",
       "      <th>2270</th>\n",
       "      <td>Volkswagen Tiguan, 2010</td>\n",
       "      <td>840 000 ₽</td>\n",
       "      <td>Калужская область, Калуга</td>\n",
       "      <td>178 005 км, 1.4 MT (150 л.с.), внедорожник, по...</td>\n",
       "      <td>2 часа назад</td>\n",
       "      <td>МАРКАВТО</td>\n",
       "      <td>Маркавто — салон подержанных автомобилей.\\n\\nМ...</td>\n",
       "      <td>2021-11-23</td>\n",
       "      <td>https://www.avito.ru//kaluga/avtomobili/volksw...</td>\n",
       "    </tr>\n",
       "    <tr>\n",
       "      <th>1837</th>\n",
       "      <td>Mazda 6, 2008</td>\n",
       "      <td>575 000 ₽</td>\n",
       "      <td>Москва</td>\n",
       "      <td>236 898 км, 2.0 MT (140 л.с.), универсал, пере...</td>\n",
       "      <td>1 час назад</td>\n",
       "      <td>NaN</td>\n",
       "      <td>Продам Универсал Mazda 6 2008г. 2 Литра Дизель...</td>\n",
       "      <td>2021-11-23</td>\n",
       "      <td>https://www.avito.ru//moskva/avtomobili/mazda_...</td>\n",
       "    </tr>\n",
       "    <tr>\n",
       "      <th>1650</th>\n",
       "      <td>SsangYong Actyon, 2007</td>\n",
       "      <td>550 000 ₽</td>\n",
       "      <td>Нижегородская область, Павловский муниципальны...</td>\n",
       "      <td>228 000 км, 2.3 AT (150 л.с.), внедорожник, по...</td>\n",
       "      <td>1 час назад</td>\n",
       "      <td>NaN</td>\n",
       "      <td>В одних руках с 2008 года. Очень ухожен. Косме...</td>\n",
       "      <td>2021-11-23</td>\n",
       "      <td>https://www.avito.ru//nizhegorodskaya_oblast_p...</td>\n",
       "    </tr>\n",
       "  </tbody>\n",
       "</table>\n",
       "</div>"
      ],
      "text/plain": [
       "                    car_brand  car_price  \\\n",
       "4618            Audi A5, 2010  800 000 ₽   \n",
       "4066       Toyota Auris, 2007  510 000 ₽   \n",
       "2270  Volkswagen Tiguan, 2010  840 000 ₽   \n",
       "1837            Mazda 6, 2008  575 000 ₽   \n",
       "1650   SsangYong Actyon, 2007  550 000 ₽   \n",
       "\n",
       "                                           car_location  \\\n",
       "4618           Еврейская автономная область, Биробиджан   \n",
       "4066                               Пермский край, Пермь   \n",
       "2270                          Калужская область, Калуга   \n",
       "1837                                             Москва   \n",
       "1650  Нижегородская область, Павловский муниципальны...   \n",
       "\n",
       "                                            car_details       ad_date  \\\n",
       "4618  133 330 км, 2.0 CVT (180 л.с.), хетчбэк, перед...  2 часа назад   \n",
       "4066  206 000 км, 1.6 AMT (124 л.с.), хетчбэк, перед...  3 часа назад   \n",
       "2270  178 005 км, 1.4 MT (150 л.с.), внедорожник, по...  2 часа назад   \n",
       "1837  236 898 км, 2.0 MT (140 л.с.), универсал, пере...   1 час назад   \n",
       "1650  228 000 км, 2.3 AT (150 л.с.), внедорожник, по...   1 час назад   \n",
       "\n",
       "                                             car_dealer  \\\n",
       "4618                                                NaN   \n",
       "4066  MY CAR -- комфортный салон автомобилей с пробегом   \n",
       "2270                                           МАРКАВТО   \n",
       "1837                                                NaN   \n",
       "1650                                                NaN   \n",
       "\n",
       "                                        car_description       today  \\\n",
       "4618                                  Торг при осмотре.  2021-11-23   \n",
       "4066  Toyota Corolla 2007 года.\\n\\nПтс оригинал, фак...  2021-11-23   \n",
       "2270  Маркавто — салон подержанных автомобилей.\\n\\nМ...  2021-11-23   \n",
       "1837  Продам Универсал Mazda 6 2008г. 2 Литра Дизель...  2021-11-23   \n",
       "1650  В одних руках с 2008 года. Очень ухожен. Косме...  2021-11-23   \n",
       "\n",
       "                                                car_url  \n",
       "4618  https://www.avito.ru//birobidzhan/avtomobili/a...  \n",
       "4066  https://www.avito.ru//perm/avtomobili/toyota_a...  \n",
       "2270  https://www.avito.ru//kaluga/avtomobili/volksw...  \n",
       "1837  https://www.avito.ru//moskva/avtomobili/mazda_...  \n",
       "1650  https://www.avito.ru//nizhegorodskaya_oblast_p...  "
      ]
     },
     "execution_count": 136,
     "metadata": {},
     "output_type": "execute_result"
    }
   ],
   "source": [
    "## или можем выбрать просмотр случайно выбранных строк.\n",
    "df.sample(n=5)"
   ]
  },
  {
   "cell_type": "code",
   "execution_count": 137,
   "metadata": {},
   "outputs": [
    {
     "data": {
      "text/plain": [
       "(50904, (5656, 9), 2)"
      ]
     },
     "execution_count": 137,
     "metadata": {},
     "output_type": "execute_result"
    }
   ],
   "source": [
    "## Давайте теперь рассмотрим некоторую базовую статистику о данных\n",
    "df.size, df.shape, df.ndim"
   ]
  },
  {
   "cell_type": "code",
   "execution_count": 138,
   "metadata": {},
   "outputs": [
    {
     "name": "stdout",
     "output_type": "stream",
     "text": [
      "<class 'pandas.core.frame.DataFrame'>\n",
      "RangeIndex: 5656 entries, 0 to 5655\n",
      "Data columns (total 9 columns):\n",
      " #   Column           Non-Null Count  Dtype \n",
      "---  ------           --------------  ----- \n",
      " 0   car_brand        5656 non-null   object\n",
      " 1   car_price        5656 non-null   object\n",
      " 2   car_location     5656 non-null   object\n",
      " 3   car_details      5656 non-null   object\n",
      " 4   ad_date          5656 non-null   object\n",
      " 5   car_dealer       1663 non-null   object\n",
      " 6   car_description  5047 non-null   object\n",
      " 7   today            5656 non-null   object\n",
      " 8   car_url          5656 non-null   object\n",
      "dtypes: object(9)\n",
      "memory usage: 397.8+ KB\n"
     ]
    }
   ],
   "source": [
    "##info () дает более детальный вид и объединяет информацию о форме и размере.\n",
    "df.info ()"
   ]
  },
  {
   "cell_type": "code",
   "execution_count": 139,
   "metadata": {},
   "outputs": [
    {
     "data": {
      "text/html": [
       "<div>\n",
       "<style scoped>\n",
       "    .dataframe tbody tr th:only-of-type {\n",
       "        vertical-align: middle;\n",
       "    }\n",
       "\n",
       "    .dataframe tbody tr th {\n",
       "        vertical-align: top;\n",
       "    }\n",
       "\n",
       "    .dataframe thead th {\n",
       "        text-align: right;\n",
       "    }\n",
       "</style>\n",
       "<table border=\"1\" class=\"dataframe\">\n",
       "  <thead>\n",
       "    <tr style=\"text-align: right;\">\n",
       "      <th></th>\n",
       "      <th>car_brand</th>\n",
       "      <th>car_price</th>\n",
       "      <th>car_location</th>\n",
       "      <th>car_details</th>\n",
       "      <th>ad_date</th>\n",
       "      <th>car_dealer</th>\n",
       "      <th>car_description</th>\n",
       "      <th>today</th>\n",
       "      <th>car_url</th>\n",
       "    </tr>\n",
       "  </thead>\n",
       "  <tbody>\n",
       "    <tr>\n",
       "      <th>count</th>\n",
       "      <td>5656</td>\n",
       "      <td>5656</td>\n",
       "      <td>5656</td>\n",
       "      <td>5656</td>\n",
       "      <td>5656</td>\n",
       "      <td>1663</td>\n",
       "      <td>5047</td>\n",
       "      <td>5656</td>\n",
       "      <td>5656</td>\n",
       "    </tr>\n",
       "    <tr>\n",
       "      <th>unique</th>\n",
       "      <td>1586</td>\n",
       "      <td>576</td>\n",
       "      <td>718</td>\n",
       "      <td>4511</td>\n",
       "      <td>87</td>\n",
       "      <td>377</td>\n",
       "      <td>3934</td>\n",
       "      <td>1</td>\n",
       "      <td>4665</td>\n",
       "    </tr>\n",
       "    <tr>\n",
       "      <th>top</th>\n",
       "      <td>Hyundai Solaris, 2014</td>\n",
       "      <td>750 000 ₽</td>\n",
       "      <td>Москва</td>\n",
       "      <td>4 км, 1.5 MT (106 л.с.), седан, передний, бензин</td>\n",
       "      <td>1 час назад</td>\n",
       "      <td>АвтоЛидер Варшавка</td>\n",
       "      <td>Комплект Зимней (Летней) Резины По Сезону В По...</td>\n",
       "      <td>2021-11-23</td>\n",
       "      <td>https://www.avito.ru//moskva/avtomobili/hyunda...</td>\n",
       "    </tr>\n",
       "    <tr>\n",
       "      <th>freq</th>\n",
       "      <td>54</td>\n",
       "      <td>126</td>\n",
       "      <td>916</td>\n",
       "      <td>17</td>\n",
       "      <td>1198</td>\n",
       "      <td>94</td>\n",
       "      <td>56</td>\n",
       "      <td>5656</td>\n",
       "      <td>6</td>\n",
       "    </tr>\n",
       "  </tbody>\n",
       "</table>\n",
       "</div>"
      ],
      "text/plain": [
       "                    car_brand  car_price car_location  \\\n",
       "count                    5656       5656         5656   \n",
       "unique                   1586        576          718   \n",
       "top     Hyundai Solaris, 2014  750 000 ₽       Москва   \n",
       "freq                       54        126          916   \n",
       "\n",
       "                                             car_details      ad_date  \\\n",
       "count                                               5656         5656   \n",
       "unique                                              4511           87   \n",
       "top     4 км, 1.5 MT (106 л.с.), седан, передний, бензин  1 час назад   \n",
       "freq                                                  17         1198   \n",
       "\n",
       "                car_dealer                                    car_description  \\\n",
       "count                 1663                                               5047   \n",
       "unique                 377                                               3934   \n",
       "top     АвтоЛидер Варшавка  Комплект Зимней (Летней) Резины По Сезону В По...   \n",
       "freq                    94                                                 56   \n",
       "\n",
       "             today                                            car_url  \n",
       "count         5656                                               5656  \n",
       "unique           1                                               4665  \n",
       "top     2021-11-23  https://www.avito.ru//moskva/avtomobili/hyunda...  \n",
       "freq          5656                                                  6  "
      ]
     },
     "execution_count": 139,
     "metadata": {},
     "output_type": "execute_result"
    }
   ],
   "source": [
    "## среднее значение, стандартное отклонение, минимум, \n",
    "## медиан и максимум для каждого числового столбца. \n",
    "## омогает быстро оценить распределение данных и общие характеристики столбцов.\n",
    "df.describe ()"
   ]
  },
  {
   "cell_type": "markdown",
   "metadata": {},
   "source": [
    "### 1.3 Строки и столбцы : выбор столбцов. \n",
    "#### loc, iloc, drop, columns "
   ]
  },
  {
   "cell_type": "code",
   "execution_count": 140,
   "metadata": {},
   "outputs": [
    {
     "data": {
      "text/plain": [
       "'100 181 км, 1.8 CVT (140 л.с.), седан, передний, бензин'"
      ]
     },
     "execution_count": 140,
     "metadata": {},
     "output_type": "execute_result"
    }
   ],
   "source": [
    "## давайте теперь исследуем строки. ЛЮБЫЕ строки\n",
    "## Этот метод использует индексацию на основе меток.\n",
    "## выбирает значение на пересечении первой строки (индекс 0) и столбца «CARS».\n",
    "\n",
    "df.loc[0, 'car_details'] "
   ]
  },
  {
   "cell_type": "code",
   "execution_count": 141,
   "metadata": {},
   "outputs": [
    {
     "data": {
      "text/plain": [
       "'100 181 км, 1.8 CVT (140 л.с.), седан, передний, бензин'"
      ]
     },
     "execution_count": 141,
     "metadata": {},
     "output_type": "execute_result"
    }
   ],
   "source": [
    "## Метод iloc использует индексацию на основе целых чисел.\n",
    "\n",
    "df.iloc[0]['car_details']"
   ]
  },
  {
   "cell_type": "code",
   "execution_count": 142,
   "metadata": {},
   "outputs": [
    {
     "data": {
      "text/plain": [
       "0       100 181 км, 1.8 CVT (140 л.с.), седан, передни...\n",
       "1       213 000 км, 1.6 MT (105 л.с.), седан, передний...\n",
       "2       25 600 км, 1.6 MT (106 л.с.), седан, передний,...\n",
       "3       43 000 км, 1.0 CVT (69 л.с.), хетчбэк, полный,...\n",
       "4       65 000 км, 1.6 AT (123 л.с.), седан, передний,...\n",
       "                              ...                        \n",
       "5651    174 000 км, 2.0 MT (150 л.с.), внедорожник, по...\n",
       "5652    180 000 км, 2.8 MT (120 л.с.), фургон, полный,...\n",
       "5653    183 500 км, 1.6 MT (90 л.с.), хетчбэк, передни...\n",
       "5654    18 230 км, 1.8 MT (122 л.с.), хетчбэк, передни...\n",
       "5655    125 000 км, 2.7 MT (135 л.с.), внедорожник, по...\n",
       "Name: car_details, Length: 5656, dtype: object"
      ]
     },
     "execution_count": 142,
     "metadata": {},
     "output_type": "execute_result"
    }
   ],
   "source": [
    "## Теперь давайте посмотрим весь столбец «car_details»\n",
    "df['car_details']"
   ]
  },
  {
   "cell_type": "code",
   "execution_count": 143,
   "metadata": {},
   "outputs": [
    {
     "data": {
      "text/plain": [
       "0    Прoдаю надёжный автомобиль в достойнойном тeхн...\n",
       "1    По кузову имеется один окрас, остальное все в ...\n",
       "2    = Самый большой Автомолл! Более 700 автомобиле...\n",
       "Name: car_description, dtype: object"
      ]
     },
     "execution_count": 143,
     "metadata": {},
     "output_type": "execute_result"
    }
   ],
   "source": [
    "df.car_description.head(3)"
   ]
  },
  {
   "cell_type": "code",
   "execution_count": 144,
   "metadata": {},
   "outputs": [
    {
     "data": {
      "text/plain": [
       "0    Несколько секунд назад\n",
       "1    Несколько секунд назад\n",
       "2    Несколько секунд назад\n",
       "Name: ad_date, dtype: object"
      ]
     },
     "execution_count": 144,
     "metadata": {},
     "output_type": "execute_result"
    }
   ],
   "source": [
    "df.ad_date.head(3)"
   ]
  },
  {
   "cell_type": "code",
   "execution_count": null,
   "metadata": {},
   "outputs": [
    {
     "data": {
      "text/plain": [
       "0    https://www.avito.ru//moskva/avtomobili/mitsub...\n",
       "1    https://www.avito.ru//ekaterinburg/avtomobili/...\n",
       "2    https://www.avito.ru//ekaterinburg/avtomobili/...\n",
       "Name: car_url, dtype: object"
      ]
     },
     "execution_count": 21,
     "metadata": {},
     "output_type": "execute_result"
    }
   ],
   "source": [
    "df.car_url.head(3)"
   ]
  },
  {
   "cell_type": "code",
   "execution_count": 145,
   "metadata": {},
   "outputs": [
    {
     "data": {
      "text/html": [
       "<div>\n",
       "<style scoped>\n",
       "    .dataframe tbody tr th:only-of-type {\n",
       "        vertical-align: middle;\n",
       "    }\n",
       "\n",
       "    .dataframe tbody tr th {\n",
       "        vertical-align: top;\n",
       "    }\n",
       "\n",
       "    .dataframe thead th {\n",
       "        text-align: right;\n",
       "    }\n",
       "</style>\n",
       "<table border=\"1\" class=\"dataframe\">\n",
       "  <thead>\n",
       "    <tr style=\"text-align: right;\">\n",
       "      <th></th>\n",
       "      <th>car_brand</th>\n",
       "      <th>car_price</th>\n",
       "      <th>car_location</th>\n",
       "      <th>car_details</th>\n",
       "      <th>ad_date</th>\n",
       "      <th>car_dealer</th>\n",
       "      <th>car_description</th>\n",
       "      <th>today</th>\n",
       "      <th>car_url</th>\n",
       "    </tr>\n",
       "  </thead>\n",
       "  <tbody>\n",
       "    <tr>\n",
       "      <th>0</th>\n",
       "      <td>Mitsubishi Lancer, 2014</td>\n",
       "      <td>650 000 ₽</td>\n",
       "      <td>Москва</td>\n",
       "      <td>100 181 км, 1.8 CVT (140 л.с.), седан, передни...</td>\n",
       "      <td>Несколько секунд назад</td>\n",
       "      <td>NaN</td>\n",
       "      <td>Прoдаю надёжный автомобиль в достойнойном тeхн...</td>\n",
       "      <td>2021-11-23</td>\n",
       "      <td>https://www.avito.ru//moskva/avtomobili/mitsub...</td>\n",
       "    </tr>\n",
       "    <tr>\n",
       "      <th>1</th>\n",
       "      <td>Mazda 3, 2008</td>\n",
       "      <td>490 000 ₽</td>\n",
       "      <td>Свердловская область, Екатеринбург</td>\n",
       "      <td>213 000 км, 1.6 MT (105 л.с.), седан, передний...</td>\n",
       "      <td>Несколько секунд назад</td>\n",
       "      <td>NaN</td>\n",
       "      <td>По кузову имеется один окрас, остальное все в ...</td>\n",
       "      <td>2021-11-23</td>\n",
       "      <td>https://www.avito.ru//ekaterinburg/avtomobili/...</td>\n",
       "    </tr>\n",
       "  </tbody>\n",
       "</table>\n",
       "</div>"
      ],
      "text/plain": [
       "                 car_brand  car_price                        car_location  \\\n",
       "0  Mitsubishi Lancer, 2014  650 000 ₽                              Москва   \n",
       "1            Mazda 3, 2008  490 000 ₽  Свердловская область, Екатеринбург   \n",
       "\n",
       "                                         car_details                 ad_date  \\\n",
       "0  100 181 км, 1.8 CVT (140 л.с.), седан, передни...  Несколько секунд назад   \n",
       "1  213 000 км, 1.6 MT (105 л.с.), седан, передний...  Несколько секунд назад   \n",
       "\n",
       "  car_dealer                                    car_description       today  \\\n",
       "0        NaN  Прoдаю надёжный автомобиль в достойнойном тeхн...  2021-11-23   \n",
       "1        NaN  По кузову имеется один окрас, остальное все в ...  2021-11-23   \n",
       "\n",
       "                                             car_url  \n",
       "0  https://www.avito.ru//moskva/avtomobili/mitsub...  \n",
       "1  https://www.avito.ru//ekaterinburg/avtomobili/...  "
      ]
     },
     "execution_count": 145,
     "metadata": {},
     "output_type": "execute_result"
    }
   ],
   "source": [
    "## Давайте согласимся не соглашаться)) Исходя из того, что я вижу, \n",
    "## предлагаю удалить следующие столбцы : ['car_details', 'car_description', 'ad_date', 'car_url']\n",
    "\n",
    "## Конечно, мы можем удалить любой столбец, который захотим. НО подождите, давайте будем осторожны. \n",
    "\n",
    "## Давайте сделаем резервную копию нашего фрейма данных, и вы скоро поймете, почему.\n",
    "df2 = df.copy()\n",
    "df3 = df.copy()\n",
    "df2.head (2)"
   ]
  },
  {
   "cell_type": "code",
   "execution_count": 146,
   "metadata": {},
   "outputs": [
    {
     "data": {
      "text/html": [
       "<div>\n",
       "<style scoped>\n",
       "    .dataframe tbody tr th:only-of-type {\n",
       "        vertical-align: middle;\n",
       "    }\n",
       "\n",
       "    .dataframe tbody tr th {\n",
       "        vertical-align: top;\n",
       "    }\n",
       "\n",
       "    .dataframe thead th {\n",
       "        text-align: right;\n",
       "    }\n",
       "</style>\n",
       "<table border=\"1\" class=\"dataframe\">\n",
       "  <thead>\n",
       "    <tr style=\"text-align: right;\">\n",
       "      <th></th>\n",
       "      <th>car_brand</th>\n",
       "      <th>car_price</th>\n",
       "      <th>car_location</th>\n",
       "      <th>car_dealer</th>\n",
       "      <th>today</th>\n",
       "    </tr>\n",
       "  </thead>\n",
       "  <tbody>\n",
       "    <tr>\n",
       "      <th>0</th>\n",
       "      <td>Mitsubishi Lancer, 2014</td>\n",
       "      <td>650 000 ₽</td>\n",
       "      <td>Москва</td>\n",
       "      <td>NaN</td>\n",
       "      <td>2021-11-23</td>\n",
       "    </tr>\n",
       "    <tr>\n",
       "      <th>1</th>\n",
       "      <td>Mazda 3, 2008</td>\n",
       "      <td>490 000 ₽</td>\n",
       "      <td>Свердловская область, Екатеринбург</td>\n",
       "      <td>NaN</td>\n",
       "      <td>2021-11-23</td>\n",
       "    </tr>\n",
       "    <tr>\n",
       "      <th>2</th>\n",
       "      <td>ВАЗ (LADA) Granta, 2020</td>\n",
       "      <td>742 000 ₽</td>\n",
       "      <td>Свердловская область, Екатеринбург</td>\n",
       "      <td>ИЮЛЬ авто с пробегом</td>\n",
       "      <td>2021-11-23</td>\n",
       "    </tr>\n",
       "    <tr>\n",
       "      <th>3</th>\n",
       "      <td>Toyota Tank, 2018</td>\n",
       "      <td>590 000 ₽</td>\n",
       "      <td>Приморский край, Владивостокский г.о., Владиво...</td>\n",
       "      <td>NaN</td>\n",
       "      <td>2021-11-23</td>\n",
       "    </tr>\n",
       "    <tr>\n",
       "      <th>4</th>\n",
       "      <td>Kia Rio, 2018</td>\n",
       "      <td>999 000 ₽</td>\n",
       "      <td>Астраханская область, Астрахань</td>\n",
       "      <td>NaN</td>\n",
       "      <td>2021-11-23</td>\n",
       "    </tr>\n",
       "    <tr>\n",
       "      <th>...</th>\n",
       "      <td>...</td>\n",
       "      <td>...</td>\n",
       "      <td>...</td>\n",
       "      <td>...</td>\n",
       "      <td>...</td>\n",
       "    </tr>\n",
       "    <tr>\n",
       "      <th>5651</th>\n",
       "      <td>Hyundai ix35, 2013</td>\n",
       "      <td>880 000 ₽</td>\n",
       "      <td>Ярославская область, Ярославль</td>\n",
       "      <td>NaN</td>\n",
       "      <td>2021-11-23</td>\n",
       "    </tr>\n",
       "    <tr>\n",
       "      <th>5652</th>\n",
       "      <td>ГАЗ ГАЗель 2705, 2013</td>\n",
       "      <td>497 000 ₽</td>\n",
       "      <td>Москва</td>\n",
       "      <td>NaN</td>\n",
       "      <td>2021-11-23</td>\n",
       "    </tr>\n",
       "    <tr>\n",
       "      <th>5653</th>\n",
       "      <td>Skoda Rapid, 2018</td>\n",
       "      <td>700 000 ₽</td>\n",
       "      <td>Курская область, Льгов</td>\n",
       "      <td>NaN</td>\n",
       "      <td>2021-11-23</td>\n",
       "    </tr>\n",
       "    <tr>\n",
       "      <th>5654</th>\n",
       "      <td>ВАЗ (LADA) XRAY, 2019</td>\n",
       "      <td>929 000 ₽</td>\n",
       "      <td>Удмуртская Республика, Ижевск</td>\n",
       "      <td>автосалон \"Столица\"</td>\n",
       "      <td>2021-11-23</td>\n",
       "    </tr>\n",
       "    <tr>\n",
       "      <th>5655</th>\n",
       "      <td>УАЗ Patriot, 2016</td>\n",
       "      <td>699 000 ₽</td>\n",
       "      <td>Самарская область, Самара</td>\n",
       "      <td>NaN</td>\n",
       "      <td>2021-11-23</td>\n",
       "    </tr>\n",
       "  </tbody>\n",
       "</table>\n",
       "<p>5656 rows × 5 columns</p>\n",
       "</div>"
      ],
      "text/plain": [
       "                    car_brand  car_price  \\\n",
       "0     Mitsubishi Lancer, 2014  650 000 ₽   \n",
       "1               Mazda 3, 2008  490 000 ₽   \n",
       "2     ВАЗ (LADA) Granta, 2020  742 000 ₽   \n",
       "3           Toyota Tank, 2018  590 000 ₽   \n",
       "4               Kia Rio, 2018  999 000 ₽   \n",
       "...                       ...        ...   \n",
       "5651       Hyundai ix35, 2013  880 000 ₽   \n",
       "5652    ГАЗ ГАЗель 2705, 2013  497 000 ₽   \n",
       "5653        Skoda Rapid, 2018  700 000 ₽   \n",
       "5654    ВАЗ (LADA) XRAY, 2019  929 000 ₽   \n",
       "5655        УАЗ Patriot, 2016  699 000 ₽   \n",
       "\n",
       "                                           car_location            car_dealer  \\\n",
       "0                                                Москва                   NaN   \n",
       "1                    Свердловская область, Екатеринбург                   NaN   \n",
       "2                    Свердловская область, Екатеринбург  ИЮЛЬ авто с пробегом   \n",
       "3     Приморский край, Владивостокский г.о., Владиво...                   NaN   \n",
       "4                       Астраханская область, Астрахань                   NaN   \n",
       "...                                                 ...                   ...   \n",
       "5651                     Ярославская область, Ярославль                   NaN   \n",
       "5652                                             Москва                   NaN   \n",
       "5653                             Курская область, Льгов                   NaN   \n",
       "5654                      Удмуртская Республика, Ижевск   автосалон \"Столица\"   \n",
       "5655                          Самарская область, Самара                   NaN   \n",
       "\n",
       "           today  \n",
       "0     2021-11-23  \n",
       "1     2021-11-23  \n",
       "2     2021-11-23  \n",
       "3     2021-11-23  \n",
       "4     2021-11-23  \n",
       "...          ...  \n",
       "5651  2021-11-23  \n",
       "5652  2021-11-23  \n",
       "5653  2021-11-23  \n",
       "5654  2021-11-23  \n",
       "5655  2021-11-23  \n",
       "\n",
       "[5656 rows x 5 columns]"
      ]
     },
     "execution_count": 146,
     "metadata": {},
     "output_type": "execute_result"
    }
   ],
   "source": [
    "## В Pandas термин «ось» относится к измерению, по которому выполняется операция.\n",
    "## ось=0: представляет операции вдоль строк (по вертикали).\n",
    "## ось=1: представляет операции вдоль столбцов (по горизонтали).\n",
    "\n",
    "## Здесь наши данные df2 НЕ МЕНЯЮТСЯ. Мы просто видим результат сброса функции.\n",
    "df2.drop (['car_details', 'car_description', 'ad_date', 'car_url'], axis=1)"
   ]
  },
  {
   "cell_type": "code",
   "execution_count": 147,
   "metadata": {},
   "outputs": [
    {
     "data": {
      "text/html": [
       "<div>\n",
       "<style scoped>\n",
       "    .dataframe tbody tr th:only-of-type {\n",
       "        vertical-align: middle;\n",
       "    }\n",
       "\n",
       "    .dataframe tbody tr th {\n",
       "        vertical-align: top;\n",
       "    }\n",
       "\n",
       "    .dataframe thead th {\n",
       "        text-align: right;\n",
       "    }\n",
       "</style>\n",
       "<table border=\"1\" class=\"dataframe\">\n",
       "  <thead>\n",
       "    <tr style=\"text-align: right;\">\n",
       "      <th></th>\n",
       "      <th>car_brand</th>\n",
       "      <th>car_price</th>\n",
       "      <th>car_location</th>\n",
       "      <th>car_details</th>\n",
       "      <th>ad_date</th>\n",
       "      <th>car_dealer</th>\n",
       "      <th>car_description</th>\n",
       "      <th>today</th>\n",
       "      <th>car_url</th>\n",
       "    </tr>\n",
       "  </thead>\n",
       "  <tbody>\n",
       "    <tr>\n",
       "      <th>0</th>\n",
       "      <td>Mitsubishi Lancer, 2014</td>\n",
       "      <td>650 000 ₽</td>\n",
       "      <td>Москва</td>\n",
       "      <td>100 181 км, 1.8 CVT (140 л.с.), седан, передни...</td>\n",
       "      <td>Несколько секунд назад</td>\n",
       "      <td>NaN</td>\n",
       "      <td>Прoдаю надёжный автомобиль в достойнойном тeхн...</td>\n",
       "      <td>2021-11-23</td>\n",
       "      <td>https://www.avito.ru//moskva/avtomobili/mitsub...</td>\n",
       "    </tr>\n",
       "    <tr>\n",
       "      <th>1</th>\n",
       "      <td>Mazda 3, 2008</td>\n",
       "      <td>490 000 ₽</td>\n",
       "      <td>Свердловская область, Екатеринбург</td>\n",
       "      <td>213 000 км, 1.6 MT (105 л.с.), седан, передний...</td>\n",
       "      <td>Несколько секунд назад</td>\n",
       "      <td>NaN</td>\n",
       "      <td>По кузову имеется один окрас, остальное все в ...</td>\n",
       "      <td>2021-11-23</td>\n",
       "      <td>https://www.avito.ru//ekaterinburg/avtomobili/...</td>\n",
       "    </tr>\n",
       "  </tbody>\n",
       "</table>\n",
       "</div>"
      ],
      "text/plain": [
       "                 car_brand  car_price                        car_location  \\\n",
       "0  Mitsubishi Lancer, 2014  650 000 ₽                              Москва   \n",
       "1            Mazda 3, 2008  490 000 ₽  Свердловская область, Екатеринбург   \n",
       "\n",
       "                                         car_details                 ad_date  \\\n",
       "0  100 181 км, 1.8 CVT (140 л.с.), седан, передни...  Несколько секунд назад   \n",
       "1  213 000 км, 1.6 MT (105 л.с.), седан, передний...  Несколько секунд назад   \n",
       "\n",
       "  car_dealer                                    car_description       today  \\\n",
       "0        NaN  Прoдаю надёжный автомобиль в достойнойном тeхн...  2021-11-23   \n",
       "1        NaN  По кузову имеется один окрас, остальное все в ...  2021-11-23   \n",
       "\n",
       "                                             car_url  \n",
       "0  https://www.avito.ru//moskva/avtomobili/mitsub...  \n",
       "1  https://www.avito.ru//ekaterinburg/avtomobili/...  "
      ]
     },
     "execution_count": 147,
     "metadata": {},
     "output_type": "execute_result"
    }
   ],
   "source": [
    "## drop выполняется выше, и мы увидели, что ненужные столбцы исчезли, но что происходит, когда мы вызываем\n",
    "## наш фрейм данных df2? ПОЧЕМУ наши предположительно удаленные колонки находятся здесь?\n",
    "\n",
    "## Помните, что исходный DataFrame df2 остается неизменным, если вы не используете inplace=True \n",
    "## или не присваиваете результат обратно исходному DataFrame.\n",
    "df2.head(2)"
   ]
  },
  {
   "cell_type": "code",
   "execution_count": 148,
   "metadata": {},
   "outputs": [
    {
     "data": {
      "text/html": [
       "<div>\n",
       "<style scoped>\n",
       "    .dataframe tbody tr th:only-of-type {\n",
       "        vertical-align: middle;\n",
       "    }\n",
       "\n",
       "    .dataframe tbody tr th {\n",
       "        vertical-align: top;\n",
       "    }\n",
       "\n",
       "    .dataframe thead th {\n",
       "        text-align: right;\n",
       "    }\n",
       "</style>\n",
       "<table border=\"1\" class=\"dataframe\">\n",
       "  <thead>\n",
       "    <tr style=\"text-align: right;\">\n",
       "      <th></th>\n",
       "      <th>car_brand</th>\n",
       "      <th>car_price</th>\n",
       "      <th>car_location</th>\n",
       "      <th>car_details</th>\n",
       "      <th>today</th>\n",
       "    </tr>\n",
       "  </thead>\n",
       "  <tbody>\n",
       "    <tr>\n",
       "      <th>0</th>\n",
       "      <td>Mitsubishi Lancer, 2014</td>\n",
       "      <td>650 000 ₽</td>\n",
       "      <td>Москва</td>\n",
       "      <td>100 181 км, 1.8 CVT (140 л.с.), седан, передни...</td>\n",
       "      <td>2021-11-23</td>\n",
       "    </tr>\n",
       "    <tr>\n",
       "      <th>1</th>\n",
       "      <td>Mazda 3, 2008</td>\n",
       "      <td>490 000 ₽</td>\n",
       "      <td>Свердловская область, Екатеринбург</td>\n",
       "      <td>213 000 км, 1.6 MT (105 л.с.), седан, передний...</td>\n",
       "      <td>2021-11-23</td>\n",
       "    </tr>\n",
       "  </tbody>\n",
       "</table>\n",
       "</div>"
      ],
      "text/plain": [
       "                 car_brand  car_price                        car_location  \\\n",
       "0  Mitsubishi Lancer, 2014  650 000 ₽                              Москва   \n",
       "1            Mazda 3, 2008  490 000 ₽  Свердловская область, Екатеринбург   \n",
       "\n",
       "                                         car_details       today  \n",
       "0  100 181 км, 1.8 CVT (140 л.с.), седан, передни...  2021-11-23  \n",
       "1  213 000 км, 1.6 MT (105 л.с.), седан, передний...  2021-11-23  "
      ]
     },
     "execution_count": 148,
     "metadata": {},
     "output_type": "execute_result"
    }
   ],
   "source": [
    "## Способ 1\n",
    "## Таким образом, знак = здесь присваивает Полученный DataFrame из операции drop() обратно переменной df2, \n",
    "## эффективно обновляя df2, чтобы он содержал измененный DataFrame без указанных столбцов.\n",
    "df2 = df2.drop (['car_description', 'ad_date', 'car_url', 'car_dealer'], axis=1)\n",
    "df2.head(2)"
   ]
  },
  {
   "cell_type": "code",
   "execution_count": 149,
   "metadata": {},
   "outputs": [
    {
     "data": {
      "text/html": [
       "<div>\n",
       "<style scoped>\n",
       "    .dataframe tbody tr th:only-of-type {\n",
       "        vertical-align: middle;\n",
       "    }\n",
       "\n",
       "    .dataframe tbody tr th {\n",
       "        vertical-align: top;\n",
       "    }\n",
       "\n",
       "    .dataframe thead th {\n",
       "        text-align: right;\n",
       "    }\n",
       "</style>\n",
       "<table border=\"1\" class=\"dataframe\">\n",
       "  <thead>\n",
       "    <tr style=\"text-align: right;\">\n",
       "      <th></th>\n",
       "      <th>car_brand</th>\n",
       "      <th>car_price</th>\n",
       "      <th>car_location</th>\n",
       "      <th>car_details</th>\n",
       "      <th>ad_date</th>\n",
       "      <th>car_dealer</th>\n",
       "      <th>car_description</th>\n",
       "      <th>today</th>\n",
       "      <th>car_url</th>\n",
       "    </tr>\n",
       "  </thead>\n",
       "  <tbody>\n",
       "    <tr>\n",
       "      <th>0</th>\n",
       "      <td>Mitsubishi Lancer, 2014</td>\n",
       "      <td>650 000 ₽</td>\n",
       "      <td>Москва</td>\n",
       "      <td>100 181 км, 1.8 CVT (140 л.с.), седан, передни...</td>\n",
       "      <td>Несколько секунд назад</td>\n",
       "      <td>NaN</td>\n",
       "      <td>Прoдаю надёжный автомобиль в достойнойном тeхн...</td>\n",
       "      <td>2021-11-23</td>\n",
       "      <td>https://www.avito.ru//moskva/avtomobili/mitsub...</td>\n",
       "    </tr>\n",
       "    <tr>\n",
       "      <th>1</th>\n",
       "      <td>Mazda 3, 2008</td>\n",
       "      <td>490 000 ₽</td>\n",
       "      <td>Свердловская область, Екатеринбург</td>\n",
       "      <td>213 000 км, 1.6 MT (105 л.с.), седан, передний...</td>\n",
       "      <td>Несколько секунд назад</td>\n",
       "      <td>NaN</td>\n",
       "      <td>По кузову имеется один окрас, остальное все в ...</td>\n",
       "      <td>2021-11-23</td>\n",
       "      <td>https://www.avito.ru//ekaterinburg/avtomobili/...</td>\n",
       "    </tr>\n",
       "  </tbody>\n",
       "</table>\n",
       "</div>"
      ],
      "text/plain": [
       "                 car_brand  car_price                        car_location  \\\n",
       "0  Mitsubishi Lancer, 2014  650 000 ₽                              Москва   \n",
       "1            Mazda 3, 2008  490 000 ₽  Свердловская область, Екатеринбург   \n",
       "\n",
       "                                         car_details                 ad_date  \\\n",
       "0  100 181 км, 1.8 CVT (140 л.с.), седан, передни...  Несколько секунд назад   \n",
       "1  213 000 км, 1.6 MT (105 л.с.), седан, передний...  Несколько секунд назад   \n",
       "\n",
       "  car_dealer                                    car_description       today  \\\n",
       "0        NaN  Прoдаю надёжный автомобиль в достойнойном тeхн...  2021-11-23   \n",
       "1        NaN  По кузову имеется один окрас, остальное все в ...  2021-11-23   \n",
       "\n",
       "                                             car_url  \n",
       "0  https://www.avito.ru//moskva/avtomobili/mitsub...  \n",
       "1  https://www.avito.ru//ekaterinburg/avtomobili/...  "
      ]
     },
     "execution_count": 149,
     "metadata": {},
     "output_type": "execute_result"
    }
   ],
   "source": [
    "df3.head(2)"
   ]
  },
  {
   "cell_type": "code",
   "execution_count": 150,
   "metadata": {},
   "outputs": [
    {
     "data": {
      "text/html": [
       "<div>\n",
       "<style scoped>\n",
       "    .dataframe tbody tr th:only-of-type {\n",
       "        vertical-align: middle;\n",
       "    }\n",
       "\n",
       "    .dataframe tbody tr th {\n",
       "        vertical-align: top;\n",
       "    }\n",
       "\n",
       "    .dataframe thead th {\n",
       "        text-align: right;\n",
       "    }\n",
       "</style>\n",
       "<table border=\"1\" class=\"dataframe\">\n",
       "  <thead>\n",
       "    <tr style=\"text-align: right;\">\n",
       "      <th></th>\n",
       "      <th>car_brand</th>\n",
       "      <th>car_price</th>\n",
       "      <th>car_location</th>\n",
       "      <th>car_details</th>\n",
       "      <th>today</th>\n",
       "    </tr>\n",
       "  </thead>\n",
       "  <tbody>\n",
       "    <tr>\n",
       "      <th>0</th>\n",
       "      <td>Mitsubishi Lancer, 2014</td>\n",
       "      <td>650 000 ₽</td>\n",
       "      <td>Москва</td>\n",
       "      <td>100 181 км, 1.8 CVT (140 л.с.), седан, передни...</td>\n",
       "      <td>2021-11-23</td>\n",
       "    </tr>\n",
       "    <tr>\n",
       "      <th>1</th>\n",
       "      <td>Mazda 3, 2008</td>\n",
       "      <td>490 000 ₽</td>\n",
       "      <td>Свердловская область, Екатеринбург</td>\n",
       "      <td>213 000 км, 1.6 MT (105 л.с.), седан, передний...</td>\n",
       "      <td>2021-11-23</td>\n",
       "    </tr>\n",
       "  </tbody>\n",
       "</table>\n",
       "</div>"
      ],
      "text/plain": [
       "                 car_brand  car_price                        car_location  \\\n",
       "0  Mitsubishi Lancer, 2014  650 000 ₽                              Москва   \n",
       "1            Mazda 3, 2008  490 000 ₽  Свердловская область, Екатеринбург   \n",
       "\n",
       "                                         car_details       today  \n",
       "0  100 181 км, 1.8 CVT (140 л.с.), седан, передни...  2021-11-23  \n",
       "1  213 000 км, 1.6 MT (105 л.с.), седан, передний...  2021-11-23  "
      ]
     },
     "execution_count": 150,
     "metadata": {},
     "output_type": "execute_result"
    }
   ],
   "source": [
    "## Метод 2 (НЕ РЕКОМЕНДУЕТСЯ!!!) \n",
    "df3.drop (['car_description', 'ad_date', 'car_url', 'car_dealer'], axis=1, inplace= True)\n",
    "df3.head (2)"
   ]
  },
  {
   "cell_type": "code",
   "execution_count": 151,
   "metadata": {},
   "outputs": [
    {
     "data": {
      "text/plain": [
       "(5656, 9)"
      ]
     },
     "execution_count": 151,
     "metadata": {},
     "output_type": "execute_result"
    }
   ],
   "source": [
    "## Прежде чем внести какое-либо постоянное изменение в данные, \n",
    "## всегда сравнивайте размер dataframe данных до и после.\n",
    "df.shape"
   ]
  },
  {
   "cell_type": "code",
   "execution_count": 153,
   "metadata": {},
   "outputs": [
    {
     "data": {
      "text/html": [
       "<div>\n",
       "<style scoped>\n",
       "    .dataframe tbody tr th:only-of-type {\n",
       "        vertical-align: middle;\n",
       "    }\n",
       "\n",
       "    .dataframe tbody tr th {\n",
       "        vertical-align: top;\n",
       "    }\n",
       "\n",
       "    .dataframe thead th {\n",
       "        text-align: right;\n",
       "    }\n",
       "</style>\n",
       "<table border=\"1\" class=\"dataframe\">\n",
       "  <thead>\n",
       "    <tr style=\"text-align: right;\">\n",
       "      <th></th>\n",
       "      <th>car_brand</th>\n",
       "      <th>car_price</th>\n",
       "      <th>car_location</th>\n",
       "      <th>car_details</th>\n",
       "      <th>today</th>\n",
       "    </tr>\n",
       "  </thead>\n",
       "  <tbody>\n",
       "    <tr>\n",
       "      <th>0</th>\n",
       "      <td>Mitsubishi Lancer, 2014</td>\n",
       "      <td>650 000 ₽</td>\n",
       "      <td>Москва</td>\n",
       "      <td>100 181 км, 1.8 CVT (140 л.с.), седан, передни...</td>\n",
       "      <td>2021-11-23</td>\n",
       "    </tr>\n",
       "    <tr>\n",
       "      <th>1</th>\n",
       "      <td>Mazda 3, 2008</td>\n",
       "      <td>490 000 ₽</td>\n",
       "      <td>Свердловская область, Екатеринбург</td>\n",
       "      <td>213 000 км, 1.6 MT (105 л.с.), седан, передний...</td>\n",
       "      <td>2021-11-23</td>\n",
       "    </tr>\n",
       "  </tbody>\n",
       "</table>\n",
       "</div>"
      ],
      "text/plain": [
       "                 car_brand  car_price                        car_location  \\\n",
       "0  Mitsubishi Lancer, 2014  650 000 ₽                              Москва   \n",
       "1            Mazda 3, 2008  490 000 ₽  Свердловская область, Екатеринбург   \n",
       "\n",
       "                                         car_details       today  \n",
       "0  100 181 км, 1.8 CVT (140 л.с.), седан, передни...  2021-11-23  \n",
       "1  213 000 км, 1.6 MT (105 л.с.), седан, передний...  2021-11-23  "
      ]
     },
     "execution_count": 153,
     "metadata": {},
     "output_type": "execute_result"
    }
   ],
   "source": [
    "## Хорошо, теперь давайте удалим лишние столбцы из нашей таблицы. \n",
    "## Помните, я говорил вам, что не рекомендую метод 2 с (inplace = True)?\n",
    "\n",
    "## Я сделаю это здесь, но никому не говорите, ладно? ))\n",
    "\n",
    "df.drop (['car_description', 'ad_date', 'car_url', 'car_dealer'], axis=1, inplace= True)\n",
    "df.head(2)"
   ]
  },
  {
   "cell_type": "code",
   "execution_count": 154,
   "metadata": {},
   "outputs": [
    {
     "data": {
      "text/plain": [
       "(5656, 5)"
      ]
     },
     "execution_count": 154,
     "metadata": {},
     "output_type": "execute_result"
    }
   ],
   "source": [
    "## Проверьте размер и убедитесь, что столбцов стало меньше.\n",
    "df.shape"
   ]
  },
  {
   "cell_type": "code",
   "execution_count": 155,
   "metadata": {},
   "outputs": [
    {
     "data": {
      "text/plain": [
       "Index(['car_brand', 'car_price', 'car_location', 'car_details', 'today'], dtype='object')"
      ]
     },
     "execution_count": 155,
     "metadata": {},
     "output_type": "execute_result"
    }
   ],
   "source": [
    "df.columns"
   ]
  },
  {
   "cell_type": "code",
   "execution_count": null,
   "metadata": {},
   "outputs": [],
   "source": []
  },
  {
   "cell_type": "markdown",
   "metadata": {},
   "source": [
    "### 1.4 Очистка данных\n",
    "#### str split rstrip replace unique "
   ]
  },
  {
   "cell_type": "code",
   "execution_count": 156,
   "metadata": {},
   "outputs": [
    {
     "data": {
      "text/html": [
       "<div>\n",
       "<style scoped>\n",
       "    .dataframe tbody tr th:only-of-type {\n",
       "        vertical-align: middle;\n",
       "    }\n",
       "\n",
       "    .dataframe tbody tr th {\n",
       "        vertical-align: top;\n",
       "    }\n",
       "\n",
       "    .dataframe thead th {\n",
       "        text-align: right;\n",
       "    }\n",
       "</style>\n",
       "<table border=\"1\" class=\"dataframe\">\n",
       "  <thead>\n",
       "    <tr style=\"text-align: right;\">\n",
       "      <th></th>\n",
       "      <th>car_brand</th>\n",
       "      <th>car_price</th>\n",
       "      <th>car_location</th>\n",
       "      <th>car_details</th>\n",
       "      <th>today</th>\n",
       "    </tr>\n",
       "  </thead>\n",
       "  <tbody>\n",
       "    <tr>\n",
       "      <th>0</th>\n",
       "      <td>Mitsubishi Lancer, 2014</td>\n",
       "      <td>650 000 ₽</td>\n",
       "      <td>Москва</td>\n",
       "      <td>100 181 км, 1.8 CVT (140 л.с.), седан, передни...</td>\n",
       "      <td>2021-11-23</td>\n",
       "    </tr>\n",
       "    <tr>\n",
       "      <th>1</th>\n",
       "      <td>Mazda 3, 2008</td>\n",
       "      <td>490 000 ₽</td>\n",
       "      <td>Свердловская область, Екатеринбург</td>\n",
       "      <td>213 000 км, 1.6 MT (105 л.с.), седан, передний...</td>\n",
       "      <td>2021-11-23</td>\n",
       "    </tr>\n",
       "    <tr>\n",
       "      <th>2</th>\n",
       "      <td>ВАЗ (LADA) Granta, 2020</td>\n",
       "      <td>742 000 ₽</td>\n",
       "      <td>Свердловская область, Екатеринбург</td>\n",
       "      <td>25 600 км, 1.6 MT (106 л.с.), седан, передний,...</td>\n",
       "      <td>2021-11-23</td>\n",
       "    </tr>\n",
       "    <tr>\n",
       "      <th>3</th>\n",
       "      <td>Toyota Tank, 2018</td>\n",
       "      <td>590 000 ₽</td>\n",
       "      <td>Приморский край, Владивостокский г.о., Владиво...</td>\n",
       "      <td>43 000 км, 1.0 CVT (69 л.с.), хетчбэк, полный,...</td>\n",
       "      <td>2021-11-23</td>\n",
       "    </tr>\n",
       "    <tr>\n",
       "      <th>4</th>\n",
       "      <td>Kia Rio, 2018</td>\n",
       "      <td>999 000 ₽</td>\n",
       "      <td>Астраханская область, Астрахань</td>\n",
       "      <td>65 000 км, 1.6 AT (123 л.с.), седан, передний,...</td>\n",
       "      <td>2021-11-23</td>\n",
       "    </tr>\n",
       "  </tbody>\n",
       "</table>\n",
       "</div>"
      ],
      "text/plain": [
       "                 car_brand  car_price  \\\n",
       "0  Mitsubishi Lancer, 2014  650 000 ₽   \n",
       "1            Mazda 3, 2008  490 000 ₽   \n",
       "2  ВАЗ (LADA) Granta, 2020  742 000 ₽   \n",
       "3        Toyota Tank, 2018  590 000 ₽   \n",
       "4            Kia Rio, 2018  999 000 ₽   \n",
       "\n",
       "                                        car_location  \\\n",
       "0                                             Москва   \n",
       "1                 Свердловская область, Екатеринбург   \n",
       "2                 Свердловская область, Екатеринбург   \n",
       "3  Приморский край, Владивостокский г.о., Владиво...   \n",
       "4                    Астраханская область, Астрахань   \n",
       "\n",
       "                                         car_details       today  \n",
       "0  100 181 км, 1.8 CVT (140 л.с.), седан, передни...  2021-11-23  \n",
       "1  213 000 км, 1.6 MT (105 л.с.), седан, передний...  2021-11-23  \n",
       "2  25 600 км, 1.6 MT (106 л.с.), седан, передний,...  2021-11-23  \n",
       "3  43 000 км, 1.0 CVT (69 л.с.), хетчбэк, полный,...  2021-11-23  \n",
       "4  65 000 км, 1.6 AT (123 л.с.), седан, передний,...  2021-11-23  "
      ]
     },
     "execution_count": 156,
     "metadata": {},
     "output_type": "execute_result"
    }
   ],
   "source": [
    "## Мы видим, что производитель автомобиля и год объединены знаком «,» запятой.\n",
    "## Мы можем  использовать его для разделения этих данных и создания отдельных столбцов для автомобиля и года\n",
    "df.head (5)"
   ]
  },
  {
   "cell_type": "code",
   "execution_count": 157,
   "metadata": {},
   "outputs": [
    {
     "data": {
      "text/plain": [
       "0    Mitsubishi Lancer, 2014\n",
       "1              Mazda 3, 2008\n",
       "2    ВАЗ (LADA) Granta, 2020\n",
       "Name: car_brand, dtype: object"
      ]
     },
     "execution_count": 157,
     "metadata": {},
     "output_type": "execute_result"
    }
   ],
   "source": [
    "df.car_brand.head (3)"
   ]
  },
  {
   "cell_type": "code",
   "execution_count": null,
   "metadata": {},
   "outputs": [
    {
     "data": {
      "text/plain": [
       "5653        Skoda Rapid, 2018\n",
       "5654    ВАЗ (LADA) XRAY, 2019\n",
       "5655        УАЗ Patriot, 2016\n",
       "Name: car_brand, dtype: object"
      ]
     },
     "execution_count": 34,
     "metadata": {},
     "output_type": "execute_result"
    }
   ],
   "source": [
    "df.car_brand.tail (3)"
   ]
  },
  {
   "cell_type": "code",
   "execution_count": null,
   "metadata": {},
   "outputs": [
    {
     "data": {
      "text/plain": [
       "196                LADA XRAY, 2018\n",
       "4914              Skoda Yeti, 2013\n",
       "3355         Volkswagen Golf, 2010\n",
       "3921         Hyundai Solaris, 2017\n",
       "1896            Toyota Prius, 2012\n",
       "4958                 Kia Rio, 2017\n",
       "4428                Lexus LS, 2007\n",
       "2319         Volkswagen Polo, 2019\n",
       "1435            Kia Sportage, 2012\n",
       "973     Volkswagen Golf Plus, 2010\n",
       "Name: car_brand, dtype: object"
      ]
     },
     "execution_count": 35,
     "metadata": {},
     "output_type": "execute_result"
    }
   ],
   "source": [
    "df.car_brand.sample(n=10)\n"
   ]
  },
  {
   "cell_type": "code",
   "execution_count": 158,
   "metadata": {},
   "outputs": [
    {
     "data": {
      "text/html": [
       "<div>\n",
       "<style scoped>\n",
       "    .dataframe tbody tr th:only-of-type {\n",
       "        vertical-align: middle;\n",
       "    }\n",
       "\n",
       "    .dataframe tbody tr th {\n",
       "        vertical-align: top;\n",
       "    }\n",
       "\n",
       "    .dataframe thead th {\n",
       "        text-align: right;\n",
       "    }\n",
       "</style>\n",
       "<table border=\"1\" class=\"dataframe\">\n",
       "  <thead>\n",
       "    <tr style=\"text-align: right;\">\n",
       "      <th></th>\n",
       "      <th>0</th>\n",
       "      <th>1</th>\n",
       "    </tr>\n",
       "  </thead>\n",
       "  <tbody>\n",
       "    <tr>\n",
       "      <th>0</th>\n",
       "      <td>Mitsubishi Lancer</td>\n",
       "      <td>2014</td>\n",
       "    </tr>\n",
       "    <tr>\n",
       "      <th>1</th>\n",
       "      <td>Mazda 3</td>\n",
       "      <td>2008</td>\n",
       "    </tr>\n",
       "    <tr>\n",
       "      <th>2</th>\n",
       "      <td>ВАЗ (LADA) Granta</td>\n",
       "      <td>2020</td>\n",
       "    </tr>\n",
       "    <tr>\n",
       "      <th>3</th>\n",
       "      <td>Toyota Tank</td>\n",
       "      <td>2018</td>\n",
       "    </tr>\n",
       "    <tr>\n",
       "      <th>4</th>\n",
       "      <td>Kia Rio</td>\n",
       "      <td>2018</td>\n",
       "    </tr>\n",
       "    <tr>\n",
       "      <th>...</th>\n",
       "      <td>...</td>\n",
       "      <td>...</td>\n",
       "    </tr>\n",
       "    <tr>\n",
       "      <th>5651</th>\n",
       "      <td>Hyundai ix35</td>\n",
       "      <td>2013</td>\n",
       "    </tr>\n",
       "    <tr>\n",
       "      <th>5652</th>\n",
       "      <td>ГАЗ ГАЗель 2705</td>\n",
       "      <td>2013</td>\n",
       "    </tr>\n",
       "    <tr>\n",
       "      <th>5653</th>\n",
       "      <td>Skoda Rapid</td>\n",
       "      <td>2018</td>\n",
       "    </tr>\n",
       "    <tr>\n",
       "      <th>5654</th>\n",
       "      <td>ВАЗ (LADA) XRAY</td>\n",
       "      <td>2019</td>\n",
       "    </tr>\n",
       "    <tr>\n",
       "      <th>5655</th>\n",
       "      <td>УАЗ Patriot</td>\n",
       "      <td>2016</td>\n",
       "    </tr>\n",
       "  </tbody>\n",
       "</table>\n",
       "<p>5656 rows × 2 columns</p>\n",
       "</div>"
      ],
      "text/plain": [
       "                      0      1\n",
       "0     Mitsubishi Lancer   2014\n",
       "1               Mazda 3   2008\n",
       "2     ВАЗ (LADA) Granta   2020\n",
       "3           Toyota Tank   2018\n",
       "4               Kia Rio   2018\n",
       "...                 ...    ...\n",
       "5651       Hyundai ix35   2013\n",
       "5652    ГАЗ ГАЗель 2705   2013\n",
       "5653        Skoda Rapid   2018\n",
       "5654    ВАЗ (LADA) XRAY   2019\n",
       "5655        УАЗ Patriot   2016\n",
       "\n",
       "[5656 rows x 2 columns]"
      ]
     },
     "execution_count": 158,
     "metadata": {},
     "output_type": "execute_result"
    }
   ],
   "source": [
    "# Чтобы разделить модель автомобиля и данные года, которые разделены запятой, \n",
    "## мы можем использовать  Python метод str.split()\n",
    "\n",
    "## Если expand=True, метод возвращает DataFrame с отдельными столбцами для каждой разделенной части. \n",
    "## В нашем случае создаются два новых столбца: модель и год.\n",
    "\n",
    "df['car_brand'].str.split(',', expand=True)"
   ]
  },
  {
   "cell_type": "code",
   "execution_count": 159,
   "metadata": {},
   "outputs": [
    {
     "data": {
      "text/plain": [
       "0       [Mitsubishi Lancer,  2014]\n",
       "1                 [Mazda 3,  2008]\n",
       "2       [ВАЗ (LADA) Granta,  2020]\n",
       "3             [Toyota Tank,  2018]\n",
       "4                 [Kia Rio,  2018]\n",
       "                   ...            \n",
       "5651         [Hyundai ix35,  2013]\n",
       "5652      [ГАЗ ГАЗель 2705,  2013]\n",
       "5653          [Skoda Rapid,  2018]\n",
       "5654      [ВАЗ (LADA) XRAY,  2019]\n",
       "5655          [УАЗ Patriot,  2016]\n",
       "Name: car_brand, Length: 5656, dtype: object"
      ]
     },
     "execution_count": 159,
     "metadata": {},
     "output_type": "execute_result"
    }
   ],
   "source": [
    "df['car_brand'].str.split(',', expand=False)"
   ]
  },
  {
   "cell_type": "code",
   "execution_count": 160,
   "metadata": {},
   "outputs": [
    {
     "data": {
      "text/plain": [
       "(pandas.core.frame.DataFrame, pandas.core.series.Series)"
      ]
     },
     "execution_count": 160,
     "metadata": {},
     "output_type": "execute_result"
    }
   ],
   "source": [
    "## Какая разница? Давайте вспомним наш встроенный в Python метод type() и ответим на этот вопрос.\n",
    "\n",
    "## DataFrame pandas — это двумерная помеченная структура данных со столбцами потенциально разных типов, \n",
    "\n",
    "## Серия Pandas (series) — это одномерный помеченный массив, способный хранить данные любого типа.\n",
    "\n",
    "## !!! Подробности см. в файле py_basics.py Pandas Series.\n",
    "\n",
    "type (df['car_brand'].str.split(',', expand=True)) , type (df['car_brand'].str.split(',', expand=False))"
   ]
  },
  {
   "cell_type": "code",
   "execution_count": 161,
   "metadata": {},
   "outputs": [
    {
     "data": {
      "text/html": [
       "<div>\n",
       "<style scoped>\n",
       "    .dataframe tbody tr th:only-of-type {\n",
       "        vertical-align: middle;\n",
       "    }\n",
       "\n",
       "    .dataframe tbody tr th {\n",
       "        vertical-align: top;\n",
       "    }\n",
       "\n",
       "    .dataframe thead th {\n",
       "        text-align: right;\n",
       "    }\n",
       "</style>\n",
       "<table border=\"1\" class=\"dataframe\">\n",
       "  <thead>\n",
       "    <tr style=\"text-align: right;\">\n",
       "      <th></th>\n",
       "      <th>car_brand</th>\n",
       "      <th>car_price</th>\n",
       "      <th>car_location</th>\n",
       "      <th>car_details</th>\n",
       "      <th>today</th>\n",
       "      <th>model</th>\n",
       "      <th>year</th>\n",
       "    </tr>\n",
       "  </thead>\n",
       "  <tbody>\n",
       "    <tr>\n",
       "      <th>0</th>\n",
       "      <td>Mitsubishi Lancer, 2014</td>\n",
       "      <td>650 000 ₽</td>\n",
       "      <td>Москва</td>\n",
       "      <td>100 181 км, 1.8 CVT (140 л.с.), седан, передни...</td>\n",
       "      <td>2021-11-23</td>\n",
       "      <td>Mitsubishi Lancer</td>\n",
       "      <td>2014</td>\n",
       "    </tr>\n",
       "    <tr>\n",
       "      <th>1</th>\n",
       "      <td>Mazda 3, 2008</td>\n",
       "      <td>490 000 ₽</td>\n",
       "      <td>Свердловская область, Екатеринбург</td>\n",
       "      <td>213 000 км, 1.6 MT (105 л.с.), седан, передний...</td>\n",
       "      <td>2021-11-23</td>\n",
       "      <td>Mazda 3</td>\n",
       "      <td>2008</td>\n",
       "    </tr>\n",
       "  </tbody>\n",
       "</table>\n",
       "</div>"
      ],
      "text/plain": [
       "                 car_brand  car_price                        car_location  \\\n",
       "0  Mitsubishi Lancer, 2014  650 000 ₽                              Москва   \n",
       "1            Mazda 3, 2008  490 000 ₽  Свердловская область, Екатеринбург   \n",
       "\n",
       "                                         car_details       today  \\\n",
       "0  100 181 км, 1.8 CVT (140 л.с.), седан, передни...  2021-11-23   \n",
       "1  213 000 км, 1.6 MT (105 л.с.), седан, передний...  2021-11-23   \n",
       "\n",
       "               model   year  \n",
       "0  Mitsubishi Lancer   2014  \n",
       "1            Mazda 3   2008  "
      ]
     },
     "execution_count": 161,
     "metadata": {},
     "output_type": "execute_result"
    }
   ],
   "source": [
    "## Теперь, когда я знаю, что моя операция str.split() создает два столбца, \n",
    "## я могу придумать имена столбцов, которые мне удобны, НО ВАЖНО ТОЛЬКО ДВА, \n",
    "## и назначить их моему фрейму данных, эффективно изменяя форму моего фрейма данных.\n",
    "\n",
    "df[['model', 'year']] = df['car_brand'].str.split(',', expand=True)\n",
    "df.head(2)\n"
   ]
  },
  {
   "cell_type": "code",
   "execution_count": 162,
   "metadata": {},
   "outputs": [
    {
     "data": {
      "text/plain": [
       "(5656, 7)"
      ]
     },
     "execution_count": 162,
     "metadata": {},
     "output_type": "execute_result"
    }
   ],
   "source": [
    "## Сравните наш фрейм данных до и после этой операции.\n",
    "df.shape"
   ]
  },
  {
   "cell_type": "code",
   "execution_count": 163,
   "metadata": {},
   "outputs": [
    {
     "data": {
      "text/plain": [
       "3576    700 000 ₽\n",
       "5183    630 000 ₽\n",
       "2650    650 000 ₽\n",
       "1575    756 000 ₽\n",
       "619     750 000 ₽\n",
       "5425    580 000 ₽\n",
       "5554    499 000 ₽\n",
       "2123    900 000 ₽\n",
       "5243    685 000 ₽\n",
       "588     680 000 ₽\n",
       "Name: car_price, dtype: object"
      ]
     },
     "execution_count": 163,
     "metadata": {},
     "output_type": "execute_result"
    }
   ],
   "source": [
    "## Далее идет столбец цен на автомобили: в нем есть ненужный символ, \n",
    "## который будет мешать нашим будущим статистическим операциям с этим столбцом.\n",
    "\n",
    "## Давайте удалим этот символ\n",
    "\n",
    "df.car_price.sample(n=10, replace=False)"
   ]
  },
  {
   "cell_type": "code",
   "execution_count": 164,
   "metadata": {},
   "outputs": [
    {
     "data": {
      "text/plain": [
       "0       True\n",
       "1       True\n",
       "2       True\n",
       "3       True\n",
       "4       True\n",
       "        ... \n",
       "5651    True\n",
       "5652    True\n",
       "5653    True\n",
       "5654    True\n",
       "5655    True\n",
       "Name: car_price, Length: 5656, dtype: bool"
      ]
     },
     "execution_count": 164,
     "metadata": {},
     "output_type": "execute_result"
    }
   ],
   "source": [
    "## Но давайте рассмотрим  новую для нас функцию: str.contains(). \n",
    "## Мы хотим узнать, содержит ли  столбец car_price \"₽\" . В любом месте\n",
    "\n",
    "## Мы видим True (или False, если символ не существует). \n",
    "\n",
    "df.car_price.str.contains('₽')\n"
   ]
  },
  {
   "cell_type": "code",
   "execution_count": 165,
   "metadata": {},
   "outputs": [
    {
     "data": {
      "text/plain": [
       "pandas.core.series.Series"
      ]
     },
     "execution_count": 165,
     "metadata": {},
     "output_type": "execute_result"
    }
   ],
   "source": [
    "type (df.car_price.str.contains('₽'))"
   ]
  },
  {
   "cell_type": "code",
   "execution_count": null,
   "metadata": {},
   "outputs": [
    {
     "data": {
      "text/plain": [
       "5656"
      ]
     },
     "execution_count": 44,
     "metadata": {},
     "output_type": "execute_result"
    }
   ],
   "source": [
    "## Когда вы используете sum() в этой серии, он вычисляет сумму логических значений. \n",
    "## В Python True рассматривается как 1, а False — как 0 при суммировании логических значений.\n",
    "sum(df.car_price.str.contains('₽'))"
   ]
  },
  {
   "cell_type": "code",
   "execution_count": 166,
   "metadata": {},
   "outputs": [
    {
     "data": {
      "text/plain": [
       "0    650 000 \n",
       "1    490 000 \n",
       "2    742 000 \n",
       "3    590 000 \n",
       "4    999 000 \n",
       "Name: car_price, dtype: object"
      ]
     },
     "execution_count": 166,
     "metadata": {},
     "output_type": "execute_result"
    }
   ],
   "source": [
    "## У нас есть разные методы, как удалить символ '₽'\n",
    "\n",
    "df['car_price'].str.replace('₽', '').head(5)"
   ]
  },
  {
   "cell_type": "code",
   "execution_count": 167,
   "metadata": {},
   "outputs": [
    {
     "data": {
      "text/plain": [
       "0    650 000 \n",
       "1    490 000 \n",
       "2    742 000 \n",
       "3    590 000 \n",
       "4    999 000 \n",
       "Name: car_price, dtype: object"
      ]
     },
     "execution_count": 167,
     "metadata": {},
     "output_type": "execute_result"
    }
   ],
   "source": [
    "## Метод регулярного выражения *regex*, который не использует промежуточный метод преобразования str\n",
    "df['car_price'].replace(r'₽', '', regex=True).head(5)"
   ]
  },
  {
   "cell_type": "code",
   "execution_count": 168,
   "metadata": {},
   "outputs": [
    {
     "data": {
      "text/html": [
       "<div>\n",
       "<style scoped>\n",
       "    .dataframe tbody tr th:only-of-type {\n",
       "        vertical-align: middle;\n",
       "    }\n",
       "\n",
       "    .dataframe tbody tr th {\n",
       "        vertical-align: top;\n",
       "    }\n",
       "\n",
       "    .dataframe thead th {\n",
       "        text-align: right;\n",
       "    }\n",
       "</style>\n",
       "<table border=\"1\" class=\"dataframe\">\n",
       "  <thead>\n",
       "    <tr style=\"text-align: right;\">\n",
       "      <th></th>\n",
       "      <th>car_brand</th>\n",
       "      <th>car_price</th>\n",
       "      <th>car_location</th>\n",
       "      <th>car_details</th>\n",
       "      <th>today</th>\n",
       "      <th>model</th>\n",
       "      <th>year</th>\n",
       "      <th>price</th>\n",
       "    </tr>\n",
       "  </thead>\n",
       "  <tbody>\n",
       "    <tr>\n",
       "      <th>0</th>\n",
       "      <td>Mitsubishi Lancer, 2014</td>\n",
       "      <td>650 000 ₽</td>\n",
       "      <td>Москва</td>\n",
       "      <td>100 181 км, 1.8 CVT (140 л.с.), седан, передни...</td>\n",
       "      <td>2021-11-23</td>\n",
       "      <td>Mitsubishi Lancer</td>\n",
       "      <td>2014</td>\n",
       "      <td>650 000</td>\n",
       "    </tr>\n",
       "    <tr>\n",
       "      <th>1</th>\n",
       "      <td>Mazda 3, 2008</td>\n",
       "      <td>490 000 ₽</td>\n",
       "      <td>Свердловская область, Екатеринбург</td>\n",
       "      <td>213 000 км, 1.6 MT (105 л.с.), седан, передний...</td>\n",
       "      <td>2021-11-23</td>\n",
       "      <td>Mazda 3</td>\n",
       "      <td>2008</td>\n",
       "      <td>490 000</td>\n",
       "    </tr>\n",
       "    <tr>\n",
       "      <th>2</th>\n",
       "      <td>ВАЗ (LADA) Granta, 2020</td>\n",
       "      <td>742 000 ₽</td>\n",
       "      <td>Свердловская область, Екатеринбург</td>\n",
       "      <td>25 600 км, 1.6 MT (106 л.с.), седан, передний,...</td>\n",
       "      <td>2021-11-23</td>\n",
       "      <td>ВАЗ (LADA) Granta</td>\n",
       "      <td>2020</td>\n",
       "      <td>742 000</td>\n",
       "    </tr>\n",
       "  </tbody>\n",
       "</table>\n",
       "</div>"
      ],
      "text/plain": [
       "                 car_brand  car_price                        car_location  \\\n",
       "0  Mitsubishi Lancer, 2014  650 000 ₽                              Москва   \n",
       "1            Mazda 3, 2008  490 000 ₽  Свердловская область, Екатеринбург   \n",
       "2  ВАЗ (LADA) Granta, 2020  742 000 ₽  Свердловская область, Екатеринбург   \n",
       "\n",
       "                                         car_details       today  \\\n",
       "0  100 181 км, 1.8 CVT (140 л.с.), седан, передни...  2021-11-23   \n",
       "1  213 000 км, 1.6 MT (105 л.с.), седан, передний...  2021-11-23   \n",
       "2  25 600 км, 1.6 MT (106 л.с.), седан, передний,...  2021-11-23   \n",
       "\n",
       "               model   year     price  \n",
       "0  Mitsubishi Lancer   2014  650 000   \n",
       "1            Mazda 3   2008  490 000   \n",
       "2  ВАЗ (LADA) Granta   2020  742 000   "
      ]
     },
     "execution_count": 168,
     "metadata": {},
     "output_type": "execute_result"
    }
   ],
   "source": [
    "## Мы можем выполнить операцию удаления символа прямо на столбце 'car_price' и переназначить его. \n",
    "## # df['car_price'] = df['car_price'].str.replace('₽', '')\n",
    "## Однако делать это не рекомендуется. \n",
    "## Вместо этого мы создадим новый столбец для нашего фрейма данных с уже чистыми данными о ценах.\n",
    "\n",
    "df['price'] = df['car_price'].str.replace('₽', '')\n",
    "df.head(3)"
   ]
  },
  {
   "cell_type": "code",
   "execution_count": 169,
   "metadata": {},
   "outputs": [
    {
     "data": {
      "text/plain": [
       "'100 181 км, 1.8 CVT (140 л.с.), седан, передний, бензин'"
      ]
     },
     "execution_count": 169,
     "metadata": {},
     "output_type": "execute_result"
    }
   ],
   "source": [
    "## Далее у нас есть столбец car_details, который, как вы заметили, также разделен запятыми. \n",
    "## Вы уже знаете, как использовать это свойство для разделения данных и создания новых столбцов.\n",
    "\n",
    "df.iloc[0]['car_details']"
   ]
  },
  {
   "cell_type": "code",
   "execution_count": 170,
   "metadata": {},
   "outputs": [
    {
     "data": {
      "text/html": [
       "<div>\n",
       "<style scoped>\n",
       "    .dataframe tbody tr th:only-of-type {\n",
       "        vertical-align: middle;\n",
       "    }\n",
       "\n",
       "    .dataframe tbody tr th {\n",
       "        vertical-align: top;\n",
       "    }\n",
       "\n",
       "    .dataframe thead th {\n",
       "        text-align: right;\n",
       "    }\n",
       "</style>\n",
       "<table border=\"1\" class=\"dataframe\">\n",
       "  <thead>\n",
       "    <tr style=\"text-align: right;\">\n",
       "      <th></th>\n",
       "      <th>0</th>\n",
       "      <th>1</th>\n",
       "      <th>2</th>\n",
       "      <th>3</th>\n",
       "      <th>4</th>\n",
       "    </tr>\n",
       "  </thead>\n",
       "  <tbody>\n",
       "    <tr>\n",
       "      <th>0</th>\n",
       "      <td>100 181 км</td>\n",
       "      <td>1.8 CVT (140 л.с.)</td>\n",
       "      <td>седан</td>\n",
       "      <td>передний</td>\n",
       "      <td>бензин</td>\n",
       "    </tr>\n",
       "    <tr>\n",
       "      <th>1</th>\n",
       "      <td>213 000 км</td>\n",
       "      <td>1.6 MT (105 л.с.)</td>\n",
       "      <td>седан</td>\n",
       "      <td>передний</td>\n",
       "      <td>бензин</td>\n",
       "    </tr>\n",
       "    <tr>\n",
       "      <th>2</th>\n",
       "      <td>25 600 км</td>\n",
       "      <td>1.6 MT (106 л.с.)</td>\n",
       "      <td>седан</td>\n",
       "      <td>передний</td>\n",
       "      <td>бензин</td>\n",
       "    </tr>\n",
       "  </tbody>\n",
       "</table>\n",
       "</div>"
      ],
      "text/plain": [
       "            0                    1       2          3        4\n",
       "0  100 181 км   1.8 CVT (140 л.с.)   седан   передний   бензин\n",
       "1  213 000 км    1.6 MT (105 л.с.)   седан   передний   бензин\n",
       "2   25 600 км    1.6 MT (106 л.с.)   седан   передний   бензин"
      ]
     },
     "execution_count": 170,
     "metadata": {},
     "output_type": "execute_result"
    }
   ],
   "source": [
    "# Сначала мы разделим данные с помощью expand=True и посмотрим количество  созданных столбцов.\n",
    "df['car_details'].str.split(',', expand=True).head(3)"
   ]
  },
  {
   "cell_type": "code",
   "execution_count": 171,
   "metadata": {},
   "outputs": [
    {
     "data": {
      "text/html": [
       "<div>\n",
       "<style scoped>\n",
       "    .dataframe tbody tr th:only-of-type {\n",
       "        vertical-align: middle;\n",
       "    }\n",
       "\n",
       "    .dataframe tbody tr th {\n",
       "        vertical-align: top;\n",
       "    }\n",
       "\n",
       "    .dataframe thead th {\n",
       "        text-align: right;\n",
       "    }\n",
       "</style>\n",
       "<table border=\"1\" class=\"dataframe\">\n",
       "  <thead>\n",
       "    <tr style=\"text-align: right;\">\n",
       "      <th></th>\n",
       "      <th>car_brand</th>\n",
       "      <th>car_price</th>\n",
       "      <th>car_location</th>\n",
       "      <th>car_details</th>\n",
       "      <th>today</th>\n",
       "      <th>model</th>\n",
       "      <th>year</th>\n",
       "      <th>price</th>\n",
       "    </tr>\n",
       "  </thead>\n",
       "  <tbody>\n",
       "    <tr>\n",
       "      <th>489</th>\n",
       "      <td>LADA Largus, 2018</td>\n",
       "      <td>625 000 ₽</td>\n",
       "      <td>Саратовская область, Пугачёвский р-н, Пугачёв</td>\n",
       "      <td>160 000 км, 1.6 MT (106 л.с.), универсал, пере...</td>\n",
       "      <td>2021-11-23</td>\n",
       "      <td>LADA Largus</td>\n",
       "      <td>2018</td>\n",
       "      <td>625 000</td>\n",
       "    </tr>\n",
       "    <tr>\n",
       "      <th>445</th>\n",
       "      <td>Ford Mondeo, 2011</td>\n",
       "      <td>760 000 ₽</td>\n",
       "      <td>Тульская область, Тула</td>\n",
       "      <td>94 000 км, 2.0 AMT (200 л.с.), седан, передний...</td>\n",
       "      <td>2021-11-23</td>\n",
       "      <td>Ford Mondeo</td>\n",
       "      <td>2011</td>\n",
       "      <td>760 000</td>\n",
       "    </tr>\n",
       "    <tr>\n",
       "      <th>1938</th>\n",
       "      <td>BMW 3 серия, 2008</td>\n",
       "      <td>700 000 ₽</td>\n",
       "      <td>Московская область, Клин</td>\n",
       "      <td>141 000 км, 2.5 AT (218 л.с.), седан, задний, ...</td>\n",
       "      <td>2021-11-23</td>\n",
       "      <td>BMW 3 серия</td>\n",
       "      <td>2008</td>\n",
       "      <td>700 000</td>\n",
       "    </tr>\n",
       "    <tr>\n",
       "      <th>972</th>\n",
       "      <td>LADA Granta, 2017</td>\n",
       "      <td>490 000 ₽</td>\n",
       "      <td>Курская область, Курск</td>\n",
       "      <td>110 765 км, 1.6 MT (106 л.с.), седан, передний...</td>\n",
       "      <td>2021-11-23</td>\n",
       "      <td>LADA Granta</td>\n",
       "      <td>2017</td>\n",
       "      <td>490 000</td>\n",
       "    </tr>\n",
       "    <tr>\n",
       "      <th>3875</th>\n",
       "      <td>LADA Granta, 2019</td>\n",
       "      <td>654 000 ₽</td>\n",
       "      <td>Ростовская область, Ростов-на-Дону</td>\n",
       "      <td>30 000 км, 1.6 MT (106 л.с.), хетчбэк, передни...</td>\n",
       "      <td>2021-11-23</td>\n",
       "      <td>LADA Granta</td>\n",
       "      <td>2019</td>\n",
       "      <td>654 000</td>\n",
       "    </tr>\n",
       "  </tbody>\n",
       "</table>\n",
       "</div>"
      ],
      "text/plain": [
       "              car_brand  car_price  \\\n",
       "489   LADA Largus, 2018  625 000 ₽   \n",
       "445   Ford Mondeo, 2011  760 000 ₽   \n",
       "1938  BMW 3 серия, 2008  700 000 ₽   \n",
       "972   LADA Granta, 2017  490 000 ₽   \n",
       "3875  LADA Granta, 2019  654 000 ₽   \n",
       "\n",
       "                                       car_location  \\\n",
       "489   Саратовская область, Пугачёвский р-н, Пугачёв   \n",
       "445                          Тульская область, Тула   \n",
       "1938                       Московская область, Клин   \n",
       "972                          Курская область, Курск   \n",
       "3875             Ростовская область, Ростов-на-Дону   \n",
       "\n",
       "                                            car_details       today  \\\n",
       "489   160 000 км, 1.6 MT (106 л.с.), универсал, пере...  2021-11-23   \n",
       "445   94 000 км, 2.0 AMT (200 л.с.), седан, передний...  2021-11-23   \n",
       "1938  141 000 км, 2.5 AT (218 л.с.), седан, задний, ...  2021-11-23   \n",
       "972   110 765 км, 1.6 MT (106 л.с.), седан, передний...  2021-11-23   \n",
       "3875  30 000 км, 1.6 MT (106 л.с.), хетчбэк, передни...  2021-11-23   \n",
       "\n",
       "            model   year     price  \n",
       "489   LADA Largus   2018  625 000   \n",
       "445   Ford Mondeo   2011  760 000   \n",
       "1938  BMW 3 серия   2008  700 000   \n",
       "972   LADA Granta   2017  490 000   \n",
       "3875  LADA Granta   2019  654 000   "
      ]
     },
     "execution_count": 171,
     "metadata": {},
     "output_type": "execute_result"
    }
   ],
   "source": [
    "## Обратите внимание, что наш фрейм данных df не меняется после этой операции,\n",
    "##  поскольку здесь нет назначения столбцов.\n",
    "df.sample(n=5)"
   ]
  },
  {
   "cell_type": "code",
   "execution_count": 172,
   "metadata": {},
   "outputs": [
    {
     "data": {
      "text/html": [
       "<div>\n",
       "<style scoped>\n",
       "    .dataframe tbody tr th:only-of-type {\n",
       "        vertical-align: middle;\n",
       "    }\n",
       "\n",
       "    .dataframe tbody tr th {\n",
       "        vertical-align: top;\n",
       "    }\n",
       "\n",
       "    .dataframe thead th {\n",
       "        text-align: right;\n",
       "    }\n",
       "</style>\n",
       "<table border=\"1\" class=\"dataframe\">\n",
       "  <thead>\n",
       "    <tr style=\"text-align: right;\">\n",
       "      <th></th>\n",
       "      <th>car_brand</th>\n",
       "      <th>car_price</th>\n",
       "      <th>car_location</th>\n",
       "      <th>car_details</th>\n",
       "      <th>today</th>\n",
       "      <th>model</th>\n",
       "      <th>year</th>\n",
       "      <th>price</th>\n",
       "      <th>mileage</th>\n",
       "      <th>vol_box_hp</th>\n",
       "      <th>body</th>\n",
       "      <th>drive</th>\n",
       "      <th>fuel</th>\n",
       "    </tr>\n",
       "  </thead>\n",
       "  <tbody>\n",
       "    <tr>\n",
       "      <th>0</th>\n",
       "      <td>Mitsubishi Lancer, 2014</td>\n",
       "      <td>650 000 ₽</td>\n",
       "      <td>Москва</td>\n",
       "      <td>100 181 км, 1.8 CVT (140 л.с.), седан, передни...</td>\n",
       "      <td>2021-11-23</td>\n",
       "      <td>Mitsubishi Lancer</td>\n",
       "      <td>2014</td>\n",
       "      <td>650 000</td>\n",
       "      <td>100 181 км</td>\n",
       "      <td>1.8 CVT (140 л.с.)</td>\n",
       "      <td>седан</td>\n",
       "      <td>передний</td>\n",
       "      <td>бензин</td>\n",
       "    </tr>\n",
       "    <tr>\n",
       "      <th>1</th>\n",
       "      <td>Mazda 3, 2008</td>\n",
       "      <td>490 000 ₽</td>\n",
       "      <td>Свердловская область, Екатеринбург</td>\n",
       "      <td>213 000 км, 1.6 MT (105 л.с.), седан, передний...</td>\n",
       "      <td>2021-11-23</td>\n",
       "      <td>Mazda 3</td>\n",
       "      <td>2008</td>\n",
       "      <td>490 000</td>\n",
       "      <td>213 000 км</td>\n",
       "      <td>1.6 MT (105 л.с.)</td>\n",
       "      <td>седан</td>\n",
       "      <td>передний</td>\n",
       "      <td>бензин</td>\n",
       "    </tr>\n",
       "  </tbody>\n",
       "</table>\n",
       "</div>"
      ],
      "text/plain": [
       "                 car_brand  car_price                        car_location  \\\n",
       "0  Mitsubishi Lancer, 2014  650 000 ₽                              Москва   \n",
       "1            Mazda 3, 2008  490 000 ₽  Свердловская область, Екатеринбург   \n",
       "\n",
       "                                         car_details       today  \\\n",
       "0  100 181 км, 1.8 CVT (140 л.с.), седан, передни...  2021-11-23   \n",
       "1  213 000 км, 1.6 MT (105 л.с.), седан, передний...  2021-11-23   \n",
       "\n",
       "               model   year     price     mileage           vol_box_hp  \\\n",
       "0  Mitsubishi Lancer   2014  650 000   100 181 км   1.8 CVT (140 л.с.)   \n",
       "1            Mazda 3   2008  490 000   213 000 км    1.6 MT (105 л.с.)   \n",
       "\n",
       "     body      drive     fuel  \n",
       "0   седан   передний   бензин  \n",
       "1   седан   передний   бензин  "
      ]
     },
     "execution_count": 172,
     "metadata": {},
     "output_type": "execute_result"
    }
   ],
   "source": [
    "df[['mileage', 'vol_box_hp', 'body', 'drive', 'fuel']] = df['car_details'].str.split(',', expand=True)\n",
    "df.head(2)"
   ]
  },
  {
   "cell_type": "code",
   "execution_count": 173,
   "metadata": {},
   "outputs": [
    {
     "data": {
      "text/plain": [
       "Index(['car_brand', 'car_price', 'car_location', 'car_details', 'today',\n",
       "       'model', 'year', 'price', 'mileage', 'vol_box_hp', 'body', 'drive',\n",
       "       'fuel'],\n",
       "      dtype='object')"
      ]
     },
     "execution_count": 173,
     "metadata": {},
     "output_type": "execute_result"
    }
   ],
   "source": [
    "df.columns"
   ]
  },
  {
   "cell_type": "code",
   "execution_count": 174,
   "metadata": {},
   "outputs": [
    {
     "data": {
      "text/plain": [
       "4522     1.8 MT (160 л.с.)\n",
       "2188     1.6 AT (120 л.с.)\n",
       "3332     4.2 AT (350 л.с.)\n",
       "3219      1.2 MT (70 л.с.)\n",
       "4473     1.6 MT (105 л.с.)\n",
       "3062     1.6 AT (129 л.с.)\n",
       "4702     1.6 MT (105 л.с.)\n",
       "3858     1.6 MT (106 л.с.)\n",
       "2614      1.6 MT (87 л.с.)\n",
       "606      2.4 MT (169 л.с.)\n",
       "Name: vol_box_hp, dtype: object"
      ]
     },
     "execution_count": 174,
     "metadata": {},
     "output_type": "execute_result"
    }
   ],
   "source": [
    "## В нашей колонке «vol_box_hp» содержится информация об объеме двигателя, \n",
    "## коробке передач и мощности. Нам нужно разделить их на разные столбцы.\n",
    "df.vol_box_hp.sample(n=10)"
   ]
  },
  {
   "cell_type": "code",
   "execution_count": 175,
   "metadata": {},
   "outputs": [],
   "source": [
    "## Этот разделитель эффективно разбивает строку там, где она встречает пробел, за которым следует открывающая скобка.\n",
    "df[['vol_box', 'hp']] = df['vol_box_hp'].str.split(' \\(', expand=True)\n",
    "\n",
    "## Убираем закрывающую скобку из столбца «лошадиные силы»\n",
    "## Метод rstrip() в Python используется для удаления символов из конца (правой части) строки.\n",
    "df['hp'] = df['hp'].str.rstrip(')')"
   ]
  },
  {
   "cell_type": "code",
   "execution_count": 176,
   "metadata": {},
   "outputs": [
    {
     "data": {
      "text/plain": [
       "5644     1.6 MT\n",
       "3174     2.0 MT\n",
       "2610     1.9 MT\n",
       "3922     1.6 MT\n",
       "2004     1.7 MT\n",
       "Name: vol_box, dtype: object"
      ]
     },
     "execution_count": 176,
     "metadata": {},
     "output_type": "execute_result"
    }
   ],
   "source": [
    "df.vol_box.sample(n = 5)"
   ]
  },
  {
   "cell_type": "code",
   "execution_count": null,
   "metadata": {},
   "outputs": [
    {
     "data": {
      "text/plain": [
       "3898    120 л.с.\n",
       "3754    106 л.с.\n",
       "5532     87 л.с.\n",
       "2631    123 л.с.\n",
       "2667    115 л.с.\n",
       "Name: hp, dtype: object"
      ]
     },
     "execution_count": 56,
     "metadata": {},
     "output_type": "execute_result"
    }
   ],
   "source": [
    "df.hp.sample(n = 5)"
   ]
  },
  {
   "cell_type": "code",
   "execution_count": 177,
   "metadata": {},
   "outputs": [
    {
     "data": {
      "text/plain": [
       "5130    103\n",
       "4244    180\n",
       "2879    110\n",
       "3931    123\n",
       "1271    123\n",
       "Name: hp, dtype: object"
      ]
     },
     "execution_count": 177,
     "metadata": {},
     "output_type": "execute_result"
    }
   ],
   "source": [
    "## Далее мы удаляем ' л.с.'\n",
    "df['hp'] = df['hp'].str.replace(' л.с.', '')\n",
    "df.hp.sample(n = 5)"
   ]
  },
  {
   "cell_type": "code",
   "execution_count": 178,
   "metadata": {},
   "outputs": [
    {
     "data": {
      "text/plain": [
       "2714     1.6 AT\n",
       "2654     1.4 AT\n",
       "3094     1.6 MT\n",
       "5048     1.6 AT\n",
       "59       1.6 MT\n",
       "Name: vol_box, dtype: object"
      ]
     },
     "execution_count": 178,
     "metadata": {},
     "output_type": "execute_result"
    }
   ],
   "source": [
    "df.vol_box.sample(n = 5)"
   ]
  },
  {
   "cell_type": "code",
   "execution_count": 179,
   "metadata": {},
   "outputs": [
    {
     "data": {
      "text/html": [
       "<div>\n",
       "<style scoped>\n",
       "    .dataframe tbody tr th:only-of-type {\n",
       "        vertical-align: middle;\n",
       "    }\n",
       "\n",
       "    .dataframe tbody tr th {\n",
       "        vertical-align: top;\n",
       "    }\n",
       "\n",
       "    .dataframe thead th {\n",
       "        text-align: right;\n",
       "    }\n",
       "</style>\n",
       "<table border=\"1\" class=\"dataframe\">\n",
       "  <thead>\n",
       "    <tr style=\"text-align: right;\">\n",
       "      <th></th>\n",
       "      <th>0</th>\n",
       "      <th>1</th>\n",
       "      <th>2</th>\n",
       "    </tr>\n",
       "  </thead>\n",
       "  <tbody>\n",
       "    <tr>\n",
       "      <th>0</th>\n",
       "      <td></td>\n",
       "      <td>1.8</td>\n",
       "      <td>CVT</td>\n",
       "    </tr>\n",
       "    <tr>\n",
       "      <th>1</th>\n",
       "      <td></td>\n",
       "      <td>1.6</td>\n",
       "      <td>MT</td>\n",
       "    </tr>\n",
       "    <tr>\n",
       "      <th>2</th>\n",
       "      <td></td>\n",
       "      <td>1.6</td>\n",
       "      <td>MT</td>\n",
       "    </tr>\n",
       "    <tr>\n",
       "      <th>3</th>\n",
       "      <td></td>\n",
       "      <td>1.0</td>\n",
       "      <td>CVT</td>\n",
       "    </tr>\n",
       "    <tr>\n",
       "      <th>4</th>\n",
       "      <td></td>\n",
       "      <td>1.6</td>\n",
       "      <td>AT</td>\n",
       "    </tr>\n",
       "  </tbody>\n",
       "</table>\n",
       "</div>"
      ],
      "text/plain": [
       "  0    1    2\n",
       "0    1.8  CVT\n",
       "1    1.6   MT\n",
       "2    1.6   MT\n",
       "3    1.0  CVT\n",
       "4    1.6   AT"
      ]
     },
     "execution_count": 179,
     "metadata": {},
     "output_type": "execute_result"
    }
   ],
   "source": [
    "## Нам также необходимо иметь отдельные столбцы для объема двигателя и коробки передач.\n",
    "\n",
    "## Давайте проделаем уже знакомую операцию str.split(). \n",
    "## И похоже, у нас возникла проблема: вместо ожидаемых двух столбцов получилось 3. \n",
    "## Почему? Давайте изучим проблему\n",
    "df['vol_box'].str.split(' ', expand=True).head(5)\n"
   ]
  },
  {
   "cell_type": "code",
   "execution_count": 180,
   "metadata": {},
   "outputs": [
    {
     "data": {
      "text/html": [
       "<div>\n",
       "<style scoped>\n",
       "    .dataframe tbody tr th:only-of-type {\n",
       "        vertical-align: middle;\n",
       "    }\n",
       "\n",
       "    .dataframe tbody tr th {\n",
       "        vertical-align: top;\n",
       "    }\n",
       "\n",
       "    .dataframe thead th {\n",
       "        text-align: right;\n",
       "    }\n",
       "</style>\n",
       "<table border=\"1\" class=\"dataframe\">\n",
       "  <thead>\n",
       "    <tr style=\"text-align: right;\">\n",
       "      <th></th>\n",
       "      <th>0</th>\n",
       "      <th>1</th>\n",
       "      <th>2</th>\n",
       "    </tr>\n",
       "  </thead>\n",
       "  <tbody>\n",
       "    <tr>\n",
       "      <th>0</th>\n",
       "      <td></td>\n",
       "      <td>1.8</td>\n",
       "      <td>CVT</td>\n",
       "    </tr>\n",
       "    <tr>\n",
       "      <th>1</th>\n",
       "      <td></td>\n",
       "      <td>1.6</td>\n",
       "      <td>MT</td>\n",
       "    </tr>\n",
       "    <tr>\n",
       "      <th>2</th>\n",
       "      <td></td>\n",
       "      <td>1.6</td>\n",
       "      <td>MT</td>\n",
       "    </tr>\n",
       "  </tbody>\n",
       "</table>\n",
       "</div>"
      ],
      "text/plain": [
       "  0    1    2\n",
       "0    1.8  CVT\n",
       "1    1.6   MT\n",
       "2    1.6   MT"
      ]
     },
     "execution_count": 180,
     "metadata": {},
     "output_type": "execute_result"
    }
   ],
   "source": [
    "frame = df['vol_box'].str.split(' ', expand=True)\n",
    "frame.head(3)"
   ]
  },
  {
   "cell_type": "code",
   "execution_count": 181,
   "metadata": {},
   "outputs": [
    {
     "data": {
      "text/plain": [
       "3922    \n",
       "2316    \n",
       "3445    \n",
       "1238    \n",
       "1963    \n",
       "5552    \n",
       "806     \n",
       "1655    \n",
       "5535    \n",
       "5416    \n",
       "Name: 0, dtype: object"
      ]
     },
     "execution_count": 181,
     "metadata": {},
     "output_type": "execute_result"
    }
   ],
   "source": [
    "## быстрый осмотр показывает, что ничего нет. Но почему str.split() создал 3 столбца? \n",
    "## Он не может создать столбец без данных\n",
    "frame.iloc[:, 0].sample (n=10)"
   ]
  },
  {
   "cell_type": "code",
   "execution_count": 182,
   "metadata": {},
   "outputs": [
    {
     "data": {
      "text/plain": [
       "array([''], dtype=object)"
      ]
     },
     "execution_count": 182,
     "metadata": {},
     "output_type": "execute_result"
    }
   ],
   "source": [
    "## Похоже, что наша функция Split() использовала пустое пространство как еще один символ \n",
    "## и создала столбец, основанный только на «пустом» пространстве.\n",
    "\n",
    "frame.iloc[:, 0].unique()"
   ]
  },
  {
   "cell_type": "code",
   "execution_count": null,
   "metadata": {},
   "outputs": [
    {
     "data": {
      "text/plain": [
       "array(['CVT', 'MT', 'AT', 'AMT', None], dtype=object)"
      ]
     },
     "execution_count": 63,
     "metadata": {},
     "output_type": "execute_result"
    }
   ],
   "source": [
    "frame.iloc[:, 2].unique()"
   ]
  },
  {
   "cell_type": "code",
   "execution_count": 183,
   "metadata": {},
   "outputs": [],
   "source": [
    "df[['delete_later', 'vol', 'box']] =  df['vol_box'].str.split(' ', expand=True)"
   ]
  },
  {
   "cell_type": "code",
   "execution_count": 184,
   "metadata": {},
   "outputs": [
    {
     "data": {
      "text/plain": [
       "Index(['car_brand', 'car_price', 'car_location', 'car_details', 'today',\n",
       "       'model', 'year', 'price', 'mileage', 'vol_box_hp', 'body', 'drive',\n",
       "       'fuel', 'vol_box', 'hp', 'delete_later', 'vol', 'box'],\n",
       "      dtype='object')"
      ]
     },
     "execution_count": 184,
     "metadata": {},
     "output_type": "execute_result"
    }
   ],
   "source": [
    "df.columns"
   ]
  },
  {
   "cell_type": "code",
   "execution_count": 185,
   "metadata": {},
   "outputs": [
    {
     "data": {
      "text/plain": [
       "4668     MT\n",
       "2533     MT\n",
       "4113    CVT\n",
       "4669     MT\n",
       "2126    AMT\n",
       "4546    CVT\n",
       "941      AT\n",
       "2963     MT\n",
       "4362    CVT\n",
       "894      MT\n",
       "Name: box, dtype: object"
      ]
     },
     "execution_count": 185,
     "metadata": {},
     "output_type": "execute_result"
    }
   ],
   "source": [
    "df.box.sample(n=10)"
   ]
  },
  {
   "cell_type": "code",
   "execution_count": 186,
   "metadata": {},
   "outputs": [
    {
     "data": {
      "text/plain": [
       "459     1.6\n",
       "4273    1.7\n",
       "1816    1.6\n",
       "5392    1.2\n",
       "4539    1.6\n",
       "1687    1.6\n",
       "225     2.0\n",
       "1120    2.0\n",
       "4686    1.6\n",
       "1242    1.6\n",
       "Name: vol, dtype: object"
      ]
     },
     "execution_count": 186,
     "metadata": {},
     "output_type": "execute_result"
    }
   ],
   "source": [
    "df.vol.sample(n=10)"
   ]
  },
  {
   "cell_type": "code",
   "execution_count": null,
   "metadata": {},
   "outputs": [
    {
     "data": {
      "text/plain": [
       "2385    141 000 км\n",
       "3437    105 000 км\n",
       "4154    114 000 км\n",
       "1196    170 000 км\n",
       "833      67 473 км\n",
       "Name: mileage, dtype: object"
      ]
     },
     "execution_count": 68,
     "metadata": {},
     "output_type": "execute_result"
    }
   ],
   "source": [
    "df.mileage.sample(n=5)"
   ]
  },
  {
   "cell_type": "code",
   "execution_count": 187,
   "metadata": {},
   "outputs": [],
   "source": [
    "## В столбце mileage указан символ км, который будет препятствовать статистическим операциям. \n",
    "## давайте создадим новый столбец, без км\n",
    "df['total_km'] = df['mileage'].str.replace(' км', '')"
   ]
  },
  {
   "cell_type": "code",
   "execution_count": null,
   "metadata": {},
   "outputs": [
    {
     "data": {
      "text/plain": [
       "1959    112 500\n",
       "1297    117 000\n",
       "5580     85 000\n",
       "1721          1\n",
       "5245    171 200\n",
       "841     124 500\n",
       "2842    194 500\n",
       "610     122 000\n",
       "132     149 548\n",
       "4068    200 000\n",
       "Name: total_km, dtype: object"
      ]
     },
     "execution_count": 70,
     "metadata": {},
     "output_type": "execute_result"
    }
   ],
   "source": [
    "df.total_km.sample(n=10)"
   ]
  },
  {
   "cell_type": "code",
   "execution_count": 188,
   "metadata": {},
   "outputs": [
    {
     "data": {
      "text/plain": [
       "308      92 000\n",
       "5075    237 000\n",
       "716     337 758\n",
       "5492     11 459\n",
       "4151     60 158\n",
       "3673    198 000\n",
       "3169    165 000\n",
       "3558    115 000\n",
       "556     178 000\n",
       "3757    186 566\n",
       "Name: total_km, dtype: object"
      ]
     },
     "execution_count": 188,
     "metadata": {},
     "output_type": "execute_result"
    }
   ],
   "source": [
    "df.total_km.sample (n=10)"
   ]
  },
  {
   "cell_type": "code",
   "execution_count": 196,
   "metadata": {},
   "outputs": [],
   "source": [
    "location =df['car_location'].str.split(',',  expand=True)"
   ]
  },
  {
   "cell_type": "code",
   "execution_count": 197,
   "metadata": {},
   "outputs": [
    {
     "data": {
      "text/plain": [
       "array([None,\n",
       "       ' садоводческое некоммерческое товарищество Толстопальцево-4'],\n",
       "      dtype=object)"
      ]
     },
     "execution_count": 197,
     "metadata": {},
     "output_type": "execute_result"
    }
   ],
   "source": [
    "location.iloc[:, 4].unique()"
   ]
  },
  {
   "cell_type": "code",
   "execution_count": 198,
   "metadata": {},
   "outputs": [],
   "source": [
    "df['location'] = df['car_location'].str.split(',',  expand=True)[0]"
   ]
  },
  {
   "cell_type": "code",
   "execution_count": null,
   "metadata": {},
   "outputs": [],
   "source": []
  },
  {
   "cell_type": "markdown",
   "metadata": {},
   "source": [
    "### 1.5 Типы данных: Преобразование \n",
    "### isnull, sum, dtypes, astype, map, lambda"
   ]
  },
  {
   "cell_type": "code",
   "execution_count": 199,
   "metadata": {},
   "outputs": [
    {
     "data": {
      "text/html": [
       "<div>\n",
       "<style scoped>\n",
       "    .dataframe tbody tr th:only-of-type {\n",
       "        vertical-align: middle;\n",
       "    }\n",
       "\n",
       "    .dataframe tbody tr th {\n",
       "        vertical-align: top;\n",
       "    }\n",
       "\n",
       "    .dataframe thead th {\n",
       "        text-align: right;\n",
       "    }\n",
       "</style>\n",
       "<table border=\"1\" class=\"dataframe\">\n",
       "  <thead>\n",
       "    <tr style=\"text-align: right;\">\n",
       "      <th></th>\n",
       "      <th>car_brand</th>\n",
       "      <th>car_price</th>\n",
       "      <th>car_location</th>\n",
       "      <th>car_details</th>\n",
       "      <th>today</th>\n",
       "      <th>model</th>\n",
       "      <th>year</th>\n",
       "      <th>price</th>\n",
       "      <th>mileage</th>\n",
       "      <th>vol_box_hp</th>\n",
       "      <th>body</th>\n",
       "      <th>drive</th>\n",
       "      <th>fuel</th>\n",
       "      <th>vol_box</th>\n",
       "      <th>hp</th>\n",
       "      <th>delete_later</th>\n",
       "      <th>vol</th>\n",
       "      <th>box</th>\n",
       "      <th>total_km</th>\n",
       "      <th>location</th>\n",
       "    </tr>\n",
       "  </thead>\n",
       "  <tbody>\n",
       "    <tr>\n",
       "      <th>0</th>\n",
       "      <td>Mitsubishi Lancer, 2014</td>\n",
       "      <td>650 000 ₽</td>\n",
       "      <td>Москва</td>\n",
       "      <td>100 181 км, 1.8 CVT (140 л.с.), седан, передни...</td>\n",
       "      <td>2021-11-23</td>\n",
       "      <td>Mitsubishi Lancer</td>\n",
       "      <td>2014</td>\n",
       "      <td>650 000</td>\n",
       "      <td>100 181 км</td>\n",
       "      <td>1.8 CVT (140 л.с.)</td>\n",
       "      <td>седан</td>\n",
       "      <td>передний</td>\n",
       "      <td>бензин</td>\n",
       "      <td>1.8 CVT</td>\n",
       "      <td>140</td>\n",
       "      <td></td>\n",
       "      <td>1.8</td>\n",
       "      <td>CVT</td>\n",
       "      <td>100 181</td>\n",
       "      <td>Москва</td>\n",
       "    </tr>\n",
       "    <tr>\n",
       "      <th>1</th>\n",
       "      <td>Mazda 3, 2008</td>\n",
       "      <td>490 000 ₽</td>\n",
       "      <td>Свердловская область, Екатеринбург</td>\n",
       "      <td>213 000 км, 1.6 MT (105 л.с.), седан, передний...</td>\n",
       "      <td>2021-11-23</td>\n",
       "      <td>Mazda 3</td>\n",
       "      <td>2008</td>\n",
       "      <td>490 000</td>\n",
       "      <td>213 000 км</td>\n",
       "      <td>1.6 MT (105 л.с.)</td>\n",
       "      <td>седан</td>\n",
       "      <td>передний</td>\n",
       "      <td>бензин</td>\n",
       "      <td>1.6 MT</td>\n",
       "      <td>105</td>\n",
       "      <td></td>\n",
       "      <td>1.6</td>\n",
       "      <td>MT</td>\n",
       "      <td>213 000</td>\n",
       "      <td>Свердловская область</td>\n",
       "    </tr>\n",
       "  </tbody>\n",
       "</table>\n",
       "</div>"
      ],
      "text/plain": [
       "                 car_brand  car_price                        car_location  \\\n",
       "0  Mitsubishi Lancer, 2014  650 000 ₽                              Москва   \n",
       "1            Mazda 3, 2008  490 000 ₽  Свердловская область, Екатеринбург   \n",
       "\n",
       "                                         car_details       today  \\\n",
       "0  100 181 км, 1.8 CVT (140 л.с.), седан, передни...  2021-11-23   \n",
       "1  213 000 км, 1.6 MT (105 л.с.), седан, передний...  2021-11-23   \n",
       "\n",
       "               model   year     price     mileage           vol_box_hp  \\\n",
       "0  Mitsubishi Lancer   2014  650 000   100 181 км   1.8 CVT (140 л.с.)   \n",
       "1            Mazda 3   2008  490 000   213 000 км    1.6 MT (105 л.с.)   \n",
       "\n",
       "     body      drive     fuel   vol_box   hp delete_later  vol  box total_km  \\\n",
       "0   седан   передний   бензин   1.8 CVT  140               1.8  CVT  100 181   \n",
       "1   седан   передний   бензин    1.6 MT  105               1.6   MT  213 000   \n",
       "\n",
       "               location  \n",
       "0                Москва  \n",
       "1  Свердловская область  "
      ]
     },
     "execution_count": 199,
     "metadata": {},
     "output_type": "execute_result"
    }
   ],
   "source": [
    "df.head(2)"
   ]
  },
  {
   "cell_type": "code",
   "execution_count": 200,
   "metadata": {},
   "outputs": [
    {
     "data": {
      "text/plain": [
       "Index(['car_brand', 'car_price', 'car_location', 'car_details', 'today',\n",
       "       'model', 'year', 'price', 'mileage', 'vol_box_hp', 'body', 'drive',\n",
       "       'fuel', 'vol_box', 'hp', 'delete_later', 'vol', 'box', 'total_km',\n",
       "       'location'],\n",
       "      dtype='object')"
      ]
     },
     "execution_count": 200,
     "metadata": {},
     "output_type": "execute_result"
    }
   ],
   "source": [
    "df.columns"
   ]
  },
  {
   "cell_type": "code",
   "execution_count": 201,
   "metadata": {},
   "outputs": [
    {
     "data": {
      "text/html": [
       "<div>\n",
       "<style scoped>\n",
       "    .dataframe tbody tr th:only-of-type {\n",
       "        vertical-align: middle;\n",
       "    }\n",
       "\n",
       "    .dataframe tbody tr th {\n",
       "        vertical-align: top;\n",
       "    }\n",
       "\n",
       "    .dataframe thead th {\n",
       "        text-align: right;\n",
       "    }\n",
       "</style>\n",
       "<table border=\"1\" class=\"dataframe\">\n",
       "  <thead>\n",
       "    <tr style=\"text-align: right;\">\n",
       "      <th></th>\n",
       "      <th>model</th>\n",
       "      <th>year</th>\n",
       "      <th>price</th>\n",
       "      <th>total_km</th>\n",
       "      <th>hp</th>\n",
       "      <th>body</th>\n",
       "      <th>drive</th>\n",
       "      <th>fuel</th>\n",
       "      <th>location</th>\n",
       "    </tr>\n",
       "  </thead>\n",
       "  <tbody>\n",
       "    <tr>\n",
       "      <th>0</th>\n",
       "      <td>Mitsubishi Lancer</td>\n",
       "      <td>2014</td>\n",
       "      <td>650 000</td>\n",
       "      <td>100 181</td>\n",
       "      <td>140</td>\n",
       "      <td>седан</td>\n",
       "      <td>передний</td>\n",
       "      <td>бензин</td>\n",
       "      <td>Москва</td>\n",
       "    </tr>\n",
       "    <tr>\n",
       "      <th>1</th>\n",
       "      <td>Mazda 3</td>\n",
       "      <td>2008</td>\n",
       "      <td>490 000</td>\n",
       "      <td>213 000</td>\n",
       "      <td>105</td>\n",
       "      <td>седан</td>\n",
       "      <td>передний</td>\n",
       "      <td>бензин</td>\n",
       "      <td>Свердловская область</td>\n",
       "    </tr>\n",
       "    <tr>\n",
       "      <th>2</th>\n",
       "      <td>ВАЗ (LADA) Granta</td>\n",
       "      <td>2020</td>\n",
       "      <td>742 000</td>\n",
       "      <td>25 600</td>\n",
       "      <td>106</td>\n",
       "      <td>седан</td>\n",
       "      <td>передний</td>\n",
       "      <td>бензин</td>\n",
       "      <td>Свердловская область</td>\n",
       "    </tr>\n",
       "    <tr>\n",
       "      <th>3</th>\n",
       "      <td>Toyota Tank</td>\n",
       "      <td>2018</td>\n",
       "      <td>590 000</td>\n",
       "      <td>43 000</td>\n",
       "      <td>69</td>\n",
       "      <td>хетчбэк</td>\n",
       "      <td>полный</td>\n",
       "      <td>бензин</td>\n",
       "      <td>Приморский край</td>\n",
       "    </tr>\n",
       "    <tr>\n",
       "      <th>4</th>\n",
       "      <td>Kia Rio</td>\n",
       "      <td>2018</td>\n",
       "      <td>999 000</td>\n",
       "      <td>65 000</td>\n",
       "      <td>123</td>\n",
       "      <td>седан</td>\n",
       "      <td>передний</td>\n",
       "      <td>бензин</td>\n",
       "      <td>Астраханская область</td>\n",
       "    </tr>\n",
       "    <tr>\n",
       "      <th>...</th>\n",
       "      <td>...</td>\n",
       "      <td>...</td>\n",
       "      <td>...</td>\n",
       "      <td>...</td>\n",
       "      <td>...</td>\n",
       "      <td>...</td>\n",
       "      <td>...</td>\n",
       "      <td>...</td>\n",
       "      <td>...</td>\n",
       "    </tr>\n",
       "    <tr>\n",
       "      <th>5651</th>\n",
       "      <td>Hyundai ix35</td>\n",
       "      <td>2013</td>\n",
       "      <td>880 000</td>\n",
       "      <td>174 000</td>\n",
       "      <td>150</td>\n",
       "      <td>внедорожник</td>\n",
       "      <td>полный</td>\n",
       "      <td>бензин</td>\n",
       "      <td>Ярославская область</td>\n",
       "    </tr>\n",
       "    <tr>\n",
       "      <th>5652</th>\n",
       "      <td>ГАЗ ГАЗель 2705</td>\n",
       "      <td>2013</td>\n",
       "      <td>497 000</td>\n",
       "      <td>180 000</td>\n",
       "      <td>120</td>\n",
       "      <td>фургон</td>\n",
       "      <td>полный</td>\n",
       "      <td>дизель</td>\n",
       "      <td>Москва</td>\n",
       "    </tr>\n",
       "    <tr>\n",
       "      <th>5653</th>\n",
       "      <td>Skoda Rapid</td>\n",
       "      <td>2018</td>\n",
       "      <td>700 000</td>\n",
       "      <td>183 500</td>\n",
       "      <td>90</td>\n",
       "      <td>хетчбэк</td>\n",
       "      <td>передний</td>\n",
       "      <td>бензин</td>\n",
       "      <td>Курская область</td>\n",
       "    </tr>\n",
       "    <tr>\n",
       "      <th>5654</th>\n",
       "      <td>ВАЗ (LADA) XRAY</td>\n",
       "      <td>2019</td>\n",
       "      <td>929 000</td>\n",
       "      <td>18 230</td>\n",
       "      <td>122</td>\n",
       "      <td>хетчбэк</td>\n",
       "      <td>передний</td>\n",
       "      <td>бензин</td>\n",
       "      <td>Удмуртская Республика</td>\n",
       "    </tr>\n",
       "    <tr>\n",
       "      <th>5655</th>\n",
       "      <td>УАЗ Patriot</td>\n",
       "      <td>2016</td>\n",
       "      <td>699 000</td>\n",
       "      <td>125 000</td>\n",
       "      <td>135</td>\n",
       "      <td>внедорожник</td>\n",
       "      <td>полный</td>\n",
       "      <td>бензин</td>\n",
       "      <td>Самарская область</td>\n",
       "    </tr>\n",
       "  </tbody>\n",
       "</table>\n",
       "<p>5656 rows × 9 columns</p>\n",
       "</div>"
      ],
      "text/plain": [
       "                  model   year     price total_km   hp          body  \\\n",
       "0     Mitsubishi Lancer   2014  650 000   100 181  140         седан   \n",
       "1               Mazda 3   2008  490 000   213 000  105         седан   \n",
       "2     ВАЗ (LADA) Granta   2020  742 000    25 600  106         седан   \n",
       "3           Toyota Tank   2018  590 000    43 000   69       хетчбэк   \n",
       "4               Kia Rio   2018  999 000    65 000  123         седан   \n",
       "...                 ...    ...       ...      ...  ...           ...   \n",
       "5651       Hyundai ix35   2013  880 000   174 000  150   внедорожник   \n",
       "5652    ГАЗ ГАЗель 2705   2013  497 000   180 000  120        фургон   \n",
       "5653        Skoda Rapid   2018  700 000   183 500   90       хетчбэк   \n",
       "5654    ВАЗ (LADA) XRAY   2019  929 000    18 230  122       хетчбэк   \n",
       "5655        УАЗ Patriot   2016  699 000   125 000  135   внедорожник   \n",
       "\n",
       "          drive     fuel               location  \n",
       "0      передний   бензин                 Москва  \n",
       "1      передний   бензин   Свердловская область  \n",
       "2      передний   бензин   Свердловская область  \n",
       "3        полный   бензин        Приморский край  \n",
       "4      передний   бензин   Астраханская область  \n",
       "...         ...      ...                    ...  \n",
       "5651     полный   бензин    Ярославская область  \n",
       "5652     полный   дизель                 Москва  \n",
       "5653   передний   бензин        Курская область  \n",
       "5654   передний   бензин  Удмуртская Республика  \n",
       "5655     полный   бензин      Самарская область  \n",
       "\n",
       "[5656 rows x 9 columns]"
      ]
     },
     "execution_count": 201,
     "metadata": {},
     "output_type": "execute_result"
    }
   ],
   "source": [
    "df[['model','year', 'price','total_km', 'hp', 'body', 'drive', 'fuel', 'location' ]]"
   ]
  },
  {
   "cell_type": "code",
   "execution_count": 202,
   "metadata": {},
   "outputs": [
    {
     "data": {
      "text/html": [
       "<div>\n",
       "<style scoped>\n",
       "    .dataframe tbody tr th:only-of-type {\n",
       "        vertical-align: middle;\n",
       "    }\n",
       "\n",
       "    .dataframe tbody tr th {\n",
       "        vertical-align: top;\n",
       "    }\n",
       "\n",
       "    .dataframe thead th {\n",
       "        text-align: right;\n",
       "    }\n",
       "</style>\n",
       "<table border=\"1\" class=\"dataframe\">\n",
       "  <thead>\n",
       "    <tr style=\"text-align: right;\">\n",
       "      <th></th>\n",
       "      <th>car_brand</th>\n",
       "      <th>car_price</th>\n",
       "      <th>car_location</th>\n",
       "      <th>car_details</th>\n",
       "      <th>today</th>\n",
       "      <th>model</th>\n",
       "      <th>year</th>\n",
       "      <th>price</th>\n",
       "      <th>mileage</th>\n",
       "      <th>vol_box_hp</th>\n",
       "      <th>body</th>\n",
       "      <th>drive</th>\n",
       "      <th>fuel</th>\n",
       "      <th>vol_box</th>\n",
       "      <th>hp</th>\n",
       "      <th>delete_later</th>\n",
       "      <th>vol</th>\n",
       "      <th>box</th>\n",
       "      <th>total_km</th>\n",
       "      <th>location</th>\n",
       "    </tr>\n",
       "  </thead>\n",
       "  <tbody>\n",
       "    <tr>\n",
       "      <th>0</th>\n",
       "      <td>Mitsubishi Lancer, 2014</td>\n",
       "      <td>650 000 ₽</td>\n",
       "      <td>Москва</td>\n",
       "      <td>100 181 км, 1.8 CVT (140 л.с.), седан, передни...</td>\n",
       "      <td>2021-11-23</td>\n",
       "      <td>Mitsubishi Lancer</td>\n",
       "      <td>2014</td>\n",
       "      <td>650 000</td>\n",
       "      <td>100 181 км</td>\n",
       "      <td>1.8 CVT (140 л.с.)</td>\n",
       "      <td>седан</td>\n",
       "      <td>передний</td>\n",
       "      <td>бензин</td>\n",
       "      <td>1.8 CVT</td>\n",
       "      <td>140</td>\n",
       "      <td></td>\n",
       "      <td>1.8</td>\n",
       "      <td>CVT</td>\n",
       "      <td>100 181</td>\n",
       "      <td>Москва</td>\n",
       "    </tr>\n",
       "    <tr>\n",
       "      <th>1</th>\n",
       "      <td>Mazda 3, 2008</td>\n",
       "      <td>490 000 ₽</td>\n",
       "      <td>Свердловская область, Екатеринбург</td>\n",
       "      <td>213 000 км, 1.6 MT (105 л.с.), седан, передний...</td>\n",
       "      <td>2021-11-23</td>\n",
       "      <td>Mazda 3</td>\n",
       "      <td>2008</td>\n",
       "      <td>490 000</td>\n",
       "      <td>213 000 км</td>\n",
       "      <td>1.6 MT (105 л.с.)</td>\n",
       "      <td>седан</td>\n",
       "      <td>передний</td>\n",
       "      <td>бензин</td>\n",
       "      <td>1.6 MT</td>\n",
       "      <td>105</td>\n",
       "      <td></td>\n",
       "      <td>1.6</td>\n",
       "      <td>MT</td>\n",
       "      <td>213 000</td>\n",
       "      <td>Свердловская область</td>\n",
       "    </tr>\n",
       "  </tbody>\n",
       "</table>\n",
       "</div>"
      ],
      "text/plain": [
       "                 car_brand  car_price                        car_location  \\\n",
       "0  Mitsubishi Lancer, 2014  650 000 ₽                              Москва   \n",
       "1            Mazda 3, 2008  490 000 ₽  Свердловская область, Екатеринбург   \n",
       "\n",
       "                                         car_details       today  \\\n",
       "0  100 181 км, 1.8 CVT (140 л.с.), седан, передни...  2021-11-23   \n",
       "1  213 000 км, 1.6 MT (105 л.с.), седан, передний...  2021-11-23   \n",
       "\n",
       "               model   year     price     mileage           vol_box_hp  \\\n",
       "0  Mitsubishi Lancer   2014  650 000   100 181 км   1.8 CVT (140 л.с.)   \n",
       "1            Mazda 3   2008  490 000   213 000 км    1.6 MT (105 л.с.)   \n",
       "\n",
       "     body      drive     fuel   vol_box   hp delete_later  vol  box total_km  \\\n",
       "0   седан   передний   бензин   1.8 CVT  140               1.8  CVT  100 181   \n",
       "1   седан   передний   бензин    1.6 MT  105               1.6   MT  213 000   \n",
       "\n",
       "               location  \n",
       "0                Москва  \n",
       "1  Свердловская область  "
      ]
     },
     "execution_count": 202,
     "metadata": {},
     "output_type": "execute_result"
    }
   ],
   "source": [
    "##!! Вопрос. Как вы думаете, что здесь произойдет? \n",
    "## Будет ли у меня короткая или длинная версия со всеми столбцами?\n",
    "df.head(2)"
   ]
  },
  {
   "cell_type": "code",
   "execution_count": 203,
   "metadata": {},
   "outputs": [
    {
     "data": {
      "text/html": [
       "<div>\n",
       "<style scoped>\n",
       "    .dataframe tbody tr th:only-of-type {\n",
       "        vertical-align: middle;\n",
       "    }\n",
       "\n",
       "    .dataframe tbody tr th {\n",
       "        vertical-align: top;\n",
       "    }\n",
       "\n",
       "    .dataframe thead th {\n",
       "        text-align: right;\n",
       "    }\n",
       "</style>\n",
       "<table border=\"1\" class=\"dataframe\">\n",
       "  <thead>\n",
       "    <tr style=\"text-align: right;\">\n",
       "      <th></th>\n",
       "      <th>model</th>\n",
       "      <th>year</th>\n",
       "      <th>price</th>\n",
       "      <th>total_km</th>\n",
       "      <th>hp</th>\n",
       "      <th>body</th>\n",
       "      <th>drive</th>\n",
       "      <th>fuel</th>\n",
       "      <th>location</th>\n",
       "    </tr>\n",
       "  </thead>\n",
       "  <tbody>\n",
       "    <tr>\n",
       "      <th>0</th>\n",
       "      <td>Mitsubishi Lancer</td>\n",
       "      <td>2014</td>\n",
       "      <td>650 000</td>\n",
       "      <td>100 181</td>\n",
       "      <td>140</td>\n",
       "      <td>седан</td>\n",
       "      <td>передний</td>\n",
       "      <td>бензин</td>\n",
       "      <td>Москва</td>\n",
       "    </tr>\n",
       "    <tr>\n",
       "      <th>1</th>\n",
       "      <td>Mazda 3</td>\n",
       "      <td>2008</td>\n",
       "      <td>490 000</td>\n",
       "      <td>213 000</td>\n",
       "      <td>105</td>\n",
       "      <td>седан</td>\n",
       "      <td>передний</td>\n",
       "      <td>бензин</td>\n",
       "      <td>Свердловская область</td>\n",
       "    </tr>\n",
       "  </tbody>\n",
       "</table>\n",
       "</div>"
      ],
      "text/plain": [
       "               model   year     price total_km   hp    body      drive  \\\n",
       "0  Mitsubishi Lancer   2014  650 000   100 181  140   седан   передний   \n",
       "1            Mazda 3   2008  490 000   213 000  105   седан   передний   \n",
       "\n",
       "      fuel              location  \n",
       "0   бензин                Москва  \n",
       "1   бензин  Свердловская область  "
      ]
     },
     "execution_count": 203,
     "metadata": {},
     "output_type": "execute_result"
    }
   ],
   "source": [
    "df_final = df[['model','year', 'price','total_km', 'hp', 'body', 'drive', 'fuel', 'location' ]]\n",
    "df_final.head(2)"
   ]
  },
  {
   "cell_type": "code",
   "execution_count": 204,
   "metadata": {},
   "outputs": [
    {
     "data": {
      "text/plain": [
       "((5656, 20), (5656, 9))"
      ]
     },
     "execution_count": 204,
     "metadata": {},
     "output_type": "execute_result"
    }
   ],
   "source": [
    "## Здесь мы проверяем, что не потеряли ни одной строки.\n",
    "df.shape, df_final.shape"
   ]
  },
  {
   "cell_type": "code",
   "execution_count": 205,
   "metadata": {},
   "outputs": [
    {
     "name": "stdout",
     "output_type": "stream",
     "text": [
      "<class 'pandas.core.frame.DataFrame'>\n",
      "RangeIndex: 5656 entries, 0 to 5655\n",
      "Data columns (total 9 columns):\n",
      " #   Column    Non-Null Count  Dtype \n",
      "---  ------    --------------  ----- \n",
      " 0   model     5656 non-null   object\n",
      " 1   year      5656 non-null   object\n",
      " 2   price     5656 non-null   object\n",
      " 3   total_km  5656 non-null   object\n",
      " 4   hp        5656 non-null   object\n",
      " 5   body      5656 non-null   object\n",
      " 6   drive     5656 non-null   object\n",
      " 7   fuel      5656 non-null   object\n",
      " 8   location  5656 non-null   object\n",
      "dtypes: object(9)\n",
      "memory usage: 397.8+ KB\n"
     ]
    }
   ],
   "source": [
    "df_final.info ()"
   ]
  },
  {
   "cell_type": "code",
   "execution_count": 206,
   "metadata": {},
   "outputs": [
    {
     "data": {
      "text/plain": [
       "model       0\n",
       "year        0\n",
       "price       0\n",
       "total_km    0\n",
       "hp          0\n",
       "body        0\n",
       "drive       0\n",
       "fuel        0\n",
       "location    0\n",
       "dtype: int64"
      ]
     },
     "execution_count": 206,
     "metadata": {},
     "output_type": "execute_result"
    }
   ],
   "source": [
    "## Давайте убедимся, что у нас действительно нет нулевых значений.\n",
    "## Это почти идеальный случай. Обычно у вас будет нулевое значение в ваших данных, \n",
    "## особенно когда они не обработаны. Здесь у нас нет нулевых значений, \n",
    "## Потому что наше программное обеспечение для автоматического сбора данных \n",
    "## игнорировало нулевые или пустые строки.\n",
    "\n",
    "df_final.isnull().sum()"
   ]
  },
  {
   "cell_type": "code",
   "execution_count": 207,
   "metadata": {},
   "outputs": [
    {
     "data": {
      "text/plain": [
       "model       object\n",
       "year        object\n",
       "price       object\n",
       "total_km    object\n",
       "hp          object\n",
       "body        object\n",
       "drive       object\n",
       "fuel        object\n",
       "location    object\n",
       "dtype: object"
      ]
     },
     "execution_count": 207,
     "metadata": {},
     "output_type": "execute_result"
    }
   ],
   "source": [
    "df_final.dtypes"
   ]
  },
  {
   "cell_type": "code",
   "execution_count": 208,
   "metadata": {},
   "outputs": [],
   "source": [
    "## Давайте попробуем одну очень простую операцию со столбцом: возьмем среднее значение по всему столбцу.\n",
    "## Результат будет.  TypeError: Could not convert string\n",
    "\n",
    "## Можете догадаться, почему?\n",
    "\n",
    "## Подсказка находится внутри более длинного сообщения об ошибке Traceback.\n",
    "##  TypeError(f\"Could not convert string '{x}' to numeric\")\n",
    "\n",
    "# df_final.total_km.mean()"
   ]
  },
  {
   "cell_type": "code",
   "execution_count": 209,
   "metadata": {},
   "outputs": [
    {
     "data": {
      "text/plain": [
       "5277    165 000\n",
       "5457     89 000\n",
       "2968    116 467\n",
       "3084    100 000\n",
       "2974     85 206\n",
       "4046     53 444\n",
       "4963    420 000\n",
       "2479    174 000\n",
       "613      37 340\n",
       "3717    109 000\n",
       "Name: total_km, dtype: object"
      ]
     },
     "execution_count": 209,
     "metadata": {},
     "output_type": "execute_result"
    }
   ],
   "source": [
    "df_final.total_km.sample (n = 10)"
   ]
  },
  {
   "cell_type": "code",
   "execution_count": 211,
   "metadata": {},
   "outputs": [],
   "source": [
    "## Действительно, Python обычно выдает сообщения об ошибках, \n",
    "## которые помогают нам подумать, в каком направлении мы можем двигаться.\n",
    "\n",
    "## Давайте воспользуемся этой подсказкой для преобразования типа данных нашего столбца.\n",
    "## Сначала мы попробуем pd.to_numeric функцию, так как согласно нашей подсказке это первое, что приходит на ум.\n",
    "\n",
    "## На этот раз мы получаем эту ValueError: Unable to parse string \"100 181\" at position 0\n",
    "## Не очень понятное сообщение, что на этот раз делать ))\n",
    "\n",
    "# df_final['total_km'].apply(pd.to_numeric)"
   ]
  },
  {
   "cell_type": "code",
   "execution_count": 212,
   "metadata": {},
   "outputs": [
    {
     "data": {
      "text/plain": [
       "0       100181.0\n",
       "1       213000.0\n",
       "2        25600.0\n",
       "3        43000.0\n",
       "4        65000.0\n",
       "          ...   \n",
       "5651    174000.0\n",
       "5652    180000.0\n",
       "5653    183500.0\n",
       "5654     18230.0\n",
       "5655    125000.0\n",
       "Name: total_km, Length: 5656, dtype: float64"
      ]
     },
     "execution_count": 212,
     "metadata": {},
     "output_type": "execute_result"
    }
   ],
   "source": [
    "## Заметим, что в 100 181 есть пробел\n",
    "## давайте удалим его, а затем применим результаты к столбцу, преобразуя их в тип float.\n",
    "\n",
    "## astype(float) использовалось в качестве меры предосторожности, \n",
    "## поскольку преобразование строки типа «100 181» непосредственно в целое число \n",
    "## могло вызвать ошибку из-за присутствия нечисловых символов (в данном случае пробела). \n",
    "## Преобразуя в число с плавающей запятой, \n",
    "## вы допускаете возможность присутствия в данных нецелочисленных значений без возникновения ошибок.\n",
    "\n",
    "\n",
    "df_final['total_km'].str.replace(' ', '').astype(float)"
   ]
  },
  {
   "cell_type": "code",
   "execution_count": 213,
   "metadata": {},
   "outputs": [
    {
     "data": {
      "text/plain": [
       "model       object\n",
       "year        object\n",
       "price       object\n",
       "total_km    object\n",
       "hp          object\n",
       "body        object\n",
       "drive       object\n",
       "fuel        object\n",
       "location    object\n",
       "dtype: object"
      ]
     },
     "execution_count": 213,
     "metadata": {},
     "output_type": "execute_result"
    }
   ],
   "source": [
    "df_final.dtypes"
   ]
  },
  {
   "cell_type": "code",
   "execution_count": 214,
   "metadata": {},
   "outputs": [
    {
     "data": {
      "text/plain": [
       "0    100181.0\n",
       "1    213000.0\n",
       "Name: total_km, dtype: float64"
      ]
     },
     "execution_count": 214,
     "metadata": {},
     "output_type": "execute_result"
    }
   ],
   "source": [
    "## Мы можем использовать метод str() в сочетании с replace() для выполнения \n",
    "## операций над отдельными столбцами, но не над несколькими столбцами одновременно.\n",
    "\n",
    "## потому что метод str может быть применительно к серией pandas, которая, \n",
    "## как мы помним, представляет собой одномерный массив. \n",
    "## Но этот метод нельзя применить к двумерному фрейму данных в пандах.\n",
    "\n",
    "\n",
    "df_final['total_km'].str.replace(' ', '').astype(float).head(2)"
   ]
  },
  {
   "cell_type": "code",
   "execution_count": 215,
   "metadata": {},
   "outputs": [
    {
     "data": {
      "text/html": [
       "<div>\n",
       "<style scoped>\n",
       "    .dataframe tbody tr th:only-of-type {\n",
       "        vertical-align: middle;\n",
       "    }\n",
       "\n",
       "    .dataframe tbody tr th {\n",
       "        vertical-align: top;\n",
       "    }\n",
       "\n",
       "    .dataframe thead th {\n",
       "        text-align: right;\n",
       "    }\n",
       "</style>\n",
       "<table border=\"1\" class=\"dataframe\">\n",
       "  <thead>\n",
       "    <tr style=\"text-align: right;\">\n",
       "      <th></th>\n",
       "      <th>price</th>\n",
       "      <th>total_km</th>\n",
       "      <th>hp</th>\n",
       "    </tr>\n",
       "  </thead>\n",
       "  <tbody>\n",
       "    <tr>\n",
       "      <th>0</th>\n",
       "      <td>650000.0</td>\n",
       "      <td>100181.0</td>\n",
       "      <td>140.0</td>\n",
       "    </tr>\n",
       "    <tr>\n",
       "      <th>1</th>\n",
       "      <td>490000.0</td>\n",
       "      <td>213000.0</td>\n",
       "      <td>105.0</td>\n",
       "    </tr>\n",
       "    <tr>\n",
       "      <th>2</th>\n",
       "      <td>742000.0</td>\n",
       "      <td>25600.0</td>\n",
       "      <td>106.0</td>\n",
       "    </tr>\n",
       "    <tr>\n",
       "      <th>3</th>\n",
       "      <td>590000.0</td>\n",
       "      <td>43000.0</td>\n",
       "      <td>69.0</td>\n",
       "    </tr>\n",
       "    <tr>\n",
       "      <th>4</th>\n",
       "      <td>999000.0</td>\n",
       "      <td>65000.0</td>\n",
       "      <td>123.0</td>\n",
       "    </tr>\n",
       "    <tr>\n",
       "      <th>...</th>\n",
       "      <td>...</td>\n",
       "      <td>...</td>\n",
       "      <td>...</td>\n",
       "    </tr>\n",
       "    <tr>\n",
       "      <th>5651</th>\n",
       "      <td>880000.0</td>\n",
       "      <td>174000.0</td>\n",
       "      <td>150.0</td>\n",
       "    </tr>\n",
       "    <tr>\n",
       "      <th>5652</th>\n",
       "      <td>497000.0</td>\n",
       "      <td>180000.0</td>\n",
       "      <td>120.0</td>\n",
       "    </tr>\n",
       "    <tr>\n",
       "      <th>5653</th>\n",
       "      <td>700000.0</td>\n",
       "      <td>183500.0</td>\n",
       "      <td>90.0</td>\n",
       "    </tr>\n",
       "    <tr>\n",
       "      <th>5654</th>\n",
       "      <td>929000.0</td>\n",
       "      <td>18230.0</td>\n",
       "      <td>122.0</td>\n",
       "    </tr>\n",
       "    <tr>\n",
       "      <th>5655</th>\n",
       "      <td>699000.0</td>\n",
       "      <td>125000.0</td>\n",
       "      <td>135.0</td>\n",
       "    </tr>\n",
       "  </tbody>\n",
       "</table>\n",
       "<p>5656 rows × 3 columns</p>\n",
       "</div>"
      ],
      "text/plain": [
       "         price  total_km     hp\n",
       "0     650000.0  100181.0  140.0\n",
       "1     490000.0  213000.0  105.0\n",
       "2     742000.0   25600.0  106.0\n",
       "3     590000.0   43000.0   69.0\n",
       "4     999000.0   65000.0  123.0\n",
       "...        ...       ...    ...\n",
       "5651  880000.0  174000.0  150.0\n",
       "5652  497000.0  180000.0  120.0\n",
       "5653  700000.0  183500.0   90.0\n",
       "5654  929000.0   18230.0  122.0\n",
       "5655  699000.0  125000.0  135.0\n",
       "\n",
       "[5656 rows x 3 columns]"
      ]
     },
     "execution_count": 215,
     "metadata": {},
     "output_type": "execute_result"
    }
   ],
   "source": [
    "## Вместо этого мы будем использовать комбинацию map и лямбда-функций, \n",
    "## чтобы иметь возможность изменять несколько столбцов одновременно. \n",
    "\n",
    "## Подробнее о map  и  lambda функциях см. в нашем py_bsacis файле.\n",
    "df_final[['price','total_km', 'hp']].map(lambda x: float(x.replace(' ', '')))"
   ]
  },
  {
   "cell_type": "code",
   "execution_count": 216,
   "metadata": {},
   "outputs": [
    {
     "name": "stderr",
     "output_type": "stream",
     "text": [
      "/tmp/ipykernel_19828/730509546.py:1: SettingWithCopyWarning: \n",
      "A value is trying to be set on a copy of a slice from a DataFrame.\n",
      "Try using .loc[row_indexer,col_indexer] = value instead\n",
      "\n",
      "See the caveats in the documentation: https://pandas.pydata.org/pandas-docs/stable/user_guide/indexing.html#returning-a-view-versus-a-copy\n",
      "  df_final[['price','total_km', 'hp']] = df_final[['price','total_km', 'hp']].map(lambda x: float(x.replace(' ', '')))\n"
     ]
    }
   ],
   "source": [
    "\n",
    "\n",
    "df_final[['price','total_km', 'hp']] = df_final[['price','total_km', 'hp']].map(lambda x: float(x.replace(' ', '')))"
   ]
  },
  {
   "cell_type": "code",
   "execution_count": 217,
   "metadata": {},
   "outputs": [
    {
     "name": "stdout",
     "output_type": "stream",
     "text": [
      "<class 'pandas.core.frame.DataFrame'>\n",
      "RangeIndex: 5656 entries, 0 to 5655\n",
      "Data columns (total 9 columns):\n",
      " #   Column    Non-Null Count  Dtype  \n",
      "---  ------    --------------  -----  \n",
      " 0   model     5656 non-null   object \n",
      " 1   year      5656 non-null   object \n",
      " 2   price     5656 non-null   float64\n",
      " 3   total_km  5656 non-null   float64\n",
      " 4   hp        5656 non-null   float64\n",
      " 5   body      5656 non-null   object \n",
      " 6   drive     5656 non-null   object \n",
      " 7   fuel      5656 non-null   object \n",
      " 8   location  5656 non-null   object \n",
      "dtypes: float64(3), object(6)\n",
      "memory usage: 397.8+ KB\n"
     ]
    }
   ],
   "source": [
    "df_final.info()"
   ]
  },
  {
   "cell_type": "code",
   "execution_count": 218,
   "metadata": {},
   "outputs": [
    {
     "name": "stderr",
     "output_type": "stream",
     "text": [
      "/tmp/ipykernel_19828/3499422409.py:5: SettingWithCopyWarning: \n",
      "A value is trying to be set on a copy of a slice from a DataFrame.\n",
      "Try using .loc[row_indexer,col_indexer] = value instead\n",
      "\n",
      "See the caveats in the documentation: https://pandas.pydata.org/pandas-docs/stable/user_guide/indexing.html#returning-a-view-versus-a-copy\n",
      "  df_final['year'] = df_final['year'].str.replace(' ', '').astype(int)\n"
     ]
    }
   ],
   "source": [
    "## Наконец, давайте изменим наш столбец year.\n",
    "## Один из распространенных вариантов — преобразовать его в целочисленный тип, \n",
    "## предполагая, что столбец year содержит целые годы. \n",
    "\n",
    "df_final['year'] = df_final['year'].str.replace(' ', '').astype(int)"
   ]
  },
  {
   "cell_type": "code",
   "execution_count": 219,
   "metadata": {},
   "outputs": [
    {
     "name": "stdout",
     "output_type": "stream",
     "text": [
      "<class 'pandas.core.frame.DataFrame'>\n",
      "RangeIndex: 5656 entries, 0 to 5655\n",
      "Data columns (total 9 columns):\n",
      " #   Column    Non-Null Count  Dtype  \n",
      "---  ------    --------------  -----  \n",
      " 0   model     5656 non-null   object \n",
      " 1   year      5656 non-null   int64  \n",
      " 2   price     5656 non-null   float64\n",
      " 3   total_km  5656 non-null   float64\n",
      " 4   hp        5656 non-null   float64\n",
      " 5   body      5656 non-null   object \n",
      " 6   drive     5656 non-null   object \n",
      " 7   fuel      5656 non-null   object \n",
      " 8   location  5656 non-null   object \n",
      "dtypes: float64(3), int64(1), object(5)\n",
      "memory usage: 397.8+ KB\n"
     ]
    }
   ],
   "source": [
    "df_final.info()"
   ]
  },
  {
   "cell_type": "code",
   "execution_count": 220,
   "metadata": {},
   "outputs": [
    {
     "data": {
      "text/html": [
       "<div>\n",
       "<style scoped>\n",
       "    .dataframe tbody tr th:only-of-type {\n",
       "        vertical-align: middle;\n",
       "    }\n",
       "\n",
       "    .dataframe tbody tr th {\n",
       "        vertical-align: top;\n",
       "    }\n",
       "\n",
       "    .dataframe thead th {\n",
       "        text-align: right;\n",
       "    }\n",
       "</style>\n",
       "<table border=\"1\" class=\"dataframe\">\n",
       "  <thead>\n",
       "    <tr style=\"text-align: right;\">\n",
       "      <th></th>\n",
       "      <th>year</th>\n",
       "      <th>price</th>\n",
       "      <th>total_km</th>\n",
       "      <th>hp</th>\n",
       "    </tr>\n",
       "  </thead>\n",
       "  <tbody>\n",
       "    <tr>\n",
       "      <th>count</th>\n",
       "      <td>5656.000000</td>\n",
       "      <td>5656.000000</td>\n",
       "      <td>5656.000000</td>\n",
       "      <td>5656.000000</td>\n",
       "    </tr>\n",
       "    <tr>\n",
       "      <th>mean</th>\n",
       "      <td>2012.216407</td>\n",
       "      <td>696539.233911</td>\n",
       "      <td>137306.148161</td>\n",
       "      <td>132.765205</td>\n",
       "    </tr>\n",
       "    <tr>\n",
       "      <th>std</th>\n",
       "      <td>5.132224</td>\n",
       "      <td>155618.216508</td>\n",
       "      <td>84263.716593</td>\n",
       "      <td>48.952725</td>\n",
       "    </tr>\n",
       "    <tr>\n",
       "      <th>min</th>\n",
       "      <td>1940.000000</td>\n",
       "      <td>450000.000000</td>\n",
       "      <td>1.000000</td>\n",
       "      <td>22.000000</td>\n",
       "    </tr>\n",
       "    <tr>\n",
       "      <th>25%</th>\n",
       "      <td>2009.000000</td>\n",
       "      <td>565000.000000</td>\n",
       "      <td>82000.000000</td>\n",
       "      <td>106.000000</td>\n",
       "    </tr>\n",
       "    <tr>\n",
       "      <th>50%</th>\n",
       "      <td>2012.000000</td>\n",
       "      <td>685000.000000</td>\n",
       "      <td>130506.000000</td>\n",
       "      <td>122.000000</td>\n",
       "    </tr>\n",
       "    <tr>\n",
       "      <th>75%</th>\n",
       "      <td>2016.000000</td>\n",
       "      <td>819000.000000</td>\n",
       "      <td>179000.000000</td>\n",
       "      <td>147.000000</td>\n",
       "    </tr>\n",
       "    <tr>\n",
       "      <th>max</th>\n",
       "      <td>2021.000000</td>\n",
       "      <td>1000000.000000</td>\n",
       "      <td>960000.000000</td>\n",
       "      <td>510.000000</td>\n",
       "    </tr>\n",
       "  </tbody>\n",
       "</table>\n",
       "</div>"
      ],
      "text/plain": [
       "              year           price       total_km           hp\n",
       "count  5656.000000     5656.000000    5656.000000  5656.000000\n",
       "mean   2012.216407   696539.233911  137306.148161   132.765205\n",
       "std       5.132224   155618.216508   84263.716593    48.952725\n",
       "min    1940.000000   450000.000000       1.000000    22.000000\n",
       "25%    2009.000000   565000.000000   82000.000000   106.000000\n",
       "50%    2012.000000   685000.000000  130506.000000   122.000000\n",
       "75%    2016.000000   819000.000000  179000.000000   147.000000\n",
       "max    2021.000000  1000000.000000  960000.000000   510.000000"
      ]
     },
     "execution_count": 220,
     "metadata": {},
     "output_type": "execute_result"
    }
   ],
   "source": [
    "df_final.describe()\n"
   ]
  },
  {
   "cell_type": "code",
   "execution_count": 221,
   "metadata": {},
   "outputs": [
    {
     "data": {
      "text/html": [
       "<div>\n",
       "<style scoped>\n",
       "    .dataframe tbody tr th:only-of-type {\n",
       "        vertical-align: middle;\n",
       "    }\n",
       "\n",
       "    .dataframe tbody tr th {\n",
       "        vertical-align: top;\n",
       "    }\n",
       "\n",
       "    .dataframe thead th {\n",
       "        text-align: right;\n",
       "    }\n",
       "</style>\n",
       "<table border=\"1\" class=\"dataframe\">\n",
       "  <thead>\n",
       "    <tr style=\"text-align: right;\">\n",
       "      <th></th>\n",
       "      <th>model</th>\n",
       "      <th>year</th>\n",
       "      <th>price</th>\n",
       "      <th>total_km</th>\n",
       "      <th>hp</th>\n",
       "      <th>body</th>\n",
       "      <th>drive</th>\n",
       "      <th>fuel</th>\n",
       "      <th>location</th>\n",
       "    </tr>\n",
       "  </thead>\n",
       "  <tbody>\n",
       "    <tr>\n",
       "      <th>0</th>\n",
       "      <td>Mitsubishi Lancer</td>\n",
       "      <td>2014</td>\n",
       "      <td>650000.0</td>\n",
       "      <td>100181.0</td>\n",
       "      <td>140.0</td>\n",
       "      <td>седан</td>\n",
       "      <td>передний</td>\n",
       "      <td>бензин</td>\n",
       "      <td>Москва</td>\n",
       "    </tr>\n",
       "    <tr>\n",
       "      <th>1</th>\n",
       "      <td>Mazda 3</td>\n",
       "      <td>2008</td>\n",
       "      <td>490000.0</td>\n",
       "      <td>213000.0</td>\n",
       "      <td>105.0</td>\n",
       "      <td>седан</td>\n",
       "      <td>передний</td>\n",
       "      <td>бензин</td>\n",
       "      <td>Свердловская область</td>\n",
       "    </tr>\n",
       "    <tr>\n",
       "      <th>2</th>\n",
       "      <td>ВАЗ (LADA) Granta</td>\n",
       "      <td>2020</td>\n",
       "      <td>742000.0</td>\n",
       "      <td>25600.0</td>\n",
       "      <td>106.0</td>\n",
       "      <td>седан</td>\n",
       "      <td>передний</td>\n",
       "      <td>бензин</td>\n",
       "      <td>Свердловская область</td>\n",
       "    </tr>\n",
       "    <tr>\n",
       "      <th>3</th>\n",
       "      <td>Toyota Tank</td>\n",
       "      <td>2018</td>\n",
       "      <td>590000.0</td>\n",
       "      <td>43000.0</td>\n",
       "      <td>69.0</td>\n",
       "      <td>хетчбэк</td>\n",
       "      <td>полный</td>\n",
       "      <td>бензин</td>\n",
       "      <td>Приморский край</td>\n",
       "    </tr>\n",
       "    <tr>\n",
       "      <th>4</th>\n",
       "      <td>Kia Rio</td>\n",
       "      <td>2018</td>\n",
       "      <td>999000.0</td>\n",
       "      <td>65000.0</td>\n",
       "      <td>123.0</td>\n",
       "      <td>седан</td>\n",
       "      <td>передний</td>\n",
       "      <td>бензин</td>\n",
       "      <td>Астраханская область</td>\n",
       "    </tr>\n",
       "  </tbody>\n",
       "</table>\n",
       "</div>"
      ],
      "text/plain": [
       "               model  year     price  total_km     hp      body      drive  \\\n",
       "0  Mitsubishi Lancer  2014  650000.0  100181.0  140.0     седан   передний   \n",
       "1            Mazda 3  2008  490000.0  213000.0  105.0     седан   передний   \n",
       "2  ВАЗ (LADA) Granta  2020  742000.0   25600.0  106.0     седан   передний   \n",
       "3        Toyota Tank  2018  590000.0   43000.0   69.0   хетчбэк     полный   \n",
       "4            Kia Rio  2018  999000.0   65000.0  123.0     седан   передний   \n",
       "\n",
       "      fuel              location  \n",
       "0   бензин                Москва  \n",
       "1   бензин  Свердловская область  \n",
       "2   бензин  Свердловская область  \n",
       "3   бензин       Приморский край  \n",
       "4   бензин  Астраханская область  "
      ]
     },
     "execution_count": 221,
     "metadata": {},
     "output_type": "execute_result"
    }
   ],
   "source": [
    "df_final.head(5)"
   ]
  },
  {
   "cell_type": "code",
   "execution_count": 222,
   "metadata": {},
   "outputs": [],
   "source": [
    "# Save as CSV\n",
    "df_final.to_csv('data_clean/cleaned_final_cars_data.csv', index=False)\n",
    "\n",
    "# Save DataFrame object using pickle (optional)\n",
    "# df.to_pickle('data/cleaned_final_data.csv')"
   ]
  },
  {
   "cell_type": "code",
   "execution_count": null,
   "metadata": {},
   "outputs": [],
   "source": []
  }
 ],
 "metadata": {
  "kernelspec": {
   "display_name": "Python 3",
   "language": "python",
   "name": "python3"
  },
  "language_info": {
   "codemirror_mode": {
    "name": "ipython",
    "version": 3
   },
   "file_extension": ".py",
   "mimetype": "text/x-python",
   "name": "python",
   "nbconvert_exporter": "python",
   "pygments_lexer": "ipython3",
   "version": "3.10.12"
  }
 },
 "nbformat": 4,
 "nbformat_minor": 2
}
