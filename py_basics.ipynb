{
 "cells": [
  {
   "cell_type": "markdown",
   "metadata": {},
   "source": [
    "##  Python for loop \n",
    "Представьте, что у вас есть корзина с бананами. Вы хотите посмотреть каждый банан в корзине и что-то с ним сделать. <br> \n",
    "Вот как это работает на Python:<br> \n",
    "Создайте корзину с бананами (это наш список или последовательность).  Давайте назовем его fruits:"
   ]
  },
  {
   "cell_type": "code",
   "execution_count": 3,
   "metadata": {},
   "outputs": [
    {
     "data": {
      "text/plain": [
       "['яблоко', 'банан', 'вишня']"
      ]
     },
     "execution_count": 3,
     "metadata": {},
     "output_type": "execute_result"
    }
   ],
   "source": [
    "fruits = [\"яблоко\", \"банан\", \"вишня\"]\n",
    "fruits"
   ]
  },
  {
   "cell_type": "markdown",
   "metadata": {},
   "source": [
    "Пройдитесь по каждому банану в корзине. Мы используем цикл for:  <br>\n",
    "Этот код означает: “Для каждого элемента x в списке fruits, напечатайте его”. Таким образом, мы получим вывод"
   ]
  },
  {
   "cell_type": "code",
   "execution_count": 7,
   "metadata": {},
   "outputs": [
    {
     "name": "stdout",
     "output_type": "stream",
     "text": [
      "вах, вах, вах!!!! яблоко\n",
      "вах, вах, вах!!!! банан\n",
      "вах, вах, вах!!!! вишня\n"
     ]
    }
   ],
   "source": [
    "for x in fruits:\n",
    "    print('вах, вах, вах!!!!', x)"
   ]
  },
  {
   "cell_type": "markdown",
   "metadata": {},
   "source": [
    "##  Python Enumerate"
   ]
  },
  {
   "cell_type": "markdown",
   "metadata": {},
   "source": [
    "Представьте, что у вас есть корзина с бананами (опять они!). <br>\n",
    "На этот раз каждому банану мы дадим номер. Вот как это работает:<br><br>\n",
    "Создайте корзину с бананами (это наш список или последовательность). Давайте назовем его fruits:"
   ]
  },
  {
   "cell_type": "code",
   "execution_count": 9,
   "metadata": {},
   "outputs": [
    {
     "data": {
      "text/plain": [
       "['яблоко', 'банан', 'вишня']"
      ]
     },
     "execution_count": 9,
     "metadata": {},
     "output_type": "execute_result"
    }
   ],
   "source": [
    "fruits2 = [\"яблоко\", \"банан\", \"вишня\"]\n",
    "fruits2"
   ]
  },
  {
   "cell_type": "markdown",
   "metadata": {},
   "source": [
    "Пройдитесь по каждому банану в корзине и дайте каждому номер. Мы используем enumerate:"
   ]
  },
  {
   "cell_type": "code",
   "execution_count": 10,
   "metadata": {},
   "outputs": [
    {
     "name": "stdout",
     "output_type": "stream",
     "text": [
      "Банан 1: яблоко\n",
      "Банан 2: банан\n",
      "Банан 3: вишня\n",
      "****************************************************************************************************\n",
      "Банан 2: яблоко\n",
      "Банан 3: банан\n",
      "Банан 4: вишня\n"
     ]
    }
   ],
   "source": [
    "for i, x in enumerate(fruits2):\n",
    "    print(f\"Банан {i + 1}: {x}\")\n",
    "\n",
    "print ('*' *100)\n",
    "\n",
    "for i, x in enumerate(fruits2, start = 1):\n",
    "    print(f\"Банан {i + 1}: {x}\")"
   ]
  },
  {
   "cell_type": "markdown",
   "metadata": {},
   "source": [
    "## Pandas Series"
   ]
  },
  {
   "cell_type": "markdown",
   "metadata": {},
   "source": [
    "Pandas Series (Серия в Pandas) — это одномерный объект, похожий на массив с метками, <br>\n",
    "который может содержать данные любого типа. Его можно представить как столбец в таблице <br>\n",
    "или как один столбец в DataFrame. Серия состоит из двух основных компонентов: меток (индексов) и данных. <br>\n",
    "\n",
    "Давайте рассмотрим несколько примеров создания и использования серий:<br>\n",
    "\n",
    "Создание серии из списка: (LIST)"
   ]
  },
  {
   "cell_type": "code",
   "execution_count": 12,
   "metadata": {},
   "outputs": [
    {
     "name": "stdout",
     "output_type": "stream",
     "text": [
      "0    10\n",
      "1    20\n",
      "2    30\n",
      "3    40\n",
      "4    50\n",
      "dtype: int64\n"
     ]
    }
   ],
   "source": [
    "import pandas as pd\n",
    "data = [10, 20, 30, 40, 50]\n",
    "my_series = pd.Series(data)\n",
    "print(my_series)"
   ]
  },
  {
   "cell_type": "markdown",
   "metadata": {},
   "source": [
    "Создание серии из словаря:"
   ]
  },
  {
   "cell_type": "code",
   "execution_count": 14,
   "metadata": {},
   "outputs": [
    {
     "data": {
      "text/plain": [
       "Semester1    3.25\n",
       "Semester2    3.28\n",
       "Semester3    3.75\n",
       "dtype: float64"
      ]
     },
     "execution_count": 14,
     "metadata": {},
     "output_type": "execute_result"
    }
   ],
   "source": [
    "import pandas as pd\n",
    "grades = {\"Semester1\": 3.25, \"Semester2\": 3.28, \"Semester3\": 3.75}\n",
    "my_series = pd.Series(grades)\n",
    "my_series\n"
   ]
  },
  {
   "cell_type": "code",
   "execution_count": null,
   "metadata": {},
   "outputs": [],
   "source": []
  },
  {
   "cell_type": "code",
   "execution_count": null,
   "metadata": {},
   "outputs": [],
   "source": []
  },
  {
   "cell_type": "code",
   "execution_count": null,
   "metadata": {},
   "outputs": [],
   "source": []
  }
 ],
 "metadata": {
  "kernelspec": {
   "display_name": "Python 3",
   "language": "python",
   "name": "python3"
  },
  "language_info": {
   "codemirror_mode": {
    "name": "ipython",
    "version": 3
   },
   "file_extension": ".py",
   "mimetype": "text/x-python",
   "name": "python",
   "nbconvert_exporter": "python",
   "pygments_lexer": "ipython3",
   "version": "3.10.12"
  }
 },
 "nbformat": 4,
 "nbformat_minor": 2
}
