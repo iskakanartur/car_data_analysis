{
 "cells": [
  {
   "cell_type": "markdown",
   "metadata": {},
   "source": [
    "##  Python for loop \n",
    "Представьте, что у вас есть корзина с бананами. Вы хотите посмотреть каждый банан в корзине и что-то с ним сделать. <br> \n",
    "Вот как это работает на Python:<br> \n",
    "Создайте корзину с бананами (это наш список или последовательность).  Давайте назовем его fruits:"
   ]
  },
  {
   "cell_type": "code",
   "execution_count": 3,
   "metadata": {},
   "outputs": [
    {
     "data": {
      "text/plain": [
       "['яблоко', 'банан', 'вишня']"
      ]
     },
     "execution_count": 3,
     "metadata": {},
     "output_type": "execute_result"
    }
   ],
   "source": [
    "fruits = [\"яблоко\", \"банан\", \"вишня\"]\n",
    "fruits"
   ]
  },
  {
   "cell_type": "markdown",
   "metadata": {},
   "source": [
    "Пройдитесь по каждому банану в корзине. Мы используем цикл for:  <br>\n",
    "Этот код означает: “Для каждого элемента x в списке fruits, напечатайте его”. Таким образом, мы получим вывод"
   ]
  },
  {
   "cell_type": "code",
   "execution_count": 7,
   "metadata": {},
   "outputs": [
    {
     "name": "stdout",
     "output_type": "stream",
     "text": [
      "вах, вах, вах!!!! яблоко\n",
      "вах, вах, вах!!!! банан\n",
      "вах, вах, вах!!!! вишня\n"
     ]
    }
   ],
   "source": [
    "for x in fruits:\n",
    "    print('вах, вах, вах!!!!', x)"
   ]
  },
  {
   "cell_type": "markdown",
   "metadata": {},
   "source": [
    "##  Python Enumerate"
   ]
  },
  {
   "cell_type": "markdown",
   "metadata": {},
   "source": [
    "Представьте, что у вас есть корзина с бананами (опять они!). <br>\n",
    "На этот раз каждому банану мы дадим номер. Вот как это работает:<br><br>\n",
    "Создайте корзину с бананами (это наш список или последовательность). Давайте назовем его fruits:"
   ]
  },
  {
   "cell_type": "code",
   "execution_count": 9,
   "metadata": {},
   "outputs": [
    {
     "data": {
      "text/plain": [
       "['яблоко', 'банан', 'вишня']"
      ]
     },
     "execution_count": 9,
     "metadata": {},
     "output_type": "execute_result"
    }
   ],
   "source": [
    "fruits2 = [\"яблоко\", \"банан\", \"вишня\"]\n",
    "fruits2"
   ]
  },
  {
   "cell_type": "markdown",
   "metadata": {},
   "source": [
    "Пройдитесь по каждому банану в корзине и дайте каждому номер. Мы используем enumerate:"
   ]
  },
  {
   "cell_type": "code",
   "execution_count": 10,
   "metadata": {},
   "outputs": [
    {
     "name": "stdout",
     "output_type": "stream",
     "text": [
      "Банан 1: яблоко\n",
      "Банан 2: банан\n",
      "Банан 3: вишня\n",
      "****************************************************************************************************\n",
      "Банан 2: яблоко\n",
      "Банан 3: банан\n",
      "Банан 4: вишня\n"
     ]
    }
   ],
   "source": [
    "for i, x in enumerate(fruits2):\n",
    "    print(f\"Банан {i + 1}: {x}\")\n",
    "\n",
    "print ('*' *100)\n",
    "\n",
    "for i, x in enumerate(fruits2, start = 1):\n",
    "    print(f\"Банан {i + 1}: {x}\")"
   ]
  },
  {
   "cell_type": "markdown",
   "metadata": {},
   "source": [
    "## Pandas Series"
   ]
  },
  {
   "cell_type": "markdown",
   "metadata": {},
   "source": [
    "Pandas Series (Серия в Pandas) — это одномерный объект, похожий на массив с метками, <br>\n",
    "который может содержать данные любого типа. Его можно представить как столбец в таблице <br>\n",
    "или как один столбец в DataFrame. Серия состоит из двух основных компонентов: меток (индексов) и данных. <br>\n",
    "\n",
    "Давайте рассмотрим несколько примеров создания и использования серий:<br>\n",
    "\n",
    "Создание серии из списка: (LIST)"
   ]
  },
  {
   "cell_type": "code",
   "execution_count": 12,
   "metadata": {},
   "outputs": [
    {
     "name": "stdout",
     "output_type": "stream",
     "text": [
      "0    10\n",
      "1    20\n",
      "2    30\n",
      "3    40\n",
      "4    50\n",
      "dtype: int64\n"
     ]
    }
   ],
   "source": [
    "import pandas as pd\n",
    "data = [10, 20, 30, 40, 50]\n",
    "my_series = pd.Series(data)\n",
    "print(my_series)"
   ]
  },
  {
   "cell_type": "markdown",
   "metadata": {},
   "source": [
    "Создание серии из словаря:"
   ]
  },
  {
   "cell_type": "code",
   "execution_count": 14,
   "metadata": {},
   "outputs": [
    {
     "data": {
      "text/plain": [
       "Semester1    3.25\n",
       "Semester2    3.28\n",
       "Semester3    3.75\n",
       "dtype: float64"
      ]
     },
     "execution_count": 14,
     "metadata": {},
     "output_type": "execute_result"
    }
   ],
   "source": [
    "import pandas as pd\n",
    "grades = {\"Semester1\": 3.25, \"Semester2\": 3.28, \"Semester3\": 3.75}\n",
    "my_series = pd.Series(grades)\n",
    "my_series\n"
   ]
  },
  {
   "cell_type": "markdown",
   "metadata": {},
   "source": [
    "##  Pandas DataFrame"
   ]
  },
  {
   "cell_type": "code",
   "execution_count": 2,
   "metadata": {},
   "outputs": [
    {
     "data": {
      "text/html": [
       "<div>\n",
       "<style scoped>\n",
       "    .dataframe tbody tr th:only-of-type {\n",
       "        vertical-align: middle;\n",
       "    }\n",
       "\n",
       "    .dataframe tbody tr th {\n",
       "        vertical-align: top;\n",
       "    }\n",
       "\n",
       "    .dataframe thead th {\n",
       "        text-align: right;\n",
       "    }\n",
       "</style>\n",
       "<table border=\"1\" class=\"dataframe\">\n",
       "  <thead>\n",
       "    <tr style=\"text-align: right;\">\n",
       "      <th></th>\n",
       "      <th>Животное</th>\n",
       "      <th>Количество</th>\n",
       "      <th>Цвет</th>\n",
       "      <th>Местоположение</th>\n",
       "      <th>Милый</th>\n",
       "    </tr>\n",
       "  </thead>\n",
       "  <tbody>\n",
       "    <tr>\n",
       "      <th>0</th>\n",
       "      <td>Слон</td>\n",
       "      <td>3</td>\n",
       "      <td>Серый</td>\n",
       "      <td>Африка</td>\n",
       "      <td>True</td>\n",
       "    </tr>\n",
       "    <tr>\n",
       "      <th>1</th>\n",
       "      <td>Жираф</td>\n",
       "      <td>5</td>\n",
       "      <td>Жёлтый</td>\n",
       "      <td>Африка</td>\n",
       "      <td>True</td>\n",
       "    </tr>\n",
       "    <tr>\n",
       "      <th>2</th>\n",
       "      <td>Панда</td>\n",
       "      <td>2</td>\n",
       "      <td>Чёрно-белый</td>\n",
       "      <td>Азия</td>\n",
       "      <td>True</td>\n",
       "    </tr>\n",
       "    <tr>\n",
       "      <th>3</th>\n",
       "      <td>Кенгуру</td>\n",
       "      <td>4</td>\n",
       "      <td>Коричневый</td>\n",
       "      <td>Австралия</td>\n",
       "      <td>False</td>\n",
       "    </tr>\n",
       "    <tr>\n",
       "      <th>4</th>\n",
       "      <td>Обезьяна</td>\n",
       "      <td>6</td>\n",
       "      <td>Коричневый</td>\n",
       "      <td>Южная Америка</td>\n",
       "      <td>True</td>\n",
       "    </tr>\n",
       "  </tbody>\n",
       "</table>\n",
       "</div>"
      ],
      "text/plain": [
       "   Животное  Количество         Цвет Местоположение  Милый\n",
       "0      Слон           3        Серый         Африка   True\n",
       "1     Жираф           5       Жёлтый         Африка   True\n",
       "2     Панда           2  Чёрно-белый           Азия   True\n",
       "3   Кенгуру           4   Коричневый      Австралия  False\n",
       "4  Обезьяна           6   Коричневый  Южная Америка   True"
      ]
     },
     "execution_count": 2,
     "metadata": {},
     "output_type": "execute_result"
    }
   ],
   "source": [
    "import pandas as pd\n",
    "\n",
    "# Create a dictionary with data\n",
    "zoo_data = {\n",
    "    'Животное': ['Слон', 'Жираф', 'Панда', 'Кенгуру', 'Обезьяна'],\n",
    "    'Количество': [3, 5, 2, 4, 6],\n",
    "    'Цвет': ['Серый', 'Жёлтый', 'Чёрно-белый', 'Коричневый', 'Коричневый']\n",
    "}\n",
    "\n",
    "# Create a DataFrame\n",
    "zoo_df = pd.DataFrame(zoo_data)\n",
    "\n",
    "# Add some more columns\n",
    "zoo_df['Местоположение'] = ['Африка', 'Африка', 'Азия', 'Австралия', 'Южная Америка']\n",
    "zoo_df['Милый'] = [True, True, True, False, True]\n",
    "\n",
    "# Print the DataFrame\n",
    "zoo_df"
   ]
  },
  {
   "cell_type": "markdown",
   "metadata": {},
   "source": [
    "## Pyhton map and lambda "
   ]
  },
  {
   "cell_type": "markdown",
   "metadata": {},
   "source": [
    "#####  В этом примере мы создаем функцию double(), которая принимает число и удваивает его значение. <br> Затем у нас есть список чисел от 1 до 5, который мы хотим удвоить. <br>  Мы используем функцию map(), чтобы применить функцию double() к каждому числу в списке. <br>  Результатом будет новый список, содержащий удвоенные значения исходных чисел. После этого мы выводим результат на экран."
   ]
  },
  {
   "cell_type": "code",
   "execution_count": 1,
   "metadata": {},
   "outputs": [
    {
     "name": "stdout",
     "output_type": "stream",
     "text": [
      "[2, 4, 6, 8, 10]\n"
     ]
    }
   ],
   "source": [
    "# Создаем функцию, которая удваивает число\n",
    "def double(x):\n",
    "    return x * 2\n",
    "\n",
    "# Создаем список чисел\n",
    "numbers = [1, 2, 3, 4, 5]\n",
    "\n",
    "# Применяем функцию double() к каждому числу в списке с помощью функции map()\n",
    "удвоенные_числа = list(map(double, numbers))\n",
    "\n",
    "# Выводим результат\n",
    "print(удвоенные_числа)  # Выведет: [2, 4, 6, 8, 10]\n"
   ]
  },
  {
   "cell_type": "markdown",
   "metadata": {},
   "source": [
    "#### В этом примере мы используем лямбда-функцию, чтобы удвоить каждое число в списке. <br> Лямбда-функция - это короткая функция, которую мы можем создать прямо на месте, без необходимости объявления ее отдельно. <br> Она начинается с ключевого слова lambda, за которым следует аргумент (в данном случае x), затем двоеточие, а после него - выражение, которое определяет, что функция должна вернуть (в данном случае x * 2). <br>  Мы используем функцию map(), чтобы применить лямбда-функцию к каждому числу в списке numbers. Результатом будет новый список, содержащий удвоенные значения исходных чисел."
   ]
  },
  {
   "cell_type": "code",
   "execution_count": 2,
   "metadata": {},
   "outputs": [
    {
     "name": "stdout",
     "output_type": "stream",
     "text": [
      "[2, 4, 6, 8, 10]\n"
     ]
    }
   ],
   "source": [
    "# Создаем список чисел\n",
    "numbers = [1, 2, 3, 4, 5]\n",
    "\n",
    "# Применяем лямбда-функцию к каждому числу в списке с помощью функции map()\n",
    "удвоенные_числа = list(map(lambda x: x * 2, numbers))\n",
    "\n",
    "# Выводим результат\n",
    "print(удвоенные_числа)  # Выведет: [2, 4, 6, 8, 10]\n"
   ]
  },
  {
   "cell_type": "code",
   "execution_count": null,
   "metadata": {},
   "outputs": [],
   "source": []
  },
  {
   "cell_type": "code",
   "execution_count": null,
   "metadata": {},
   "outputs": [],
   "source": []
  }
 ],
 "metadata": {
  "kernelspec": {
   "display_name": "Python 3",
   "language": "python",
   "name": "python3"
  },
  "language_info": {
   "codemirror_mode": {
    "name": "ipython",
    "version": 3
   },
   "file_extension": ".py",
   "mimetype": "text/x-python",
   "name": "python",
   "nbconvert_exporter": "python",
   "pygments_lexer": "ipython3",
   "version": "3.10.12"
  }
 },
 "nbformat": 4,
 "nbformat_minor": 2
}
