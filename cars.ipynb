{
 "cells": [
  {
   "cell_type": "markdown",
   "metadata": {},
   "source": [
    "# Раздел 1"
   ]
  },
  {
   "cell_type": "markdown",
   "metadata": {},
   "source": [
    "### Первичный просмотр и быстрая статистика. "
   ]
  },
  {
   "cell_type": "code",
   "execution_count": 309,
   "metadata": {},
   "outputs": [
    {
     "data": {
      "text/html": [
       "<div>\n",
       "<style scoped>\n",
       "    .dataframe tbody tr th:only-of-type {\n",
       "        vertical-align: middle;\n",
       "    }\n",
       "\n",
       "    .dataframe tbody tr th {\n",
       "        vertical-align: top;\n",
       "    }\n",
       "\n",
       "    .dataframe thead th {\n",
       "        text-align: right;\n",
       "    }\n",
       "</style>\n",
       "<table border=\"1\" class=\"dataframe\">\n",
       "  <thead>\n",
       "    <tr style=\"text-align: right;\">\n",
       "      <th></th>\n",
       "      <th>Unnamed: 0</th>\n",
       "      <th>NameYear</th>\n",
       "      <th>Price</th>\n",
       "      <th>CarParams</th>\n",
       "      <th>url</th>\n",
       "    </tr>\n",
       "  </thead>\n",
       "  <tbody>\n",
       "    <tr>\n",
       "      <th>0</th>\n",
       "      <td>0</td>\n",
       "      <td>Ford Focus, 2013</td>\n",
       "      <td>500 000 ₽</td>\n",
       "      <td>114 000 км, 2.0 AMT (150 л.с.), универсал, пер...</td>\n",
       "      <td>https://www.avito.ru/moskva/avtomobili/ford_fo...</td>\n",
       "    </tr>\n",
       "    <tr>\n",
       "      <th>1</th>\n",
       "      <td>1</td>\n",
       "      <td>Ford Focus, 2016</td>\n",
       "      <td>759 000 ₽</td>\n",
       "      <td>57 000 км, 1.6 AMT (105 л.с.), седан, передний...</td>\n",
       "      <td>https://www.avito.ru/moskva/avtomobili/ford_fo...</td>\n",
       "    </tr>\n",
       "  </tbody>\n",
       "</table>\n",
       "</div>"
      ],
      "text/plain": [
       "   Unnamed: 0          NameYear      Price  \\\n",
       "0           0  Ford Focus, 2013  500 000 ₽   \n",
       "1           1  Ford Focus, 2016  759 000 ₽   \n",
       "\n",
       "                                           CarParams  \\\n",
       "0  114 000 км, 2.0 AMT (150 л.с.), универсал, пер...   \n",
       "1  57 000 км, 1.6 AMT (105 л.с.), седан, передний...   \n",
       "\n",
       "                                                 url  \n",
       "0  https://www.avito.ru/moskva/avtomobili/ford_fo...  \n",
       "1  https://www.avito.ru/moskva/avtomobili/ford_fo...  "
      ]
     },
     "execution_count": 309,
     "metadata": {},
     "output_type": "execute_result"
    }
   ],
   "source": [
    "### “Традиционный способ без использования циклов” \n",
    "\n",
    "import pandas as pd\n",
    "dff = pd.read_csv ('data/car_data_12-19_made_A.csv')\n",
    "dff.head(2)"
   ]
  },
  {
   "cell_type": "code",
   "execution_count": 310,
   "metadata": {},
   "outputs": [
    {
     "name": "stdout",
     "output_type": "stream",
     "text": [
      "File: data/car_data_12-19_made_B.csv\n",
      "Shape: (5656, 16)\n",
      "\n",
      "File: data/car_data_12-19_made_A.csv\n",
      "Shape: (224, 5)\n",
      "\n",
      "File: data/car_data_12-19_made_C.csv\n",
      "Shape: (5656, 9)\n",
      "\n",
      "File: data/car_data_12-19_made_D.csv\n",
      "Shape: (5600, 5)\n",
      "\n"
     ]
    }
   ],
   "source": [
    "import pandas as pd\n",
    "import glob\n",
    "\n",
    "###### !!! Подробности см. в файле py_basics.py Python for loop & Python Enumerate\n",
    "\n",
    "# Получаем список файлов CSV\n",
    "# Get a list of CSV files\n",
    "csv_files = glob.glob('data/*.csv')\n",
    "\n",
    "# Создаем пустой словарь для хранения DataFrame\n",
    "# Create an empty dictionary to store DataFrames\n",
    "dataframes_dict = {}\n",
    "\n",
    "# Проходимся по каждому файлу CSV\n",
    "# Loop through each CSV file\n",
    "for i, csv_file in enumerate(csv_files, start=1):\n",
    "    df = pd.read_csv(csv_file)\n",
    "    key = f\"df{i}\"\n",
    "    dataframes_dict[key] = df\n",
    "\n",
    "    # Выводим информацию для каждого DataFrame\n",
    "    # Print information for each DataFrame\n",
    "    print(f\"File: {csv_file}\")\n",
    "    print(f\"Shape: {df.shape}\\n\") # What's this \\n ?\n",
    "\n",
    "# Теперь вы можете обращаться к DataFrame с помощью ключей, например \"df1\", \"df2\" и так далее.\n",
    "# Например:\n",
    "# Now you can access the DataFrames using keys like \"df1\", \"df2\", etc.\n",
    "# For example:\n",
    "specific_df = dataframes_dict[\"df1\"]\n"
   ]
  },
  {
   "cell_type": "code",
   "execution_count": 311,
   "metadata": {},
   "outputs": [
    {
     "data": {
      "text/html": [
       "<div>\n",
       "<style scoped>\n",
       "    .dataframe tbody tr th:only-of-type {\n",
       "        vertical-align: middle;\n",
       "    }\n",
       "\n",
       "    .dataframe tbody tr th {\n",
       "        vertical-align: top;\n",
       "    }\n",
       "\n",
       "    .dataframe thead th {\n",
       "        text-align: right;\n",
       "    }\n",
       "</style>\n",
       "<table border=\"1\" class=\"dataframe\">\n",
       "  <thead>\n",
       "    <tr style=\"text-align: right;\">\n",
       "      <th></th>\n",
       "      <th>Unnamed: 0</th>\n",
       "      <th>car</th>\n",
       "      <th>year</th>\n",
       "      <th>price</th>\n",
       "      <th>mileage</th>\n",
       "      <th>hp</th>\n",
       "      <th>vol</th>\n",
       "      <th>box</th>\n",
       "      <th>body</th>\n",
       "      <th>drive</th>\n",
       "      <th>fuel</th>\n",
       "      <th>location</th>\n",
       "      <th>inform</th>\n",
       "      <th>date</th>\n",
       "      <th>today</th>\n",
       "      <th>url</th>\n",
       "    </tr>\n",
       "  </thead>\n",
       "  <tbody>\n",
       "    <tr>\n",
       "      <th>0</th>\n",
       "      <td>0</td>\n",
       "      <td>Mitsubishi Lancer</td>\n",
       "      <td>2014</td>\n",
       "      <td>650000</td>\n",
       "      <td>100181</td>\n",
       "      <td>140</td>\n",
       "      <td>1.8</td>\n",
       "      <td>CVT</td>\n",
       "      <td>sedan</td>\n",
       "      <td>front_wheel</td>\n",
       "      <td>gasoline</td>\n",
       "      <td>Москва</td>\n",
       "      <td>Прoдаю надёжный автомобиль в достойнойном тeхн...</td>\n",
       "      <td>Несколько секунд назад</td>\n",
       "      <td>2021-11-23</td>\n",
       "      <td>https://www.avito.ru//moskva/avtomobili/mitsub...</td>\n",
       "    </tr>\n",
       "    <tr>\n",
       "      <th>1</th>\n",
       "      <td>1</td>\n",
       "      <td>Mazda 3</td>\n",
       "      <td>2008</td>\n",
       "      <td>490000</td>\n",
       "      <td>213000</td>\n",
       "      <td>105</td>\n",
       "      <td>1.6</td>\n",
       "      <td>MT</td>\n",
       "      <td>sedan</td>\n",
       "      <td>front_wheel</td>\n",
       "      <td>gasoline</td>\n",
       "      <td>Свердловская область, Екатеринбург</td>\n",
       "      <td>По кузову имеется один окрас, остальное все в ...</td>\n",
       "      <td>Несколько секунд назад</td>\n",
       "      <td>2021-11-23</td>\n",
       "      <td>https://www.avito.ru//ekaterinburg/avtomobili/...</td>\n",
       "    </tr>\n",
       "  </tbody>\n",
       "</table>\n",
       "</div>"
      ],
      "text/plain": [
       "   Unnamed: 0                car  year   price  mileage   hp  vol  box   body  \\\n",
       "0           0  Mitsubishi Lancer  2014  650000   100181  140  1.8  CVT  sedan   \n",
       "1           1            Mazda 3  2008  490000   213000  105  1.6   MT  sedan   \n",
       "\n",
       "         drive      fuel                            location  \\\n",
       "0  front_wheel  gasoline                              Москва   \n",
       "1  front_wheel  gasoline  Свердловская область, Екатеринбург   \n",
       "\n",
       "                                              inform                    date  \\\n",
       "0  Прoдаю надёжный автомобиль в достойнойном тeхн...  Несколько секунд назад   \n",
       "1  По кузову имеется один окрас, остальное все в ...  Несколько секунд назад   \n",
       "\n",
       "        today                                                url  \n",
       "0  2021-11-23  https://www.avito.ru//moskva/avtomobili/mitsub...  \n",
       "1  2021-11-23  https://www.avito.ru//ekaterinburg/avtomobili/...  "
      ]
     },
     "execution_count": 311,
     "metadata": {},
     "output_type": "execute_result"
    }
   ],
   "source": [
    "dataframes_dict[\"df1\"].head(2)"
   ]
  },
  {
   "cell_type": "code",
   "execution_count": 312,
   "metadata": {},
   "outputs": [
    {
     "data": {
      "text/html": [
       "<div>\n",
       "<style scoped>\n",
       "    .dataframe tbody tr th:only-of-type {\n",
       "        vertical-align: middle;\n",
       "    }\n",
       "\n",
       "    .dataframe tbody tr th {\n",
       "        vertical-align: top;\n",
       "    }\n",
       "\n",
       "    .dataframe thead th {\n",
       "        text-align: right;\n",
       "    }\n",
       "</style>\n",
       "<table border=\"1\" class=\"dataframe\">\n",
       "  <thead>\n",
       "    <tr style=\"text-align: right;\">\n",
       "      <th></th>\n",
       "      <th>car_brand</th>\n",
       "      <th>car_price</th>\n",
       "      <th>car_location</th>\n",
       "      <th>car_details</th>\n",
       "      <th>ad_date</th>\n",
       "      <th>car_dealer</th>\n",
       "      <th>car_description</th>\n",
       "      <th>today</th>\n",
       "      <th>car_url</th>\n",
       "    </tr>\n",
       "  </thead>\n",
       "  <tbody>\n",
       "    <tr>\n",
       "      <th>0</th>\n",
       "      <td>Mitsubishi Lancer, 2014</td>\n",
       "      <td>650 000 ₽</td>\n",
       "      <td>Москва</td>\n",
       "      <td>100 181 км, 1.8 CVT (140 л.с.), седан, передни...</td>\n",
       "      <td>Несколько секунд назад</td>\n",
       "      <td>NaN</td>\n",
       "      <td>Прoдаю надёжный автомобиль в достойнойном тeхн...</td>\n",
       "      <td>2021-11-23</td>\n",
       "      <td>https://www.avito.ru//moskva/avtomobili/mitsub...</td>\n",
       "    </tr>\n",
       "    <tr>\n",
       "      <th>1</th>\n",
       "      <td>Mazda 3, 2008</td>\n",
       "      <td>490 000 ₽</td>\n",
       "      <td>Свердловская область, Екатеринбург</td>\n",
       "      <td>213 000 км, 1.6 MT (105 л.с.), седан, передний...</td>\n",
       "      <td>Несколько секунд назад</td>\n",
       "      <td>NaN</td>\n",
       "      <td>По кузову имеется один окрас, остальное все в ...</td>\n",
       "      <td>2021-11-23</td>\n",
       "      <td>https://www.avito.ru//ekaterinburg/avtomobili/...</td>\n",
       "    </tr>\n",
       "  </tbody>\n",
       "</table>\n",
       "</div>"
      ],
      "text/plain": [
       "                 car_brand  car_price                        car_location  \\\n",
       "0  Mitsubishi Lancer, 2014  650 000 ₽                              Москва   \n",
       "1            Mazda 3, 2008  490 000 ₽  Свердловская область, Екатеринбург   \n",
       "\n",
       "                                         car_details                 ad_date  \\\n",
       "0  100 181 км, 1.8 CVT (140 л.с.), седан, передни...  Несколько секунд назад   \n",
       "1  213 000 км, 1.6 MT (105 л.с.), седан, передний...  Несколько секунд назад   \n",
       "\n",
       "  car_dealer                                    car_description       today  \\\n",
       "0        NaN  Прoдаю надёжный автомобиль в достойнойном тeхн...  2021-11-23   \n",
       "1        NaN  По кузову имеется один окрас, остальное все в ...  2021-11-23   \n",
       "\n",
       "                                             car_url  \n",
       "0  https://www.avito.ru//moskva/avtomobili/mitsub...  \n",
       "1  https://www.avito.ru//ekaterinburg/avtomobili/...  "
      ]
     },
     "execution_count": 312,
     "metadata": {},
     "output_type": "execute_result"
    }
   ],
   "source": [
    "dataframes_dict[\"df3\"].head(2)"
   ]
  },
  {
   "cell_type": "code",
   "execution_count": 313,
   "metadata": {},
   "outputs": [
    {
     "data": {
      "text/html": [
       "<div>\n",
       "<style scoped>\n",
       "    .dataframe tbody tr th:only-of-type {\n",
       "        vertical-align: middle;\n",
       "    }\n",
       "\n",
       "    .dataframe tbody tr th {\n",
       "        vertical-align: top;\n",
       "    }\n",
       "\n",
       "    .dataframe thead th {\n",
       "        text-align: right;\n",
       "    }\n",
       "</style>\n",
       "<table border=\"1\" class=\"dataframe\">\n",
       "  <thead>\n",
       "    <tr style=\"text-align: right;\">\n",
       "      <th></th>\n",
       "      <th>car_brand</th>\n",
       "      <th>car_price</th>\n",
       "      <th>car_location</th>\n",
       "      <th>car_details</th>\n",
       "      <th>ad_date</th>\n",
       "      <th>car_dealer</th>\n",
       "      <th>car_description</th>\n",
       "      <th>today</th>\n",
       "      <th>car_url</th>\n",
       "    </tr>\n",
       "  </thead>\n",
       "  <tbody>\n",
       "    <tr>\n",
       "      <th>0</th>\n",
       "      <td>Mitsubishi Lancer, 2014</td>\n",
       "      <td>650 000 ₽</td>\n",
       "      <td>Москва</td>\n",
       "      <td>100 181 км, 1.8 CVT (140 л.с.), седан, передни...</td>\n",
       "      <td>Несколько секунд назад</td>\n",
       "      <td>NaN</td>\n",
       "      <td>Прoдаю надёжный автомобиль в достойнойном тeхн...</td>\n",
       "      <td>2021-11-23</td>\n",
       "      <td>https://www.avito.ru//moskva/avtomobili/mitsub...</td>\n",
       "    </tr>\n",
       "    <tr>\n",
       "      <th>1</th>\n",
       "      <td>Mazda 3, 2008</td>\n",
       "      <td>490 000 ₽</td>\n",
       "      <td>Свердловская область, Екатеринбург</td>\n",
       "      <td>213 000 км, 1.6 MT (105 л.с.), седан, передний...</td>\n",
       "      <td>Несколько секунд назад</td>\n",
       "      <td>NaN</td>\n",
       "      <td>По кузову имеется один окрас, остальное все в ...</td>\n",
       "      <td>2021-11-23</td>\n",
       "      <td>https://www.avito.ru//ekaterinburg/avtomobili/...</td>\n",
       "    </tr>\n",
       "  </tbody>\n",
       "</table>\n",
       "</div>"
      ],
      "text/plain": [
       "                 car_brand  car_price                        car_location  \\\n",
       "0  Mitsubishi Lancer, 2014  650 000 ₽                              Москва   \n",
       "1            Mazda 3, 2008  490 000 ₽  Свердловская область, Екатеринбург   \n",
       "\n",
       "                                         car_details                 ad_date  \\\n",
       "0  100 181 км, 1.8 CVT (140 л.с.), седан, передни...  Несколько секунд назад   \n",
       "1  213 000 км, 1.6 MT (105 л.с.), седан, передний...  Несколько секунд назад   \n",
       "\n",
       "  car_dealer                                    car_description       today  \\\n",
       "0        NaN  Прoдаю надёжный автомобиль в достойнойном тeхн...  2021-11-23   \n",
       "1        NaN  По кузову имеется один окрас, остальное все в ...  2021-11-23   \n",
       "\n",
       "                                             car_url  \n",
       "0  https://www.avito.ru//moskva/avtomobili/mitsub...  \n",
       "1  https://www.avito.ru//ekaterinburg/avtomobili/...  "
      ]
     },
     "execution_count": 313,
     "metadata": {},
     "output_type": "execute_result"
    }
   ],
   "source": [
    "## Мы нашли нужный CSV / Теперь приступим к работе !!!\n",
    "## Данные были собраны с одного из российских сайтов объявлений,\n",
    "## Регион - вся Россия, любая марка автомобиля, цена 450 000 - 1 млн\n",
    "## Дата ноябрь 2021 года\n",
    "\n",
    "\n",
    "df = dataframes_dict[\"df3\"]\n",
    "df.head(2)"
   ]
  },
  {
   "cell_type": "code",
   "execution_count": 314,
   "metadata": {},
   "outputs": [
    {
     "data": {
      "text/plain": [
       "(50904, (5656, 9), 2)"
      ]
     },
     "execution_count": 314,
     "metadata": {},
     "output_type": "execute_result"
    }
   ],
   "source": [
    "## Давайте теперь рассмотрим некоторую базовую статистику о данных\n",
    "df.size, df.shape, df.ndim"
   ]
  },
  {
   "cell_type": "code",
   "execution_count": 315,
   "metadata": {},
   "outputs": [
    {
     "name": "stdout",
     "output_type": "stream",
     "text": [
      "<class 'pandas.core.frame.DataFrame'>\n",
      "RangeIndex: 5656 entries, 0 to 5655\n",
      "Data columns (total 9 columns):\n",
      " #   Column           Non-Null Count  Dtype \n",
      "---  ------           --------------  ----- \n",
      " 0   car_brand        5656 non-null   object\n",
      " 1   car_price        5656 non-null   object\n",
      " 2   car_location     5656 non-null   object\n",
      " 3   car_details      5656 non-null   object\n",
      " 4   ad_date          5656 non-null   object\n",
      " 5   car_dealer       1663 non-null   object\n",
      " 6   car_description  5047 non-null   object\n",
      " 7   today            5656 non-null   object\n",
      " 8   car_url          5656 non-null   object\n",
      "dtypes: object(9)\n",
      "memory usage: 397.8+ KB\n"
     ]
    }
   ],
   "source": [
    "##info () дает более детальный вид и объединяет информацию о форме и размере.\n",
    "df.info ()"
   ]
  },
  {
   "cell_type": "markdown",
   "metadata": {},
   "source": [
    "### Строки и столбцы: loc, iloc: выбор необходимых столбцов. "
   ]
  },
  {
   "cell_type": "code",
   "execution_count": 316,
   "metadata": {},
   "outputs": [
    {
     "data": {
      "text/plain": [
       "'100 181 км, 1.8 CVT (140 л.с.), седан, передний, бензин'"
      ]
     },
     "execution_count": 316,
     "metadata": {},
     "output_type": "execute_result"
    }
   ],
   "source": [
    "## давайте теперь исследуем строки. ЛЮБЫЕ строки\n",
    "## Этот метод использует индексацию на основе меток.\n",
    "## выбирает значение на пересечении первой строки (индекс 0) и столбца «CARS».\n",
    "\n",
    "\n",
    "df.loc[0, 'car_details'] \n"
   ]
  },
  {
   "cell_type": "code",
   "execution_count": 317,
   "metadata": {},
   "outputs": [
    {
     "data": {
      "text/plain": [
       "'100 181 км, 1.8 CVT (140 л.с.), седан, передний, бензин'"
      ]
     },
     "execution_count": 317,
     "metadata": {},
     "output_type": "execute_result"
    }
   ],
   "source": [
    "## Метод iloc использует индексацию на основе целых чисел.\n",
    "\n",
    "df.iloc[0]['car_details']"
   ]
  },
  {
   "cell_type": "code",
   "execution_count": 318,
   "metadata": {},
   "outputs": [
    {
     "data": {
      "text/plain": [
       "0       100 181 км, 1.8 CVT (140 л.с.), седан, передни...\n",
       "1       213 000 км, 1.6 MT (105 л.с.), седан, передний...\n",
       "2       25 600 км, 1.6 MT (106 л.с.), седан, передний,...\n",
       "3       43 000 км, 1.0 CVT (69 л.с.), хетчбэк, полный,...\n",
       "4       65 000 км, 1.6 AT (123 л.с.), седан, передний,...\n",
       "                              ...                        \n",
       "5651    174 000 км, 2.0 MT (150 л.с.), внедорожник, по...\n",
       "5652    180 000 км, 2.8 MT (120 л.с.), фургон, полный,...\n",
       "5653    183 500 км, 1.6 MT (90 л.с.), хетчбэк, передни...\n",
       "5654    18 230 км, 1.8 MT (122 л.с.), хетчбэк, передни...\n",
       "5655    125 000 км, 2.7 MT (135 л.с.), внедорожник, по...\n",
       "Name: car_details, Length: 5656, dtype: object"
      ]
     },
     "execution_count": 318,
     "metadata": {},
     "output_type": "execute_result"
    }
   ],
   "source": [
    "## Теперь давайте посмотрим весь столбец «car_details»\n",
    "df['car_details']"
   ]
  },
  {
   "cell_type": "code",
   "execution_count": 319,
   "metadata": {},
   "outputs": [
    {
     "data": {
      "text/plain": [
       "0    Прoдаю надёжный автомобиль в достойнойном тeхн...\n",
       "1    По кузову имеется один окрас, остальное все в ...\n",
       "2    = Самый большой Автомолл! Более 700 автомобиле...\n",
       "Name: car_description, dtype: object"
      ]
     },
     "execution_count": 319,
     "metadata": {},
     "output_type": "execute_result"
    }
   ],
   "source": [
    "df.car_description.head(3)"
   ]
  },
  {
   "cell_type": "code",
   "execution_count": 320,
   "metadata": {},
   "outputs": [
    {
     "data": {
      "text/plain": [
       "0    Несколько секунд назад\n",
       "1    Несколько секунд назад\n",
       "2    Несколько секунд назад\n",
       "Name: ad_date, dtype: object"
      ]
     },
     "execution_count": 320,
     "metadata": {},
     "output_type": "execute_result"
    }
   ],
   "source": [
    "df.ad_date.head(3)"
   ]
  },
  {
   "cell_type": "code",
   "execution_count": 321,
   "metadata": {},
   "outputs": [
    {
     "data": {
      "text/plain": [
       "0    https://www.avito.ru//moskva/avtomobili/mitsub...\n",
       "1    https://www.avito.ru//ekaterinburg/avtomobili/...\n",
       "2    https://www.avito.ru//ekaterinburg/avtomobili/...\n",
       "Name: car_url, dtype: object"
      ]
     },
     "execution_count": 321,
     "metadata": {},
     "output_type": "execute_result"
    }
   ],
   "source": [
    "df.car_url.head(3)"
   ]
  },
  {
   "cell_type": "code",
   "execution_count": 322,
   "metadata": {},
   "outputs": [
    {
     "data": {
      "text/html": [
       "<div>\n",
       "<style scoped>\n",
       "    .dataframe tbody tr th:only-of-type {\n",
       "        vertical-align: middle;\n",
       "    }\n",
       "\n",
       "    .dataframe tbody tr th {\n",
       "        vertical-align: top;\n",
       "    }\n",
       "\n",
       "    .dataframe thead th {\n",
       "        text-align: right;\n",
       "    }\n",
       "</style>\n",
       "<table border=\"1\" class=\"dataframe\">\n",
       "  <thead>\n",
       "    <tr style=\"text-align: right;\">\n",
       "      <th></th>\n",
       "      <th>car_brand</th>\n",
       "      <th>car_price</th>\n",
       "      <th>car_location</th>\n",
       "      <th>car_details</th>\n",
       "      <th>ad_date</th>\n",
       "      <th>car_dealer</th>\n",
       "      <th>car_description</th>\n",
       "      <th>today</th>\n",
       "      <th>car_url</th>\n",
       "    </tr>\n",
       "  </thead>\n",
       "  <tbody>\n",
       "    <tr>\n",
       "      <th>0</th>\n",
       "      <td>Mitsubishi Lancer, 2014</td>\n",
       "      <td>650 000 ₽</td>\n",
       "      <td>Москва</td>\n",
       "      <td>100 181 км, 1.8 CVT (140 л.с.), седан, передни...</td>\n",
       "      <td>Несколько секунд назад</td>\n",
       "      <td>NaN</td>\n",
       "      <td>Прoдаю надёжный автомобиль в достойнойном тeхн...</td>\n",
       "      <td>2021-11-23</td>\n",
       "      <td>https://www.avito.ru//moskva/avtomobili/mitsub...</td>\n",
       "    </tr>\n",
       "    <tr>\n",
       "      <th>1</th>\n",
       "      <td>Mazda 3, 2008</td>\n",
       "      <td>490 000 ₽</td>\n",
       "      <td>Свердловская область, Екатеринбург</td>\n",
       "      <td>213 000 км, 1.6 MT (105 л.с.), седан, передний...</td>\n",
       "      <td>Несколько секунд назад</td>\n",
       "      <td>NaN</td>\n",
       "      <td>По кузову имеется один окрас, остальное все в ...</td>\n",
       "      <td>2021-11-23</td>\n",
       "      <td>https://www.avito.ru//ekaterinburg/avtomobili/...</td>\n",
       "    </tr>\n",
       "  </tbody>\n",
       "</table>\n",
       "</div>"
      ],
      "text/plain": [
       "                 car_brand  car_price                        car_location  \\\n",
       "0  Mitsubishi Lancer, 2014  650 000 ₽                              Москва   \n",
       "1            Mazda 3, 2008  490 000 ₽  Свердловская область, Екатеринбург   \n",
       "\n",
       "                                         car_details                 ad_date  \\\n",
       "0  100 181 км, 1.8 CVT (140 л.с.), седан, передни...  Несколько секунд назад   \n",
       "1  213 000 км, 1.6 MT (105 л.с.), седан, передний...  Несколько секунд назад   \n",
       "\n",
       "  car_dealer                                    car_description       today  \\\n",
       "0        NaN  Прoдаю надёжный автомобиль в достойнойном тeхн...  2021-11-23   \n",
       "1        NaN  По кузову имеется один окрас, остальное все в ...  2021-11-23   \n",
       "\n",
       "                                             car_url  \n",
       "0  https://www.avito.ru//moskva/avtomobili/mitsub...  \n",
       "1  https://www.avito.ru//ekaterinburg/avtomobili/...  "
      ]
     },
     "execution_count": 322,
     "metadata": {},
     "output_type": "execute_result"
    }
   ],
   "source": [
    "## Давайте согласимся не соглашаться)) Исходя из того, что я вижу, \n",
    "## предлагаю удалить следующие столбцы : ['car_details', 'car_description', 'ad_date', 'car_url']\n",
    "\n",
    "## Конечно, мы можем удалить любой столбец, который захотим. НО подождите, давайте будем осторожны. \n",
    "\n",
    "## Давайте сделаем резервную копию нашего фрейма данных, и вы скоро поймете, почему.\n",
    "df2 = df.copy()\n",
    "df3 = df.copy()\n",
    "df2.head (2)"
   ]
  },
  {
   "cell_type": "code",
   "execution_count": 323,
   "metadata": {},
   "outputs": [
    {
     "data": {
      "text/html": [
       "<div>\n",
       "<style scoped>\n",
       "    .dataframe tbody tr th:only-of-type {\n",
       "        vertical-align: middle;\n",
       "    }\n",
       "\n",
       "    .dataframe tbody tr th {\n",
       "        vertical-align: top;\n",
       "    }\n",
       "\n",
       "    .dataframe thead th {\n",
       "        text-align: right;\n",
       "    }\n",
       "</style>\n",
       "<table border=\"1\" class=\"dataframe\">\n",
       "  <thead>\n",
       "    <tr style=\"text-align: right;\">\n",
       "      <th></th>\n",
       "      <th>car_brand</th>\n",
       "      <th>car_price</th>\n",
       "      <th>car_location</th>\n",
       "      <th>car_dealer</th>\n",
       "      <th>today</th>\n",
       "    </tr>\n",
       "  </thead>\n",
       "  <tbody>\n",
       "    <tr>\n",
       "      <th>0</th>\n",
       "      <td>Mitsubishi Lancer, 2014</td>\n",
       "      <td>650 000 ₽</td>\n",
       "      <td>Москва</td>\n",
       "      <td>NaN</td>\n",
       "      <td>2021-11-23</td>\n",
       "    </tr>\n",
       "    <tr>\n",
       "      <th>1</th>\n",
       "      <td>Mazda 3, 2008</td>\n",
       "      <td>490 000 ₽</td>\n",
       "      <td>Свердловская область, Екатеринбург</td>\n",
       "      <td>NaN</td>\n",
       "      <td>2021-11-23</td>\n",
       "    </tr>\n",
       "    <tr>\n",
       "      <th>2</th>\n",
       "      <td>ВАЗ (LADA) Granta, 2020</td>\n",
       "      <td>742 000 ₽</td>\n",
       "      <td>Свердловская область, Екатеринбург</td>\n",
       "      <td>ИЮЛЬ авто с пробегом</td>\n",
       "      <td>2021-11-23</td>\n",
       "    </tr>\n",
       "    <tr>\n",
       "      <th>3</th>\n",
       "      <td>Toyota Tank, 2018</td>\n",
       "      <td>590 000 ₽</td>\n",
       "      <td>Приморский край, Владивостокский г.о., Владиво...</td>\n",
       "      <td>NaN</td>\n",
       "      <td>2021-11-23</td>\n",
       "    </tr>\n",
       "    <tr>\n",
       "      <th>4</th>\n",
       "      <td>Kia Rio, 2018</td>\n",
       "      <td>999 000 ₽</td>\n",
       "      <td>Астраханская область, Астрахань</td>\n",
       "      <td>NaN</td>\n",
       "      <td>2021-11-23</td>\n",
       "    </tr>\n",
       "    <tr>\n",
       "      <th>...</th>\n",
       "      <td>...</td>\n",
       "      <td>...</td>\n",
       "      <td>...</td>\n",
       "      <td>...</td>\n",
       "      <td>...</td>\n",
       "    </tr>\n",
       "    <tr>\n",
       "      <th>5651</th>\n",
       "      <td>Hyundai ix35, 2013</td>\n",
       "      <td>880 000 ₽</td>\n",
       "      <td>Ярославская область, Ярославль</td>\n",
       "      <td>NaN</td>\n",
       "      <td>2021-11-23</td>\n",
       "    </tr>\n",
       "    <tr>\n",
       "      <th>5652</th>\n",
       "      <td>ГАЗ ГАЗель 2705, 2013</td>\n",
       "      <td>497 000 ₽</td>\n",
       "      <td>Москва</td>\n",
       "      <td>NaN</td>\n",
       "      <td>2021-11-23</td>\n",
       "    </tr>\n",
       "    <tr>\n",
       "      <th>5653</th>\n",
       "      <td>Skoda Rapid, 2018</td>\n",
       "      <td>700 000 ₽</td>\n",
       "      <td>Курская область, Льгов</td>\n",
       "      <td>NaN</td>\n",
       "      <td>2021-11-23</td>\n",
       "    </tr>\n",
       "    <tr>\n",
       "      <th>5654</th>\n",
       "      <td>ВАЗ (LADA) XRAY, 2019</td>\n",
       "      <td>929 000 ₽</td>\n",
       "      <td>Удмуртская Республика, Ижевск</td>\n",
       "      <td>автосалон \"Столица\"</td>\n",
       "      <td>2021-11-23</td>\n",
       "    </tr>\n",
       "    <tr>\n",
       "      <th>5655</th>\n",
       "      <td>УАЗ Patriot, 2016</td>\n",
       "      <td>699 000 ₽</td>\n",
       "      <td>Самарская область, Самара</td>\n",
       "      <td>NaN</td>\n",
       "      <td>2021-11-23</td>\n",
       "    </tr>\n",
       "  </tbody>\n",
       "</table>\n",
       "<p>5656 rows × 5 columns</p>\n",
       "</div>"
      ],
      "text/plain": [
       "                    car_brand  car_price  \\\n",
       "0     Mitsubishi Lancer, 2014  650 000 ₽   \n",
       "1               Mazda 3, 2008  490 000 ₽   \n",
       "2     ВАЗ (LADA) Granta, 2020  742 000 ₽   \n",
       "3           Toyota Tank, 2018  590 000 ₽   \n",
       "4               Kia Rio, 2018  999 000 ₽   \n",
       "...                       ...        ...   \n",
       "5651       Hyundai ix35, 2013  880 000 ₽   \n",
       "5652    ГАЗ ГАЗель 2705, 2013  497 000 ₽   \n",
       "5653        Skoda Rapid, 2018  700 000 ₽   \n",
       "5654    ВАЗ (LADA) XRAY, 2019  929 000 ₽   \n",
       "5655        УАЗ Patriot, 2016  699 000 ₽   \n",
       "\n",
       "                                           car_location            car_dealer  \\\n",
       "0                                                Москва                   NaN   \n",
       "1                    Свердловская область, Екатеринбург                   NaN   \n",
       "2                    Свердловская область, Екатеринбург  ИЮЛЬ авто с пробегом   \n",
       "3     Приморский край, Владивостокский г.о., Владиво...                   NaN   \n",
       "4                       Астраханская область, Астрахань                   NaN   \n",
       "...                                                 ...                   ...   \n",
       "5651                     Ярославская область, Ярославль                   NaN   \n",
       "5652                                             Москва                   NaN   \n",
       "5653                             Курская область, Льгов                   NaN   \n",
       "5654                      Удмуртская Республика, Ижевск   автосалон \"Столица\"   \n",
       "5655                          Самарская область, Самара                   NaN   \n",
       "\n",
       "           today  \n",
       "0     2021-11-23  \n",
       "1     2021-11-23  \n",
       "2     2021-11-23  \n",
       "3     2021-11-23  \n",
       "4     2021-11-23  \n",
       "...          ...  \n",
       "5651  2021-11-23  \n",
       "5652  2021-11-23  \n",
       "5653  2021-11-23  \n",
       "5654  2021-11-23  \n",
       "5655  2021-11-23  \n",
       "\n",
       "[5656 rows x 5 columns]"
      ]
     },
     "execution_count": 323,
     "metadata": {},
     "output_type": "execute_result"
    }
   ],
   "source": [
    "## В Pandas термин «ось» относится к измерению, по которому выполняется операция. Конкретно:\n",
    "## ось=0: представляет операции вдоль строк (по вертикали).\n",
    "## ось=1: представляет операции вдоль столбцов (по горизонтали).\n",
    "\n",
    "\n",
    "## Здесь наши данные df2 НЕ МЕНЯЮТСЯ. Мы просто видим результат сброса функции.\n",
    "df2.drop (['car_details', 'car_description', 'ad_date', 'car_url'], axis=1)"
   ]
  },
  {
   "cell_type": "code",
   "execution_count": 324,
   "metadata": {},
   "outputs": [
    {
     "data": {
      "text/html": [
       "<div>\n",
       "<style scoped>\n",
       "    .dataframe tbody tr th:only-of-type {\n",
       "        vertical-align: middle;\n",
       "    }\n",
       "\n",
       "    .dataframe tbody tr th {\n",
       "        vertical-align: top;\n",
       "    }\n",
       "\n",
       "    .dataframe thead th {\n",
       "        text-align: right;\n",
       "    }\n",
       "</style>\n",
       "<table border=\"1\" class=\"dataframe\">\n",
       "  <thead>\n",
       "    <tr style=\"text-align: right;\">\n",
       "      <th></th>\n",
       "      <th>car_brand</th>\n",
       "      <th>car_price</th>\n",
       "      <th>car_location</th>\n",
       "      <th>car_details</th>\n",
       "      <th>ad_date</th>\n",
       "      <th>car_dealer</th>\n",
       "      <th>car_description</th>\n",
       "      <th>today</th>\n",
       "      <th>car_url</th>\n",
       "    </tr>\n",
       "  </thead>\n",
       "  <tbody>\n",
       "    <tr>\n",
       "      <th>0</th>\n",
       "      <td>Mitsubishi Lancer, 2014</td>\n",
       "      <td>650 000 ₽</td>\n",
       "      <td>Москва</td>\n",
       "      <td>100 181 км, 1.8 CVT (140 л.с.), седан, передни...</td>\n",
       "      <td>Несколько секунд назад</td>\n",
       "      <td>NaN</td>\n",
       "      <td>Прoдаю надёжный автомобиль в достойнойном тeхн...</td>\n",
       "      <td>2021-11-23</td>\n",
       "      <td>https://www.avito.ru//moskva/avtomobili/mitsub...</td>\n",
       "    </tr>\n",
       "    <tr>\n",
       "      <th>1</th>\n",
       "      <td>Mazda 3, 2008</td>\n",
       "      <td>490 000 ₽</td>\n",
       "      <td>Свердловская область, Екатеринбург</td>\n",
       "      <td>213 000 км, 1.6 MT (105 л.с.), седан, передний...</td>\n",
       "      <td>Несколько секунд назад</td>\n",
       "      <td>NaN</td>\n",
       "      <td>По кузову имеется один окрас, остальное все в ...</td>\n",
       "      <td>2021-11-23</td>\n",
       "      <td>https://www.avito.ru//ekaterinburg/avtomobili/...</td>\n",
       "    </tr>\n",
       "  </tbody>\n",
       "</table>\n",
       "</div>"
      ],
      "text/plain": [
       "                 car_brand  car_price                        car_location  \\\n",
       "0  Mitsubishi Lancer, 2014  650 000 ₽                              Москва   \n",
       "1            Mazda 3, 2008  490 000 ₽  Свердловская область, Екатеринбург   \n",
       "\n",
       "                                         car_details                 ad_date  \\\n",
       "0  100 181 км, 1.8 CVT (140 л.с.), седан, передни...  Несколько секунд назад   \n",
       "1  213 000 км, 1.6 MT (105 л.с.), седан, передний...  Несколько секунд назад   \n",
       "\n",
       "  car_dealer                                    car_description       today  \\\n",
       "0        NaN  Прoдаю надёжный автомобиль в достойнойном тeхн...  2021-11-23   \n",
       "1        NaN  По кузову имеется один окрас, остальное все в ...  2021-11-23   \n",
       "\n",
       "                                             car_url  \n",
       "0  https://www.avito.ru//moskva/avtomobili/mitsub...  \n",
       "1  https://www.avito.ru//ekaterinburg/avtomobili/...  "
      ]
     },
     "execution_count": 324,
     "metadata": {},
     "output_type": "execute_result"
    }
   ],
   "source": [
    "## drop выполняется выше, и мы увидели, что ненужные столбцы исчезли, но что происходит, когда мы вызываем\n",
    "## здесь наш фрейм данных df2? ПОЧЕМУ наши предположительно удаленные колонки находятся здесь?\n",
    "\n",
    "## Помните, что исходный DataFrame df2 остается неизменным, если вы не используете inplace=True \n",
    "## или не присваиваете результат обратно исходному DataFrame.\n",
    "df2.head(2)"
   ]
  },
  {
   "cell_type": "code",
   "execution_count": 325,
   "metadata": {},
   "outputs": [
    {
     "data": {
      "text/html": [
       "<div>\n",
       "<style scoped>\n",
       "    .dataframe tbody tr th:only-of-type {\n",
       "        vertical-align: middle;\n",
       "    }\n",
       "\n",
       "    .dataframe tbody tr th {\n",
       "        vertical-align: top;\n",
       "    }\n",
       "\n",
       "    .dataframe thead th {\n",
       "        text-align: right;\n",
       "    }\n",
       "</style>\n",
       "<table border=\"1\" class=\"dataframe\">\n",
       "  <thead>\n",
       "    <tr style=\"text-align: right;\">\n",
       "      <th></th>\n",
       "      <th>car_brand</th>\n",
       "      <th>car_price</th>\n",
       "      <th>car_location</th>\n",
       "      <th>car_details</th>\n",
       "      <th>today</th>\n",
       "    </tr>\n",
       "  </thead>\n",
       "  <tbody>\n",
       "    <tr>\n",
       "      <th>0</th>\n",
       "      <td>Mitsubishi Lancer, 2014</td>\n",
       "      <td>650 000 ₽</td>\n",
       "      <td>Москва</td>\n",
       "      <td>100 181 км, 1.8 CVT (140 л.с.), седан, передни...</td>\n",
       "      <td>2021-11-23</td>\n",
       "    </tr>\n",
       "    <tr>\n",
       "      <th>1</th>\n",
       "      <td>Mazda 3, 2008</td>\n",
       "      <td>490 000 ₽</td>\n",
       "      <td>Свердловская область, Екатеринбург</td>\n",
       "      <td>213 000 км, 1.6 MT (105 л.с.), седан, передний...</td>\n",
       "      <td>2021-11-23</td>\n",
       "    </tr>\n",
       "  </tbody>\n",
       "</table>\n",
       "</div>"
      ],
      "text/plain": [
       "                 car_brand  car_price                        car_location  \\\n",
       "0  Mitsubishi Lancer, 2014  650 000 ₽                              Москва   \n",
       "1            Mazda 3, 2008  490 000 ₽  Свердловская область, Екатеринбург   \n",
       "\n",
       "                                         car_details       today  \n",
       "0  100 181 км, 1.8 CVT (140 л.с.), седан, передни...  2021-11-23  \n",
       "1  213 000 км, 1.6 MT (105 л.с.), седан, передний...  2021-11-23  "
      ]
     },
     "execution_count": 325,
     "metadata": {},
     "output_type": "execute_result"
    }
   ],
   "source": [
    "## Способ 1\n",
    "## Таким образом, знак = здесь присваивает Полученный DataFrame из операции drop() обратно переменной df2, \n",
    "## эффективно обновляя df2, чтобы он содержал измененный DataFrame без указанных столбцов.\n",
    "df2 = df2.drop (['car_description', 'ad_date', 'car_url', 'car_dealer'], axis=1)\n",
    "df2.head(2)"
   ]
  },
  {
   "cell_type": "code",
   "execution_count": 326,
   "metadata": {},
   "outputs": [
    {
     "data": {
      "text/html": [
       "<div>\n",
       "<style scoped>\n",
       "    .dataframe tbody tr th:only-of-type {\n",
       "        vertical-align: middle;\n",
       "    }\n",
       "\n",
       "    .dataframe tbody tr th {\n",
       "        vertical-align: top;\n",
       "    }\n",
       "\n",
       "    .dataframe thead th {\n",
       "        text-align: right;\n",
       "    }\n",
       "</style>\n",
       "<table border=\"1\" class=\"dataframe\">\n",
       "  <thead>\n",
       "    <tr style=\"text-align: right;\">\n",
       "      <th></th>\n",
       "      <th>car_brand</th>\n",
       "      <th>car_price</th>\n",
       "      <th>car_location</th>\n",
       "      <th>car_details</th>\n",
       "      <th>ad_date</th>\n",
       "      <th>car_dealer</th>\n",
       "      <th>car_description</th>\n",
       "      <th>today</th>\n",
       "      <th>car_url</th>\n",
       "    </tr>\n",
       "  </thead>\n",
       "  <tbody>\n",
       "    <tr>\n",
       "      <th>0</th>\n",
       "      <td>Mitsubishi Lancer, 2014</td>\n",
       "      <td>650 000 ₽</td>\n",
       "      <td>Москва</td>\n",
       "      <td>100 181 км, 1.8 CVT (140 л.с.), седан, передни...</td>\n",
       "      <td>Несколько секунд назад</td>\n",
       "      <td>NaN</td>\n",
       "      <td>Прoдаю надёжный автомобиль в достойнойном тeхн...</td>\n",
       "      <td>2021-11-23</td>\n",
       "      <td>https://www.avito.ru//moskva/avtomobili/mitsub...</td>\n",
       "    </tr>\n",
       "    <tr>\n",
       "      <th>1</th>\n",
       "      <td>Mazda 3, 2008</td>\n",
       "      <td>490 000 ₽</td>\n",
       "      <td>Свердловская область, Екатеринбург</td>\n",
       "      <td>213 000 км, 1.6 MT (105 л.с.), седан, передний...</td>\n",
       "      <td>Несколько секунд назад</td>\n",
       "      <td>NaN</td>\n",
       "      <td>По кузову имеется один окрас, остальное все в ...</td>\n",
       "      <td>2021-11-23</td>\n",
       "      <td>https://www.avito.ru//ekaterinburg/avtomobili/...</td>\n",
       "    </tr>\n",
       "  </tbody>\n",
       "</table>\n",
       "</div>"
      ],
      "text/plain": [
       "                 car_brand  car_price                        car_location  \\\n",
       "0  Mitsubishi Lancer, 2014  650 000 ₽                              Москва   \n",
       "1            Mazda 3, 2008  490 000 ₽  Свердловская область, Екатеринбург   \n",
       "\n",
       "                                         car_details                 ad_date  \\\n",
       "0  100 181 км, 1.8 CVT (140 л.с.), седан, передни...  Несколько секунд назад   \n",
       "1  213 000 км, 1.6 MT (105 л.с.), седан, передний...  Несколько секунд назад   \n",
       "\n",
       "  car_dealer                                    car_description       today  \\\n",
       "0        NaN  Прoдаю надёжный автомобиль в достойнойном тeхн...  2021-11-23   \n",
       "1        NaN  По кузову имеется один окрас, остальное все в ...  2021-11-23   \n",
       "\n",
       "                                             car_url  \n",
       "0  https://www.avito.ru//moskva/avtomobili/mitsub...  \n",
       "1  https://www.avito.ru//ekaterinburg/avtomobili/...  "
      ]
     },
     "execution_count": 326,
     "metadata": {},
     "output_type": "execute_result"
    }
   ],
   "source": [
    "df3.head(2)"
   ]
  },
  {
   "cell_type": "code",
   "execution_count": 327,
   "metadata": {},
   "outputs": [
    {
     "data": {
      "text/html": [
       "<div>\n",
       "<style scoped>\n",
       "    .dataframe tbody tr th:only-of-type {\n",
       "        vertical-align: middle;\n",
       "    }\n",
       "\n",
       "    .dataframe tbody tr th {\n",
       "        vertical-align: top;\n",
       "    }\n",
       "\n",
       "    .dataframe thead th {\n",
       "        text-align: right;\n",
       "    }\n",
       "</style>\n",
       "<table border=\"1\" class=\"dataframe\">\n",
       "  <thead>\n",
       "    <tr style=\"text-align: right;\">\n",
       "      <th></th>\n",
       "      <th>car_brand</th>\n",
       "      <th>car_price</th>\n",
       "      <th>car_location</th>\n",
       "      <th>car_details</th>\n",
       "      <th>today</th>\n",
       "    </tr>\n",
       "  </thead>\n",
       "  <tbody>\n",
       "    <tr>\n",
       "      <th>0</th>\n",
       "      <td>Mitsubishi Lancer, 2014</td>\n",
       "      <td>650 000 ₽</td>\n",
       "      <td>Москва</td>\n",
       "      <td>100 181 км, 1.8 CVT (140 л.с.), седан, передни...</td>\n",
       "      <td>2021-11-23</td>\n",
       "    </tr>\n",
       "    <tr>\n",
       "      <th>1</th>\n",
       "      <td>Mazda 3, 2008</td>\n",
       "      <td>490 000 ₽</td>\n",
       "      <td>Свердловская область, Екатеринбург</td>\n",
       "      <td>213 000 км, 1.6 MT (105 л.с.), седан, передний...</td>\n",
       "      <td>2021-11-23</td>\n",
       "    </tr>\n",
       "  </tbody>\n",
       "</table>\n",
       "</div>"
      ],
      "text/plain": [
       "                 car_brand  car_price                        car_location  \\\n",
       "0  Mitsubishi Lancer, 2014  650 000 ₽                              Москва   \n",
       "1            Mazda 3, 2008  490 000 ₽  Свердловская область, Екатеринбург   \n",
       "\n",
       "                                         car_details       today  \n",
       "0  100 181 км, 1.8 CVT (140 л.с.), седан, передни...  2021-11-23  \n",
       "1  213 000 км, 1.6 MT (105 л.с.), седан, передний...  2021-11-23  "
      ]
     },
     "execution_count": 327,
     "metadata": {},
     "output_type": "execute_result"
    }
   ],
   "source": [
    "## Метод 2 (НЕ РЕКОМЕНДУЕТСЯ!!!) \n",
    "df3.drop (['car_description', 'ad_date', 'car_url', 'car_dealer'], axis=1, inplace= True)\n",
    "df3.head (2)"
   ]
  },
  {
   "cell_type": "code",
   "execution_count": 328,
   "metadata": {},
   "outputs": [
    {
     "data": {
      "text/plain": [
       "(5656, 9)"
      ]
     },
     "execution_count": 328,
     "metadata": {},
     "output_type": "execute_result"
    }
   ],
   "source": [
    "## Прежде чем внести какое-либо постоянное изменение в данные, \n",
    "## всегда сравнивайте размер dataframe данных до и после.\n",
    "df.shape"
   ]
  },
  {
   "cell_type": "code",
   "execution_count": 329,
   "metadata": {},
   "outputs": [
    {
     "data": {
      "text/html": [
       "<div>\n",
       "<style scoped>\n",
       "    .dataframe tbody tr th:only-of-type {\n",
       "        vertical-align: middle;\n",
       "    }\n",
       "\n",
       "    .dataframe tbody tr th {\n",
       "        vertical-align: top;\n",
       "    }\n",
       "\n",
       "    .dataframe thead th {\n",
       "        text-align: right;\n",
       "    }\n",
       "</style>\n",
       "<table border=\"1\" class=\"dataframe\">\n",
       "  <thead>\n",
       "    <tr style=\"text-align: right;\">\n",
       "      <th></th>\n",
       "      <th>car_brand</th>\n",
       "      <th>car_price</th>\n",
       "      <th>car_location</th>\n",
       "      <th>car_details</th>\n",
       "      <th>today</th>\n",
       "    </tr>\n",
       "  </thead>\n",
       "  <tbody>\n",
       "    <tr>\n",
       "      <th>0</th>\n",
       "      <td>Mitsubishi Lancer, 2014</td>\n",
       "      <td>650 000 ₽</td>\n",
       "      <td>Москва</td>\n",
       "      <td>100 181 км, 1.8 CVT (140 л.с.), седан, передни...</td>\n",
       "      <td>2021-11-23</td>\n",
       "    </tr>\n",
       "    <tr>\n",
       "      <th>1</th>\n",
       "      <td>Mazda 3, 2008</td>\n",
       "      <td>490 000 ₽</td>\n",
       "      <td>Свердловская область, Екатеринбург</td>\n",
       "      <td>213 000 км, 1.6 MT (105 л.с.), седан, передний...</td>\n",
       "      <td>2021-11-23</td>\n",
       "    </tr>\n",
       "  </tbody>\n",
       "</table>\n",
       "</div>"
      ],
      "text/plain": [
       "                 car_brand  car_price                        car_location  \\\n",
       "0  Mitsubishi Lancer, 2014  650 000 ₽                              Москва   \n",
       "1            Mazda 3, 2008  490 000 ₽  Свердловская область, Екатеринбург   \n",
       "\n",
       "                                         car_details       today  \n",
       "0  100 181 км, 1.8 CVT (140 л.с.), седан, передни...  2021-11-23  \n",
       "1  213 000 км, 1.6 MT (105 л.с.), седан, передний...  2021-11-23  "
      ]
     },
     "execution_count": 329,
     "metadata": {},
     "output_type": "execute_result"
    }
   ],
   "source": [
    "## Хорошо, теперь давайте удалим лишние столбцы из нашей таблицы. \n",
    "## Помните, я говорил вам, что не рекомендую метод 2 с (inplace = True)?\n",
    "\n",
    "## Я сделаю это здесь, но никому не говорите, ладно? ))\n",
    "\n",
    "df.drop (['car_description', 'ad_date', 'car_url', 'car_dealer'], axis=1, inplace= True)\n",
    "df.head(2)"
   ]
  },
  {
   "cell_type": "code",
   "execution_count": 330,
   "metadata": {},
   "outputs": [
    {
     "data": {
      "text/plain": [
       "(5656, 5)"
      ]
     },
     "execution_count": 330,
     "metadata": {},
     "output_type": "execute_result"
    }
   ],
   "source": [
    "## Проверьте размер и убедитесь, что столбцов стало меньше.\n",
    "df.shape"
   ]
  },
  {
   "cell_type": "code",
   "execution_count": 331,
   "metadata": {},
   "outputs": [
    {
     "data": {
      "text/plain": [
       "Index(['car_brand', 'car_price', 'car_location', 'car_details', 'today'], dtype='object')"
      ]
     },
     "execution_count": 331,
     "metadata": {},
     "output_type": "execute_result"
    }
   ],
   "source": [
    "df.columns"
   ]
  },
  {
   "cell_type": "code",
   "execution_count": null,
   "metadata": {},
   "outputs": [],
   "source": []
  },
  {
   "cell_type": "markdown",
   "metadata": {},
   "source": [
    "# Раздел 2 "
   ]
  },
  {
   "cell_type": "markdown",
   "metadata": {},
   "source": [
    "### Очистка и нормализация данных <br> Data Cleaning and Normalization"
   ]
  },
  {
   "cell_type": "code",
   "execution_count": 332,
   "metadata": {},
   "outputs": [
    {
     "data": {
      "text/html": [
       "<div>\n",
       "<style scoped>\n",
       "    .dataframe tbody tr th:only-of-type {\n",
       "        vertical-align: middle;\n",
       "    }\n",
       "\n",
       "    .dataframe tbody tr th {\n",
       "        vertical-align: top;\n",
       "    }\n",
       "\n",
       "    .dataframe thead th {\n",
       "        text-align: right;\n",
       "    }\n",
       "</style>\n",
       "<table border=\"1\" class=\"dataframe\">\n",
       "  <thead>\n",
       "    <tr style=\"text-align: right;\">\n",
       "      <th></th>\n",
       "      <th>car_brand</th>\n",
       "      <th>car_price</th>\n",
       "      <th>car_location</th>\n",
       "      <th>car_details</th>\n",
       "      <th>today</th>\n",
       "    </tr>\n",
       "  </thead>\n",
       "  <tbody>\n",
       "    <tr>\n",
       "      <th>0</th>\n",
       "      <td>Mitsubishi Lancer, 2014</td>\n",
       "      <td>650 000 ₽</td>\n",
       "      <td>Москва</td>\n",
       "      <td>100 181 км, 1.8 CVT (140 л.с.), седан, передни...</td>\n",
       "      <td>2021-11-23</td>\n",
       "    </tr>\n",
       "    <tr>\n",
       "      <th>1</th>\n",
       "      <td>Mazda 3, 2008</td>\n",
       "      <td>490 000 ₽</td>\n",
       "      <td>Свердловская область, Екатеринбург</td>\n",
       "      <td>213 000 км, 1.6 MT (105 л.с.), седан, передний...</td>\n",
       "      <td>2021-11-23</td>\n",
       "    </tr>\n",
       "    <tr>\n",
       "      <th>2</th>\n",
       "      <td>ВАЗ (LADA) Granta, 2020</td>\n",
       "      <td>742 000 ₽</td>\n",
       "      <td>Свердловская область, Екатеринбург</td>\n",
       "      <td>25 600 км, 1.6 MT (106 л.с.), седан, передний,...</td>\n",
       "      <td>2021-11-23</td>\n",
       "    </tr>\n",
       "    <tr>\n",
       "      <th>3</th>\n",
       "      <td>Toyota Tank, 2018</td>\n",
       "      <td>590 000 ₽</td>\n",
       "      <td>Приморский край, Владивостокский г.о., Владиво...</td>\n",
       "      <td>43 000 км, 1.0 CVT (69 л.с.), хетчбэк, полный,...</td>\n",
       "      <td>2021-11-23</td>\n",
       "    </tr>\n",
       "    <tr>\n",
       "      <th>4</th>\n",
       "      <td>Kia Rio, 2018</td>\n",
       "      <td>999 000 ₽</td>\n",
       "      <td>Астраханская область, Астрахань</td>\n",
       "      <td>65 000 км, 1.6 AT (123 л.с.), седан, передний,...</td>\n",
       "      <td>2021-11-23</td>\n",
       "    </tr>\n",
       "  </tbody>\n",
       "</table>\n",
       "</div>"
      ],
      "text/plain": [
       "                 car_brand  car_price  \\\n",
       "0  Mitsubishi Lancer, 2014  650 000 ₽   \n",
       "1            Mazda 3, 2008  490 000 ₽   \n",
       "2  ВАЗ (LADA) Granta, 2020  742 000 ₽   \n",
       "3        Toyota Tank, 2018  590 000 ₽   \n",
       "4            Kia Rio, 2018  999 000 ₽   \n",
       "\n",
       "                                        car_location  \\\n",
       "0                                             Москва   \n",
       "1                 Свердловская область, Екатеринбург   \n",
       "2                 Свердловская область, Екатеринбург   \n",
       "3  Приморский край, Владивостокский г.о., Владиво...   \n",
       "4                    Астраханская область, Астрахань   \n",
       "\n",
       "                                         car_details       today  \n",
       "0  100 181 км, 1.8 CVT (140 л.с.), седан, передни...  2021-11-23  \n",
       "1  213 000 км, 1.6 MT (105 л.с.), седан, передний...  2021-11-23  \n",
       "2  25 600 км, 1.6 MT (106 л.с.), седан, передний,...  2021-11-23  \n",
       "3  43 000 км, 1.0 CVT (69 л.с.), хетчбэк, полный,...  2021-11-23  \n",
       "4  65 000 км, 1.6 AT (123 л.с.), седан, передний,...  2021-11-23  "
      ]
     },
     "execution_count": 332,
     "metadata": {},
     "output_type": "execute_result"
    }
   ],
   "source": [
    "## Мы видим, что производитель автомобиля и год объединены знаком «,» запятой.\n",
    "## Мы можем  использовать его для разделения этих данных и создания отдельных столбцов для автомобиля и года\n",
    "df.head (5)"
   ]
  },
  {
   "cell_type": "code",
   "execution_count": 333,
   "metadata": {},
   "outputs": [
    {
     "data": {
      "text/plain": [
       "0    Mitsubishi Lancer, 2014\n",
       "1              Mazda 3, 2008\n",
       "2    ВАЗ (LADA) Granta, 2020\n",
       "3          Toyota Tank, 2018\n",
       "4              Kia Rio, 2018\n",
       "Name: car_brand, dtype: object"
      ]
     },
     "execution_count": 333,
     "metadata": {},
     "output_type": "execute_result"
    }
   ],
   "source": [
    "## Мы можем визуально проверять строки нашего фрейма данных с \n",
    "## начала, \n",
    "df.car_brand.head (5)"
   ]
  },
  {
   "cell_type": "code",
   "execution_count": 334,
   "metadata": {},
   "outputs": [
    {
     "data": {
      "text/plain": [
       "5651       Hyundai ix35, 2013\n",
       "5652    ГАЗ ГАЗель 2705, 2013\n",
       "5653        Skoda Rapid, 2018\n",
       "5654    ВАЗ (LADA) XRAY, 2019\n",
       "5655        УАЗ Patriot, 2016\n",
       "Name: car_brand, dtype: object"
      ]
     },
     "execution_count": 334,
     "metadata": {},
     "output_type": "execute_result"
    }
   ],
   "source": [
    " ## с хвоста\n",
    "df.car_brand.tail (5)"
   ]
  },
  {
   "cell_type": "code",
   "execution_count": 335,
   "metadata": {},
   "outputs": [
    {
     "data": {
      "text/plain": [
       "4788          Ford Focus, 2014\n",
       "3499       Skoda Octavia, 2008\n",
       "2028          Mazda CX-7, 2011\n",
       "2508         LADA Granta, 2020\n",
       "2121    Hyundai Santa Fe, 2008\n",
       "5369      Toyota Avensis, 2008\n",
       "2870        Kia Sportage, 2011\n",
       "4996     Hyundai Solaris, 2011\n",
       "395       Skoda Fabia RS, 2010\n",
       "5372         Peugeot 207, 2009\n",
       "Name: car_brand, dtype: object"
      ]
     },
     "execution_count": 335,
     "metadata": {},
     "output_type": "execute_result"
    }
   ],
   "source": [
    "## или можем выбрать просмотр случайно выбранных строк.\n",
    "df.car_brand.sample(n=10)\n"
   ]
  },
  {
   "cell_type": "code",
   "execution_count": 336,
   "metadata": {},
   "outputs": [
    {
     "data": {
      "text/html": [
       "<div>\n",
       "<style scoped>\n",
       "    .dataframe tbody tr th:only-of-type {\n",
       "        vertical-align: middle;\n",
       "    }\n",
       "\n",
       "    .dataframe tbody tr th {\n",
       "        vertical-align: top;\n",
       "    }\n",
       "\n",
       "    .dataframe thead th {\n",
       "        text-align: right;\n",
       "    }\n",
       "</style>\n",
       "<table border=\"1\" class=\"dataframe\">\n",
       "  <thead>\n",
       "    <tr style=\"text-align: right;\">\n",
       "      <th></th>\n",
       "      <th>0</th>\n",
       "      <th>1</th>\n",
       "    </tr>\n",
       "  </thead>\n",
       "  <tbody>\n",
       "    <tr>\n",
       "      <th>0</th>\n",
       "      <td>Mitsubishi Lancer</td>\n",
       "      <td>2014</td>\n",
       "    </tr>\n",
       "    <tr>\n",
       "      <th>1</th>\n",
       "      <td>Mazda 3</td>\n",
       "      <td>2008</td>\n",
       "    </tr>\n",
       "    <tr>\n",
       "      <th>2</th>\n",
       "      <td>ВАЗ (LADA) Granta</td>\n",
       "      <td>2020</td>\n",
       "    </tr>\n",
       "    <tr>\n",
       "      <th>3</th>\n",
       "      <td>Toyota Tank</td>\n",
       "      <td>2018</td>\n",
       "    </tr>\n",
       "    <tr>\n",
       "      <th>4</th>\n",
       "      <td>Kia Rio</td>\n",
       "      <td>2018</td>\n",
       "    </tr>\n",
       "    <tr>\n",
       "      <th>...</th>\n",
       "      <td>...</td>\n",
       "      <td>...</td>\n",
       "    </tr>\n",
       "    <tr>\n",
       "      <th>5651</th>\n",
       "      <td>Hyundai ix35</td>\n",
       "      <td>2013</td>\n",
       "    </tr>\n",
       "    <tr>\n",
       "      <th>5652</th>\n",
       "      <td>ГАЗ ГАЗель 2705</td>\n",
       "      <td>2013</td>\n",
       "    </tr>\n",
       "    <tr>\n",
       "      <th>5653</th>\n",
       "      <td>Skoda Rapid</td>\n",
       "      <td>2018</td>\n",
       "    </tr>\n",
       "    <tr>\n",
       "      <th>5654</th>\n",
       "      <td>ВАЗ (LADA) XRAY</td>\n",
       "      <td>2019</td>\n",
       "    </tr>\n",
       "    <tr>\n",
       "      <th>5655</th>\n",
       "      <td>УАЗ Patriot</td>\n",
       "      <td>2016</td>\n",
       "    </tr>\n",
       "  </tbody>\n",
       "</table>\n",
       "<p>5656 rows × 2 columns</p>\n",
       "</div>"
      ],
      "text/plain": [
       "                      0      1\n",
       "0     Mitsubishi Lancer   2014\n",
       "1               Mazda 3   2008\n",
       "2     ВАЗ (LADA) Granta   2020\n",
       "3           Toyota Tank   2018\n",
       "4               Kia Rio   2018\n",
       "...                 ...    ...\n",
       "5651       Hyundai ix35   2013\n",
       "5652    ГАЗ ГАЗель 2705   2013\n",
       "5653        Skoda Rapid   2018\n",
       "5654    ВАЗ (LADA) XRAY   2019\n",
       "5655        УАЗ Patriot   2016\n",
       "\n",
       "[5656 rows x 2 columns]"
      ]
     },
     "execution_count": 336,
     "metadata": {},
     "output_type": "execute_result"
    }
   ],
   "source": [
    "# Чтобы разделить модель автомобиля и данные года, которые разделены запятой, \n",
    "## мы можем использовать  Python метод str.split()\n",
    "\n",
    "## Если expand=True, метод возвращает DataFrame с отдельными столбцами для каждой разделенной части. \n",
    "## В нашем случае создаются два новых столбца: модель и год.\n",
    "\n",
    "df['car_brand'].str.split(',', expand=True)"
   ]
  },
  {
   "cell_type": "code",
   "execution_count": 337,
   "metadata": {},
   "outputs": [
    {
     "data": {
      "text/plain": [
       "0       [Mitsubishi Lancer,  2014]\n",
       "1                 [Mazda 3,  2008]\n",
       "2       [ВАЗ (LADA) Granta,  2020]\n",
       "3             [Toyota Tank,  2018]\n",
       "4                 [Kia Rio,  2018]\n",
       "                   ...            \n",
       "5651         [Hyundai ix35,  2013]\n",
       "5652      [ГАЗ ГАЗель 2705,  2013]\n",
       "5653          [Skoda Rapid,  2018]\n",
       "5654      [ВАЗ (LADA) XRAY,  2019]\n",
       "5655          [УАЗ Patriot,  2016]\n",
       "Name: car_brand, Length: 5656, dtype: object"
      ]
     },
     "execution_count": 337,
     "metadata": {},
     "output_type": "execute_result"
    }
   ],
   "source": [
    "df['car_brand'].str.split(',', expand=False)"
   ]
  },
  {
   "cell_type": "code",
   "execution_count": 338,
   "metadata": {},
   "outputs": [
    {
     "data": {
      "text/plain": [
       "(pandas.core.frame.DataFrame, pandas.core.series.Series)"
      ]
     },
     "execution_count": 338,
     "metadata": {},
     "output_type": "execute_result"
    }
   ],
   "source": [
    "## Какая разница? Давайте вспомним наш встроенный в Python метод type() и ответим на этот вопрос.\n",
    "\n",
    "## DataFrame pandas — это двумерная помеченная структура данных со столбцами потенциально разных типов, \n",
    "\n",
    "## Серия Pandas (series) — это одномерный помеченный массив, способный хранить данные любого типа.\n",
    "\n",
    "## !!! Подробности см. в файле py_basics.py Pandas Series.\n",
    "\n",
    "type (df['car_brand'].str.split(',', expand=True)) , type (df['car_brand'].str.split(',', expand=False))"
   ]
  },
  {
   "cell_type": "code",
   "execution_count": 339,
   "metadata": {},
   "outputs": [
    {
     "data": {
      "text/html": [
       "<div>\n",
       "<style scoped>\n",
       "    .dataframe tbody tr th:only-of-type {\n",
       "        vertical-align: middle;\n",
       "    }\n",
       "\n",
       "    .dataframe tbody tr th {\n",
       "        vertical-align: top;\n",
       "    }\n",
       "\n",
       "    .dataframe thead th {\n",
       "        text-align: right;\n",
       "    }\n",
       "</style>\n",
       "<table border=\"1\" class=\"dataframe\">\n",
       "  <thead>\n",
       "    <tr style=\"text-align: right;\">\n",
       "      <th></th>\n",
       "      <th>car_brand</th>\n",
       "      <th>car_price</th>\n",
       "      <th>car_location</th>\n",
       "      <th>car_details</th>\n",
       "      <th>today</th>\n",
       "      <th>model</th>\n",
       "      <th>year</th>\n",
       "    </tr>\n",
       "  </thead>\n",
       "  <tbody>\n",
       "    <tr>\n",
       "      <th>0</th>\n",
       "      <td>Mitsubishi Lancer, 2014</td>\n",
       "      <td>650 000 ₽</td>\n",
       "      <td>Москва</td>\n",
       "      <td>100 181 км, 1.8 CVT (140 л.с.), седан, передни...</td>\n",
       "      <td>2021-11-23</td>\n",
       "      <td>Mitsubishi Lancer</td>\n",
       "      <td>2014</td>\n",
       "    </tr>\n",
       "    <tr>\n",
       "      <th>1</th>\n",
       "      <td>Mazda 3, 2008</td>\n",
       "      <td>490 000 ₽</td>\n",
       "      <td>Свердловская область, Екатеринбург</td>\n",
       "      <td>213 000 км, 1.6 MT (105 л.с.), седан, передний...</td>\n",
       "      <td>2021-11-23</td>\n",
       "      <td>Mazda 3</td>\n",
       "      <td>2008</td>\n",
       "    </tr>\n",
       "  </tbody>\n",
       "</table>\n",
       "</div>"
      ],
      "text/plain": [
       "                 car_brand  car_price                        car_location  \\\n",
       "0  Mitsubishi Lancer, 2014  650 000 ₽                              Москва   \n",
       "1            Mazda 3, 2008  490 000 ₽  Свердловская область, Екатеринбург   \n",
       "\n",
       "                                         car_details       today  \\\n",
       "0  100 181 км, 1.8 CVT (140 л.с.), седан, передни...  2021-11-23   \n",
       "1  213 000 км, 1.6 MT (105 л.с.), седан, передний...  2021-11-23   \n",
       "\n",
       "               model   year  \n",
       "0  Mitsubishi Lancer   2014  \n",
       "1            Mazda 3   2008  "
      ]
     },
     "execution_count": 339,
     "metadata": {},
     "output_type": "execute_result"
    }
   ],
   "source": [
    "## Теперь, когда я знаю, что моя операция str.split() создает два столбца, \n",
    "## я могу придумать имена столбцов, которые мне удобны, НО ВАЖНО ТОЛЬКО ДВА, \n",
    "## и назначить их моему фрейму данных, эффективно изменяя форму моего фрейма данных.\n",
    "\n",
    "df[['model', 'year']] = df['car_brand'].str.split(',', expand=True)\n",
    "df.head(2)\n"
   ]
  },
  {
   "cell_type": "code",
   "execution_count": 340,
   "metadata": {},
   "outputs": [
    {
     "data": {
      "text/plain": [
       "(5656, 7)"
      ]
     },
     "execution_count": 340,
     "metadata": {},
     "output_type": "execute_result"
    }
   ],
   "source": [
    "## Сравните наш фрейм данных до и после этой операции.\n",
    "df.shape"
   ]
  },
  {
   "cell_type": "code",
   "execution_count": 341,
   "metadata": {},
   "outputs": [
    {
     "data": {
      "text/plain": [
       "4412    468 000 ₽\n",
       "2795    529 000 ₽\n",
       "397     730 000 ₽\n",
       "2321    945 000 ₽\n",
       "3168    680 000 ₽\n",
       "3020    949 000 ₽\n",
       "4035    955 000 ₽\n",
       "2695    560 000 ₽\n",
       "4500    689 000 ₽\n",
       "5265    599 000 ₽\n",
       "Name: car_price, dtype: object"
      ]
     },
     "execution_count": 341,
     "metadata": {},
     "output_type": "execute_result"
    }
   ],
   "source": [
    "## Далее идет столбец цен на автомобили: в нем есть ненужный символ, \n",
    "## который будет мешать нашим будущим статистическим операциям с этим столбцом.\n",
    "\n",
    "## Давайте удалим этот символ\n",
    "\n",
    "df.car_price.sample(n=10, replace=False)"
   ]
  },
  {
   "cell_type": "code",
   "execution_count": 342,
   "metadata": {},
   "outputs": [
    {
     "data": {
      "text/plain": [
       "0       True\n",
       "1       True\n",
       "2       True\n",
       "3       True\n",
       "4       True\n",
       "        ... \n",
       "5651    True\n",
       "5652    True\n",
       "5653    True\n",
       "5654    True\n",
       "5655    True\n",
       "Name: car_price, Length: 5656, dtype: bool"
      ]
     },
     "execution_count": 342,
     "metadata": {},
     "output_type": "execute_result"
    }
   ],
   "source": [
    "## Но давайте рассмотрим  новую для нас функцию: str.contains(). \n",
    "## Мы хотим узнать, содержит ли  столбец car_price \"₽\" . В любом месте\n",
    "\n",
    "## Мы видим True (или False, если символ не существует). \n",
    "\n",
    "df.car_price.str.contains('₽')\n"
   ]
  },
  {
   "cell_type": "code",
   "execution_count": 343,
   "metadata": {},
   "outputs": [
    {
     "data": {
      "text/plain": [
       "pandas.core.series.Series"
      ]
     },
     "execution_count": 343,
     "metadata": {},
     "output_type": "execute_result"
    }
   ],
   "source": [
    "type (df.car_price.str.contains('₽'))"
   ]
  },
  {
   "cell_type": "code",
   "execution_count": 344,
   "metadata": {},
   "outputs": [
    {
     "data": {
      "text/plain": [
       "5656"
      ]
     },
     "execution_count": 344,
     "metadata": {},
     "output_type": "execute_result"
    }
   ],
   "source": [
    "## Когда вы используете sum() в этой серии, он вычисляет сумму логических значений. \n",
    "## В Python True рассматривается как 1, а False — как 0 при суммировании логических значений.\n",
    "sum(df.car_price.str.contains('₽'))"
   ]
  },
  {
   "cell_type": "code",
   "execution_count": 345,
   "metadata": {},
   "outputs": [
    {
     "data": {
      "text/plain": [
       "0    650 000 \n",
       "1    490 000 \n",
       "2    742 000 \n",
       "3    590 000 \n",
       "4    999 000 \n",
       "Name: car_price, dtype: object"
      ]
     },
     "execution_count": 345,
     "metadata": {},
     "output_type": "execute_result"
    }
   ],
   "source": [
    "## У нас есть разные методы, как удалить символ '₽'\n",
    "\n",
    "df['car_price'].str.replace('₽', '').head(5)"
   ]
  },
  {
   "cell_type": "code",
   "execution_count": 346,
   "metadata": {},
   "outputs": [
    {
     "data": {
      "text/plain": [
       "0    650 000 \n",
       "1    490 000 \n",
       "2    742 000 \n",
       "3    590 000 \n",
       "4    999 000 \n",
       "Name: car_price, dtype: object"
      ]
     },
     "execution_count": 346,
     "metadata": {},
     "output_type": "execute_result"
    }
   ],
   "source": [
    "## Метод регулярного выражения *regex*, который не использует промежуточный метод преобразования str\n",
    "df['car_price'].replace(r'₽', '', regex=True).head(5)"
   ]
  },
  {
   "cell_type": "code",
   "execution_count": 347,
   "metadata": {},
   "outputs": [
    {
     "data": {
      "text/html": [
       "<div>\n",
       "<style scoped>\n",
       "    .dataframe tbody tr th:only-of-type {\n",
       "        vertical-align: middle;\n",
       "    }\n",
       "\n",
       "    .dataframe tbody tr th {\n",
       "        vertical-align: top;\n",
       "    }\n",
       "\n",
       "    .dataframe thead th {\n",
       "        text-align: right;\n",
       "    }\n",
       "</style>\n",
       "<table border=\"1\" class=\"dataframe\">\n",
       "  <thead>\n",
       "    <tr style=\"text-align: right;\">\n",
       "      <th></th>\n",
       "      <th>car_brand</th>\n",
       "      <th>car_price</th>\n",
       "      <th>car_location</th>\n",
       "      <th>car_details</th>\n",
       "      <th>today</th>\n",
       "      <th>model</th>\n",
       "      <th>year</th>\n",
       "      <th>price</th>\n",
       "    </tr>\n",
       "  </thead>\n",
       "  <tbody>\n",
       "    <tr>\n",
       "      <th>0</th>\n",
       "      <td>Mitsubishi Lancer, 2014</td>\n",
       "      <td>650 000 ₽</td>\n",
       "      <td>Москва</td>\n",
       "      <td>100 181 км, 1.8 CVT (140 л.с.), седан, передни...</td>\n",
       "      <td>2021-11-23</td>\n",
       "      <td>Mitsubishi Lancer</td>\n",
       "      <td>2014</td>\n",
       "      <td>650 000</td>\n",
       "    </tr>\n",
       "    <tr>\n",
       "      <th>1</th>\n",
       "      <td>Mazda 3, 2008</td>\n",
       "      <td>490 000 ₽</td>\n",
       "      <td>Свердловская область, Екатеринбург</td>\n",
       "      <td>213 000 км, 1.6 MT (105 л.с.), седан, передний...</td>\n",
       "      <td>2021-11-23</td>\n",
       "      <td>Mazda 3</td>\n",
       "      <td>2008</td>\n",
       "      <td>490 000</td>\n",
       "    </tr>\n",
       "    <tr>\n",
       "      <th>2</th>\n",
       "      <td>ВАЗ (LADA) Granta, 2020</td>\n",
       "      <td>742 000 ₽</td>\n",
       "      <td>Свердловская область, Екатеринбург</td>\n",
       "      <td>25 600 км, 1.6 MT (106 л.с.), седан, передний,...</td>\n",
       "      <td>2021-11-23</td>\n",
       "      <td>ВАЗ (LADA) Granta</td>\n",
       "      <td>2020</td>\n",
       "      <td>742 000</td>\n",
       "    </tr>\n",
       "  </tbody>\n",
       "</table>\n",
       "</div>"
      ],
      "text/plain": [
       "                 car_brand  car_price                        car_location  \\\n",
       "0  Mitsubishi Lancer, 2014  650 000 ₽                              Москва   \n",
       "1            Mazda 3, 2008  490 000 ₽  Свердловская область, Екатеринбург   \n",
       "2  ВАЗ (LADA) Granta, 2020  742 000 ₽  Свердловская область, Екатеринбург   \n",
       "\n",
       "                                         car_details       today  \\\n",
       "0  100 181 км, 1.8 CVT (140 л.с.), седан, передни...  2021-11-23   \n",
       "1  213 000 км, 1.6 MT (105 л.с.), седан, передний...  2021-11-23   \n",
       "2  25 600 км, 1.6 MT (106 л.с.), седан, передний,...  2021-11-23   \n",
       "\n",
       "               model   year     price  \n",
       "0  Mitsubishi Lancer   2014  650 000   \n",
       "1            Mazda 3   2008  490 000   \n",
       "2  ВАЗ (LADA) Granta   2020  742 000   "
      ]
     },
     "execution_count": 347,
     "metadata": {},
     "output_type": "execute_result"
    }
   ],
   "source": [
    "## Мы можем выполнить операцию удаления символа прямо на столбце 'car_price' и переназначить его. \n",
    "## # df['car_price'] = df['car_price'].str.replace('₽', '')\n",
    "## Однако делать это не рекомендуется. \n",
    "## Вместо этого мы создадим новый столбец для нашего фрейма данных с уже чистыми данными о ценах.\n",
    "\n",
    "df['price'] = df['car_price'].str.replace('₽', '')\n",
    "df.head(3)"
   ]
  },
  {
   "cell_type": "code",
   "execution_count": 348,
   "metadata": {},
   "outputs": [
    {
     "data": {
      "text/plain": [
       "'100 181 км, 1.8 CVT (140 л.с.), седан, передний, бензин'"
      ]
     },
     "execution_count": 348,
     "metadata": {},
     "output_type": "execute_result"
    }
   ],
   "source": [
    "## Далее у нас есть столбец car_details, который, как вы заметили, также разделен запятыми. \n",
    "## Вы уже знаете, как использовать это свойство для разделения данных и создания новых столбцов.\n",
    "\n",
    "df.iloc[0]['car_details']"
   ]
  },
  {
   "cell_type": "code",
   "execution_count": 349,
   "metadata": {},
   "outputs": [
    {
     "data": {
      "text/html": [
       "<div>\n",
       "<style scoped>\n",
       "    .dataframe tbody tr th:only-of-type {\n",
       "        vertical-align: middle;\n",
       "    }\n",
       "\n",
       "    .dataframe tbody tr th {\n",
       "        vertical-align: top;\n",
       "    }\n",
       "\n",
       "    .dataframe thead th {\n",
       "        text-align: right;\n",
       "    }\n",
       "</style>\n",
       "<table border=\"1\" class=\"dataframe\">\n",
       "  <thead>\n",
       "    <tr style=\"text-align: right;\">\n",
       "      <th></th>\n",
       "      <th>0</th>\n",
       "      <th>1</th>\n",
       "      <th>2</th>\n",
       "      <th>3</th>\n",
       "      <th>4</th>\n",
       "    </tr>\n",
       "  </thead>\n",
       "  <tbody>\n",
       "    <tr>\n",
       "      <th>0</th>\n",
       "      <td>100 181 км</td>\n",
       "      <td>1.8 CVT (140 л.с.)</td>\n",
       "      <td>седан</td>\n",
       "      <td>передний</td>\n",
       "      <td>бензин</td>\n",
       "    </tr>\n",
       "    <tr>\n",
       "      <th>1</th>\n",
       "      <td>213 000 км</td>\n",
       "      <td>1.6 MT (105 л.с.)</td>\n",
       "      <td>седан</td>\n",
       "      <td>передний</td>\n",
       "      <td>бензин</td>\n",
       "    </tr>\n",
       "    <tr>\n",
       "      <th>2</th>\n",
       "      <td>25 600 км</td>\n",
       "      <td>1.6 MT (106 л.с.)</td>\n",
       "      <td>седан</td>\n",
       "      <td>передний</td>\n",
       "      <td>бензин</td>\n",
       "    </tr>\n",
       "  </tbody>\n",
       "</table>\n",
       "</div>"
      ],
      "text/plain": [
       "            0                    1       2          3        4\n",
       "0  100 181 км   1.8 CVT (140 л.с.)   седан   передний   бензин\n",
       "1  213 000 км    1.6 MT (105 л.с.)   седан   передний   бензин\n",
       "2   25 600 км    1.6 MT (106 л.с.)   седан   передний   бензин"
      ]
     },
     "execution_count": 349,
     "metadata": {},
     "output_type": "execute_result"
    }
   ],
   "source": [
    "# Сначала мы разделим данные с помощью expand=True и посмотрим количество  созданных столбцов.\n",
    "df['car_details'].str.split(',', expand=True).head(3)"
   ]
  },
  {
   "cell_type": "code",
   "execution_count": 303,
   "metadata": {},
   "outputs": [
    {
     "data": {
      "text/html": [
       "<div>\n",
       "<style scoped>\n",
       "    .dataframe tbody tr th:only-of-type {\n",
       "        vertical-align: middle;\n",
       "    }\n",
       "\n",
       "    .dataframe tbody tr th {\n",
       "        vertical-align: top;\n",
       "    }\n",
       "\n",
       "    .dataframe thead th {\n",
       "        text-align: right;\n",
       "    }\n",
       "</style>\n",
       "<table border=\"1\" class=\"dataframe\">\n",
       "  <thead>\n",
       "    <tr style=\"text-align: right;\">\n",
       "      <th></th>\n",
       "      <th>car_brand</th>\n",
       "      <th>car_price</th>\n",
       "      <th>car_location</th>\n",
       "      <th>car_details</th>\n",
       "      <th>today</th>\n",
       "      <th>model</th>\n",
       "      <th>year</th>\n",
       "      <th>price</th>\n",
       "    </tr>\n",
       "  </thead>\n",
       "  <tbody>\n",
       "    <tr>\n",
       "      <th>4312</th>\n",
       "      <td>Toyota Alphard, 2007</td>\n",
       "      <td>650 000 ₽</td>\n",
       "      <td>Сухум</td>\n",
       "      <td>120 000 км, 3.0 AT (220 л.с.), минивэн, передн...</td>\n",
       "      <td>2021-11-23</td>\n",
       "      <td>Toyota Alphard</td>\n",
       "      <td>2007</td>\n",
       "      <td>650 000</td>\n",
       "    </tr>\n",
       "    <tr>\n",
       "      <th>3988</th>\n",
       "      <td>LADA Vesta, 2020</td>\n",
       "      <td>645 000 ₽</td>\n",
       "      <td>Челябинская область, Челябинск</td>\n",
       "      <td>83 949 км, 1.6 MT (106 л.с.), седан, передний,...</td>\n",
       "      <td>2021-11-23</td>\n",
       "      <td>LADA Vesta</td>\n",
       "      <td>2020</td>\n",
       "      <td>645 000</td>\n",
       "    </tr>\n",
       "    <tr>\n",
       "      <th>2356</th>\n",
       "      <td>Hyundai i30, 2013</td>\n",
       "      <td>600 000 ₽</td>\n",
       "      <td>Нижегородская область, Нижний Новгород</td>\n",
       "      <td>102 720 км, 1.4 MT (100 л.с.), хетчбэк, передн...</td>\n",
       "      <td>2021-11-23</td>\n",
       "      <td>Hyundai i30</td>\n",
       "      <td>2013</td>\n",
       "      <td>600 000</td>\n",
       "    </tr>\n",
       "    <tr>\n",
       "      <th>1619</th>\n",
       "      <td>Toyota Mark II, 1999</td>\n",
       "      <td>555 000 ₽</td>\n",
       "      <td>Архангельская область, Нарьян-Мар</td>\n",
       "      <td>275 000 км, 2.5 AT (200 л.с.), седан, полный, ...</td>\n",
       "      <td>2021-11-23</td>\n",
       "      <td>Toyota Mark II</td>\n",
       "      <td>1999</td>\n",
       "      <td>555 000</td>\n",
       "    </tr>\n",
       "    <tr>\n",
       "      <th>4075</th>\n",
       "      <td>Chevrolet Nexia, 2021</td>\n",
       "      <td>790 000 ₽</td>\n",
       "      <td>Вологодская область, Великоустюгский р-н, муни...</td>\n",
       "      <td>4 км, 1.5 MT (106 л.с.), седан, передний, бензин</td>\n",
       "      <td>2021-11-23</td>\n",
       "      <td>Chevrolet Nexia</td>\n",
       "      <td>2021</td>\n",
       "      <td>790 000</td>\n",
       "    </tr>\n",
       "  </tbody>\n",
       "</table>\n",
       "</div>"
      ],
      "text/plain": [
       "                  car_brand  car_price  \\\n",
       "4312   Toyota Alphard, 2007  650 000 ₽   \n",
       "3988       LADA Vesta, 2020  645 000 ₽   \n",
       "2356      Hyundai i30, 2013  600 000 ₽   \n",
       "1619   Toyota Mark II, 1999  555 000 ₽   \n",
       "4075  Chevrolet Nexia, 2021  790 000 ₽   \n",
       "\n",
       "                                           car_location  \\\n",
       "4312                                              Сухум   \n",
       "3988                     Челябинская область, Челябинск   \n",
       "2356             Нижегородская область, Нижний Новгород   \n",
       "1619                  Архангельская область, Нарьян-Мар   \n",
       "4075  Вологодская область, Великоустюгский р-н, муни...   \n",
       "\n",
       "                                            car_details       today  \\\n",
       "4312  120 000 км, 3.0 AT (220 л.с.), минивэн, передн...  2021-11-23   \n",
       "3988  83 949 км, 1.6 MT (106 л.с.), седан, передний,...  2021-11-23   \n",
       "2356  102 720 км, 1.4 MT (100 л.с.), хетчбэк, передн...  2021-11-23   \n",
       "1619  275 000 км, 2.5 AT (200 л.с.), седан, полный, ...  2021-11-23   \n",
       "4075   4 км, 1.5 MT (106 л.с.), седан, передний, бензин  2021-11-23   \n",
       "\n",
       "                model   year     price  \n",
       "4312   Toyota Alphard   2007  650 000   \n",
       "3988       LADA Vesta   2020  645 000   \n",
       "2356      Hyundai i30   2013  600 000   \n",
       "1619   Toyota Mark II   1999  555 000   \n",
       "4075  Chevrolet Nexia   2021  790 000   "
      ]
     },
     "execution_count": 303,
     "metadata": {},
     "output_type": "execute_result"
    }
   ],
   "source": [
    "## Обратите внимание, что наш фрейм данных df не меняется после этой операции,\n",
    "##  поскольку здесь нет назначения столбцов.\n",
    "df.sample(n=5)"
   ]
  },
  {
   "cell_type": "code",
   "execution_count": 350,
   "metadata": {},
   "outputs": [
    {
     "data": {
      "text/html": [
       "<div>\n",
       "<style scoped>\n",
       "    .dataframe tbody tr th:only-of-type {\n",
       "        vertical-align: middle;\n",
       "    }\n",
       "\n",
       "    .dataframe tbody tr th {\n",
       "        vertical-align: top;\n",
       "    }\n",
       "\n",
       "    .dataframe thead th {\n",
       "        text-align: right;\n",
       "    }\n",
       "</style>\n",
       "<table border=\"1\" class=\"dataframe\">\n",
       "  <thead>\n",
       "    <tr style=\"text-align: right;\">\n",
       "      <th></th>\n",
       "      <th>car_brand</th>\n",
       "      <th>car_price</th>\n",
       "      <th>car_location</th>\n",
       "      <th>car_details</th>\n",
       "      <th>today</th>\n",
       "      <th>model</th>\n",
       "      <th>year</th>\n",
       "      <th>price</th>\n",
       "      <th>mileage</th>\n",
       "      <th>vol_box_hp</th>\n",
       "      <th>body</th>\n",
       "      <th>drive</th>\n",
       "      <th>fuel</th>\n",
       "    </tr>\n",
       "  </thead>\n",
       "  <tbody>\n",
       "    <tr>\n",
       "      <th>0</th>\n",
       "      <td>Mitsubishi Lancer, 2014</td>\n",
       "      <td>650 000 ₽</td>\n",
       "      <td>Москва</td>\n",
       "      <td>100 181 км, 1.8 CVT (140 л.с.), седан, передни...</td>\n",
       "      <td>2021-11-23</td>\n",
       "      <td>Mitsubishi Lancer</td>\n",
       "      <td>2014</td>\n",
       "      <td>650 000</td>\n",
       "      <td>100 181 км</td>\n",
       "      <td>1.8 CVT (140 л.с.)</td>\n",
       "      <td>седан</td>\n",
       "      <td>передний</td>\n",
       "      <td>бензин</td>\n",
       "    </tr>\n",
       "    <tr>\n",
       "      <th>1</th>\n",
       "      <td>Mazda 3, 2008</td>\n",
       "      <td>490 000 ₽</td>\n",
       "      <td>Свердловская область, Екатеринбург</td>\n",
       "      <td>213 000 км, 1.6 MT (105 л.с.), седан, передний...</td>\n",
       "      <td>2021-11-23</td>\n",
       "      <td>Mazda 3</td>\n",
       "      <td>2008</td>\n",
       "      <td>490 000</td>\n",
       "      <td>213 000 км</td>\n",
       "      <td>1.6 MT (105 л.с.)</td>\n",
       "      <td>седан</td>\n",
       "      <td>передний</td>\n",
       "      <td>бензин</td>\n",
       "    </tr>\n",
       "  </tbody>\n",
       "</table>\n",
       "</div>"
      ],
      "text/plain": [
       "                 car_brand  car_price                        car_location  \\\n",
       "0  Mitsubishi Lancer, 2014  650 000 ₽                              Москва   \n",
       "1            Mazda 3, 2008  490 000 ₽  Свердловская область, Екатеринбург   \n",
       "\n",
       "                                         car_details       today  \\\n",
       "0  100 181 км, 1.8 CVT (140 л.с.), седан, передни...  2021-11-23   \n",
       "1  213 000 км, 1.6 MT (105 л.с.), седан, передний...  2021-11-23   \n",
       "\n",
       "               model   year     price     mileage           vol_box_hp  \\\n",
       "0  Mitsubishi Lancer   2014  650 000   100 181 км   1.8 CVT (140 л.с.)   \n",
       "1            Mazda 3   2008  490 000   213 000 км    1.6 MT (105 л.с.)   \n",
       "\n",
       "     body      drive     fuel  \n",
       "0   седан   передний   бензин  \n",
       "1   седан   передний   бензин  "
      ]
     },
     "execution_count": 350,
     "metadata": {},
     "output_type": "execute_result"
    }
   ],
   "source": [
    "df[['mileage', 'vol_box_hp', 'body', 'drive', 'fuel']] = df['car_details'].str.split(',', expand=True)\n",
    "df.head(2)"
   ]
  },
  {
   "cell_type": "code",
   "execution_count": 351,
   "metadata": {},
   "outputs": [
    {
     "data": {
      "text/plain": [
       "Index(['car_brand', 'car_price', 'car_location', 'car_details', 'today',\n",
       "       'model', 'year', 'price', 'mileage', 'vol_box_hp', 'body', 'drive',\n",
       "       'fuel'],\n",
       "      dtype='object')"
      ]
     },
     "execution_count": 351,
     "metadata": {},
     "output_type": "execute_result"
    }
   ],
   "source": [
    "df.columns"
   ]
  },
  {
   "cell_type": "code",
   "execution_count": 352,
   "metadata": {},
   "outputs": [
    {
     "data": {
      "text/plain": [
       "3532     1.6 MT (117 л.с.)\n",
       "748      1.6 MT (106 л.с.)\n",
       "5489     5.5 AT (388 л.с.)\n",
       "3058     1.6 MT (106 л.с.)\n",
       "2811     3.5 AT (272 л.с.)\n",
       "1651     3.0 AT (220 л.с.)\n",
       "3558     1.6 AT (129 л.с.)\n",
       "506      1.6 MT (106 л.с.)\n",
       "3887     1.6 MT (105 л.с.)\n",
       "258      2.3 AT (161 л.с.)\n",
       "Name: vol_box_hp, dtype: object"
      ]
     },
     "execution_count": 352,
     "metadata": {},
     "output_type": "execute_result"
    }
   ],
   "source": [
    "## В нашей колонке «vol_box_hp» содержится информация об объеме двигателя, \n",
    "## коробке передач и мощности. Нам нужно разделить их на разные столбцы.\n",
    "df.vol_box_hp.sample(n=10)"
   ]
  },
  {
   "cell_type": "code",
   "execution_count": 353,
   "metadata": {},
   "outputs": [],
   "source": [
    "## Этот разделитель эффективно разбивает строку там, где она встречает пробел, за которым следует открывающая скобка.\n",
    "df[['vol_box', 'hp']] = df['vol_box_hp'].str.split(' \\(', expand=True)\n",
    "\n",
    "## Убираем закрывающую скобку из столбца «лошадиные силы»\n",
    "## Метод rstrip() в Python используется для удаления символов из конца (правой части) строки.\n",
    "df['hp'] = df['hp'].str.rstrip(')')"
   ]
  },
  {
   "cell_type": "code",
   "execution_count": 355,
   "metadata": {},
   "outputs": [
    {
     "data": {
      "text/plain": [
       "4456      1.4 AT\n",
       "5464      1.6 MT\n",
       "171       3.0 AT\n",
       "5230      1.8 MT\n",
       "1908     2.0 CVT\n",
       "Name: vol_box, dtype: object"
      ]
     },
     "execution_count": 355,
     "metadata": {},
     "output_type": "execute_result"
    }
   ],
   "source": [
    "df.vol_box.sample(n = 5)"
   ]
  },
  {
   "cell_type": "code",
   "execution_count": 356,
   "metadata": {},
   "outputs": [
    {
     "data": {
      "text/plain": [
       "196     106 л.с.\n",
       "1337    140 л.с.\n",
       "543     150 л.с.\n",
       "4822     87 л.с.\n",
       "1848    126 л.с.\n",
       "Name: hp, dtype: object"
      ]
     },
     "execution_count": 356,
     "metadata": {},
     "output_type": "execute_result"
    }
   ],
   "source": [
    "df.hp.sample(n = 5)"
   ]
  },
  {
   "cell_type": "code",
   "execution_count": 357,
   "metadata": {},
   "outputs": [
    {
     "data": {
      "text/plain": [
       "3927    125\n",
       "351     106\n",
       "4454    140\n",
       "3232    143\n",
       "4539    109\n",
       "Name: hp, dtype: object"
      ]
     },
     "execution_count": 357,
     "metadata": {},
     "output_type": "execute_result"
    }
   ],
   "source": [
    "## Далее мы удаляем ' л.с.'\n",
    "df['hp'] = df['hp'].str.replace(' л.с.', '')\n",
    "df.hp.sample(n = 5)"
   ]
  },
  {
   "cell_type": "code",
   "execution_count": 360,
   "metadata": {},
   "outputs": [
    {
     "data": {
      "text/plain": [
       "1002      1.4 AT\n",
       "879       1.6 MT\n",
       "1828     1.5 CVT\n",
       "2623      1.8 AT\n",
       "678       1.6 MT\n",
       "Name: vol_box, dtype: object"
      ]
     },
     "execution_count": 360,
     "metadata": {},
     "output_type": "execute_result"
    }
   ],
   "source": [
    "df.vol_box.sample(n = 5)"
   ]
  },
  {
   "cell_type": "code",
   "execution_count": 364,
   "metadata": {},
   "outputs": [
    {
     "data": {
      "text/html": [
       "<div>\n",
       "<style scoped>\n",
       "    .dataframe tbody tr th:only-of-type {\n",
       "        vertical-align: middle;\n",
       "    }\n",
       "\n",
       "    .dataframe tbody tr th {\n",
       "        vertical-align: top;\n",
       "    }\n",
       "\n",
       "    .dataframe thead th {\n",
       "        text-align: right;\n",
       "    }\n",
       "</style>\n",
       "<table border=\"1\" class=\"dataframe\">\n",
       "  <thead>\n",
       "    <tr style=\"text-align: right;\">\n",
       "      <th></th>\n",
       "      <th>0</th>\n",
       "      <th>1</th>\n",
       "      <th>2</th>\n",
       "    </tr>\n",
       "  </thead>\n",
       "  <tbody>\n",
       "    <tr>\n",
       "      <th>0</th>\n",
       "      <td></td>\n",
       "      <td>1.8</td>\n",
       "      <td>CVT</td>\n",
       "    </tr>\n",
       "    <tr>\n",
       "      <th>1</th>\n",
       "      <td></td>\n",
       "      <td>1.6</td>\n",
       "      <td>MT</td>\n",
       "    </tr>\n",
       "    <tr>\n",
       "      <th>2</th>\n",
       "      <td></td>\n",
       "      <td>1.6</td>\n",
       "      <td>MT</td>\n",
       "    </tr>\n",
       "    <tr>\n",
       "      <th>3</th>\n",
       "      <td></td>\n",
       "      <td>1.0</td>\n",
       "      <td>CVT</td>\n",
       "    </tr>\n",
       "    <tr>\n",
       "      <th>4</th>\n",
       "      <td></td>\n",
       "      <td>1.6</td>\n",
       "      <td>AT</td>\n",
       "    </tr>\n",
       "  </tbody>\n",
       "</table>\n",
       "</div>"
      ],
      "text/plain": [
       "  0    1    2\n",
       "0    1.8  CVT\n",
       "1    1.6   MT\n",
       "2    1.6   MT\n",
       "3    1.0  CVT\n",
       "4    1.6   AT"
      ]
     },
     "execution_count": 364,
     "metadata": {},
     "output_type": "execute_result"
    }
   ],
   "source": [
    "## Нам также необходимо иметь отдельные столбцы для объема двигателя и коробки передач.\n",
    "\n",
    "## Давайте проделаем уже знакомую операцию str.split(). \n",
    "## И похоже, у нас возникла проблема: вместо ожидаемых двух столбцов получилось 3. \n",
    "## Почему? Давайте изучим проблему\n",
    "df['vol_box'].str.split(' ', expand=True).head(5)\n"
   ]
  },
  {
   "cell_type": "code",
   "execution_count": 366,
   "metadata": {},
   "outputs": [
    {
     "data": {
      "text/html": [
       "<div>\n",
       "<style scoped>\n",
       "    .dataframe tbody tr th:only-of-type {\n",
       "        vertical-align: middle;\n",
       "    }\n",
       "\n",
       "    .dataframe tbody tr th {\n",
       "        vertical-align: top;\n",
       "    }\n",
       "\n",
       "    .dataframe thead th {\n",
       "        text-align: right;\n",
       "    }\n",
       "</style>\n",
       "<table border=\"1\" class=\"dataframe\">\n",
       "  <thead>\n",
       "    <tr style=\"text-align: right;\">\n",
       "      <th></th>\n",
       "      <th>0</th>\n",
       "      <th>1</th>\n",
       "      <th>2</th>\n",
       "    </tr>\n",
       "  </thead>\n",
       "  <tbody>\n",
       "    <tr>\n",
       "      <th>0</th>\n",
       "      <td></td>\n",
       "      <td>1.8</td>\n",
       "      <td>CVT</td>\n",
       "    </tr>\n",
       "    <tr>\n",
       "      <th>1</th>\n",
       "      <td></td>\n",
       "      <td>1.6</td>\n",
       "      <td>MT</td>\n",
       "    </tr>\n",
       "    <tr>\n",
       "      <th>2</th>\n",
       "      <td></td>\n",
       "      <td>1.6</td>\n",
       "      <td>MT</td>\n",
       "    </tr>\n",
       "  </tbody>\n",
       "</table>\n",
       "</div>"
      ],
      "text/plain": [
       "  0    1    2\n",
       "0    1.8  CVT\n",
       "1    1.6   MT\n",
       "2    1.6   MT"
      ]
     },
     "execution_count": 366,
     "metadata": {},
     "output_type": "execute_result"
    }
   ],
   "source": [
    "frame = df['vol_box'].str.split(' ', expand=True)\n",
    "frame.head(3)"
   ]
  },
  {
   "cell_type": "code",
   "execution_count": 369,
   "metadata": {},
   "outputs": [
    {
     "data": {
      "text/plain": [
       "4449    \n",
       "718     \n",
       "1045    \n",
       "2784    \n",
       "687     \n",
       "3944    \n",
       "2993    \n",
       "4452    \n",
       "2404    \n",
       "4975    \n",
       "Name: 0, dtype: object"
      ]
     },
     "execution_count": 369,
     "metadata": {},
     "output_type": "execute_result"
    }
   ],
   "source": [
    "## быстрый осмотр показывает, что ничего нет. Но почему str.split() создал 3 столбца? \n",
    "## Он не может создать столбец без данных\n",
    "frame.iloc[:, 0].sample (n=10)"
   ]
  },
  {
   "cell_type": "code",
   "execution_count": 370,
   "metadata": {},
   "outputs": [
    {
     "data": {
      "text/plain": [
       "array([''], dtype=object)"
      ]
     },
     "execution_count": 370,
     "metadata": {},
     "output_type": "execute_result"
    }
   ],
   "source": [
    "## Похоже, что наша функция Split() использовала пустое пространство как еще один символ \n",
    "## и создала столбец, основанный только на «пустом» пространстве.\n",
    "\n",
    "frame.iloc[:, 0].unique()"
   ]
  },
  {
   "cell_type": "code",
   "execution_count": 372,
   "metadata": {},
   "outputs": [
    {
     "data": {
      "text/plain": [
       "array(['CVT', 'MT', 'AT', 'AMT', None], dtype=object)"
      ]
     },
     "execution_count": 372,
     "metadata": {},
     "output_type": "execute_result"
    }
   ],
   "source": [
    "frame.iloc[:, 2].unique()"
   ]
  },
  {
   "cell_type": "code",
   "execution_count": 373,
   "metadata": {},
   "outputs": [],
   "source": [
    "df[['delete_later', 'vol', 'box']] =  df['vol_box'].str.split(' ', expand=True)"
   ]
  },
  {
   "cell_type": "code",
   "execution_count": 375,
   "metadata": {},
   "outputs": [
    {
     "data": {
      "text/plain": [
       "Index(['car_brand', 'car_price', 'car_location', 'car_details', 'today',\n",
       "       'model', 'year', 'price', 'mileage', 'vol_box_hp', 'body', 'drive',\n",
       "       'fuel', 'vol_box', 'hp', 'delete_later', 'vol', 'box'],\n",
       "      dtype='object')"
      ]
     },
     "execution_count": 375,
     "metadata": {},
     "output_type": "execute_result"
    }
   ],
   "source": [
    "df.columns"
   ]
  },
  {
   "cell_type": "code",
   "execution_count": 376,
   "metadata": {},
   "outputs": [
    {
     "data": {
      "text/plain": [
       "1093     MT\n",
       "3647    CVT\n",
       "703     AMT\n",
       "3073     MT\n",
       "3451     MT\n",
       "905      MT\n",
       "4709    CVT\n",
       "3378     MT\n",
       "2390     MT\n",
       "4151     MT\n",
       "Name: box, dtype: object"
      ]
     },
     "execution_count": 376,
     "metadata": {},
     "output_type": "execute_result"
    }
   ],
   "source": [
    "df.box.sample(n=10)"
   ]
  },
  {
   "cell_type": "code",
   "execution_count": 377,
   "metadata": {},
   "outputs": [
    {
     "data": {
      "text/plain": [
       "366     2.0\n",
       "3553    1.5\n",
       "1500    1.6\n",
       "3120    1.5\n",
       "4255    1.6\n",
       "1932    1.6\n",
       "2516    2.0\n",
       "357     1.6\n",
       "868     1.6\n",
       "1841    1.6\n",
       "Name: vol, dtype: object"
      ]
     },
     "execution_count": 377,
     "metadata": {},
     "output_type": "execute_result"
    }
   ],
   "source": [
    "df.vol.sample(n=10)"
   ]
  },
  {
   "cell_type": "code",
   "execution_count": 378,
   "metadata": {},
   "outputs": [
    {
     "data": {
      "text/plain": [
       "514                Республика Татарстан, Набережные Челны\n",
       "4746    Свердловская область, Нижнетуринский г.о., Ниж...\n",
       "2304                                               Москва\n",
       "5400                 Чувашская Республика, Новочебоксарск\n",
       "3578    Московская область, г.о. Люберцы, дачный пос. ...\n",
       "3310                         Саратовская область, Саратов\n",
       "2091                                               Москва\n",
       "5578                        Тюменская область, Муравленко\n",
       "5479                                               Москва\n",
       "51                        Ставропольский край, Ставрополь\n",
       "Name: car_location, dtype: object"
      ]
     },
     "execution_count": 378,
     "metadata": {},
     "output_type": "execute_result"
    }
   ],
   "source": [
    "df.car_location.sample (n=10)"
   ]
  },
  {
   "cell_type": "code",
   "execution_count": null,
   "metadata": {},
   "outputs": [],
   "source": []
  }
 ],
 "metadata": {
  "kernelspec": {
   "display_name": "Python 3",
   "language": "python",
   "name": "python3"
  },
  "language_info": {
   "codemirror_mode": {
    "name": "ipython",
    "version": 3
   },
   "file_extension": ".py",
   "mimetype": "text/x-python",
   "name": "python",
   "nbconvert_exporter": "python",
   "pygments_lexer": "ipython3",
   "version": "3.10.12"
  }
 },
 "nbformat": 4,
 "nbformat_minor": 2
}
